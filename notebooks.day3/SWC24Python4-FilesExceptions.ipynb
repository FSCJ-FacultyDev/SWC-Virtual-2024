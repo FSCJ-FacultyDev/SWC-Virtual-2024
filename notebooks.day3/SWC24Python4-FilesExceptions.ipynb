{
  "nbformat": 4,
  "nbformat_minor": 0,
  "metadata": {
    "colab": {
      "provenance": []
    },
    "kernelspec": {
      "name": "python3",
      "display_name": "Python 3"
    },
    "language_info": {
      "name": "python"
    }
  },
  "cells": [
    {
      "cell_type": "markdown",
      "source": [
        "#Files and Exceptions"
      ],
      "metadata": {
        "id": "Ye9NUR50fEW4"
      }
    },
    {
      "cell_type": "markdown",
      "source": [
        "#Working with Files\n",
        "## Opening a File\n",
        "To do any work with a file, even just printing its contents, you first need to open the file to access it.\n",
        "- The open() function needs one argument: the name of the file you want to open.\n",
        "\n",
        "    <pre>file_object = open(filename)</pre>\n",
        "\n",
        "- Use a constant for the file name to make it easier to modify when necessary\n",
        "- Python looks for the specified file in the current folder\n",
        "- The open() function returns an object representing the file.\n"
      ],
      "metadata": {
        "id": "Pfx-WClJvhj9"
      }
    },
    {
      "cell_type": "markdown",
      "source": [
        "## Closing a File\n",
        "The close() function is a method associated with file objects.\n",
        "- After you finish working with a file, it is a good practice to close it.\n",
        "- This helps to free up resources that were associated with the object and ensures that all the data is properly written to the file without any data being lost.\n",
        "\n",
        "  <pre>file_object.close()</pre>"
      ],
      "metadata": {
        "id": "ptf6rlxt7lmz"
      }
    },
    {
      "cell_type": "markdown",
      "source": [
        "## The **With** Statement\n",
        "The Python <b>with</b> statement is a control-flow structure which deals with errors that may occur when a file is being opened, as well as clean-up activities that need to occur when we are done with a file object.\n",
        "- It automatically takes care of closing the file for you once the nested block of code is executed\n",
        "\n",
        "  <pre>with open(FILENAME)as f:\n",
        "      # code which uses the file\n",
        "  \n",
        "  # at this point the file has been closed automatically\n",
        "  </pre>\n",
        "      \n",
        "\n",
        "- Improperly closed files can cause data loss and corruption and resource leaks\n",
        "- When **with** is used the file does not need to be explicitly closed.\n",
        "- We could use the file object's close() method, but **with** simplifies the operations necessary to deal with errors that could prevent close() from executing\n"
      ],
      "metadata": {
        "id": "jyfOfTDUxcTs"
      }
    },
    {
      "cell_type": "markdown",
      "source": [
        "## File Paths\n",
        "If the file passed to the open function is not in the current folder with the python program, the path where it is located has to be specified\n",
        "- Windows uses the backslash as the folder separator, but Python allows the forward slash to be used to maintain compatibility between platforms\n",
        "\n"
      ],
      "metadata": {
        "id": "N5mQ5wJawCvS"
      }
    },
    {
      "cell_type": "markdown",
      "source": [
        "## Writing to a File\n",
        "\n",
        "To write to a file in Python, include the 'w' <b>mode</b> argument in the call to open() and use the write( ) function\n",
        "  - If the file does not exist it will be created\n",
        "  - If it does exist it will be truncated\n",
        "- Be sure to keep in mind things that can go wrong here: permissions, full disk, etc.\n",
        "\n",
        "  <pre>\n",
        "  with open(FILENAME, 'w') as f:\n",
        "      f.write('I love programming.')\n",
        "  </pre>\n",
        "\n",
        "- write() does not automatically include newlines\n",
        "- To write multiple lines to a file, you can include the newline escape character '\\n'\n",
        "\n",
        "  <pre>\n",
        "  with open(FILENAME, 'w') as f:\n",
        "      f.write('I love programming.\\n')\n",
        "      f.write('I love creating new games.\\n')\n",
        "  </pre>"
      ],
      "metadata": {
        "id": "g1QGpHh49A1r"
      }
    },
    {
      "cell_type": "code",
      "source": [
        "# write and reading a file in Colab\n",
        "# open the file explorer in the menu to the left to view the file\n",
        "\n",
        "import math\n",
        "\n",
        "FILENAME = '/content/pi_digits.txt'\n",
        "\n",
        "# Write the value of pi to the file\n",
        "# 'w' mode will recreate the file every time\n",
        "with open(FILENAME, 'w') as file:\n",
        "    file.write(str(math.pi))\n",
        "    # remember that close() is implicit here\n",
        "\n",
        "input(\"Pausing to view the file; hit <enter> to continue\")\n",
        "\n",
        "with open(FILENAME) as f:\n",
        "    contents = f.read()\n",
        "    # close() is implicit here as well\n",
        "\n",
        "print(contents)"
      ],
      "metadata": {
        "id": "1-F2hNjjwh5r"
      },
      "execution_count": null,
      "outputs": []
    },
    {
      "cell_type": "markdown",
      "source": [
        "## pathlib\n",
        "- Python 3.4 introduced a new standard library for dealing with files and paths called pathlib\n",
        " - Pass a path or filename into a new Path() object using forward slashes\n",
        " - The Path() object will convert forward slashes into the correct kind of slash for the current operating system\n",
        "\n"
      ],
      "metadata": {
        "id": "H6sV-BE2HSc4"
      }
    },
    {
      "cell_type": "code",
      "source": [
        "from pathlib import Path\n",
        "\n",
        "FILEPATH = Path('/content')\n",
        "FILENAME = FILEPATH / 'pi_digits.txt'\n",
        "\n",
        "with open(FILENAME) as f:\n",
        "  contents = f.read()\n",
        "\n",
        "print(contents)\n"
      ],
      "metadata": {
        "id": "lUcACu1JIaFt"
      },
      "execution_count": null,
      "outputs": []
    },
    {
      "cell_type": "markdown",
      "source": [
        "## Making a List of Lines from a File\n",
        "- The scope of data read using with is only available within the with block\n",
        "- To access a file's contents outside of the block, save it to a list using the readlines method of the file object\n",
        "\n",
        "```\n",
        "with open(FILENAME) as f:\n",
        "    lines = f.readlines()  # save content to list\n",
        "\n",
        "for line in lines: # now we can access the data that was read\n",
        "    print(line.rstrip())\n",
        "```\n"
      ],
      "metadata": {
        "id": "9NZt_OpfJXhE"
      }
    },
    {
      "cell_type": "markdown",
      "source": [
        "## Reading Line by Line with readline()\n"
      ],
      "metadata": {
        "id": "eChaSPwjKDdE"
      }
    },
    {
      "cell_type": "code",
      "source": [
        "\n",
        "FILENAME = FILEPATH / \"test.txt\"\n",
        "with open(FILENAME, \"w\") as outfile:\n",
        "    outfile.write(\"aaa\\n\")\n",
        "    outfile.write(\"bbb\\n\")\n",
        "    outfile.write(\"ccc\\n\")\n",
        "\n",
        "input(\"Pausing to view the file; hit <enter> to continue\")\n",
        "\n",
        "with open(FILENAME) as infile:\n",
        "    line = infile.readline() # priming read\n",
        "    while line:              # while line is not EOF\n",
        "        print(line, end=\"\")  # end=\"\" to prevent extra newline\n",
        "        line = infile.readline()\n"
      ],
      "metadata": {
        "id": "3bL0W9PIKH1Z"
      },
      "execution_count": null,
      "outputs": []
    },
    {
      "cell_type": "markdown",
      "source": [
        "## Reading Line by Line with For\n",
        "- A for loop can be used to read a file line-by-line instead of using readline()\n",
        " - the read operation is implicit\n",
        "- Instead of using end=\"\" in the print to avoid printing extra newlines, we can use the rstrip( ) method in the line object to remove the newlines as they are read in from the file\n",
        "\n",
        "\n",
        "\n"
      ],
      "metadata": {
        "id": "sKy-YHNTL4Py"
      }
    },
    {
      "cell_type": "code",
      "source": [
        "with open(FILENAME) as f:\n",
        "    for line in f:             # no readline necessary!\n",
        "        print(line.rstrip())\n"
      ],
      "metadata": {
        "id": "vnA2bMFcMMXg"
      },
      "execution_count": null,
      "outputs": []
    },
    {
      "cell_type": "markdown",
      "source": [
        "## Working with Large Files\n",
        "- **read** and **readlines** read the entire contents of a file at one time\n",
        " - This has memory implications\n",
        "- Use **readline** (or a for loop) to read large files one line at a time\n",
        "- Processing large files can be slow, one advanced strategy (not in the scope of this course) is to use Python's multiprocessing library\n",
        "https://docs.python.org/3/library/multiprocessing.html\n",
        "https://www.blopig.com/blog/2016/08/processing-large-files-using-python/\n",
        "\n",
        "<img src=\"https://github.com/FSCJ-FacultyDev/SWC-Virtual-2024/blob/main/notebooks.day3/images/ReadLargeFiles.png?raw=true\" alt=\"ReadLargeFiles\" width=\"450\" height=\"200\"/>\n"
      ],
      "metadata": {
        "id": "kz72XKdHMbmJ"
      }
    },
    {
      "cell_type": "markdown",
      "source": [
        "### Appending to a File\n",
        "- Opening a file in write ('w') mode truncates the file if it exists\n",
        "- To append to a file without truncating, open it in append ('a') mode\n",
        "- Python will append any content to the end of the file\n",
        "- If the file doesn't exist, it will be created\n"
      ],
      "metadata": {
        "id": "C4slcCuLN6G0"
      }
    },
    {
      "cell_type": "code",
      "source": [
        "#!/usr/bin/env python3\n",
        "# simplefileops.py\n",
        "\n",
        "from pathlib import Path\n",
        "\n",
        "FILEPATH = Path('/content')\n",
        "FILENAME= FILEPATH / 'simplefileops.txt'\n",
        "\n",
        "with open(FILENAME, 'w') as f:\n",
        "    f.write('I love programming.\\n')\n",
        "    f.write('I love creating new games.\\n')\n",
        "\n",
        "input(\"Pausing to view the file; hit <enter> to continue\")\n",
        "\n",
        "with open(FILENAME, 'a') as f:\n",
        "    f.write('I also find meaning in large datasets.\\n')\n",
        "\n",
        "input(\"Pausing again to view the file; hit <enter> to continue\")\n",
        "\n",
        "with open(FILENAME) as f:            # 'r' is implied\n",
        "    for line in f:\n",
        "        print(line.replace(\"\\n\",\"\")) # replace also removes newlines"
      ],
      "metadata": {
        "id": "LXApQCPtOTmr"
      },
      "execution_count": null,
      "outputs": []
    },
    {
      "cell_type": "markdown",
      "source": [
        "## Try It!\n",
        "\n",
        "After executing the code in the previous block, write code to append to the existing 'simplefileops.txt' file. Add the line \"I enjoy solving complex problems.\" to the file and display the original lines and the appended line.\n",
        "\n",
        "**Sample Output**\n",
        "\n",
        "```\n",
        "I love programming.\n",
        "I love creating new games.\n",
        "I also find meaning in large datasets.\n",
        "I enjoy solving complex problems.\n",
        "```"
      ],
      "metadata": {
        "id": "NNTcUhFia4Ng"
      }
    },
    {
      "cell_type": "code",
      "source": [],
      "metadata": {
        "id": "GDB_8oHFboYQ"
      },
      "execution_count": null,
      "outputs": []
    },
    {
      "cell_type": "markdown",
      "source": [
        "## Working with Binary Files <img src=\"https://github.com/FSCJ-FacultyDev/SWC-Virtual-2024/blob/main/notebooks.day3/images/Pickles.png?raw=true\" alt=\"Pickles\" width=\"35\" height=\"45\"/>\n",
        "\n",
        "- Python provides a **pickle** module for working with binary files\n",
        "- Pickling is the process of serialization: converting an object into a stream of bytes.\n",
        "- Unpickling is the reverse: convert a stream of bytes into an object\n",
        "```\n",
        "dump(object, bfile)   # writes an object to a binary file\n",
        "load(bfile)           # reads an object from a binary file\n",
        "```"
      ],
      "metadata": {
        "id": "IEjeWYjhQ0tg"
      }
    },
    {
      "cell_type": "markdown",
      "source": [
        "## Write and Read a Binary File"
      ],
      "metadata": {
        "id": "stJGoD2vRfd1"
      }
    },
    {
      "cell_type": "code",
      "source": [
        "#!/usr/bin/env python3\n",
        "\n",
        "# picklecats.py\n",
        "# write and read data to a binary file\n",
        "\n",
        "from pathlib import Path\n",
        "import pickle   # module for working with binary files\n",
        "\n",
        "FILEPATH = Path('/content')\n",
        "FILENAME = FILEPATH / \"kittens.bin\"\n",
        "\n",
        "# 3x2 list of kittens and ages (in years)\n",
        "kittens = [[\"Snowball\", 5],\n",
        "           [\"Mr. Snuffles\", 3],\n",
        "           [\"Fluffy\", 7]]\n",
        "\n",
        "# write the list to a file\n",
        "with open(FILENAME, \"wb\") as file:  # write binary\n",
        "    pickle.dump(kittens, file)\n",
        "\n",
        "input(\"Pausing to view the file; hit <enter> to continue\")\n",
        "\n",
        "# read the file into a list and print\n",
        "with open(FILENAME , \"rb\") as file: # read binary\n",
        "    kitten_list = pickle.load(file)\n",
        "    print(kitten_list)"
      ],
      "metadata": {
        "id": "mJGROVHURmPx"
      },
      "execution_count": null,
      "outputs": []
    },
    {
      "cell_type": "markdown",
      "source": [
        "## Using JSON\n",
        "- JSON (JavaScript Object Notation) is a popular lightweight, text-based, language-independent data exchange format that is easy for humans and machines to read and write.\n",
        "- JSON can represent two structured types: objects and arrays\n",
        "- An object is an unordered collection of zero or more name/value pairs.\n",
        "- An array is an ordered sequence of zero or more values. The values can be strings, numbers, booleans, null, and these two structured types (object and array).\n",
        "- JSON is often used in Ajax (\"Asynchronous JavaScript + XML\") applications, configurations, databases, and RESTful (REpresentational State Transfer) web services.\n",
        "- Many popular websites offer JSON as the data exchange format with their web services."
      ],
      "metadata": {
        "id": "7kWYfQFpXJM3"
      }
    },
    {
      "cell_type": "markdown",
      "source": [
        "## JSON Format\n",
        "- The following listing shows the JSON representation of an object that describes a person.\n",
        " - The object has string values for first name and last name, a number value for age, an object value representing the person's address, and an array value of phone number objects.\n"
      ],
      "metadata": {
        "id": "PQ_iQxndXVvn"
      }
    },
    {
      "cell_type": "code",
      "source": [
        "#The object has string values for first name and last name, a number value for age,\n",
        "# an object value representing the person's address,\n",
        "# and an array value of phone number objects.\n",
        "\n",
        "{\n",
        "    \"firstName\": \"John\",\n",
        "    \"lastName\": \"Smith\",\n",
        "    \"age\": 25,\n",
        "    \"address\": {\n",
        "        \"streetAddress\": \"21 2nd Street\",\n",
        "        \"city\": \"New York\",\n",
        "        \"state\": \"NY\",\n",
        "        \"postalCode\": 10021\n",
        "    },\n",
        "    \"phoneNumbers\": [\n",
        "        {\n",
        "            \"type\": \"home\",\n",
        "            \"number\": \"212 555-1234\"\n",
        "        },\n",
        "        {\n",
        "            \"type\": \"fax\",\n",
        "            \"number\": \"646 555-4567\"\n",
        "        }\n",
        "    ]\n",
        "}"
      ],
      "metadata": {
        "id": "8iQK1TBfXkOj"
      },
      "execution_count": null,
      "outputs": []
    },
    {
      "cell_type": "markdown",
      "source": [
        "## Writing JSON Data\n",
        "- The Python JSON module uses the dump( ) function to create and write JSON data from Python data structures\n"
      ],
      "metadata": {
        "id": "VFKCcBlaYBo4"
      }
    },
    {
      "cell_type": "code",
      "source": [
        "#!/usr/bin/env python3\n",
        "# json_number_writer.py\n",
        "# JSON number writer, from Matthes Crash Course 2e\n",
        "\n",
        "from pathlib import Path\n",
        "import json\n",
        "\n",
        "FILEPATH = Path('/content')\n",
        "\n",
        "numbers = [2, 3, 5, 7, 11, 13]\n",
        "\n",
        "filename = FILEPATH / 'numbers.json'\n",
        "with open(filename, 'w') as f:\n",
        "    json.dump(numbers, f)"
      ],
      "metadata": {
        "id": "QexMzCJ9YIQ-"
      },
      "execution_count": null,
      "outputs": []
    },
    {
      "cell_type": "markdown",
      "source": [
        "## Reading JSON Data\n",
        "- The load( ) function reads JSON data into Python data structures\n"
      ],
      "metadata": {
        "id": "8WZJto4oYbxE"
      }
    },
    {
      "cell_type": "code",
      "source": [
        "#!/usr/bin/env python3\n",
        "# json_number_reader.py\n",
        "# JSON number reader, from Matthes Crash Course 2e\n",
        "\n",
        "from pathlib import Path\n",
        "import json\n",
        "\n",
        "FILEPATH = Path('/content')\n",
        "\n",
        "filename = FILEPATH / 'numbers.json'\n",
        "with open(filename) as f:\n",
        "    numbers = json.load(f)\n",
        "\n",
        "print(numbers)"
      ],
      "metadata": {
        "id": "fcx1yF6yYaVj"
      },
      "execution_count": null,
      "outputs": []
    },
    {
      "cell_type": "markdown",
      "source": [
        "## Try It!\n",
        "\n",
        "Write a Python program to read and write JSON data.\n",
        "\n",
        "- Define a dictionary with several key-value pairs.\n",
        "- Write the dictionary to a JSON file using the json module.\n",
        "- Open the file after writing, read the contents, and display them.\n",
        "\n",
        "Here is the code to create the dictionary:\n",
        "```\n",
        "data = {\n",
        "    \"name\": \"Alice\",\n",
        "    \"age\": 30,\n",
        "    \"city\": \"Wonderland\",\n",
        "    \"is_student\": False,\n",
        "    \"skills\": [\"Python\", \"Data Analysis\", \"Machine Learning\"]\n",
        "}\n",
        "```\n",
        "\n",
        "**Sample Output**\n",
        "\n",
        "```\n",
        "{\n",
        "    \"name\": \"Alice\",\n",
        "    \"age\": 30,\n",
        "    \"city\": \"Wonderland\",\n",
        "    \"is_student\": false,\n",
        "    \"skills\": [\n",
        "        \"Python\",\n",
        "        \"Data Analysis\",\n",
        "        \"Machine Learning\"\n",
        "    ]\n",
        "}\n",
        "```"
      ],
      "metadata": {
        "id": "4-gV9yx6dSDb"
      }
    },
    {
      "cell_type": "code",
      "source": [],
      "metadata": {
        "id": "3c3cmr1seFNS"
      },
      "execution_count": null,
      "outputs": []
    },
    {
      "cell_type": "markdown",
      "source": [
        "## CSV (Comma-Separated Value) files\n",
        "- CSV (comma-separated value) files are commonly used to store rows of text data with field separators (typically commas)\n",
        "- Python provides a CSV module to work with these files\n"
      ],
      "metadata": {
        "id": "z6-ngR5nSSXX"
      }
    },
    {
      "cell_type": "code",
      "source": [
        "#!/usr/bin/env python3\n",
        "# write_csv.py\n",
        "# write a CSV file\n",
        "\n",
        "import csv\n",
        "CSV_FILE = FILEPATH / \"averages.csv\"\n",
        "\n",
        "def main():\n",
        "    avg_list = [['Smith', 'John', '89'],\n",
        "                ['Jones','Sally', 98],\n",
        "                ['Green','Rashad', 93]]\n",
        "\n",
        "    with open(CSV_FILE, \"w\", newline=\"\") as file:\n",
        "        writer = csv.writer(file)   # create a CSV writer\n",
        "        for row in avg_list:        # for each row in list\n",
        "            writer.writerow(row)    # write comma-delimited values\n",
        "\n",
        "main()\n"
      ],
      "metadata": {
        "id": "-XXroBCoSfIo"
      },
      "execution_count": null,
      "outputs": []
    },
    {
      "cell_type": "markdown",
      "source": [
        "## Reading CSV files"
      ],
      "metadata": {
        "id": "IgAK1vlpS7O3"
      }
    },
    {
      "cell_type": "code",
      "source": [
        "#!/usr/bin/env python3\n",
        "# read_csv.py\n",
        "# read a CSV file\n",
        "\n",
        "import csv\n",
        "CSV_FILE = FILEPATH / \"averages.csv\"\n",
        "\n",
        "def main():\n",
        "    avg_list = []                   #empty list to hold the file contents\n",
        "\n",
        "    with open(CSV_FILE) as file:\n",
        "        reader = csv.reader(file)   # create a CSV reader\n",
        "        for row in reader:          # read each row\n",
        "            avg_list.append(row)    # append to list\n",
        "\n",
        "    for row in avg_list:            # display list\n",
        "        print(row)\n",
        "\n",
        "main()\n"
      ],
      "metadata": {
        "id": "gy0z8iKES-kZ"
      },
      "execution_count": null,
      "outputs": []
    },
    {
      "cell_type": "markdown",
      "source": [
        "# Exceptions"
      ],
      "metadata": {
        "id": "JA70mK4vTRlr"
      }
    },
    {
      "cell_type": "markdown",
      "source": [
        "- Exceptions are objects that are thrown by Python when an error occurs in a program\n",
        "- If exceptions are not handled (\"caught\"), the program crashes when they occur\n",
        "- Handling exceptions prevents your programs from crashing!\n"
      ],
      "metadata": {
        "id": "4KUXn5jATVIB"
      }
    },
    {
      "cell_type": "code",
      "source": [
        "number = int(input(\"Enter an integer: \"))     #try typing 'five'\n",
        "print(\"You entered a valid integer of \"\n",
        "      + str(number) + \".\")\n",
        "print(\"Thanks!\")\n"
      ],
      "metadata": {
        "id": "mVXVQoPSTcig"
      },
      "execution_count": null,
      "outputs": []
    },
    {
      "cell_type": "markdown",
      "source": [
        "## Exception Context: Stack Traces"
      ],
      "metadata": {
        "id": "xUuqILmjT3Is"
      }
    },
    {
      "cell_type": "code",
      "source": [
        "#!/usr/bin/env python3\n",
        "# calculator program which demonstrates exceptions\n",
        "\n",
        "def get_price():\n",
        "    price = float(input(\"Enter price: \"))\n",
        "    return price\n",
        "#end get_price\n",
        "\n",
        "def get_quantity():\n",
        "    quantity = int(input(\"Enter quantity: \"))\n",
        "    return quantity\n",
        "#end get_quantity\n",
        "\n",
        "def main():\n",
        "    print(\"The Total Calculator program\\n\")\n",
        "\n",
        "    # get the price and quantity\n",
        "    price = get_price()\n",
        "    quantity = get_quantity()\n",
        "\n",
        "    # calculate the total\n",
        "    total = price * quantity\n",
        "\n",
        "    # display the results\n",
        "    print()\n",
        "    print(\"PRICE:    \", price)\n",
        "    print(\"QUANTITY: \", quantity)\n",
        "    print(\"TOTAL:    \", total)\n",
        "\n",
        "if __name__ == \"__main__\":\n",
        "    main()"
      ],
      "metadata": {
        "id": "1HgnZyg4T2K1"
      },
      "execution_count": null,
      "outputs": []
    },
    {
      "cell_type": "markdown",
      "source": [
        "- Unhandled exceptions display a stack trace\n",
        "\n",
        "<img src=\"https://github.com/FSCJ-FacultyDev/SWC-Virtual-2024/blob/main/notebooks.day3/images/StackTrace.png?raw=true\" alt=\"StackTrace\" width=\"625\" height=\"275\"/>"
      ],
      "metadata": {
        "id": "b0XUcjJmUKwq"
      }
    },
    {
      "cell_type": "markdown",
      "source": [
        "## The Stack\n",
        "- The stack is a special structure in memory dedicated to storing function information\n",
        "- stack frames are stored on the stack\n",
        " - the first frame is at the bottom of the stackStack frames are added to the stack from the “bottom up”\n",
        "- Each time a method or function is called, a frame is added (pushed) on the stack\n",
        "- Stack frames are removed (popped) from the stack when a module exits in LIFO (last in, first out) order\n",
        "- Stack frames are approx. 1K and contain information about the module:\n",
        " - module name\n",
        " - local variables\n",
        " - instruction counter\n",
        " - return address\n",
        "- The Python **inspect** module provides traceback and frame functions which allow information about stack frames to be accessed\n",
        "https://docs.python.org/3/library/inspect.html\n",
        "\n",
        "<img src=\"https://github.com/FSCJ-FacultyDev/SWC-Virtual-2024/blob/main/notebooks.day3/images/TheStack.png?raw=true\" alt=\"TheStack\" width=\"625\" height=\"250\"/>\n",
        "\n"
      ],
      "metadata": {
        "id": "zVGQMt7uHoD_"
      }
    },
    {
      "cell_type": "markdown",
      "source": [
        "## The **try** Statement\n",
        "- The int() and float() type conversion functions can cause ValueError exceptions if invalid data is passed\n",
        "- Adding a try statement with an except clause allows the program to handle the exceptions\n",
        "- If an exception occurs, Python skips all remaining statements in the try clause and passes control to the except clause (the exception handler)\n"
      ],
      "metadata": {
        "id": "p-YTujtVKD5J"
      }
    },
    {
      "cell_type": "code",
      "source": [
        "#!/usr/bin/env python3\n",
        "# demonstrate exception handling\n",
        "\n",
        "try:\n",
        "   number = int(input(\"Enter an integer: \"))\n",
        "   print(\"You entered a valid integer of \" + str(number) + \".\")\n",
        "   print(\"Thanks!\")\n",
        "except ValueError:\n",
        "   print(\"You entered an invalid value!\")\n"
      ],
      "metadata": {
        "id": "8M7CX74OKY2I"
      },
      "execution_count": null,
      "outputs": []
    },
    {
      "cell_type": "markdown",
      "source": [
        "- This except catches a specific exception:\n",
        "```\n",
        "except ValueError:                    #best practice\n",
        "        print(\"You entered an invalid value!\")\n",
        "```\n",
        "This one catches any exception:\n",
        "```\n",
        "except:                               #not recommended\n",
        "        print(\"You entered an invalid value!\")\n",
        "```"
      ],
      "metadata": {
        "id": "xzzkJK3lKp_6"
      }
    },
    {
      "cell_type": "markdown",
      "source": [
        "## The Calculator Program"
      ],
      "metadata": {
        "id": "tJUnao54K8JE"
      }
    },
    {
      "cell_type": "code",
      "source": [
        "#!/usr/bin/env python3\n",
        "# calcexcept.py\n",
        "# calculator program which handles exceptions\n",
        "\n",
        "def get_price():\n",
        "    while True:\n",
        "        try:\n",
        "            price = float(input(\"Enter price: \"))\n",
        "            return price\n",
        "        except ValueError:\n",
        "            print(\"Invalid decimal number. Please try again.\")\n",
        "\n",
        "def get_quantity():\n",
        "    while True:\n",
        "        try:\n",
        "            quantity = int(input(\"Enter quantity: \"))\n",
        "            return quantity\n",
        "        except ValueError:\n",
        "            print(\"Invalid integer. Please try again.\")\n",
        "def main():\n",
        "    print(\"The Total Calculator program\\n\")\n",
        "\n",
        "    # get the price and quantity\n",
        "    price = get_price()\n",
        "    quantity = get_quantity()\n",
        "\n",
        "    # calculate the total\n",
        "    total = price * quantity\n",
        "\n",
        "    # display the results\n",
        "    print()\n",
        "    print(\"PRICE:    \", price)\n",
        "    print(\"QUANTITY: \", quantity)\n",
        "    print(\"TOTAL:    \", total)\n",
        "\n",
        "if __name__ == \"__main__\":\n",
        "    main()"
      ],
      "metadata": {
        "id": "9sav2eqzK5rw"
      },
      "execution_count": null,
      "outputs": []
    },
    {
      "cell_type": "markdown",
      "source": [
        "## List of Exceptions\n",
        "<img src=\"https://github.com/FSCJ-FacultyDev/SWC-Virtual-2024/blob/main/notebooks.day3/images/ListOfExceptions.png?raw=true\" alt=\"ListOfExceptions\" width=\"625\" height=\"300\"/>\n",
        "\n",
        "https://docs.python.org/3/library/exceptions.html\n"
      ],
      "metadata": {
        "id": "MOr-eClxLLq9"
      }
    },
    {
      "cell_type": "markdown",
      "source": [
        "## Try It!\n",
        "\n",
        "Create a Python program that attempts to read a file specified by the user. If the file does not exist or cannot be opened, the program should handle the error gracefully using a try/except block and prompt the user to enter the file name again.\n",
        "\n",
        "- Prompt the user for a file name.\n",
        "- Attempt to open and read the file.\n",
        "- Use a try/except block to handle the following exceptions:\n",
        "  - FileNotFoundError: Handle the case where the file does not exist.\n",
        "  - IOError: Handle other I/O errors, including a simulated IOError for the  specific file name \"simulate_error.txt\" to force the IOError exception (not easy to test this otherwise)\n",
        "- Display an appropriate error message for each type of exception.\n",
        "- If the file is read successfully, display its contents.\n",
        "\n",
        "**Sample Output**\n",
        "```\n",
        "Case 1: Successful File Read\n",
        "\n",
        "  Enter the file name: example.txt\n",
        "  File Contents:\n",
        "  This is an example file.\n",
        "  It has multiple lines of text.\n",
        "\n",
        "Case 2: File Not Found\n",
        "\n",
        "  Enter the file name: non_existent_file.txt\n",
        "  Error: The file 'non_existent_file.txt' does not exist. Please try again.\n",
        "  Enter the file name: example.txt\n",
        "  File Contents:\n",
        "  This is an example file.\n",
        "  It has multiple lines of text.\n",
        "\n",
        "Case 3: IOError (e.g., Permission Denied -- simulate this with a flag)\n",
        "\n",
        "  Enter the file name: simulate_error.txt\n",
        "  Error: Could not read the file 'simulate_error.txt'. Please try again.\n",
        "```"
      ],
      "metadata": {
        "id": "gcnjkevIfl0W"
      }
    },
    {
      "cell_type": "code",
      "source": [
        "def main():\n",
        "    while True:\n",
        "        try:\n",
        "            # Prompt the user for a file name\n",
        "            filename = input(\"Enter the file name: \")\n",
        "\n",
        "            # Simulate an IOError if the specific file name is entered\n",
        "            if filename == \"simulate_error.txt\":\n",
        "                raise IOError(\"Simulated IOError for demonstration purposes.\")\n",
        "\n",
        "            # Attempt to open and read the file\n",
        "            with open(filename, 'r') as file:\n",
        "                contents = file.read()\n",
        "\n",
        "        except FileNotFoundError:\n",
        "            # Handle the case where the file does not exist\n",
        "            print(f\"Error: The file '{filename}' does not exist. Please try again.\")\n",
        "            continue\n",
        "\n",
        "        except IOError as e:\n",
        "            # Handle other I/O errors, including the simulated IOError\n",
        "            print(f\"Error: {e}\")\n",
        "            continue\n",
        "\n",
        "        else:\n",
        "            # If no exceptions occur, display the file contents\n",
        "            print(\"File Contents:\")\n",
        "            print(contents)\n",
        "            break\n",
        "\n",
        "# Call the main function to start the program\n",
        "main()"
      ],
      "metadata": {
        "id": "_R1WrWuAjY77"
      },
      "execution_count": null,
      "outputs": []
    },
    {
      "cell_type": "markdown",
      "source": [
        "## Catching Import Exceptions"
      ],
      "metadata": {
        "id": "BLTRilf5Lli4"
      }
    },
    {
      "cell_type": "code",
      "source": [
        "#!/usr/bin/env python3\n",
        "# demonstrates catching an import exception\n",
        "\n",
        "try:\n",
        "    import blahblah\n",
        "except ImportError:\n",
        "    print(\"could not find module blahblah!\")\n"
      ],
      "metadata": {
        "id": "or9rGTjuLq24"
      },
      "execution_count": null,
      "outputs": []
    },
    {
      "cell_type": "markdown",
      "source": [
        "## Raising Exceptions\n",
        "- Programs can **raise** (throw) their own exceptions\n",
        " - Example: when a user-defined function has been passed invalid parameters\n",
        "```\n",
        "raise ValueError(\"The filename argument is required.\")\n",
        "```"
      ],
      "metadata": {
        "id": "rOK4dT-hLw-n"
      }
    },
    {
      "cell_type": "code",
      "source": [
        "#!/usr/bin/env python3\n",
        "try:\n",
        "    import csv\n",
        "except ImportError:\n",
        "    print(\"Unable to import module!\")\n",
        "\n",
        "from pathlib import Path\n",
        "\n",
        "FILEPATH = Path('/content')\n",
        "\n",
        "def get_movies(filename):\n",
        "\n",
        "    if len(filename) == 0:\n",
        "        raise ValueError(\"The filename argument is required.\")\n",
        "    filename = FILEPATH / filename\n",
        "    movie_list = []\n",
        "    with open(filename) as file:\n",
        "        reader = csv.reader(file)\n",
        "        for row in reader:\n",
        "            movie_list.append(row)\n",
        "\n",
        "    for row in movie_list:\n",
        "        print(row)\n",
        "        if movie_list.index(row) == 10:\n",
        "            break\n",
        "\n",
        "def main():\n",
        "    movie_collection = input(\"Enter the name of your movie collection file: \")\n",
        "    try:\n",
        "        get_movies(movie_collection)\n",
        "    except ValueError as ve:\n",
        "        print(\"ValueError:\", str(ve))\n",
        "\n",
        "main()"
      ],
      "metadata": {
        "id": "fsSP--ElNSC6"
      },
      "execution_count": null,
      "outputs": []
    },
    {
      "cell_type": "markdown",
      "source": [
        "## **try** with **else**\n",
        "- The try statement has an optional else clause, which, when present, must follow all except clauses.\n",
        "- It is useful for code that must be executed if the try clause does not raise an exception.\n",
        "```\n",
        "for arg in sys.argv[1:]:\n",
        "    try:\n",
        "        f = open(arg, 'r')\n",
        "    except OSError:\n",
        "        print('cannot open', arg)\n",
        "    else:                              #carry on with the file since it opened!\n",
        "        print(arg, 'has', len(f.readlines()), 'lines')\n",
        "        f.close()\n",
        "```"
      ],
      "metadata": {
        "id": "DNvv1_8KMXqF"
      }
    },
    {
      "cell_type": "markdown",
      "source": [
        "## **try** with **finally**\n",
        "- The try statement also has an optional finally clause which is intended to define clean-up actions that must be executed under all circumstances.\n",
        "- A finally clause is always executed before leaving the try statement, whether an exception has occurred or not.\n",
        "- In real world applications, the finally clause is useful for releasing external resources (such as files, database locks, or network connections), regardless of whether the use of the resource was successful."
      ],
      "metadata": {
        "id": "b3fjLetlUUar"
      }
    },
    {
      "cell_type": "code",
      "source": [
        "y = 6\n",
        "#z = 0\n",
        "z = 2\n",
        "\n",
        "try:\n",
        "       x = y / z\n",
        "       print(x)\n",
        "except ZeroDivisionError:\n",
        "       print(\"You can't divide by zero!\")\n",
        "finally:\n",
        "     print('Goodbye, world!')  # executes either way\n"
      ],
      "metadata": {
        "id": "S69qB9TXUfwa"
      },
      "execution_count": null,
      "outputs": []
    },
    {
      "cell_type": "code",
      "source": [
        "def divide(x, y):\n",
        "    try:\n",
        "        result = x / y\n",
        "    except ZeroDivisionError:\n",
        "        print(\"division by zero!\")\n",
        "    else:\n",
        "        print(\"result is\", result)\n",
        "    finally:\n",
        "        print(\"executing finally clause\")\n",
        "\n",
        "divide(6, 2)\n",
        "divide(5, 0)\n"
      ],
      "metadata": {
        "id": "bZLCFTAxWW4r"
      },
      "execution_count": null,
      "outputs": []
    }
  ]
}