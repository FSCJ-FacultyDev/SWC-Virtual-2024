{
  "nbformat": 4,
  "nbformat_minor": 0,
  "metadata": {
    "colab": {
      "provenance": []
    },
    "kernelspec": {
      "name": "python3",
      "display_name": "Python 3"
    },
    "language_info": {
      "name": "python"
    }
  },
  "cells": [
    {
      "cell_type": "markdown",
      "source": [
        "#Objects and Python\n",
        "Objects are Python's abstraction for data.\n",
        "- All data in a Python program is represented by objects or by relations between objects"
      ],
      "metadata": {
        "id": "k3H4djA6cLET"
      }
    },
    {
      "cell_type": "markdown",
      "source": [
        "## Classes and Objects\n",
        "\n",
        "A **class** is a blueprint for creating objects. Classes represent real-world things and situations; they define a set of attributes (properties/data) and methods (functions/behavior) that objects created from the class will have. For example, a Dog class can define the properties and behaviors common to all dogs, such as having a name and age, and being able to sit and roll over.\n",
        "\n",
        "An **object** is an **instance** of a class. When you create an object, you are creating an actual entity based on the class blueprint. Each object can have different values for the attributes defined by its class. For example, you can create multiple Dog objects, each with different names and ages.\n",
        "\n",
        "**Instantiation** is the process of creating an object from a class. When you instantiate a class, you create an **instance** (object) of that class.\n",
        "During instantiation, the __init__ method (if defined) is automatically called to initialize the new object with the specified values for its attributes.\n",
        "\n",
        "A more detailed example is demonstrated below using a Product class\n",
        "- this class represents a product which might be purchased in a retail store or online\n",
        "- the attributes are the name, price, and a discount percentage rate\n",
        "- the methods allow a program to perform operations with (or on) the Product\n",
        "\n",
        "## Naming Conventions\n",
        "By convention, classes are (should be) named using a **capitalized noun**. Subsequent words in the name should also be capitalized. This is known as **Pascal Case**, e.g.,\n",
        "```\n",
        "  Dog\n",
        "  Cat\n",
        "  Product\n",
        "  DiscountedProduct\n",
        "  InventoryList\n",
        "  Dog\n",
        "```"
      ],
      "metadata": {
        "id": "_4avoWRCcyyZ"
      }
    },
    {
      "cell_type": "markdown",
      "source": [
        "## The Product Class\n",
        "<b>Unified Modeling Language (UML)</b> is used to diagram classes and objects\n",
        "- As described above, class names are capitalized\n",
        "\n",
        "  <img src=\"https://github.com/FSCJ-FacultyDev/SWC-Virtual-2024/blob/main/notebooks.day3/images/ProductClassUML.png?raw=true\" alt=\"Product Class UML\" width=\"400\" height=\"400\"/>"
      ],
      "metadata": {
        "id": "u81I5gmHd0li"
      }
    },
    {
      "cell_type": "markdown",
      "source": [
        "UML can be used to diagram objects created (instantiated) from a class\n",
        "- product1 and product2 are <b>instances</b> of the Product class\n",
        "\n",
        "  <img src=\"https://github.com/FSCJ-FacultyDev/SWC-Virtual-2024/blob/main/notebooks.day3/images/ProductObjectsUML.png?raw=true\" alt=\"Product Objects UML\" width=\"400\" height=\"400\"/>"
      ],
      "metadata": {
        "id": "f0711g5He_WW"
      }
    },
    {
      "cell_type": "markdown",
      "source": [
        "## Coding a Product Class\n",
        "\n",
        "- Object-oriented programming in Python is somewhat convoluted compared to other more \"naturally OO\" languages like Java.\n",
        "- It takes practice to get used to the syntax.\n",
        "- As with constants, some OOP features in Python are not enforced but are conventions that should be followed for consistency.\n",
        "Read through the following examples, then read through the breakdowns in the sections that follow."
      ],
      "metadata": {
        "id": "e-gD147Ffulz"
      }
    },
    {
      "cell_type": "code",
      "source": [
        "class Product:\n",
        "    # an initialization method (constructor)\n",
        "    def __init__(self, name, price, discountPercent):\n",
        "        # self.name, self.price, and\n",
        "        # self.discountPercent are attributes\n",
        "        self.name = name\n",
        "        self.price = price\n",
        "        self.discountPercent = discountPercent\n",
        "\n",
        "    # a method that uses two attributes\n",
        "    def getDiscountAmount(self):\n",
        "        return self.price * self.discountPercent / 100\n",
        "\n",
        "    # a method that calls another method\n",
        "    def getDiscountPrice(self):\n",
        "        return self.price - self.getDiscountAmount()"
      ],
      "metadata": {
        "id": "Zvpa-l05frGD"
      },
      "execution_count": null,
      "outputs": []
    },
    {
      "cell_type": "markdown",
      "source": [
        "## Coding a Dog Class"
      ],
      "metadata": {
        "id": "yJoMMPEuf6rP"
      }
    },
    {
      "cell_type": "code",
      "source": [
        "class Dog:\n",
        "    def __init__(self, name, age):\n",
        "        self.name = name\n",
        "        self.age = age\n",
        "\n",
        "    def sit(self):\n",
        "        print(f\"{self.name} is now sitting.\")\n",
        "\n",
        "    def roll_over(self):\n",
        "        print(f\"{self.name} rolled over!\")"
      ],
      "metadata": {
        "id": "zpP6HEtPf8dq"
      },
      "execution_count": null,
      "outputs": []
    },
    {
      "cell_type": "markdown",
      "source": [
        "## The init method\n",
        "The __init__() method is a special method that Python runs automatically whenever a new instance of a class is created.\n",
        "- Two leading and two trailing underscores are used to prevent default Python method names from conflicting with your customized method names.\n",
        "- __init__() acts like a **constructor** in other OO languages, but the Python documentation rarely uses that term explicitly\n",
        "- As with regular functions, we can declare parameters in methods, including in __init__() method.\n",
        "- The self parameter is specific to class methods and is never explicitly passed"
      ],
      "metadata": {
        "id": "X5OLt80ZgBTj"
      }
    },
    {
      "cell_type": "markdown",
      "source": [
        "## The self parameter\n",
        "<b>self</b> is the internal name of the object instance just created (for a constructor) or the object used to call an instance method.\n",
        "- self is always listed as the first parameter to the constructor or method.\n",
        "- There is nothing special about the name \"self\", it is a convention which should be followed.\n",
        "- Omitting self from the parameter list can lead to obscure errors\n",
        "self is never passed as an argument in a function call\n"
      ],
      "metadata": {
        "id": "d47jYdx3gWcI"
      }
    },
    {
      "cell_type": "markdown",
      "source": [
        "## Instantiating an Object from a Class\n",
        "We assign a variable using the class name\n",
        "- Note the use of upper case for the class name, but normal variable naming (snake case or camel case) for the object variable\n",
        "- The __init__() method is implicitly called, we do not call it explicitly\n",
        "- Note that we do not pass self, we only pass two arguments\n",
        "- **dot notation** can be used to access attributes using the instantiated object's name\n",
        "  - note that directly accessing attributes is not a good practice in OOP, see **Encapsulation** below for an explanation"
      ],
      "metadata": {
        "id": "-LiDelSGgrRD"
      }
    },
    {
      "cell_type": "code",
      "source": [
        "def main():\n",
        "    my_dog = Dog('Willie', 6)\n",
        "\n",
        "    print(f\"My dog's name is {my_dog.name}.\")\n",
        "    print(f\"My dog is {my_dog.age} years old.\")\n",
        "\n",
        "main()"
      ],
      "metadata": {
        "id": "4Y1Uu5BagDcD"
      },
      "execution_count": null,
      "outputs": []
    },
    {
      "cell_type": "markdown",
      "source": [
        "Dot notation is also used to call methods using the instantiated object's name."
      ],
      "metadata": {
        "id": "1LO9FGC_1JFx"
      }
    },
    {
      "cell_type": "code",
      "source": [
        "def main():\n",
        "    my_dog = Dog('Willie', 6)\n",
        "\n",
        "    my_dog.sit()\n",
        "    my_dog.roll_over()\n",
        "\n",
        "main()"
      ],
      "metadata": {
        "id": "Y_D3IxUD0yO3"
      },
      "execution_count": null,
      "outputs": []
    },
    {
      "cell_type": "markdown",
      "source": [
        "You can create as many instances from a class as needed."
      ],
      "metadata": {
        "id": "2oiPpkvA8NCl"
      }
    },
    {
      "cell_type": "code",
      "source": [
        "my_dog = Dog('Willie', 6)\n",
        "your_dog = Dog('Lucy', 3)\n",
        "my_dog.sit()\n",
        "your_dog.sit()"
      ],
      "metadata": {
        "id": "LgCplRh-8ZJs"
      },
      "execution_count": null,
      "outputs": []
    },
    {
      "cell_type": "markdown",
      "source": [
        "## Try It!\n",
        "\n",
        "Create a Python class for a cat that includes attributes for the cat's name and age, and methods to simulate the cat performing actions.\n",
        "\n",
        "- Define a class named Cat.\n",
        "- Implement the __init__ method that takes two parameters, name and age, and initializes these attributes.\n",
        "- Implement a method named meow that prints a message indicating that the cat is meowing.\n",
        "- Implement a method named scratch that prints a message indicating that the cat is scratching.\n",
        "- Create an instance of the class and call the methods\n",
        "\n",
        "**Sample Output**\n",
        "\n",
        "```\n",
        "Whiskers is meowing.\n",
        "Whiskers is scratching.\n",
        "```"
      ],
      "metadata": {
        "id": "Wbj_TmwXAsHo"
      }
    },
    {
      "cell_type": "markdown",
      "source": [
        "## Encapsulation\n",
        "An attribute is made private in Python by prefixing the name with two underscores:\n",
        "-  __name\n",
        "-  __price\n",
        "-  __discountPercent\n",
        "-  __age\n",
        "\n",
        "Using private attributes enables data hiding, or <b>encapsulation</b>.\n",
        "- We want to prevent direct modification of data; for instance, the following statements should not be allowed:\n",
        "\n",
        "  <pre>\n",
        "  product1.price = 11.25 # change the price!\n",
        "  my_dog.name = 'Alf'    # Alf is an alien, not a dog\n",
        "  </pre>\n",
        "\n",
        "- Encapsulation prevents direct access and direct modification of your class's data…(this is a good thing).\n",
        "- As with constants, Python does not formally support private variables, this is actually just a convention that should be followed.\n"
      ],
      "metadata": {
        "id": "PeuFOaCN8iLB"
      }
    },
    {
      "cell_type": "markdown",
      "source": [
        "## Accessors and Mutators\n",
        "In order to make the private data available to users of our class, we code accessors (getters) and mutators (setters) for each private attribute.\n",
        "- An <b>accessor</b>, or <b>getter</b>, is a method which returns the attribute's value\n",
        "\n",
        "  <pre>\n",
        "  def getPrice(self):\n",
        "          return self.__price\n",
        "  </pre>\n",
        "\n",
        "- A <b>mutator</b>, or <b>setter</b>, is a method which takes a value parameter and assigns that value to the attribute (can also implement validation of the value)\n",
        "\n",
        "  <pre>\n",
        "  def setPrice(self, price):\n",
        "          self.__price = price\n",
        "  </pre>"
      ],
      "metadata": {
        "id": "pSfJV7Rs9Iwk"
      }
    },
    {
      "cell_type": "code",
      "source": [
        "class Product:\n",
        "    # an initialization method (constructor)\n",
        "    def __init__(self, name, price, discountPercent):\n",
        "        # self.name, self.price, and\n",
        "        # self.discountPercent are attributes\n",
        "        self.__name = name\n",
        "        self.__price = price\n",
        "        self.__discountPercent = discountPercent\n",
        "\n",
        "    # accessor (getter) for price\n",
        "    def getPrice(self):\n",
        "        return self.__price\n",
        "\n",
        "    # mutator (setter) for price\n",
        "    def setPrice(self, price):\n",
        "        self.__price = price\n",
        "\n",
        "    # accessor (getter) for name\n",
        "    def getName(self):\n",
        "        return self.__name\n",
        "\n",
        "    # mutator (setter) for name\n",
        "    def setName(self, name):\n",
        "        self.__name = name\n",
        "\n",
        "    # accessor (getter) for discountPercent\n",
        "    def getDiscountPercent(self):\n",
        "        return self.__discountPercent\n",
        "\n",
        "    # mutator (setter) for discountPercent\n",
        "    def setDiscountPercent(self, discountPercent):\n",
        "        self.__discountPercent = discountPercent\n",
        "\n",
        "    # a utility method that uses two attributes (not a getter!)\n",
        "    def getDiscountAmount(self):\n",
        "        return self.__price * self.__discountPercent\n",
        "\n",
        "    # a utility method that calls another method (also not a getter!)\n",
        "    def getDiscountPrice(self):\n",
        "        return self.__price - self.getDiscountAmount()\n",
        "\n",
        "# inventory.py\n",
        "product1 = Product('Stanley 13 Ounce Wood Hammer', 11.25, 0.62)\n",
        "# use accessors and mutators\n",
        "print(\"Name:\\t\\t\\t{:s}\".format(product1.getName()))\n",
        "product1.setPrice(11.25)    # use mutator\n",
        "print(\"Price:\\t\\t\\t{:.2f}\".format(product1.getPrice()))\n",
        "print(\"Discount percent:\\t{:d}%\".format(int(product1.getDiscountPercent() * 100.0)))\n",
        "print(\"Discount amount:\\t{:.2f}\".format(product1.getDiscountAmount()))\n",
        "print(\"Discount price:\\t\\t{:.2f}\".format(product1.getDiscountPrice()))\n"
      ],
      "metadata": {
        "id": "X8mu8JG_9v6V"
      },
      "execution_count": null,
      "outputs": []
    },
    {
      "cell_type": "code",
      "source": [
        "class Dog:\n",
        "    def __init__(self, name, age):\n",
        "        self.__name = name\n",
        "        self.__age = age\n",
        "\n",
        "    # Accessor (getter) for name\n",
        "    def getName(self):\n",
        "        return self.__name\n",
        "\n",
        "    # Mutator (setter) for name\n",
        "    def setName(self, name):\n",
        "        self.__name = name\n",
        "\n",
        "    # Accessor (getter) for age\n",
        "    def getAge(self):\n",
        "        return self.__age\n",
        "\n",
        "    # Mutator (setter) for age\n",
        "    def setAge(self, age):\n",
        "        self.__age = age\n",
        "\n",
        "    def sit(self):\n",
        "        print(f\"{self.__name} is now sitting.\")\n",
        "\n",
        "    def roll_over(self):\n",
        "        print(f\"{self.__name} rolled over!\")\n",
        "\n",
        "# Main function to demonstrate the use of accessors and mutators\n",
        "def main():\n",
        "    # Create an instance of Dog\n",
        "    my_dog = Dog(\"Buddy\", 3)\n",
        "\n",
        "    # Use accessors to get attribute values\n",
        "    print(f\"Name: {my_dog.getName()}\")\n",
        "    print(f\"Age: {my_dog.getAge()}\")\n",
        "\n",
        "    # Use mutators to set attribute values\n",
        "    my_dog.setName(\"Max\")\n",
        "    my_dog.setAge(4)\n",
        "\n",
        "    # Use accessors to get updated attribute values\n",
        "    print(f\"Updated Name: {my_dog.getName()}\")\n",
        "    print(f\"Updated Age: {my_dog.getAge()}\")\n",
        "\n",
        "    # Demonstrate other methods\n",
        "    my_dog.sit()\n",
        "    my_dog.roll_over()\n",
        "\n",
        "# Call the main function to start the program\n",
        "main()\n"
      ],
      "metadata": {
        "id": "HA7Ox9hdJ4ey"
      },
      "execution_count": null,
      "outputs": []
    },
    {
      "cell_type": "markdown",
      "source": [
        "## Grouping Getters and Setters\n",
        "There are two general alternatives for grouping getters and setters\n",
        "- constructors\n",
        "- all getters\n",
        "- all setters\n",
        "<br>\n",
        "### or ###\n",
        "- constructors\n",
        "- getter/setter for field 1\n",
        "- getter/setter for field 2\n",
        "- more pairs as necessary\n",
        "\n",
        "Ultimately it is a personal preference (note constructors are first for both)\n",
        "- Some IDEs provide options to group them (and generate them!) for you"
      ],
      "metadata": {
        "id": "Y_I-AxbrMAhR"
      }
    },
    {
      "cell_type": "markdown",
      "source": [
        "## Naming Getters and Setters\n",
        "By convention getters and setters start with **get** and **set** and are followed by the name of the attribute they are getting and setting\n",
        "- IDEs which generate them for you will normally use this convention\n",
        "- Some language frameworks (e.g. Django) rely on these naming conventions\n",
        "\n",
        "If a method in a class starts with \"get\" but does not function as a traditional accessor, it is categorized as a \"service method\" or a \"utility method.\""
      ],
      "metadata": {
        "id": "UWbRtC8pMtq8"
      }
    },
    {
      "cell_type": "markdown",
      "source": [
        "## Try It!\n",
        "\n",
        "Create a Python class for a cat with private attributes for the cat's name and age. Provide accessors (getters) and mutators (setters) for these attributes. Demonstrate the use of these methods in a main function.\n",
        "\n",
        "- Define a class named Cat with the following:\n",
        "  - Private attributes __name and __age.\n",
        "  - An initialization method (__init__) to set the name and age.\n",
        "  - Accessor (getter) methods getName() and getAge().\n",
        "  - Mutator (setter) methods setName(name) and setAge(age).\n",
        "  - Methods meow() and scratch() that print corresponding messages including the cat's name.\n",
        "- Create a main function that:\n",
        "  - Creates an instance of the Cat class.\n",
        "  - Uses accessors to get and print the cat's name and age.\n",
        "  - Uses mutators to change and print the cat's name and age.\n",
        "  - Calls the meow() and scratch() methods.\n",
        "\n",
        "  Sample Output\n",
        "\n",
        "```\n",
        "Name: Whiskers\n",
        "Age: 2\n",
        "Updated Name: Shadow\n",
        "Updated Age: 3\n",
        "Shadow is meowing.\n",
        "Shadow is scratching.\n",
        "```"
      ],
      "metadata": {
        "id": "seacwsczKqdy"
      }
    },
    {
      "cell_type": "markdown",
      "source": [
        "## Inheritance\n",
        "\n",
        "### Start with the base class"
      ],
      "metadata": {
        "id": "Lia3aVrCBl17"
      }
    },
    {
      "cell_type": "code",
      "source": [
        "# Notebook users can uncomment the following %% line to write\n",
        "# this class as a separate file.\n",
        "# The file will exist for your current session.\n",
        "# %%writefile car.py\n",
        "\n",
        "#!/usr/bin/env python3\n",
        "# car.py\n",
        "\n",
        "class Car:\n",
        "\n",
        "    def __init__(self, make, model, year):\n",
        "        \"\"\"Initialize attributes to describe a car.\"\"\"\n",
        "        self.__make = make      # read-only\n",
        "        self.__model = model    # read-only\n",
        "        self.__year = year      # read-only\n",
        "        self.__odometer_reading = 0\n",
        "\n",
        "    # getters\n",
        "\n",
        "    def getMake(self):\n",
        "        return self.__make\n",
        "\n",
        "    def getModel(self):\n",
        "        return self.__model\n",
        "\n",
        "    def getYear(self):\n",
        "        return self.__year\n",
        "\n",
        "    def getOdometerReading(self):\n",
        "        return self.__odometer_reading\n",
        "\n",
        "    # setter (only one needed, other attributes are read-only)\n",
        "    def setOdometerReading(self, odometer_reading):\n",
        "        if odometer_reading >= self.__odometer_reading:\n",
        "            self.__odometer_reading = odometer_reading\n",
        "        else:\n",
        "            print(\"You can't roll back an odometer!\")\n",
        "\n",
        "    # utility methods\n",
        "\n",
        "    def get_descriptive_name(self):\n",
        "        \"\"\"Construct a full name from the car attributes.\"\"\"\n",
        "        long_name = f\"{self.__year} {self.__make} {self.__model}\"\n",
        "        return long_name.title()\n",
        "\n",
        "    def read_odometer(self):\n",
        "      \"\"\"Print a message which indicates the car odometer value.\"\"\"\n",
        "      print(f\"This car has {self.__odometer_reading} miles on it.\")\n",
        "\n",
        "    def increment_odometer(self, miles):\n",
        "      \"\"\"Increment the odometer using value of miles argument.\"\"\"\n",
        "      self.__odometer_reading = self.__odometer_reading + miles\n",
        "\n",
        "# unit test\n",
        "def main():\n",
        "    car = Car(\"Dodge\", \"Viper SRT-10\", 2010)\n",
        "    print(car.get_descriptive_name())\n",
        "    car.read_odometer()\n",
        "    car.setOdometerReading(1000)\n",
        "    car.read_odometer()\n",
        "    car.increment_odometer(100)\n",
        "    car.read_odometer()\n",
        "\n",
        "if __name__ == \"__main__\":\n",
        "    main()\n"
      ],
      "metadata": {
        "id": "ID-fDNRcBnp9"
      },
      "execution_count": null,
      "outputs": []
    },
    {
      "cell_type": "markdown",
      "source": [
        "A class can **inherit** characteristics of a base class\n",
        "- The base class is typically referred to as a **parent**, or **superclass**\n",
        "- The class which inherits from the base class is the **child**, or **subclass**.\n",
        "- Inheritance is a standard OOP feature.\n",
        "- It avoids duplication of code (attributes, methods) in similar objects\n",
        "= The following ElectricCar class inherits from the base (or parent) class named Car:\n",
        "  ```\n",
        "  class ElectricCar(Car):\n",
        "    pass\n",
        "  ```\n",
        "- The base class is specified in parentheses in the declaration of the subclass.\n",
        "- ElectricCar inherits all of the Car class's attributes and methods\n",
        "- **pass** is a no-op (no operation) statement which is used here as a placeholder to avoid \"empty code\" parts of a program where a statement is required\n"
      ],
      "metadata": {
        "id": "dGfiD1oCOHPL"
      }
    },
    {
      "cell_type": "markdown",
      "source": [
        "- Attributes and methods are added to make a subclass a specialized version of the base class\n",
        "- As we move down in the inheritance hierarchy (the chain of inheritance which moves from base class to subclass, then to subclasses of the subclass, etc.) objects get **bigger** and more **specialized**\n",
        "\n",
        "  <img src=\"https://github.com/FSCJ-FacultyDev/SWC-Virtual-2024/blob/main/notebooks.day3/images/CarInheritance.png?raw=true\" alt=\"Car Inheritance\" width=\"450\" height=\"200\"/>"
      ],
      "metadata": {
        "id": "8oFvvCrhPVSL"
      }
    },
    {
      "cell_type": "code",
      "source": [
        "#!/usr/bin/env python3\n",
        "# electric_car.py\n",
        "# class representing an electric car\n",
        "\n",
        "from car import Car    # import our base class\n",
        "\n",
        "class ElectricCar(Car):\n",
        "    \"\"\"Represent aspects of a car, specific to electric vehicles.\"\"\"\n",
        "\n",
        "    def __init__(self, make, model, year):\n",
        "        \"\"\"Initialize attributes of the parent class.\"\"\"\n",
        "        super().__init__(make, model, year)  # \"pass-through\" arguments to base class\n",
        "\n",
        "def main():\n",
        "    my_tesla = ElectricCar('tesla', 'model s', 2019)\n",
        "    print(my_tesla.get_descriptive_name())  # get_descriptive_name resides in the base class\n",
        "\n",
        "if __name__ == \"__main__\":\n",
        "    main()\n"
      ],
      "metadata": {
        "id": "TmV2m01DP9lX"
      },
      "execution_count": null,
      "outputs": []
    },
    {
      "cell_type": "markdown",
      "source": [
        "## The super Function\n",
        "\n",
        "  <img src=\"https://github.com/FSCJ-FacultyDev/SWC-Virtual-2024/blob/main/notebooks.day3/images/Superman.png?raw=true\" alt=\"Superman\" width=\"50\" height=\"50\"/>\n",
        "\n",
        "<b>super()</b> is a special function that allows you to call a method which resides in the parent class\n",
        "\n",
        "<pre>\n",
        "def __init__(self, make, model, year):\n",
        "        super().__init__(make, model, year)\n",
        "</pre>\n",
        "\n",
        "- The __init__ function in ElectricCar instantiates an ElectricCar object, which includes all of the attributes and methods provided in the Car base class.\n",
        "- Calling super().__init__ tells Python to call the Car constructor as the object is being created\n",
        "- All of the ElectricCar constructor parameters are passed up to the Car base class constructor as arguments, since those attributes reside in the Car class and must be set there\n",
        "= The name \"super\" comes from the convention of calling the parent class a superclass and the child class a subclass.\n"
      ],
      "metadata": {
        "id": "XbuvmY36VK3u"
      }
    },
    {
      "cell_type": "code",
      "source": [
        "class Labrador(Dog):\n",
        "    def __init__(self, name, age, color):\n",
        "        super().__init__(name, age)\n",
        "        self.__color = color\n",
        "\n",
        "    # Accessor (getter) for color\n",
        "    def getColor(self):\n",
        "        return self.__color\n",
        "\n",
        "    # Mutator (setter) for color\n",
        "    def setColor(self, color):\n",
        "        self.__color = color\n",
        "\n",
        "    def fetch(self):\n",
        "        print(f\"{self.getName()} is fetching the ball!\")\n",
        "\n",
        "# Main function to demonstrate the use of the Labrador class\n",
        "def main():\n",
        "    # Create an instance of Labrador\n",
        "    my_labrador = Labrador(\"Buddy\", 3, \"Yellow\")\n",
        "\n",
        "    # Use accessors to get attribute values\n",
        "    print(f\"Name: {my_labrador.getName()}\")\n",
        "    print(f\"Age: {my_labrador.getAge()}\")\n",
        "    print(f\"Color: {my_labrador.getColor()}\")\n",
        "\n",
        "    # Use mutators to set attribute values\n",
        "    my_labrador.setName(\"Max\")\n",
        "    my_labrador.setAge(4)\n",
        "    my_labrador.setColor(\"Black\")\n",
        "\n",
        "    # Use accessors to get updated attribute values\n",
        "    print(f\"Updated Name: {my_labrador.getName()}\")\n",
        "    print(f\"Updated Age: {my_labrador.getAge()}\")\n",
        "    print(f\"Updated Color: {my_labrador.getColor()}\")\n",
        "\n",
        "    # Demonstrate inherited and new methods\n",
        "    my_labrador.sit()\n",
        "    my_labrador.roll_over()\n",
        "    my_labrador.fetch()\n",
        "\n",
        "# Call the main function to start the program\n",
        "main()\n"
      ],
      "metadata": {
        "id": "eRhs0OWxQ-o8"
      },
      "execution_count": null,
      "outputs": []
    },
    {
      "cell_type": "code",
      "source": [],
      "metadata": {
        "id": "hBQykkZ1RElq"
      },
      "execution_count": null,
      "outputs": []
    },
    {
      "cell_type": "markdown",
      "source": [
        "## Try It!\n",
        "\n",
        "Create a Python class that represents a specific breed of cat, such as a Siamese, by inheriting from the Cat class. The derived class should include additional attributes and methods specific to the breed.\n",
        "\n",
        "- Define a base class named Cat with private attributes for the cat's name and age, and provide accessors (getters) and mutators (setters) for these attributes.\n",
        "- Define a derived class named Siamese that inherits from the Cat class. Add an additional attribute for the cat's color and provide accessors and mutators for this attribute. Also, add a new method specific to the Siamese breed.\n",
        "- Create a main function that demonstrates the use of the Siamese class by:\n",
        "  - creating an instance of the Siamese class.\n",
        "  - using accessors and mutators to get and set the cat's attributes.\n",
        "  - calling the inherited and new methods.\n",
        "\n",
        "**NOTE** you will need to have implemented your completed Cat class definition from the earlier exercise so your subclass recognizes the parent.\n",
        "\n",
        "**Sample Output**\n",
        "\n",
        "```\n",
        "Name: Luna\n",
        "Age: 2\n",
        "Color: Cream\n",
        "Updated Name: Milo\n",
        "Updated Age: 3\n",
        "Updated Color: Chocolate\n",
        "Milo is meowing.\n",
        "Milo is scratching.\n",
        "Milo is purring happily.\n",
        "```"
      ],
      "metadata": {
        "id": "dhP3QSFRR5jQ"
      }
    }
  ]
}