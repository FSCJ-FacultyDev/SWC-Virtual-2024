{
  "nbformat": 4,
  "nbformat_minor": 0,
  "metadata": {
    "colab": {
      "provenance": []
    },
    "kernelspec": {
      "name": "python3",
      "display_name": "Python 3"
    },
    "language_info": {
      "name": "python"
    }
  },
  "cells": [
    {
      "cell_type": "markdown",
      "source": [
        "#Objects and Python\n",
        "Objects are Python's abstraction for data.\n",
        "- All data in a Python program is represented by objects or by relations between objects"
      ],
      "metadata": {
        "id": "k3H4djA6cLET"
      }
    },
    {
      "cell_type": "markdown",
      "source": [
        "##Creating and Using Classes\n",
        "To use object-oriented programming in Python, <b>classes</b> are created that represent real-world things and situations, and <b>objects</b> are created based on these classes\n",
        "\n",
        "- e.g., a Product class represents a product which might be purchased in a retail store or online\n",
        "  - The class includes attributes (properties) for the name, price, and a discount percentage rate\n",
        "  - The class also includes methods (\"special functions\") which allow a program to perform operations with (or on) it"
      ],
      "metadata": {
        "id": "_4avoWRCcyyZ"
      }
    },
    {
      "cell_type": "markdown",
      "source": [
        "##The Product Class\n",
        "<b>Unified Modeling Language (UML)</b> is used to diagram classes and objects\n",
        "- By convention, class names are capitalized\n",
        "\n",
        "  <img src=\"https://github.com/FSCJ-WorkingConnections/WinterWorkingConnections2023/blob/main/notebooks.day3/images/ProductClassUML.png?raw=true\" alt=\"Product Class UML\" width=\"400\" height=\"400\"/>"
      ],
      "metadata": {
        "id": "u81I5gmHd0li"
      }
    },
    {
      "cell_type": "markdown",
      "source": [
        "UML can be used to diagram objects created from a class\n",
        "- product1 and product2 are <b>instances</b> of the Product class\n",
        "\n",
        "  <img src=\"https://github.com/FSCJ-WorkingConnections/WinterWorkingConnections2023/blob/main/notebooks.day3/images/ProductObjectsUML.png?raw=true\" alt=\"Product Objects UML\" width=\"400\" height=\"400\"/>"
      ],
      "metadata": {
        "id": "f0711g5He_WW"
      }
    },
    {
      "cell_type": "markdown",
      "source": [
        "##Coding the Product Class"
      ],
      "metadata": {
        "id": "e-gD147Ffulz"
      }
    },
    {
      "cell_type": "code",
      "source": [
        "class Product:\n",
        "    # an initialization method (constructor)\n",
        "    def __init__(self, name, price, discountPercent):\n",
        "        # self.name, self.price, and\n",
        "        # self.discountPercent are attributes\n",
        "        self.name = name\n",
        "        self.price = price\n",
        "        self.discountPercent = discountPercent\n",
        "\n",
        "    # a method that uses two attributes\n",
        "    def getDiscountAmount(self):\n",
        "        return self.price * self.discountPercent / 100\n",
        "\n",
        "    # a method that calls another method\n",
        "    def getDiscountPrice(self):\n",
        "        return self.price - self.getDiscountAmount()"
      ],
      "metadata": {
        "id": "Zvpa-l05frGD"
      },
      "execution_count": null,
      "outputs": []
    },
    {
      "cell_type": "markdown",
      "source": [
        "##Coding a Dog Class"
      ],
      "metadata": {
        "id": "yJoMMPEuf6rP"
      }
    },
    {
      "cell_type": "code",
      "source": [
        "class Dog:\n",
        "    def __init__(self, name, age):\n",
        "        self.name = name\n",
        "        self.age = age\n",
        "\n",
        "    def sit(self):\n",
        "        print(f\"{self.name} is now sitting.\")\n",
        "\n",
        "    def roll_over(self):\n",
        "        print(f\"{self.name} rolled over!\")"
      ],
      "metadata": {
        "id": "zpP6HEtPf8dq"
      },
      "execution_count": null,
      "outputs": []
    },
    {
      "cell_type": "markdown",
      "source": [
        "##The init method\n",
        "The __init__() method is a special method that Python runs automatically whenever a new instance of a class is created.\n",
        "- Two leading and two trailing underscores are used to prevent default Python method names from conflicting with your customized method names.\n",
        "- __init__() acts like a constructor in other OOP languages, but the Python documentation rarely uses that term explicitly\n",
        "- As with regular functions, we can declare parameters in methods, including in __init__() method.\n",
        "- The self parameter is specific to class methods"
      ],
      "metadata": {
        "id": "X5OLt80ZgBTj"
      }
    },
    {
      "cell_type": "markdown",
      "source": [
        "##The self parameter\n",
        "<b>self</b> is the name of the object instance just created (for a constructor) or the object used to call an instance method.\n",
        "- self is always listed as the first parameter to the constructor or method.\n",
        "- There is nothing special about the name \"self\", it is a convention which should be followed.\n",
        "- Omitting self from the parameter list can lead to obscure errors\n",
        "self is never passed as an argument in a function call\n"
      ],
      "metadata": {
        "id": "d47jYdx3gWcI"
      }
    },
    {
      "cell_type": "markdown",
      "source": [
        "##Instantiating an Object from a Class\n",
        "We assign a variable using the class name\n",
        "- The __init__() method is implicitly called\n",
        "- Note that we do not pass self, we only pass two arguments\n",
        "- <b>dot notation</b> is used to access attributes using the instantiated object's name"
      ],
      "metadata": {
        "id": "-LiDelSGgrRD"
      }
    },
    {
      "cell_type": "code",
      "source": [
        "def main():\n",
        "    my_dog = Dog('Willie', 6)\n",
        "\n",
        "    print(f\"My dog's name is {my_dog.name}.\")\n",
        "    print(f\"My dog is {my_dog.age} years old.\")\n",
        "\n",
        "main()"
      ],
      "metadata": {
        "id": "4Y1Uu5BagDcD"
      },
      "execution_count": null,
      "outputs": []
    },
    {
      "cell_type": "markdown",
      "source": [
        "Dot notation is also used to call methods using the instantiated object's name."
      ],
      "metadata": {
        "id": "1LO9FGC_1JFx"
      }
    },
    {
      "cell_type": "code",
      "source": [
        "def main():\n",
        "    my_dog = Dog('Willie', 6)\n",
        "\n",
        "    my_dog.sit()\n",
        "    my_dog.roll_over()\n",
        "\n",
        "main()"
      ],
      "metadata": {
        "id": "Y_D3IxUD0yO3"
      },
      "execution_count": null,
      "outputs": []
    },
    {
      "cell_type": "markdown",
      "source": [
        "You can create as many instances from a class as needed."
      ],
      "metadata": {
        "id": "2oiPpkvA8NCl"
      }
    },
    {
      "cell_type": "code",
      "source": [
        "my_dog = Dog('Willie', 6)\n",
        "your_dog = Dog('Lucy', 3)\n",
        "my_dog.sit()\n",
        "your_dog.sit()"
      ],
      "metadata": {
        "id": "LgCplRh-8ZJs"
      },
      "execution_count": null,
      "outputs": []
    },
    {
      "cell_type": "markdown",
      "source": [
        "##Encapsulation\n",
        "An attribute is made private in Python by prefixing the name with two underscores:\n",
        "-  __name\n",
        "-  __price\n",
        "-  __discountPercent\n",
        "-  __age\n",
        "\n",
        "Using private attributes enables data hiding, or <b>encapsulation</b>.\n",
        "- We want to prevent direct modification of data; for instance, the following statements should not be allowed:\n",
        "\n",
        "  <pre>\n",
        "  product1.price = 11.25 # change the price!\n",
        "  my_dog.name = 'Alf'    # Alf is an alien, not a dog\n",
        "  </pre>\n",
        "\n",
        "- Encapsulation prevents direct access and direct modification of your class's data…(this is a good thing).\n",
        "- As with constants, Python does not formally support private variables, this is actually just a convention that should be followed.\n"
      ],
      "metadata": {
        "id": "PeuFOaCN8iLB"
      }
    },
    {
      "cell_type": "markdown",
      "source": [
        "##Accessors and Mutators\n",
        "In order to make the private data available to users of our class, we code accessors (getters) and mutators (setters) for each private attribute.\n",
        "- An <b>accessor</b>, or <b>getter</b>, is a method which returns the attribute's value\n",
        "\n",
        "  <pre>\n",
        "  def getPrice(self):\n",
        "          return self.__price\n",
        "  </pre>\n",
        "\n",
        "- A <b>mutator</b>, or <b>setter</b>, is a method which takes a value parameter and assigns that value to the attribute (can also implement validation of the value)\n",
        "\n",
        "  <pre>\n",
        "  def setPrice(self, price):\n",
        "          self.__price = price\n",
        "  </pre>"
      ],
      "metadata": {
        "id": "pSfJV7Rs9Iwk"
      }
    },
    {
      "cell_type": "code",
      "source": [
        "class Product:\n",
        "    # an initialization method (constructor)\n",
        "    def __init__(self, name, price, discountPercent):\n",
        "        # self.name, self.price, and\n",
        "        # self.discountPercent are attributes\n",
        "        self.__name = name\n",
        "        self.__price = price\n",
        "        self.__discountPercent = discountPercent\n",
        "\n",
        "    # accessor (getter) for price\n",
        "    def getPrice(self):\n",
        "        return self.__price\n",
        "\n",
        "    # mutator (setter) for price\n",
        "    def setPrice(self, price):\n",
        "        self.__price = price\n",
        "\n",
        "    # accessor (getter) for name\n",
        "    def getName(self):\n",
        "        return self.__name\n",
        "\n",
        "    # mutator (setter) for name\n",
        "    def setName(self, name):\n",
        "        self.__name = name\n",
        "\n",
        "    # accessor (getter) for discountPercent\n",
        "    def getDiscountPercent(self):\n",
        "        return self.__discountPercent\n",
        "\n",
        "    # mutator (setter) for discountPercent\n",
        "    def setDiscountPercent(self, discountPercent):\n",
        "        self.__discountPercent = discountPercent\n",
        "\n",
        "    # a utility method that uses two attributes (not a getter!)\n",
        "    def getDiscountAmount(self):\n",
        "        return self.__price * self.__discountPercent\n",
        "\n",
        "    # a utility method that calls another method (also not a getter!)\n",
        "    def getDiscountPrice(self):\n",
        "        return self.__price - self.getDiscountAmount()\n",
        "\n",
        "# inventory.py\n",
        "product1 = Product('Stanley 13 Ounce Wood Hammer', 11.25, 0.62)\n",
        "# use accessors and mutators\n",
        "print(\"Name:\\t\\t\\t{:s}\".format(product1.getName()))\n",
        "product1.setPrice(11.25)    # use mutator\n",
        "print(\"Price:\\t\\t\\t{:.2f}\".format(product1.getPrice()))\n",
        "print(\"Discount percent:\\t{:d}%\".format(int(product1.getDiscountPercent() * 100.0)))\n",
        "print(\"Discount amount:\\t{:.2f}\".format(product1.getDiscountAmount()))\n",
        "print(\"Discount price:\\t\\t{:.2f}\".format(product1.getDiscountPrice()))\n"
      ],
      "metadata": {
        "id": "X8mu8JG_9v6V"
      },
      "execution_count": null,
      "outputs": []
    },
    {
      "cell_type": "markdown",
      "source": [
        "##Grouping Getters and Setters\n",
        "There are two general alternatives for grouping getters and setters\n",
        "- constructors\n",
        "- all getters\n",
        "- all setters\n",
        "<br>\n",
        "### or ###\n",
        "- constructors\n",
        "- getter/setter for field 1\n",
        "- getter/setter for field 2\n",
        "- more pairs as necessary\n",
        "\n",
        "Ultimately it is a personal preference (note constructors are first for both)\n",
        "- Some IDEs provide options to group them (and generate them!) for you"
      ],
      "metadata": {
        "id": "Y_I-AxbrMAhR"
      }
    },
    {
      "cell_type": "markdown",
      "source": [
        "##Naming Getters and Setters\n",
        "By convention getters and setters start with get and set and are followed by the name of the attribute they are getting and setting\n",
        "- IDEs which generate them for you will normally use this convention\n",
        "- Some language frameworks (e.g. Django) rely on these naming conventions\n",
        "\n",
        "If a method in a class starts with \"get\" but does not function as a traditional accessor, it is categorized as a \"service method\" or a \"utility method.\""
      ],
      "metadata": {
        "id": "UWbRtC8pMtq8"
      }
    },
    {
      "cell_type": "markdown",
      "source": [
        "##A Car Class"
      ],
      "metadata": {
        "id": "Lia3aVrCBl17"
      }
    },
    {
      "cell_type": "code",
      "source": [
        "# Jupyter: uncomment the following line to write this file\n",
        "# %%writefile car.py\n",
        "# car.py\n",
        "\n",
        "class Car:\n",
        "\n",
        "    def __init__(self, make, model, year):\n",
        "        \"\"\"Initialize attributes to describe a car.\"\"\"\n",
        "        self.__make = make      # read-only\n",
        "        self.__model = model    # read-only\n",
        "        self.__year = year      # read-only\n",
        "        self.__odometer_reading = 0\n",
        "\n",
        "    # getters\n",
        "\n",
        "    def getMake(self):\n",
        "        return self.__make\n",
        "\n",
        "    def getModel(self):\n",
        "        return self.__model\n",
        "\n",
        "    def getYear(self):\n",
        "        return self.__year\n",
        "\n",
        "    def getOdometerReading(self):\n",
        "        return self.__odometer_reading\n",
        "\n",
        "    # setter (only one needed, other attributes are read-only)\n",
        "    def setOdometerReading(self, odometer_reading):\n",
        "        if odometer_reading >= self.__odometer_reading:\n",
        "            self.__odometer_reading = odometer_reading\n",
        "        else:\n",
        "            print(\"You can't roll back an odometer!\")\n",
        "\n",
        "    # utility methods\n",
        "\n",
        "    def get_descriptive_name(self):\n",
        "        \"\"\"Construct a full name from the car attributes.\"\"\"\n",
        "        long_name = f\"{self.__year} {self.__make} {self.__model}\"\n",
        "        return long_name.title()\n",
        "\n",
        "    def read_odometer(self):\n",
        "      \"\"\"Print a message which indicates the car odometer value.\"\"\"\n",
        "      print(f\"This car has {self.__odometer_reading} miles on it.\")\n",
        "\n",
        "    def increment_odometer(self, miles):\n",
        "      \"\"\"Increment the odometer using value of miles argument.\"\"\"\n",
        "      self.__odometer_reading = self.__odometer_reading + miles\n",
        "\n",
        "# unit test\n",
        "def main():\n",
        "    car = Car(\"Dodge\", \"Viper SRT-10\", 2010)\n",
        "    print(car.get_descriptive_name())\n",
        "    car.read_odometer()\n",
        "    car.setOdometerReading(1000)\n",
        "    car.read_odometer()\n",
        "    car.increment_odometer(100)\n",
        "    car.read_odometer()\n",
        "\n",
        "if __name__ == \"__main__\":\n",
        "    main()\n"
      ],
      "metadata": {
        "id": "ID-fDNRcBnp9"
      },
      "execution_count": null,
      "outputs": []
    },
    {
      "cell_type": "markdown",
      "source": [
        "##Inheritance\n",
        "A class can <b>inherit</b> characteristics of a base class\n",
        "- The base class is typically referred to as a <b>parent</b>, or <b>super</b> class\n",
        "- Inheritance is a standard OOP feature.\n",
        "- Inheritance avoids duplication of code (attributes, methods) in similar objects\n",
        "= The following ElectricCar class inherits from the base (or parent) class named Car:\n",
        "  <pre>\n",
        "  class ElectricCar(Car):\n",
        "    pass\n",
        "  </pre>\n",
        "- The base class is specified in parentheses in the declaration of the subclass.\n",
        "- ElectricCar inherits all of the Car class's attributes and methods\n",
        "- <b>pass</b> is a no-op (no operation) statement which is used here as a placeholder to avoid \"empty code\" parts of a program where a statement is required\n"
      ],
      "metadata": {
        "id": "dGfiD1oCOHPL"
      }
    },
    {
      "cell_type": "markdown",
      "source": [
        "- Attributes and methods are added to make a subclass a specialized version of the base class\n",
        "- As we move down in the inheritance hierarchy (the chain of inheritance which moves from base class to subclass, then to subclasses of the subclass, etc.) objects get bigger and more specialized\n",
        "\n",
        "  <img src=\"https://github.com/FSCJ-WorkingConnections/WinterWorkingConnections2023/blob/main/notebooks.day3/images/CarInheritance.png?raw=true\" alt=\"Car Inheritance\" width=\"450\" height=\"200\"/>"
      ],
      "metadata": {
        "id": "8oFvvCrhPVSL"
      }
    },
    {
      "cell_type": "code",
      "source": [
        "#!/usr/bin/env python3\n",
        "# electric_car.py\n",
        "# class representing an electric car\n",
        "\n",
        "from car import Car    # import our base class\n",
        "\n",
        "class ElectricCar(Car):\n",
        "    \"\"\"Represent aspects of a car, specific to electric vehicles.\"\"\"\n",
        "\n",
        "    def __init__(self, make, model, year):\n",
        "        \"\"\"Initialize attributes of the parent class.\"\"\"\n",
        "        super().__init__(make, model, year)  # \"pass-through\" arguments to base class\n",
        "\n",
        "def main():\n",
        "    my_tesla = ElectricCar('tesla', 'model s', 2019)\n",
        "    print(my_tesla.get_descriptive_name())  # get_descriptive_name resides in the base class\n",
        "\n",
        "if __name__ == \"__main__\":\n",
        "    main()\n"
      ],
      "metadata": {
        "id": "TmV2m01DP9lX"
      },
      "execution_count": null,
      "outputs": []
    },
    {
      "cell_type": "markdown",
      "source": [
        "## The super Function\n",
        "\n",
        "  <img src=\"https://github.com/FSCJ-WorkingConnections/WinterWorkingConnections2023/blob/main/notebooks.day3/images/Superman.png?raw=true\" alt=\"Superman\" width=\"50\" height=\"50\"/>\n",
        "\n",
        "<b>super()</b> is a special function that allows you to call a method which resides in the parent class\n",
        "\n",
        "<pre>\n",
        "def __init__(self, make, model, year):\n",
        "        super().__init__(make, model, year)\n",
        "</pre>\n",
        "\n",
        "- The __init__ function in ElectricCar instantiates an ElectricCar object, which includes all of the attributes and methods provided in the Car base class.\n",
        "- Calling super().__init__ tells Python to call the Car constructor as the object is being created\n",
        "- All of the ElectricCar constructor parameters are passed up to the Car base class constructor as arguments, since those attributes reside in the Car class and must be set there\n",
        "= The name \"super\" comes from the convention of calling the parent class a superclass and the child class a subclass.\n"
      ],
      "metadata": {
        "id": "XbuvmY36VK3u"
      }
    }
  ]
}