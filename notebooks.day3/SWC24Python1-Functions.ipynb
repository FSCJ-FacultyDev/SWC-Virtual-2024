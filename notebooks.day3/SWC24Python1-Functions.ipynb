{
  "nbformat": 4,
  "nbformat_minor": 0,
  "metadata": {
    "colab": {
      "provenance": []
    },
    "kernelspec": {
      "name": "python3",
      "display_name": "Python 3"
    },
    "language_info": {
      "name": "python"
    }
  },
  "cells": [
    {
      "cell_type": "markdown",
      "source": [
        "#Functions"
      ],
      "metadata": {
        "id": "Ye9NUR50fEW4"
      }
    },
    {
      "cell_type": "markdown",
      "source": [
        "A <b>function</b> is a unit of code that performs a task.\n",
        "- Functions allow us to divide (“modularize”) our code into manageable pieces\n",
        "- Every function should have one specific job\n",
        "\n",
        "Defining a function:\n",
        "\n",
        "<pre>\n",
        "def function_name(parameters):\n",
        "    \"\"\"docstring\"\"\"\n",
        "    # function body\n",
        "    return result\n",
        "</pre>\n",
        "\n",
        "<b>def</b>: used to declare or define a function.\n",
        "\n",
        "<b>function_name</b>: the name of the function. It should follow Python's naming conventions and be descriptive of what the function does.\n",
        "\n",
        "<b>(parameters)</b>: functions can accept parameters or arguments that can be used within the function, known as a **parameter list**\n",
        "  - Parameters are optional; a function can be defined without them, but the parentheses are still required.\n",
        "  - A colon follows the parameter list.\n",
        "\n",
        "<b>\"\"\"docstring\"\"\"</b>: an optional documentation string that describes what the function does; the contents can be accessed by calling the help function.\n",
        "\n",
        "<b>function body</b>: the code block within the function where the function's tasks are performed. This is indented under the function definition.\n",
        "\n",
        "<b>return</b>: used to return a value from the function. The return statement is optional; if omitted, the function returns <b>None</b>."
      ],
      "metadata": {
        "id": "1EuDAoPQAr3G"
      }
    },
    {
      "cell_type": "code",
      "source": [
        "def add_numbers(a, b):\n",
        "    \"\"\"Function to add two numbers.\"\"\"\n",
        "    return a + b\n",
        "\n",
        "# Call the function\n",
        "result = add_numbers(5, 3)\n",
        "print(result)  # Outputs: 8\n",
        "# use help() to show the docstring\n",
        "help(add_numbers)\n"
      ],
      "metadata": {
        "id": "FCNgT9gUAujH"
      },
      "execution_count": null,
      "outputs": []
    },
    {
      "cell_type": "markdown",
      "source": [
        "## Function Names\n",
        "- Function names usually indicate actions and are named accordingly using verbs\n",
        "  - e.g., greet_user, calculateTotal, read_input, eval, filter, format\n",
        "- variable names usually indicate nouns\n",
        "  - e.g. invoice, column, color, name"
      ],
      "metadata": {
        "id": "c8TLkXx-wkYH"
      }
    },
    {
      "cell_type": "markdown",
      "source": [
        "## Parameter Lists\n",
        "  <pre>def greet_user(name):</pre>\n",
        "- \"parameter\" and \"argument\" are frequently used interchangeably, but <b>parameter</b> is the term for the name of a value which is *received by a function*.\n",
        "- <b>argument</b> is the term for variables and literals that are *passed to a function*.\n",
        "  - Avoid arguing this point, it's not worth losing friends over\n",
        "    - But you'd be right"
      ],
      "metadata": {
        "id": "SfMuioGXxj7c"
      }
    },
    {
      "cell_type": "markdown",
      "source": [
        "## The Function Body\n",
        "- The executable statements of a function are known as the body of the function"
      ],
      "metadata": {
        "id": "oyBQ-dJQyXJ_"
      }
    },
    {
      "cell_type": "code",
      "source": [
        "def greet_user(name):\n",
        "    # function body starts here\n",
        "    \"\"\"Display a simple greeting\"\"\"\n",
        "    print(\"Hello,\", name, end=\"!\")\n",
        "    # function body stops here"
      ],
      "metadata": {
        "id": "MFQB45oVyd6D"
      },
      "execution_count": null,
      "outputs": []
    },
    {
      "cell_type": "markdown",
      "source": [
        "## Positional Arguments\n",
        "- A function can be called using positional arguments, which need to be in the same order in which the parameters are declared\n",
        "- Consider a function that displays information about pets which tells us what kind of animal each pet is and the pet’s name, as shown below\n",
        "- When we call describe_pet(), we need to provide an animal type and a name, in that order"
      ],
      "metadata": {
        "id": "V2uh3XLj0ZqL"
      }
    },
    {
      "cell_type": "code",
      "source": [
        "def describe_pet(animal_type, pet_name):\n",
        "       \"\"\"Display information about a pet.\"\"\"\n",
        "       print(f\"\\nI have a {animal_type}.\")\n",
        "       print(f\"My {animal_type}'s name is {pet_name.title()}.\")\n",
        "\n",
        "describe_pet('hamster', 'harry')"
      ],
      "metadata": {
        "id": "hKJbFqac0qZN"
      },
      "execution_count": null,
      "outputs": []
    },
    {
      "cell_type": "markdown",
      "source": [
        "## Try It!\n",
        "\n",
        "Create a Python function that takes two positional arguments, performs a simple operation on them, and then calls the function to test it.\n",
        "\n",
        "- Define a function named multiply_numbers that takes two positional arguments a and b.\n",
        "- The function should return the product of a and b.\n",
        "- Call the function with the arguments 3 and 4, and print the result."
      ],
      "metadata": {
        "id": "XSwQm2er_H18"
      }
    },
    {
      "cell_type": "code",
      "source": [],
      "metadata": {
        "id": "p26ogamNAD6f"
      },
      "execution_count": null,
      "outputs": []
    },
    {
      "cell_type": "markdown",
      "source": [
        "## Keyword Arguments\n",
        "- A keyword argument is a name-value pair passed to a function\n",
        "- The value is associated with the name\n",
        "- Keyword arguments do not require positional ordering\n",
        "- They clarify the role of each argument in the function call\n"
      ],
      "metadata": {
        "id": "qJ7MlS4-005T"
      }
    },
    {
      "cell_type": "code",
      "source": [
        "def describe_pet(animal_type, pet_name):\n",
        "    \"\"\"Display information about a pet.\"\"\"\n",
        "    print(f\"\\nI have a {animal_type}.\")\n",
        "    print(f\"My {animal_type}'s name is {pet_name.title()}.\")\n",
        "\n",
        "describe_pet(animal_type='hamster', pet_name='harry')\n",
        "describe_pet(pet_name='fluffy',animal_type='cat')"
      ],
      "metadata": {
        "id": "-UMAfHpl0_Yy"
      },
      "execution_count": null,
      "outputs": []
    },
    {
      "cell_type": "markdown",
      "source": [
        "## Try It!\n",
        "\n",
        "Create a Python function that calculates the area of a rectangle and the perimeter of a rectangle, taking keyword arguments for the dimensions, and then displays the results.\n",
        "\n",
        "- Define a function named rectangle_properties that takes two keyword arguments length and width.\n",
        "- The function should calculate and display the area and the perimeter of the rectangle.\n",
        "- Call the function with the arguments length=5 and width=3\n",
        "\n",
        "**Sample Output**\n",
        "```\n",
        "Area: 15, Perimeter: 16\n",
        "```"
      ],
      "metadata": {
        "id": "tunnn38_Df4s"
      }
    },
    {
      "cell_type": "code",
      "source": [],
      "metadata": {
        "id": "wRQ2Mv7aGnnF"
      },
      "execution_count": null,
      "outputs": []
    },
    {
      "cell_type": "markdown",
      "source": [
        "## Default Values\n",
        "- Default values can be defined for parameters\n",
        "- If an argument for a parameter is provided in the function call, Python uses the argument value\n",
        "- If no argument is provided, Python uses the parameter’s default value\n",
        "- e.g., if most of the calls to describe_pet() are being used to describe dogs, set the default value of animal_type to 'dog' so that argument can be omitted if desired"
      ],
      "metadata": {
        "id": "68cgLiRC0c_u"
      }
    },
    {
      "cell_type": "code",
      "source": [
        "def describe_pet(pet_name, animal_type='dog'):\n",
        "    \"\"\"Display information about a pet.\"\"\"\n",
        "    print(f\"\\nI have a {animal_type}.\")\n",
        "    print(f\"My {animal_type}'s name is {pet_name.title()}.\")\n",
        "\n",
        "describe_pet(pet_name='willie')   # no animal_type, use default"
      ],
      "metadata": {
        "id": "ivAvExu01YLU"
      },
      "execution_count": null,
      "outputs": []
    },
    {
      "cell_type": "markdown",
      "source": [
        "Notice that the parameter order was changed for the default value example\n",
        "<pre>def describe_pet(pet_name, animal_type='dog'):</pre>\n",
        "- When default values are used, any parameter with a default value must be listed <b>after</b> all parameters that do not have default values\n",
        "- This allows Python to continue interpreting positional arguments correctly"
      ],
      "metadata": {
        "id": "JUcFa1r_IR8n"
      }
    },
    {
      "cell_type": "markdown",
      "source": [
        "## Try It!\n",
        "\n",
        "Create a Python function that calculates the BMI (Body Mass Index) of a person using weight and height as keyword arguments with default values, and then displays the result along with a health category.\n",
        "\n",
        "- Define a function named calculate_bmi that takes two keyword arguments weight (in kg) and height (in meters) with default values of 70 kg and 1.75 meters, respectively. BMI = weight (in kg) / height(meters) squared\n",
        "- The function should calculate the BMI and display the BMI value along with the health category (Underweight, Normal weight, Overweight, Obese) based on the BMI.\n",
        "- Call the function without arguments and with the arguments weight=85 and height=1.80.\n",
        "```\n",
        "BMI                                  Health Category\n",
        "==================                   ===============\n",
        "< 18.5                               Underweight\n",
        ">=18.5 and < 24.9                    Normal weight\n",
        ">=25.0 and < 29.9                    Over weight\n",
        "> 30.0                               Obese\n",
        "```\n",
        "\n",
        "Sample Output\n",
        "```\n",
        "BMI: 22.86, Category: Normal weight\n",
        "BMI: 26.23, Category: Overweight\n",
        "```"
      ],
      "metadata": {
        "id": "geVrzPnkGTrA"
      }
    },
    {
      "cell_type": "code",
      "source": [],
      "metadata": {
        "id": "cvxhLAc-gn4t"
      },
      "execution_count": null,
      "outputs": []
    },
    {
      "cell_type": "markdown",
      "source": [
        "## Return Values\n",
        "A function can process data and then return a value or set of values known as a return value\n",
        "- The return statement takes a value from a function and \"sends it back\" to the caller of the function"
      ],
      "metadata": {
        "id": "Pxm4XGGXIz-D"
      }
    },
    {
      "cell_type": "code",
      "source": [
        "def get_formatted_name(first_name, last_name):\n",
        "    \"\"\"Return a full name, neatly formatted.\"\"\"\n",
        "    full_name = f\"{first_name} {last_name}\"\n",
        "    return full_name.title()\n",
        "\n",
        "musician = get_formatted_name('eric', 'clapton')\n",
        "print(musician)"
      ],
      "metadata": {
        "id": "NTkgChybI4hC"
      },
      "execution_count": null,
      "outputs": []
    },
    {
      "cell_type": "markdown",
      "source": [
        "## Try It!\n",
        "\n",
        "Create a Python function that calculates the square of a number and then returns the result. Test the function by calling it and printing the result.\n",
        "\n",
        "- Define a function named calculate_square that takes one argument number.\n",
        "- The function should calculate the square of the number and return the square.\n",
        "- Call the function with the argument number=4, and print the result.\n",
        "\n",
        "**Sample Output**\n",
        "\n",
        "```\n",
        "The square of 4 is: 16\n",
        "```"
      ],
      "metadata": {
        "id": "DG6df4p0LDCG"
      }
    },
    {
      "cell_type": "code",
      "source": [],
      "metadata": {
        "id": "lQexBP98gk4p"
      },
      "execution_count": null,
      "outputs": []
    },
    {
      "cell_type": "markdown",
      "source": [
        "## Optional Arguments\n",
        "To make an argument optional, provide an \"empty\" default value and use an If statement to execute the appropriate code"
      ],
      "metadata": {
        "id": "EwQ9aM_dJDZW"
      }
    },
    {
      "cell_type": "code",
      "source": [
        "def get_formatted_name(first_name, last_name, middle_name=''):\n",
        "    \"\"\"Return a full name, neatly formatted.\"\"\"\n",
        "    if middle_name:\n",
        "        full_name = f\"{first_name} {middle_name} {last_name}\"\n",
        "    else:\n",
        "        full_name = f\"{first_name} {last_name}\"\n",
        "    return full_name.title()\n",
        "\n",
        "musician = get_formatted_name('eric', 'clapton')\n",
        "print(musician)\n",
        "musician = get_formatted_name('john', 'hooker', 'lee')\n",
        "print(musician)"
      ],
      "metadata": {
        "id": "lWIaQ724JKU-"
      },
      "execution_count": null,
      "outputs": []
    },
    {
      "cell_type": "markdown",
      "source": [
        "## Try It!\n",
        "\n",
        "Create a Python function that formats a book title and its author and uses an optional argument for the subtitle of the book.\n",
        "\n",
        "- Define a function named format_book_title that takes three arguments: title, author, and an optional argument subtitle with a default value of an empty string.\n",
        "- The function should return the formatted title in the format \"Title: Subtitle by Author\".\n",
        "- If the subtitle is not provided, it should return the formatted title in the format \"Title by Author\".\n",
        "- Call the function with and without the optional argument, and print the results.\n",
        "\n",
        "Sample Output\n",
        "\n",
        "```\n",
        "The Great Gatsby by F. Scott Fitzgerald\n",
        "The Great Gatsby: A Novel by F. Scott Fitzgerald\n",
        "```"
      ],
      "metadata": {
        "id": "ZtOxk-mYgl9i"
      }
    },
    {
      "cell_type": "code",
      "source": [],
      "metadata": {
        "id": "QaiMxIGfGrGA"
      },
      "execution_count": null,
      "outputs": []
    },
    {
      "cell_type": "markdown",
      "source": [
        "## Returning a Dictionary\n",
        "A function can return any kind of value, including more complicated data structures like lists and dictionaries.\n",
        "- The following function takes in parts of a name and returns a dictionary representing a person"
      ],
      "metadata": {
        "id": "caCY9zB5JQiN"
      }
    },
    {
      "cell_type": "code",
      "source": [
        "def build_person(first_name, last_name):\n",
        "    \"\"\"Return a dictionary of information about a person.\"\"\"\n",
        "    person = {'first': first_name, 'last': last_name}\n",
        "    return person\n",
        "\n",
        "musician = build_person('eric', 'clapton')\n",
        "print(musician)"
      ],
      "metadata": {
        "id": "GgEXR9lnJVZD"
      },
      "execution_count": null,
      "outputs": []
    },
    {
      "cell_type": "markdown",
      "source": [
        "## Passing a List\n",
        "When you pass a list to a function, the function gets direct access to the contents of the list\n",
        "- The following example sends a list of names to a function called greet_users(), which greets each person in the list individually"
      ],
      "metadata": {
        "id": "Ut7bEPxkJmF-"
      }
    },
    {
      "cell_type": "code",
      "source": [
        "def greet_users(names):\n",
        "    \"\"\"Print a simple greeting to each user in the list.\"\"\"\n",
        "    for name in names:\n",
        "        msg = f\"Hello, {name.title()}!\"\n",
        "        print(msg)\n",
        "\n",
        "usernames = ['hannah', 'ty', 'margot']\n",
        "greet_users(usernames)"
      ],
      "metadata": {
        "id": "gxmUGwowJqU7"
      },
      "execution_count": null,
      "outputs": []
    },
    {
      "cell_type": "markdown",
      "source": [
        "## Modifying a List in a Function\n",
        "Any changes made to a list argument by a function are \"permanent\" (seen by the caller)"
      ],
      "metadata": {
        "id": "w3pSLX8YJ3BV"
      }
    },
    {
      "cell_type": "code",
      "source": [
        "# manage lists of 3D printer models\n",
        "def print_models(unprinted_designs, completed_models):\n",
        "    \"\"\"Simulate printing each design, until none are left.\n",
        "       Move each design to completed_models after printing.\"\"\"\n",
        "    while unprinted_designs:\n",
        "        current_design = unprinted_designs.pop()\n",
        "        print(f\"Printing model: {current_design}\")\n",
        "        completed_models.append(current_design)\n",
        "\n",
        "def show_completed_models(completed_models):\n",
        "    \"\"\"Show all the models that were printed.\"\"\"\n",
        "    print(\"\\nThe following models have been printed:\")\n",
        "    for completed_model in completed_models:\n",
        "        print(completed_model)\n",
        "\n",
        "unprinted_designs = ['phone case', 'robot pendant', 'dodecahedron']\n",
        "completed_models = []\n",
        "\n",
        "print_models(unprinted_designs, completed_models)\n",
        "show_completed_models(completed_models)"
      ],
      "metadata": {
        "id": "Y9Pg3rUqJ7SA"
      },
      "execution_count": null,
      "outputs": []
    },
    {
      "cell_type": "markdown",
      "source": [
        "## Preventing a Function from Modifying a List\n",
        "To prevent a function from modifying a list, send a <b>copy</b> of the list\n",
        "<pre>function_name(list_name[:])</pre>\n",
        "- The slice notation [:] makes a copy instead of using the original\n",
        "- To avoid modifying the unprinted_designs list in the 3D model list manager, call print_models() like this:\n",
        "\n",
        "<pre>print_models(unprinted_designs[:], completed_models)</pre>\n",
        "The print_models() function receives the a copy of the list, so any modifications are not propagated to the original list\n"
      ],
      "metadata": {
        "id": "ottpB5RsKHtu"
      }
    },
    {
      "cell_type": "markdown",
      "source": [
        "## Passing an Arbitrary Number of Arguments\n",
        "\n",
        "Python allows a function to collect an arbitrary number of arguments from the calling statement.\n",
        "- This is how the built-in print() function works\n",
        "- The function in the following example has one parameter, *toppings, but this parameter collects as many arguments as the calling line provides\n",
        "  - The asterisk in the parameter name *toppings tells Python to make an empty tuple and pack whatever values it receives into this tuple\n",
        "  - It will pack the arguments into a tuple, even if the function receives only one value"
      ],
      "metadata": {
        "id": "J6uie-5WKqRa"
      }
    },
    {
      "cell_type": "code",
      "source": [
        "def make_pizza(*toppings):\n",
        "    \"\"\"Print the list of toppings that have been requested.\"\"\"\n",
        "    print(toppings)\n",
        "\n",
        "make_pizza('pepperoni')\n",
        "make_pizza('mushrooms', 'green peppers', 'extra cheese')"
      ],
      "metadata": {
        "id": "BekwOUmSKwT8"
      },
      "execution_count": null,
      "outputs": []
    },
    {
      "cell_type": "markdown",
      "source": [
        "## Mixing Positional and Arbitrary Arguments\n",
        "For a function to accept several different kinds of arguments, the parameter that accepts an arbitrary number of arguments must be placed last in the function definition\n",
        "- Python matches positional and keyword arguments first and then collects any remaining arguments in the final parameter.\n",
        "- For example, if the function in the previous example needs to take in a size for the pizza, that parameter must come before the parameter *toppings:\n",
        "<pre>def make_pizza(size, *toppings):</pre>\n"
      ],
      "metadata": {
        "id": "ESB-gtWCLMyh"
      }
    },
    {
      "cell_type": "markdown",
      "source": [
        "## Scope, Global, and Local Variables\n",
        "- <b>scope</b> refers to the visibility of variables and functions, including where they can and cannot be used\n",
        "- <b>global variables</b> have global scope: they can be used anywhere, including in functions they are not passed to\n",
        "  - global variables should be avoided since they can complicate program maintenance\n",
        "- <b>local variables</b> have local scope: they are defined within a function, and can only be used within that function"
      ],
      "metadata": {
        "id": "QCCBrfUgLlE8"
      }
    },
    {
      "cell_type": "markdown",
      "source": [
        "## Functions Using a Local Variable"
      ],
      "metadata": {
        "id": "pZYuKg8kMCoC"
      }
    },
    {
      "cell_type": "code",
      "source": [
        "def calc_tax(amount, tax_rate):\n",
        "    tax = amount * tax_rate   # tax is a local variable in this function\n",
        "    return tax                # return is necessary\n",
        "\n",
        "def main():\n",
        "    tax = calc_tax(85.0, .05)   # tax is a local variable in main\n",
        "    print(\"Tax:\", tax)          # 4.25\n",
        "\n",
        "main()"
      ],
      "metadata": {
        "id": "yt1ozrV0MGlg"
      },
      "execution_count": null,
      "outputs": []
    },
    {
      "cell_type": "markdown",
      "source": [
        "## Functions Using a Global Variable\n",
        "(not a good practice)"
      ],
      "metadata": {
        "id": "aPkiofxiMQMi"
      }
    },
    {
      "cell_type": "code",
      "source": [
        "tax = 0.0                        # tax is a global variable\n",
        "\n",
        "def calc_tax(amount, tax_rate):\n",
        "    global tax                   # use global variable (keyword is required)\n",
        "    tax = amount * tax_rate      # changes global variable\n",
        "\n",
        "def main():\n",
        "    calc_tax(85.0, .05)\n",
        "    print(\"Tax:\", tax)           # 4.25 (global)\n",
        "\n",
        "main()"
      ],
      "metadata": {
        "id": "XHlwSNbtMWdy"
      },
      "execution_count": null,
      "outputs": []
    },
    {
      "cell_type": "markdown",
      "source": [
        "## Shadowing\n",
        "Using a local variable with the same name as a global variable shadows the global variable\n",
        "- This is another practice that is discouraged due to the maintenance problems it can raise"
      ],
      "metadata": {
        "id": "B0GY_IhtMvIX"
      }
    },
    {
      "cell_type": "code",
      "source": [
        "tax = 0.0                                  # tax is a global variable\n",
        "\n",
        "def calc_tax(amount, tax_rate):\n",
        "    tax = amount * tax_rate                # tax is a local variable\n",
        "    print(\"Tax:\", tax)                     # 4.25 (local)\n",
        "\n",
        "def main():\n",
        "    calc_tax(85.0, .05)\n",
        "    print(\"Tax:\", tax)     # 0.0 (global, the local variable is out of scope)\n",
        "\n",
        "main()"
      ],
      "metadata": {
        "id": "wj2q32MfM0ov"
      },
      "execution_count": null,
      "outputs": []
    },
    {
      "cell_type": "markdown",
      "source": [
        "## Global Constants are Fine!\n",
        "Using globals for constants is encouraged\n",
        "- Do not specify the global keyword, otherwise the value could be modified\n",
        "- Remember to use all upper case names by convention to help clarify their purpose"
      ],
      "metadata": {
        "id": "nM38WAi9NKCY"
      }
    },
    {
      "cell_type": "code",
      "source": [
        "TAX_RATE = 0.05        # TAX_RATE is a global constant\n",
        "def calc_tax(amount):\n",
        "    tax = amount * TAX_RATE      # use it here\n",
        "    return tax\n",
        "\n",
        "calc_tax(30)"
      ],
      "metadata": {
        "id": "SPdQF0OSNUvf"
      },
      "execution_count": null,
      "outputs": []
    },
    {
      "cell_type": "markdown",
      "source": [
        "#The main() Function\n",
        "When using functions in a Python program, the primary code which starts the program is stored in a function named <b>main</b>\n",
        "- We call the main function directly to start execution of the program\n",
        "- Shorter programs (referred to as scripts) do not typically use a main function\n",
        "- main() is critical for larger software applications to facilitate modularization and unit testing.\n",
        "<pre>\n",
        "def main():\n",
        "    # display a welcome message\n",
        "    print(\"The Future Value Calculator\\n\")\n",
        "    …\n",
        "main()    # must include this call to start the program\n",
        "</pre>"
      ],
      "metadata": {
        "id": "DTidJWJ9Nlov"
      }
    },
    {
      "cell_type": "markdown",
      "source": [
        "## Try It!\n",
        "\n",
        "Create a Python program with a main function that calls a custom function to perform a specific task. The main function should display a welcome message, prompt the user for their name, and call the custom function with the input name.\n",
        "\n",
        "- Define a custom function named print_greeting that takes one argument name.\n",
        "- The print_greeting function should print a greeting message using the provided name.\n",
        "- Define a main function that:\n",
        "  - Displays a welcome message.\n",
        "  - Prompts the user for their name.\n",
        "  - Calls the print_greeting function with the input name.\n",
        "- Ensure that the main function is called to start the program.\n",
        "\n",
        "Sample Output\n",
        "\n",
        "```\n",
        "Welcome to the Greeting Program\n",
        "Please enter your name: Alice\n",
        "Hello, Alice! Welcome to the program.\n",
        "```"
      ],
      "metadata": {
        "id": "ldP-n-cFh0uB"
      }
    },
    {
      "cell_type": "code",
      "source": [],
      "metadata": {
        "id": "1g050tMJGsk-"
      },
      "execution_count": null,
      "outputs": []
    },
    {
      "cell_type": "markdown",
      "source": [
        "## Function Conventions\n",
        "- Functions should have descriptive names which imply action (except for main())\n",
        "- Names should use lowercase letters and underscores or camel-case notation (one or the other, consistently).\n",
        "- Descriptive names help you and others understand what your code is trying to do\n",
        "- Every function should have a comment (e.g., a docstring) that explains concisely what the function does.\n",
        "- If you specify a default value for a parameter, no spaces should be used on either side of the equal sign:\n",
        "<pre>\n",
        "def function_name(parameter_0, <b>parameter_1='default value'</b>)\n",
        "</pre>\n",
        "\n",
        "- The same convention should be used for keyword arguments in function calls:\n",
        "<pre>\n",
        "function_name(value_0, <b>parameter_1='value'</b>)\n",
        "</pre>"
      ],
      "metadata": {
        "id": "fJlco5AEBvxU"
      }
    },
    {
      "cell_type": "markdown",
      "source": [
        "## Python Lambda Functions\n",
        "- A <b>lambda function</b> (or just lambda) is a small, single-statement anonymous function that can take any number of arguments\n",
        "- Lambdas provide dynamic, short-lived functions so we can avoid writing a fully-defined function for simple tasks\n",
        "\n"
      ],
      "metadata": {
        "id": "aOBDTEotCmNo"
      }
    },
    {
      "cell_type": "code",
      "source": [
        "# add 10 to the number passed in as\n",
        "# an argument and print the result\n",
        "x = lambda a : a + 10\n",
        "print(x(5))\n",
        "\n",
        "# sum arguments a, b, and c and print the result\n",
        "x = lambda a, b, c : a + b + c\n",
        "print(x(5, 6, 2))\n"
      ],
      "metadata": {
        "id": "6zWJMx6AC8rg"
      },
      "execution_count": null,
      "outputs": []
    },
    {
      "cell_type": "markdown",
      "source": [
        "## Try It!\n",
        "\n",
        "Create a Python program that uses a lambda function to capitalize the first letter of each word in a string.\n",
        "\n",
        "- Define a lambda function named capitalize_words that takes one argument s and returns the string with the first letter of each word capitalized.\n",
        "- Call the lambda function with a sample input and print the result.\n",
        "\n",
        "**Hint**\n",
        "\n",
        "Here is an expression you can use in your function to efficiently capitalize the words.\n",
        "\n",
        "```\n",
        "' '.join(word.capitalize() for word in s.split())\n",
        "```\n",
        "\n",
        "This is a breakdown of what each component of this expression does:\n",
        "\n",
        "- **s.split()** is a method (an object-oriented function) which splits the string s into a list of words. By default, it splits based on any whitespace (e.g., spaces)\n",
        "- **word.capitalize** is a method which capitalizes the first letter of a string\n",
        "\"word.capitalize() for word in s.split()\" is known as a **generator expression** that iterates over each word in the list produced by s.split(). This produces a sequence of capitalized words: ['Hello', 'World', 'From', 'The', 'Lambda', 'Function']\n",
        "- ' '.join(...): this method takes an iterable (in this case, the sequence of capitalized words) and concatenates them into a single string, with each element separated by a space ' '.\n",
        "\n",
        "Sample Output\n",
        "\n",
        "```\n",
        "Original string: hello world from the lambda function\n",
        "Capitalized string: Hello World From The Lambda Function\n",
        "```"
      ],
      "metadata": {
        "id": "wZyICCkvymZO"
      }
    },
    {
      "cell_type": "code",
      "source": [],
      "metadata": {
        "id": "VDOr_9-RGu1v"
      },
      "execution_count": null,
      "outputs": []
    }
  ]
}