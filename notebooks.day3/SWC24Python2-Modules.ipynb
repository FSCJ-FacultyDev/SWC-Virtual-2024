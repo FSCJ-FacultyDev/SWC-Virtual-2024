{
  "nbformat": 4,
  "nbformat_minor": 0,
  "metadata": {
    "colab": {
      "provenance": []
    },
    "kernelspec": {
      "name": "python3",
      "display_name": "Python 3"
    },
    "language_info": {
      "name": "python"
    }
  },
  "cells": [
    {
      "cell_type": "markdown",
      "source": [
        "#Modules and Packaging"
      ],
      "metadata": {
        "id": "Ye9NUR50fEW4"
      }
    },
    {
      "cell_type": "markdown",
      "source": [
        "A Python **module** is a file containing reusable code (which can include functions)\n",
        "- e.g., temperature.py is a Python module containing two functions and a main function to test them\n",
        "- The main function is only used to test the functions\n",
        "- The module is imported using the import statement\n",
        "\n",
        "  ```\n",
        "  import temperature\n",
        "  ```\n",
        "\n",
        "To use a module with other programs, store the module file in the same folder as other Python programs\n",
        "\n",
        "…or\n",
        "\n",
        "Store the module file in a central location and add that location to your search path (varies based on operating system)\n",
        "\n",
        "- To help Python distinguish between an executable Python program and an imported module, use the following <b>top level scope check</b> at the bottom of your files:\n",
        "\n",
        "```\n",
        "    if __name__ == “ __main__”:\n",
        "         main()\n",
        "```\n",
        "\n",
        "- __name__ is a special variable used by Python\n",
        "- If your file is run explicitly (your main is in scope), __name__ will be set to \"__main__\" and your main function will be executed; otherwise only the code outside of your main function will be available to another program\n",
        "- This is an effective way to include unit tests in your source code!"
      ],
      "metadata": {
        "id": "0L-QxQUY2MQy"
      }
    },
    {
      "cell_type": "code",
      "source": [
        "def to_celsius(fahrenheit):\n",
        "    celsius = (fahrenheit - 32) * 5/9\n",
        "    return celsius\n",
        "\n",
        "def to_fahrenheit(celsius):\n",
        "    fahrenheit = celsius * 9/5 + 32\n",
        "    return fahrenheit\n",
        "\n",
        "# the main function is used to unit test the other functions\n",
        "# this code isn't run if this module isn't the \"main module\"\n",
        "def main():\n",
        "    for temp in range(0, 212, 40):\n",
        "        print(temp, \"Fahrenheit =\", round(to_celsius(temp), 2),\n",
        "              \"Celsius\")\n",
        "\n",
        "    for temp in range(0, 100, 20):\n",
        "        print(temp, \"Celsius =\", round(to_fahrenheit(temp), 2),\n",
        "              \"Fahrenheit\")\n",
        "\n",
        "# if this module is the main module, call the main function\n",
        "# to unit test the local functions\n",
        "if __name__ == \"__main__\":\n",
        "    main()"
      ],
      "metadata": {
        "id": "Y_n_lryv3wr6"
      },
      "execution_count": null,
      "outputs": []
    },
    {
      "cell_type": "markdown",
      "source": [
        "\n",
        "## Storing Functions in Modules\n",
        "Storing functions in a separate file supports code reuse\n",
        "- Other programmers can share your functions without having to share the entire program\n",
        "\n",
        "## Importing Modules\n",
        "Importing modules and functions allows you to use libraries of functions that other programmers have written\n",
        "\n",
        "```\n",
        "import temperature\n",
        "```\n",
        "\n",
        "- Python imports modules into a namespace\n",
        "by default the namespace has the same name as the module\n",
        "- To use the functions from a different file, prefix the function name with the namespace name and a dot\n",
        "\n",
        "```\n",
        "    import temperature\n",
        "    c = temperature.to_celsius(f)\n",
        "    f = temperature.to_fahrenheit(c)\n",
        "```\n",
        "  \n",
        "- We can specify a different (shorter) name for the name space using 'as'\n",
        "  \n",
        "```\n",
        "    import temperature as temp\n",
        "    c = temp.to_celsius(f)\n",
        "    f = temp.to_fahrenheit(c)\n",
        "```\n",
        "\n",
        "- We can import a single function into the 'global namespace to avoid the need to use the namespace name when using the functions:\n",
        "\n",
        "```\n",
        "    # import one function\n",
        "    from temperature import to_celsius\n",
        "    c = to_celsius(f)\n",
        "    f = to_fahrenheit(c)  # error: not imported\n",
        "```\n",
        "\n",
        "- Importing everything:\n",
        "\n",
        "```\n",
        "    # import everything from temperature\n",
        "    from temperature import *\n",
        "    c = to_celsius(f)\n",
        "    f = to_fahrenheit(c)\n",
        "```\n",
        "\n",
        "- Importing into the global namespace can be problematic if two functions from different modules have the same name\n",
        "  - **name collisions** can be difficult to debug"
      ],
      "metadata": {
        "id": "JY9l4HTV3-bB"
      }
    },
    {
      "cell_type": "markdown",
      "source": [
        "## Standard Modules\n",
        "- Standard modules are included with the Python language.\n",
        "- Import and call the functions as with custom modules.\n",
        "\n",
        "  <img src=\"https://github.com/FSCJ-FacultyDev/SWC-Virtual-2024/blob/main/notebooks.day3/images/StandardModules.png?raw=true\" width=300 height=150/>\n"
      ],
      "metadata": {
        "id": "DAoKV9qG-mcQ"
      }
    },
    {
      "cell_type": "code",
      "source": [
        "import math\n",
        "help(math)"
      ],
      "metadata": {
        "id": "fuAUbKhS_HPo"
      },
      "execution_count": null,
      "outputs": []
    },
    {
      "cell_type": "markdown",
      "source": [
        "## Using a Standard Module: Guess a Number"
      ],
      "metadata": {
        "id": "2QhkBHhZBPwv"
      }
    },
    {
      "cell_type": "code",
      "source": [
        "#/usr/bin/env python3\n",
        "# guess_a_number.py\n",
        "\n",
        "import random\n",
        "LIMIT = 10\n",
        "\n",
        "def display_title():\n",
        "    print(\"Guess a number!\")\n",
        "    print()\n",
        "\n",
        "def play_game():\n",
        "    number = random.randint(1, LIMIT)\n",
        "    print(\"I'm thinking of a number between 1 and \" + str(LIMIT) + \"\\n\")\n",
        "    count = 1\n",
        "    while True:\n",
        "        guess = int(input(\"Your guess: \"))\n",
        "        if guess < number:\n",
        "            print(\"Too low.\")\n",
        "            count += 1\n",
        "        elif guess > number:\n",
        "            print(\"Too high.\")\n",
        "            count += 1\n",
        "        else:\n",
        "            print(\"You guessed it in \" + str(count) + \" tries.\\n\")\n",
        "            return\n",
        "\n",
        "def main():\n",
        "    display_title()\n",
        "    while input(\"Would you like to play? (y or n): \").lower() == \"y\":\n",
        "        play_game()\n",
        "        print()\n",
        "    print(\"Bye!\")\n",
        "\n",
        "# call the main function\n",
        "if __name__ == \"__main__\":\n",
        "    main()"
      ],
      "metadata": {
        "id": "npSyj3gOBTbr"
      },
      "execution_count": null,
      "outputs": []
    },
    {
      "cell_type": "markdown",
      "source": [
        "## Packaging\n",
        "https://packaging.python.org/tutorials/installing-packages/\n",
        "- Distributed Python applications and libraries are referred to as <b>packages</b>\n",
        "- These are not the same as the modules you import into an application, packages can contain multiple modules\n",
        "- The term \"distributions\" is oriented toward larger software releases, e.g. the Linux operating system\n",
        "- Installing packages  requires the ability to run Python and the associated \"pip\" utility from the command line"
      ],
      "metadata": {
        "id": "lM0yZxUdDiHu"
      }
    },
    {
      "cell_type": "markdown",
      "source": [
        "#Managing Packages with PIP\n",
        "<b>pip</b> (\"PIP installs Packages\" or \"PIP installs Python\") is a package management system used to install and manage software packages written in Python.\n",
        "- Administrator privileges are usually required\n",
        "<pre>pip install packageName</pre>\n",
        "\n",
        "  <img src=\"https://github.com/FSCJ-FacultyDev/SWC-Virtual-2024/blob/main/notebooks.day3/images/PIP.png?raw=true\" width=300 height=150/>"
      ],
      "metadata": {
        "id": "fpOW4l2SD70H"
      }
    },
    {
      "cell_type": "markdown",
      "source": [
        "## Virtual Environments\n",
        "Python virtual environments allow the creation of isolated environments for Python projects.\n",
        "- Each virtual environment has its own Python binary and can have its own independent set of installed Python packages.\n",
        "- This isolation allows developers to manage dependencies for different projects separately, avoiding conflicts between package versions and ensuring that each project has access to the specific versions of libraries it requires. - Virtual environments are particularly useful in scenarios where different projects require different versions of the same package, or when testing new packages without affecting the global Python installation.\n",
        "- The most common tool for creating virtual environments in Python is <b>venv</b>.\n",
        "- Here is how to set up a venv on a Windows system:\n",
        "<pre>\n",
        "C:\\Users\\YourUsername> cd path\\to\\your\\project\n",
        "C:\\path\\to\\your\\project> python -m venv myenv\n",
        "C:\\path\\to\\your\\project> myenv\\Scripts\\activate\n",
        "(myenv) C:\\path\\to\\your\\project> pip install requests\n",
        "(myenv) C:\\path\\to\\your\\project> deactivate\n",
        "C:\\path\\to\\your\\project>\n",
        "</pre>\n",
        "- While the virtual environment is activated, any Python packages installed using pip will be local to that environment\n",
        "- This keeps the global Python installation clean and free from version conflicts between different projects\n",
        "- Google Colab does not require a venv since each notebook is effectively a separate environment."
      ],
      "metadata": {
        "id": "7yF8mcGPFQFX"
      }
    },
    {
      "cell_type": "markdown",
      "source": [
        "## Creating Packages\n",
        "Packaging an application for distribution requires consideration of many factors\n",
        "- Target users (developers, power users, end users)\n",
        "- Target environment (standalone, server, enterprise, web, mobile)\n",
        "- Tools include PyPI, setup.py, wheel files\n",
        "- Refer to https://packaging.python.org/overview/ and https://packaging.python.org/tutorials/packaging-projects/ for an overview of this process"
      ],
      "metadata": {
        "id": "XA43HKzqE3Qe"
      }
    }
  ]
}