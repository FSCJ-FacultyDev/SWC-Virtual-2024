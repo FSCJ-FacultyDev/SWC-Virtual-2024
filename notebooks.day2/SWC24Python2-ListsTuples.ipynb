{
  "nbformat": 4,
  "nbformat_minor": 0,
  "metadata": {
    "colab": {
      "provenance": []
    },
    "kernelspec": {
      "name": "python3",
      "display_name": "Python 3"
    },
    "language_info": {
      "name": "python"
    }
  },
  "cells": [
    {
      "cell_type": "markdown",
      "source": [
        "#Lists and Tuples"
      ],
      "metadata": {
        "id": "Ye9NUR50fEW4"
      }
    },
    {
      "cell_type": "markdown",
      "source": [
        "Lists and tuples are  data structures used to store collections of items\n",
        "- A list is a <b>mutable</b>, or changeable, ordered sequence of elements.\n",
        "- Each element inside a list can be of any data type (i.e., they are <b>heterogeneous</b>, unlike arrays in some other languages)\n",
        "- Lists are defined by having values between square brackets []\n",
        "- Lists are particularly useful because they are dynamic, meaning they can be altered after their creation by adding, removing, or changing elements\n",
        "\n",
        "A tuple is an <b>immutable</b> ordered sequence of elements, meaning that once it is created, it cannot be modified\n",
        "- Tuples are defined by having values between parentheses () and can also store heterogeneous collections\n",
        "- Tuples are faster than lists due to their immutability and are commonly used for data that should not change, such as days of the week or dates on a calendar\n",
        "\n",
        "Both lists and tuples can be nested, support indexing, and can be iterated over in a loop.\n"
      ],
      "metadata": {
        "id": "1EuDAoPQAr3G"
      }
    },
    {
      "cell_type": "markdown",
      "source": [
        "Elements in lists and tuples are comma-separated\n",
        "- Items are stored in the order in which they are added"
      ],
      "metadata": {
        "id": "wei3f9KdC5K3"
      }
    },
    {
      "cell_type": "code",
      "source": [
        "# a list of 5 elements\n",
        "temp_list = [48.0, 35.0, 20.2, 100.0, 42.0]\n",
        "\n",
        "# a tuple of 5 elements\n",
        "temp_tuple = (48.0, 35.0, 20.2, 100.0, 42.0)\n",
        "\n",
        "print(temp_list)\n",
        "print(temp_tuple)"
      ],
      "metadata": {
        "id": "FCNgT9gUAujH"
      },
      "execution_count": null,
      "outputs": []
    },
    {
      "cell_type": "code",
      "source": [
        "# a list of 4 string elements\n",
        "inventory = ['hat', 'shirt', 'pants', 'shoes' ]\n",
        "print(inventory)\n",
        "# a list of 3 different elements: string, int, float\n",
        "movie = ['The Holy Grail', 1975, 9.99]\n",
        "print(movie)\n",
        "# an empty list\n",
        "test_scores = []\n",
        "print(test_scores)"
      ],
      "metadata": {
        "id": "PLWJXpHHQkil"
      },
      "execution_count": null,
      "outputs": []
    },
    {
      "cell_type": "markdown",
      "source": [
        "Individual elements of a list can be accessed by inserting a **0-based** numeric index in square brackets following the name of the list"
      ],
      "metadata": {
        "id": "eOm52v1gQTed"
      }
    },
    {
      "cell_type": "code",
      "source": [
        "temps = [48.0, 35.0, 20.2, 100.0, 42.0]\n",
        "print(temps[0])\n",
        "print(temps[4])\n",
        "\n",
        "print(movie[0].upper())"
      ],
      "metadata": {
        "id": "x1MB67mDRIsI"
      },
      "execution_count": null,
      "outputs": []
    },
    {
      "cell_type": "markdown",
      "source": [
        "A list index cannot be larger than the size of the list (number of elements) minus 1"
      ],
      "metadata": {
        "id": "LJmX5x0sRXMb"
      }
    },
    {
      "cell_type": "code",
      "source": [
        "temps = [48.0, 30.5, 20.2, 100.0, 42.0]\n",
        "print(temps[5])"
      ],
      "metadata": {
        "id": "vuNSzqE7RZsC"
      },
      "execution_count": null,
      "outputs": []
    },
    {
      "cell_type": "markdown",
      "source": [
        "In Python an index can also be negative\n",
        "- Use -1 as an index to the last element in a list\n",
        "- Python will still return an error if the list is empty\n"
      ],
      "metadata": {
        "id": "I5aY1WhlRfgq"
      }
    },
    {
      "cell_type": "code",
      "source": [
        "# -1 is always the last element\n",
        "print(temps[-1])\n",
        "\n",
        "# the first element\n",
        "print(temps[-5])\n",
        "\n",
        "# a non-existent element\n",
        "print(temps[-6])\n",
        "\n",
        "# empty list\n",
        "print(test_scores[-1])"
      ],
      "metadata": {
        "id": "9QIoOQyyRmYK"
      },
      "execution_count": null,
      "outputs": []
    },
    {
      "cell_type": "markdown",
      "source": [
        "## Try It!\n",
        "\n",
        "Write a Python program that demonstrates how to access and display elements of a list using numeric index values, including negative index values. Additionally, compare the use of a list and a tuple for the same set of elements, but use different index values for the tuple.\n",
        "\n",
        "- Create a list with at least five elements (e.g., fruit names).\n",
        "- Display the elements at random positive index values, e.g., 0, 2, and 4.\n",
        "- Determine and display the corresponding negative index values for these elements.\n",
        "- Create a tuple with the same elements as the list.\n",
        "- Display elements at random positive index values, e.g., 1, 3, and 4.\n",
        "- Determine and display the corresponding negative index values for these elements.\n",
        "\n",
        "Sample Output\n",
        "\n",
        "```\n",
        "List elements using positive index values:\n",
        "Element at index 0: apple\n",
        "Element at index 2: cherry\n",
        "Element at index 4: elderberry\n",
        "\n",
        "List elements using corresponding negative index values:\n",
        "Element at index -5: apple\n",
        "Element at index -3: cherry\n",
        "Element at index -1: elderberry\n",
        "\n",
        "Tuple elements using positive index values:\n",
        "Element at index 1: banana\n",
        "Element at index 3: date\n",
        "Element at index 4: elderberry\n",
        "\n",
        "Tuple elements using corresponding negative index values:\n",
        "Element at index -4: banana\n",
        "Element at index -2: date\n",
        "Element at index -1: elderberry\n",
        "```"
      ],
      "metadata": {
        "id": "TFB7AtdX_SWI"
      }
    },
    {
      "cell_type": "code",
      "source": [],
      "metadata": {
        "id": "es-6m0ViJPxJ"
      },
      "execution_count": null,
      "outputs": []
    },
    {
      "cell_type": "markdown",
      "source": [
        "## Modifying List Elements\n",
        "Modifying elements is similar to accessing them\n",
        "- A 0-based index is used for assignment"
      ],
      "metadata": {
        "id": "K4pEjv6KSH3h"
      }
    },
    {
      "cell_type": "code",
      "source": [
        "temps = [48.0, 30.5, 20.2, 100.0, 42.0]\n",
        "print(temps)\n",
        "# set fourth element\n",
        "temps[3] = 98.0\n",
        "print(temps)\n",
        "\n",
        "inventory = ['hat', 'shirt', 'pants', 'shoes' ]\n",
        "print(inventory)\n",
        "# set second element\n",
        "inventory[1] = 'socks'\n",
        "print(inventory)"
      ],
      "metadata": {
        "id": "Aj5wr4LRSOwj"
      },
      "execution_count": null,
      "outputs": []
    },
    {
      "cell_type": "markdown",
      "source": [
        "## Try It\n",
        "\n",
        "Write a Python program that demonstrates how to modify elements in a list by accessing them through their index values. The program should create a list of fruits, print its initial state, modify a specific element, and then print the modified list. It should then restore the original element using a negative index and print the restored list.\n",
        "\n",
        "- Create a list named fruits with at least five different fruit names.\n",
        "- Print the initial list of fruits.\n",
        "- Save the value of the next to last element in the list to a variable.\n",
        "- Modify the next to last element.\n",
        "- Print the list after modification.\n",
        "- Restore the modified element using a negative index value.\n",
        "- Print the restored list.\n",
        "\n",
        "**Sample Output**\n",
        "```\n",
        "Initial fruits: ['apple', 'banana', 'cherry', 'date', 'elderberry']\n",
        "Modified fruits: ['apple', 'banana', 'cherry', 'fig', 'elderberry']\n",
        "Restored fruits: ['apple', 'banana', 'cherry', 'date', 'elderberry']\n",
        "```"
      ],
      "metadata": {
        "id": "wf7MLqhOGLys"
      }
    },
    {
      "cell_type": "code",
      "source": [],
      "metadata": {
        "id": "DtnT8HyVHZ1k"
      },
      "execution_count": null,
      "outputs": []
    },
    {
      "cell_type": "markdown",
      "source": [
        "The asterisk (*) acts as a repetition operator when creating (and initializing) lists"
      ],
      "metadata": {
        "id": "gyct_AQKScGW"
      }
    },
    {
      "cell_type": "code",
      "source": [
        "scores = [0] * 5   # same as scores = [0, 0, 0, 0, 0]\n",
        "print(scores)"
      ],
      "metadata": {
        "id": "UxF0GTRqShMG"
      },
      "execution_count": null,
      "outputs": []
    },
    {
      "cell_type": "markdown",
      "source": [
        "## Adding Elements to a List\n",
        "The append method adds items to the end of a list\n",
        "increases length by 1"
      ],
      "metadata": {
        "id": "lw6zCfSQacoN"
      }
    },
    {
      "cell_type": "code",
      "source": [
        "stats = [48.0, 30.5, 20.2, 100.0]\n",
        "print(stats)\n",
        "print('length of stats=',len(stats))\n",
        "stats.append(99.5)\n",
        "print(stats)\n",
        "print('length of stats=',len(stats))"
      ],
      "metadata": {
        "id": "T5ZZiVf5anxJ"
      },
      "execution_count": null,
      "outputs": []
    },
    {
      "cell_type": "markdown",
      "source": [
        "## Inserting Elements in a List\n",
        "The insert method inserts an item anywhere in a list\n",
        "\n",
        "- shifts all items right, increases length by 1"
      ],
      "metadata": {
        "id": "bu1E8ISja6Yh"
      }
    },
    {
      "cell_type": "code",
      "source": [
        "stats = [48.0, 30.5, 20.2, 100.0]\n",
        "\n",
        "print(stats)\n",
        "print('length of stats=',len(stats))\n",
        "\n",
        "# insert(index, data)\n",
        "stats.insert(1, 37.5)\n",
        "\n",
        "print(stats)\n",
        "print('length of stats=',len(stats))"
      ],
      "metadata": {
        "id": "xpLdP1xxbBI1"
      },
      "execution_count": null,
      "outputs": []
    },
    {
      "cell_type": "markdown",
      "source": [
        "## Try It!\n",
        "\n",
        "Write a Python program that demonstrates how to append and insert elements into a list. The program should create an initial list, append new elements to the end of the list, insert elements at specific positions, and print the list after each modification.\n",
        "\n",
        "- Create a list with at least three initial elements.\n",
        "- Print the initial list.\n",
        "- Append a new element to the end of the list and print the list.\n",
        "- Insert a new element at the second position (index 1) and print the list.\n",
        "\n",
        "Sample Output\n",
        "```\n",
        "Initial list: ['apple', 'banana', 'cherry']\n",
        "List after appending 'date': ['apple', 'banana', 'cherry', 'date']\n",
        "List after inserting 'blueberry' at index 1: ['apple', 'blueberry', 'banana', 'cherry', 'date']\n",
        "```"
      ],
      "metadata": {
        "id": "NcGm21ERKj1p"
      }
    },
    {
      "cell_type": "code",
      "source": [],
      "metadata": {
        "id": "N6VP4qILLmbm"
      },
      "execution_count": null,
      "outputs": []
    },
    {
      "cell_type": "markdown",
      "source": [
        "## Removing Elements From a List\n",
        "The **remove** method removes an element from a list **by value**\n",
        "- shifts all items left, decreases length by 1\n",
        "- removes the first occurrence if there are duplicates\n",
        "- (a loop is required to remove all duplicated elements)\n",
        "- if the item isn’t found, a ValueError is raised"
      ],
      "metadata": {
        "id": "OtI39ecEbbqD"
      }
    },
    {
      "cell_type": "code",
      "source": [
        "stats = [48.0, 30.5, 20.2, 100.0]\n",
        "print(stats)\n",
        "print(len(stats))\n",
        "stats.remove(20.2)\n",
        "print(stats)\n",
        "print(len(stats))\n",
        "\n",
        "# try removing it again\n",
        "stats.remove(20.2)"
      ],
      "metadata": {
        "id": "SInLyV_Kb0vJ"
      },
      "execution_count": null,
      "outputs": []
    },
    {
      "cell_type": "markdown",
      "source": [
        "## Removing Elements using **del**\n",
        "- del is not a function, a method, or even an operator.\n",
        "- It is a keyword used to delete objects.\n",
        "- Unlike operators that perform operations on values and variables, del removes references to objects **by index** from the namespace, effectively deleting them."
      ],
      "metadata": {
        "id": "rgsqGrEecJxk"
      }
    },
    {
      "cell_type": "code",
      "source": [
        "stats = [48.0, 30.5, 20.2, 100.0]\n",
        "print(stats)\n",
        "print(len(stats))\n",
        "\n",
        "del stats[1]  # removes the second element (index 1)\n",
        "print(stats)\n",
        "print(len(stats))"
      ],
      "metadata": {
        "id": "FA-sigOjf44F"
      },
      "execution_count": null,
      "outputs": []
    },
    {
      "cell_type": "markdown",
      "source": [
        "## Try It!\n",
        "\n",
        "Write a Python program that demonstrates how to remove elements from a list using the remove method and the del statement. The program should create an initial list, remove specific elements, and print the list after each modification.\n",
        "\n",
        "- Create a list with at least five elements.\n",
        "- Print the initial list.\n",
        "- Remove a specific element using the remove method and print the list.\n",
        "- Remove an element at a specific position using the del statement and print the list.\n",
        "\n",
        "Sample Output\n",
        "```\n",
        "Initial list: ['apple', 'banana', 'cherry', 'date', 'elderberry']\n",
        "List after removing 'banana': ['apple', 'cherry', 'date', 'elderberry']\n",
        "List after deleting element at index 2: ['apple', 'cherry', 'elderberry']\n",
        "```"
      ],
      "metadata": {
        "id": "E2yaXSeTLWCp"
      }
    },
    {
      "cell_type": "code",
      "source": [],
      "metadata": {
        "id": "LzzW6jxmLjrx"
      },
      "execution_count": null,
      "outputs": []
    },
    {
      "cell_type": "markdown",
      "source": [
        "## Accessing an Element using **index()**\n",
        "Use the index method to find the index of a specified element\n",
        "- If the item isn’t found, a ValueError is raised"
      ],
      "metadata": {
        "id": "NAqi1_s3gRcT"
      }
    },
    {
      "cell_type": "code",
      "source": [
        "stats = [48.0, 30.5, 20.2, 100.0]\n",
        "print(stats)\n",
        "i = stats.index(100.0)\n",
        "#  the index of 100.0\n",
        "print(i)"
      ],
      "metadata": {
        "id": "WJvna1eZg-Qx"
      },
      "execution_count": null,
      "outputs": []
    },
    {
      "cell_type": "markdown",
      "source": [
        "## Popping an Element\n",
        "The **pop()** method removes an element from a list\n",
        "- it is designed to remove elements from a list with minimal overhead\n",
        "- \"pop\" refers to the pop operation used in a stack (a data structure which provides last-in, first-out, or LIFO, operations)\n",
        "- (but stacks also use a \"push\" operation not provided in Python)\n",
        "-If an index is not provided, pop removes the last element, otherwise the element at the specified index is removed\n",
        "- Decreases length of list by 1\n",
        "- If an item at a specified index is not found, an IndexError is raised (“pop index out of range”)\n",
        "- If the list is empty, pop with no index argument raises an IndexError (“IndexError: pop from empty list”)"
      ],
      "metadata": {
        "id": "v898aJJChOLq"
      }
    },
    {
      "cell_type": "code",
      "source": [
        "stats = [48.0, 30.5, 20.2, 100.0]\n",
        "print(stats)\n",
        "# remove 100.0 from end of list\n",
        "stats.pop()\n",
        "print(stats)\n",
        "# remove 30.5 based on specified index\n",
        "stats.pop(1)\n",
        "print(stats)"
      ],
      "metadata": {
        "id": "rwkOiKMphhMP"
      },
      "execution_count": null,
      "outputs": []
    },
    {
      "cell_type": "markdown",
      "source": [
        "## Saving the Popped Element\n",
        "pop() returns the popped element, allowing the removed element to be saved in a variable or printed"
      ],
      "metadata": {
        "id": "5oSvin4GjBA5"
      }
    },
    {
      "cell_type": "code",
      "source": [
        "stats = [48.0, 30.5, 20.2, 100.0]\n",
        "print(stats)\n",
        "\n",
        "# get the last element\n",
        "last_element = stats.pop()\n",
        "\n",
        "# get the first element\n",
        "first_element = stats.pop(0)\n",
        "\n",
        "# add them together\n",
        "print(last_element + first_element)"
      ],
      "metadata": {
        "id": "R5o8vqL7jGKr"
      },
      "execution_count": null,
      "outputs": []
    },
    {
      "cell_type": "markdown",
      "source": [
        "## Try It!\n",
        "\n",
        "Write a Python program that demonstrates how to use the pop method to remove elements from a list. The program should use both non-indexed and indexed pop calls and handle an IndexError exception when attempting to pop from an empty list.\n",
        "\n",
        "- Create a list with at least four elements.\n",
        "- Print the initial list.\n",
        "- Use pop without an index to remove the last element and print the list.\n",
        "- Use pop with an index to remove the second element and print the list.\n",
        "- Use pop with an index to remove the first element and print the list.\n",
        "- Attempt to pop from an empty list to demonstrate an IndexError exception.\n",
        "\n",
        "Sample Output\n",
        "```\n",
        "Initial list: ['red', 'green', 'blue', 'yellow']\n",
        "Popped element: yellow\n",
        "List after popping the last element: ['red', 'green', 'blue']\n",
        "Popped element at index 1: green\n",
        "List after popping the second element: ['red', 'blue']\n",
        "Popped element at index 0: red\n",
        "List after popping the first element: ['blue']\n",
        "IndexError exception caught: pop from empty list\n",
        "```"
      ],
      "metadata": {
        "id": "1PHJI5etPE7N"
      }
    },
    {
      "cell_type": "code",
      "source": [],
      "metadata": {
        "id": "X22wCTMvPUnm"
      },
      "execution_count": null,
      "outputs": []
    },
    {
      "cell_type": "markdown",
      "source": [
        "## Sorting a List\n",
        "The <b>sort() method</b> sorts a list <b>in place</b> (\"permanently\")"
      ],
      "metadata": {
        "id": "1KPlomo7NhEE"
      }
    },
    {
      "cell_type": "code",
      "source": [
        "stats = [48.0, 30.5, 20.2, 100.0]\n",
        "stats.sort()\n",
        "print(stats)"
      ],
      "metadata": {
        "id": "it1INWnvNoid"
      },
      "execution_count": null,
      "outputs": []
    },
    {
      "cell_type": "markdown",
      "source": [
        "The <b>sorted() function</b> returns a sorted <b>copy</b> of the list\n",
        "- Does not modify the original list\n",
        "- The copy can be assigned to a variable\n"
      ],
      "metadata": {
        "id": "oukBkmJ6Nw2q"
      }
    },
    {
      "cell_type": "code",
      "source": [
        "stats = [48.0, 30.5, 20.2, 100.0]\n",
        "sorted_stats = sorted(stats)\n",
        "print(stats)\n",
        "print(sorted_stats)"
      ],
      "metadata": {
        "id": "8rv-OvJoOA6K"
      },
      "execution_count": null,
      "outputs": []
    },
    {
      "cell_type": "markdown",
      "source": [
        "## Try It!\n",
        "\n",
        "Write a Python program that demonstrates how to use the sort method and the sorted function to order elements in a list. The program should show the difference between modifying the list in place and returning a new sorted list.\n",
        "\n",
        "- Create a list with at least five numerical elements.\n",
        "- Print the initial list.\n",
        "- Use the sort method to sort the list in ascending order and print the list.\n",
        "- Create a new list with at least five string elements.\n",
        "- Print the initial list of strings.\n",
        "- Use the sorted function to sort the list of strings in ascending order and print both the original and the sorted list.\n",
        "\n",
        "**Sample Output**\n",
        "```\n",
        "Initial list of numbers: [42, 23, 16, 15, 8]\n",
        "List of numbers after sort(): [8, 15, 16, 23, 42]\n",
        "Initial list of fruits: ['banana', 'apple', 'cherry', 'date', 'elderberry']\n",
        "Original list of fruits after sorted(): ['banana', 'apple', 'cherry', 'date', 'elderberry']\n",
        "New sorted list of fruits: ['apple', 'banana', 'cherry', 'date', 'elderberry']\n",
        "```"
      ],
      "metadata": {
        "id": "iXDv5H55SgOK"
      }
    },
    {
      "cell_type": "code",
      "source": [],
      "metadata": {
        "id": "uRajZEQ7VtSJ"
      },
      "execution_count": null,
      "outputs": []
    },
    {
      "cell_type": "markdown",
      "source": [
        "## Reversing a List\n",
        "Use the reverse() method to reverse a list's order\n",
        "- Modifies the original list\n",
        "- Does not sort\n",
        "- To restore to original, just call reverse() again"
      ],
      "metadata": {
        "id": "J658o8AkOd_8"
      }
    },
    {
      "cell_type": "code",
      "source": [
        "stats = [48.0, 30.5, 20.2, 100.0]\n",
        "# reverse the list\n",
        "stats.reverse()\n",
        "print(stats)\n",
        "# restore original order\n",
        "stats.reverse()\n",
        "print(stats)"
      ],
      "metadata": {
        "id": "9SnTYaezOg68"
      },
      "execution_count": null,
      "outputs": []
    },
    {
      "cell_type": "markdown",
      "source": [
        "## Lists of Lists\n",
        "A two-dimensional list is a \"list of lists“"
      ],
      "metadata": {
        "id": "ruH2eroMOxAQ"
      }
    },
    {
      "cell_type": "code",
      "source": [
        "# create a 3-row, 4-column list of student scores\n",
        "students = [[\"Joel\", 85, 95, 70],\n",
        "            [\"Anne\", 95, 100, 100],\n",
        "            [\"Mike\", 77, 70, 80]]\n",
        "print(students)"
      ],
      "metadata": {
        "id": "4B64QuBfO2gh"
      },
      "execution_count": null,
      "outputs": []
    },
    {
      "cell_type": "markdown",
      "source": [
        "Use 0-based indexing to access at various levels"
      ],
      "metadata": {
        "id": "feL8Z1tIPClE"
      }
    },
    {
      "cell_type": "code",
      "source": [
        "print(students)\n",
        "# first list element\n",
        "print(students[0])\n",
        "# first score of the first list\n",
        "print(students[0][1])\n",
        "# Change one score\n",
        "students[0][1]=95\n",
        "print(students[0])"
      ],
      "metadata": {
        "id": "IEZ2E5poPHC-"
      },
      "execution_count": null,
      "outputs": []
    },
    {
      "cell_type": "markdown",
      "source": [
        "## Appending an Element to a Two-Dimensional List"
      ],
      "metadata": {
        "id": "i-BBJnR8Pcz_"
      }
    },
    {
      "cell_type": "code",
      "source": [
        "print(students)\n",
        "\n",
        "# create an new student list\n",
        "student = []\n",
        "student.append(\"Mary\")\n",
        "student.append(100)\n",
        "student.append(85)\n",
        "student.append(87)\n",
        "\n",
        "students.append(student)\n",
        "print(students)"
      ],
      "metadata": {
        "id": "a4t3_pFMPgUd"
      },
      "execution_count": null,
      "outputs": []
    },
    {
      "cell_type": "markdown",
      "source": [
        "## Inserting an Element Into a Two-Dimensional List"
      ],
      "metadata": {
        "id": "MFvqOBwnPtrJ"
      }
    },
    {
      "cell_type": "code",
      "source": [
        "student2 = []\n",
        "student2.append(\"Jamaal\")\n",
        "student2.append(90)\n",
        "student2.append(92)\n",
        "student2.append(88)\n",
        "students.insert(1,student2)\n",
        "print(students)"
      ],
      "metadata": {
        "id": "wdRnyd3UPyiq"
      },
      "execution_count": null,
      "outputs": []
    },
    {
      "cell_type": "markdown",
      "source": [
        "## Removing Elements From a Two-Dimensional List"
      ],
      "metadata": {
        "id": "0SdIbqWIP8b6"
      }
    },
    {
      "cell_type": "code",
      "source": [
        "print(students)\n",
        "# pop the third list element\n",
        "students.pop(2)\n",
        "print(students)\n",
        "\n",
        "# pop the fourth element from the third list elemet\n",
        "students[2].pop(3)\n",
        "print(students)"
      ],
      "metadata": {
        "id": "bo-vd3BbQA6K"
      },
      "execution_count": null,
      "outputs": []
    },
    {
      "cell_type": "markdown",
      "source": [
        "## Try It!\n",
        "\n",
        "Write a Python program that demonstrates how to append, insert, and delete elements in a two-dimensional list. The program should create an initial two-dimensional list, perform various operations, and print the list after each modification.\n",
        "\n",
        "- Create a two-dimensional list with at least three sublists.\n",
        "- Print the initial two-dimensional list.\n",
        "- Append a new sublist to the two-dimensional list and print the list.\n",
        "- Insert a new element into one of the sublists and print the list.\n",
        "- Delete an element from one of the sublists and print the list.\n",
        "\n",
        "Sample Output\n",
        "```\n",
        "Initial two-dimensional list:\n",
        "[[1, 2, 3], [4, 5, 6], [7, 8, 9]]\n",
        "Append new sublist:\n",
        "[[1, 2, 3], [4, 5, 6], [7, 8, 9], [10, 11, 12]]\n",
        "Insert element into the second sublist:\n",
        "[[1, 2, 3], [4, 99, 5, 6], [7, 8, 9], [10, 11, 12]]\n",
        "Deleting element from the first sublist:\n",
        "[[1, 2], [4, 99, 5, 6], [7, 8, 9], [10, 11, 12]]\n",
        "```"
      ],
      "metadata": {
        "id": "xx75JCKbUFgf"
      }
    },
    {
      "cell_type": "code",
      "source": [],
      "metadata": {
        "id": "nfL-Y7WMVVQI"
      },
      "execution_count": null,
      "outputs": []
    },
    {
      "cell_type": "markdown",
      "source": [
        "#Lists and Loops"
      ],
      "metadata": {
        "id": "wXniy3h3Q1e7"
      }
    },
    {
      "cell_type": "markdown",
      "source": [
        "## Lists and the For Loop\n",
        "A for loop runs once for each value in a collection (e.g., a list)\n",
        "- The range() function produces a collection of integers\n",
        " for number in range(5):\n",
        "     print(number, end=\" \")\n",
        " print(\"\\nThe loop has ended.\")"
      ],
      "metadata": {
        "id": "ML4-W2DAQ36C"
      }
    },
    {
      "cell_type": "code",
      "source": [
        "for number in range(5):\n",
        "    print(number, end=\" \")\n",
        "print(\"\\nThe loop has ended.\")"
      ],
      "metadata": {
        "id": "NttWMSHXRHIl"
      },
      "execution_count": null,
      "outputs": []
    },
    {
      "cell_type": "markdown",
      "source": [
        "Recall that the for loop in Python is knowns as a \"count-controlled\" loop\n",
        "- It is also known as a \"collection-controlled\" loop when operating with lists\n",
        "- The sum loop that was presented earlier is shown below, this time using a list of values to sum:"
      ],
      "metadata": {
        "id": "nV26zd-pRT9u"
      }
    },
    {
      "cell_type": "code",
      "source": [
        "sum_nums = 0      # accumulator\n",
        "num_list = [1, 2, 3, 4, 5]\n",
        "for number in num_list:\n",
        "   sum_nums = sum_nums + number\n",
        "print(\"The sum of 1 to 5 is \" + str(sum_nums))"
      ],
      "metadata": {
        "id": "3zGt-IutRqT1"
      },
      "execution_count": null,
      "outputs": []
    },
    {
      "cell_type": "markdown",
      "source": [
        "Note: <b>never</b> name the accumulator \"sum\"\n",
        "- sum is a function name and using the name for a variable will \"shadow\" the function (make it unavailable)"
      ],
      "metadata": {
        "id": "4yBcRdAiR7FT"
      }
    },
    {
      "cell_type": "code",
      "source": [
        "sum = 0      # accumulator\n",
        "num_list = [1, 2, 3, 4, 5]\n",
        "for number in num_list:\n",
        "   sum = sum + number\n",
        "print(\"The sum of 1 to 5 is \" + str(sum))\n",
        "\n",
        "# here is another way - the loop isn't actually needed\n",
        "# uncomment to demonstrate shadowing\n",
        "# print(sum([1,2,3,4,5]))  # TypeError: 'int' object is not callable\n",
        "\n",
        "del sum  # this will undo the error caused by shadowing\n",
        "print('The sum of 1 to 5 is',sum([1,2,3,4,5]))\n"
      ],
      "metadata": {
        "id": "X-yO04pzSTPJ"
      },
      "execution_count": null,
      "outputs": []
    },
    {
      "cell_type": "markdown",
      "source": [
        "## More List/Loop Examples"
      ],
      "metadata": {
        "id": "AbIEU6ZITBJK"
      }
    },
    {
      "cell_type": "code",
      "source": [
        "# list the magicians by name\n",
        "magicians = ['alice', 'david', 'carolina']\n",
        "for magician in magicians:\n",
        "   print(magician)\n",
        "\n",
        "for magician in magicians:\n",
        "   print(f\"{magician.title()}, that was a great trick!\")"
      ],
      "metadata": {
        "id": "7kGdtsDgTD7L"
      },
      "execution_count": null,
      "outputs": []
    },
    {
      "cell_type": "code",
      "source": [
        "# calculate squares from 1 to 10, insert into list\n",
        "# start with an empty list\n",
        "squares = []\n",
        "for value in range(1,11):\n",
        "   squares.append(value ** 2)     # append square to list\n",
        "\n",
        "print(squares)"
      ],
      "metadata": {
        "id": "rIVQYIjjTRcr"
      },
      "execution_count": null,
      "outputs": []
    },
    {
      "cell_type": "markdown",
      "source": [
        "## Common for Loop Errors\n",
        "- Forgetting to indent all statements in the loop body\n",
        "- Indenting a statement that should not be in the loop body\n",
        "- Forgetting the colon\n"
      ],
      "metadata": {
        "id": "Bri2UcUpTcQW"
      }
    },
    {
      "cell_type": "markdown",
      "source": [
        "## Try It!\n",
        "\n",
        "Write a Python program that demonstrates the use of a for loop to process elements in a list. The program should iterate through the list, perform an operation on each element, and print the results.\n",
        "\n",
        "- Create a list with at least five numerical elements.\n",
        "- Use a for loop to iterate through each element in the list.\n",
        "- Multiply each element by 2 and print the result.\n",
        "\n",
        "Sample Output\n",
        "\n",
        "```\n",
        "Initial list of numbers: [2, 4, 6, 8, 10]\n",
        "Processed list elements:\n",
        "4\n",
        "8\n",
        "12\n",
        "16\n",
        "20\n",
        "```"
      ],
      "metadata": {
        "id": "mR9gPuH8Wlmr"
      }
    },
    {
      "cell_type": "code",
      "source": [],
      "metadata": {
        "id": "hgQapdR0XBDp"
      },
      "execution_count": null,
      "outputs": []
    },
    {
      "cell_type": "markdown",
      "source": [
        "## List Comprehensions\n",
        "A <b>list comprehension</b> allows more efficient coding by combining the for loop and creation of list elements into a single line\n",
        "\n",
        "The format of a list comprehension is\n",
        "```\n",
        "    [expression for item in iterable if condition]\n",
        "```\n",
        "where the if condition part is optional. This format allows for combining iteration, condition-checking, and element creation into a single line.\n",
        "\n",
        "- List comprehensions allow you to write more concise and readable code by reducing the number of lines needed to create a new list from an existing iterable.\n",
        "- They are often more efficient in terms of execution speed and memory usage compared to equivalent for loop constructions.\n",
        "- List comprehensions can include conditional logic to filter elements, making them a powerful tool for generating lists based on specific criteria."
      ],
      "metadata": {
        "id": "9fMWkoFTTpG7"
      }
    },
    {
      "cell_type": "code",
      "source": [
        "squares = [value**2 for value in range(1, 11)] # no colon after for!\n",
        "print(squares)\n",
        "\n",
        "# print first initial of each name in list\n",
        "list_of_names = [\"Tom\", \"David\", \"Sally\", \"Pamela\", \"Robert\"]\n",
        "# take first letter of each name\n",
        "initials = [name[0] for name in list_of_names]\n",
        "print(initials)"
      ],
      "metadata": {
        "id": "SSookbJaTwtZ"
      },
      "execution_count": null,
      "outputs": []
    },
    {
      "cell_type": "markdown",
      "source": [
        "## Try It!\n",
        "\n",
        "Modify the last hands-on activity to use a list comprehension."
      ],
      "metadata": {
        "id": "HQRchmUQXO1e"
      }
    },
    {
      "cell_type": "code",
      "source": [],
      "metadata": {
        "id": "ZRiB-hryXX3i"
      },
      "execution_count": null,
      "outputs": []
    },
    {
      "cell_type": "markdown",
      "source": [
        "## Slicing a List\n",
        "A list <b>slice</b> is a specific group of items in a list\n",
        "- To create a slice, specify the first and last index\n",
        "- As with range(), Python stops one item before the last index"
      ],
      "metadata": {
        "id": "WM4P_vFzT5T9"
      }
    },
    {
      "cell_type": "code",
      "source": [
        "players = ['charles','martina','michael','florence','eli']\n",
        "\n",
        "# create a slice that contains elements 0, 1, 2\n",
        "print(players[0:3])\n",
        "\n",
        "# create a slice that contains elements 1, 2, 3\n",
        "print(players[1:4])"
      ],
      "metadata": {
        "id": "TF4bMJhcT-rG"
      },
      "execution_count": null,
      "outputs": []
    },
    {
      "cell_type": "markdown",
      "source": [
        "## More Slice Examples"
      ],
      "metadata": {
        "id": "d84UKWnEUZW4"
      }
    },
    {
      "cell_type": "code",
      "source": [
        "players = ['charles','martina','michael','florence', 'eli']\n",
        "\n",
        "print(players[:4]) # omitting first index starts at beginning of list\n",
        "print(players[2:]) # omitting last index continues to end of list\n",
        "print(players[-3:]) # use a negative value to display last n elements of a list\n",
        "print(players[0:5:2]) # a 3rd value can be included to skip between items"
      ],
      "metadata": {
        "id": "hScPEIv5UbvT"
      },
      "execution_count": null,
      "outputs": []
    },
    {
      "cell_type": "markdown",
      "source": [
        "A slice can be used in a for loop:"
      ],
      "metadata": {
        "id": "nikBZdDwUpTJ"
      }
    },
    {
      "cell_type": "code",
      "source": [
        "players = ['charles', 'martina', 'michael', 'florence', 'eli']\n",
        "\n",
        "print(\"Here are the first three players on my team:\")\n",
        "for player in players[:3]:     # be careful with the colons\n",
        "    print(player.title())\n"
      ],
      "metadata": {
        "id": "czk-CjRgUsCt"
      },
      "execution_count": null,
      "outputs": []
    },
    {
      "cell_type": "markdown",
      "source": [
        "Slices can be used to make new lists"
      ],
      "metadata": {
        "id": "PqaYzP-3U6-o"
      }
    },
    {
      "cell_type": "code",
      "source": [
        "my_foods = ['pizza', 'falafel', 'carrot cake']\n",
        "\n",
        "friend_foods = my_foods[:]\n",
        "print(\"My favorite foods are:\")\n",
        "print(my_foods)\n",
        "\n",
        "print(\"My friend's favorite foods are:\")\n",
        "print(friend_foods)"
      ],
      "metadata": {
        "id": "vqXTjsu3VAPl"
      },
      "execution_count": null,
      "outputs": []
    },
    {
      "cell_type": "markdown",
      "source": [
        "Individualize each list to show they are indeed copies"
      ],
      "metadata": {
        "id": "_P2oMmUdVL05"
      }
    },
    {
      "cell_type": "code",
      "source": [
        "my_foods = ['pizza', 'falafel', 'carrot cake']\n",
        "friend_foods = my_foods[:]\n",
        "\n",
        "my_foods.append('cannoli')\n",
        "friend_foods.append('ice cream')\n",
        "print(\"My favorite foods are:\")\n",
        "print(my_foods)\n",
        "\n",
        "print(\"My friend's favorite foods are:\")\n",
        "print(friend_foods)"
      ],
      "metadata": {
        "id": "Km9kjxNGVQO3"
      },
      "execution_count": null,
      "outputs": []
    },
    {
      "cell_type": "markdown",
      "source": [
        "Simple assignment <b>cannot</b> be used to copy lists, slice notation [:] must be used"
      ],
      "metadata": {
        "id": "gAkSAP6TVl-F"
      }
    },
    {
      "cell_type": "code",
      "source": [
        "my_foods = ['pizza','falafel','carrot cake']\n",
        "friend_foods = my_foods  # same list, not a copy\n",
        "print(my_foods,friend_foods)\n",
        "\n",
        "# This assignment creates a second reference to the first list,\n",
        "# it doesn't create a copy\n",
        "\n",
        "my_foods.append('cannoli')\n",
        "print(my_foods,friend_foods) # same list so both get cannoli"
      ],
      "metadata": {
        "id": "fuy2zYexVpRk"
      },
      "execution_count": null,
      "outputs": []
    },
    {
      "cell_type": "markdown",
      "source": [
        "## Try It!\n",
        "\n",
        "Write a Python program that demonstrates how to use list slicing to access and\n",
        "modify parts of a list. The program should create a list, use slicing to\n",
        "access sublists, and modify elements within the list using slicing.\n",
        "\n",
        "- Create a list with at least ten numerical elements.\n",
        "- Use slicing to print the first five elements of the list.\n",
        "- Use slicing to print the last three elements of the list.\n",
        "- Use slicing to print every second element of the list.\n",
        "- Use slicing to modify a middle segment of the list and print the modified list.\n",
        "\n",
        "Sample Output\n",
        "\n",
        "```\n",
        "Initial list of numbers: [1, 2, 3, 4, 5, 6, 7, 8, 9, 10]\n",
        "\n",
        "First five elements: [1, 2, 3, 4, 5]\n",
        "Last three elements: [8, 9, 10]\n",
        "Every second element: [1, 3, 5, 7, 9]\n",
        "\n",
        "Modified list after changing middle segment:\n",
        "[1, 2, 3, 4, 50, 60, 70, 8, 9, 10]\n",
        "```"
      ],
      "metadata": {
        "id": "sQa2C1LraSGp"
      }
    },
    {
      "cell_type": "code",
      "source": [],
      "metadata": {
        "id": "6JKFLQVEaD5O"
      },
      "execution_count": null,
      "outputs": []
    },
    {
      "cell_type": "markdown",
      "source": [
        "#Tuples\n",
        "A Python tuple is similar to a list, but a tuple is <b>immutable</b> (cannot be changed), whereas a list is <b>mutable</b> (can be changed)\n",
        "- Cannot append to tuples\n",
        "- Cannot replace tuple elements\n",
        "- Cannot delete tuple elements\n",
        "\n",
        "### Advantages:\n",
        "- faster\n",
        "- less \"side effects\" (errors) when coding\n"
      ],
      "metadata": {
        "id": "K_Ch0AdwWfgG"
      }
    },
    {
      "cell_type": "markdown",
      "source": [
        "## Creating a tuple:\n",
        "- Use parentheses instead of brackets"
      ],
      "metadata": {
        "id": "h0UCQ33aXNOH"
      }
    },
    {
      "cell_type": "code",
      "source": [
        "stats = (48.0, 30.5, 20.2, 100.0, 48.0)"
      ],
      "metadata": {
        "id": "5lWgDjxKXT0R"
      },
      "execution_count": null,
      "outputs": []
    },
    {
      "cell_type": "markdown",
      "source": [
        "## Accessing elements:"
      ],
      "metadata": {
        "id": "lvcSH3hFXaGc"
      }
    },
    {
      "cell_type": "code",
      "source": [
        "scores = (\"Jim\", 75, 89, 93)\n",
        "score = scores[0]    # \"Jim\""
      ],
      "metadata": {
        "id": "Kp6IF34xXcva"
      },
      "execution_count": null,
      "outputs": []
    },
    {
      "cell_type": "markdown",
      "source": [
        "Remember that tuple elements cannot be changed:\n"
      ],
      "metadata": {
        "id": "TO7uqCKZXisG"
      }
    },
    {
      "cell_type": "code",
      "source": [
        "scores[1] = 97  # TypeError: 'tuple' object does not support item assignment"
      ],
      "metadata": {
        "id": "JD-PNNg1Xlgx"
      },
      "execution_count": null,
      "outputs": []
    },
    {
      "cell_type": "markdown",
      "source": [
        "## Unpacking Tuples\n",
        "- Given this tuple:\n",
        "  <pre>scores = (\"Jim\", 75, 89, 93)</pre>\n",
        "- The tuple can be \"unpacked\" using a multiple assignment statement:\n",
        "- This assigns each tuple element to a separate variable"
      ],
      "metadata": {
        "id": "a9HBApaBXzNH"
      }
    },
    {
      "cell_type": "code",
      "source": [
        "scores = (\"Jim\", 75, 89, 93)\n",
        "name, score1, score2, score3 = scores\n",
        "print(name)\n",
        "print(score1)\n",
        "print(score2)\n",
        "print(score3)"
      ],
      "metadata": {
        "id": "GjedqX-JXlrk"
      },
      "execution_count": null,
      "outputs": []
    },
    {
      "cell_type": "markdown",
      "source": [
        "As with lists, for loops can be used with tuples"
      ],
      "metadata": {
        "id": "37EZZWHrYXUs"
      }
    },
    {
      "cell_type": "code",
      "source": [
        "dimensions = (200, 50)\n",
        "for dimension in dimensions:\n",
        "    print(dimension)"
      ],
      "metadata": {
        "id": "OUWP3VbIYZcS"
      },
      "execution_count": null,
      "outputs": []
    },
    {
      "cell_type": "markdown",
      "source": [
        "\n",
        "Although tuples cannot be modified, they can be reassigned"
      ],
      "metadata": {
        "id": "3kQigulBYkEF"
      }
    },
    {
      "cell_type": "code",
      "source": [
        "dimensions = (200, 50)\n",
        "# reassign after initial assignment\n",
        "dimensions = (400, 100)\n",
        "for dimension in dimensions:\n",
        "    print(dimension)   # new tuple, new values"
      ],
      "metadata": {
        "id": "LWksajUkYm6D"
      },
      "execution_count": null,
      "outputs": []
    },
    {
      "cell_type": "markdown",
      "source": [
        "## Try It!\n",
        "\n",
        "Write a Python program that creates a tuple and unpack its elements into individual variables. The program should create a tuple with multiple elements, unpack the elements, and print the individual variables.\n",
        "\n",
        "- Create a tuple with at least five elements.\n",
        "- Unpack the tuple into individual variables.\n",
        "- Print each variable to show the unpacked values.\n",
        "\n",
        "**Sample Output**\n",
        "\n",
        "Original tuple: (1, 2, 3, 4, 5)\n",
        "```\n",
        "Unpacked values:\n",
        "a = 1\n",
        "b = 2\n",
        "c = 3\n",
        "d = 4\n",
        "e = 5\n",
        "```"
      ],
      "metadata": {
        "id": "MA3xAS7xccR1"
      }
    }
  ]
}