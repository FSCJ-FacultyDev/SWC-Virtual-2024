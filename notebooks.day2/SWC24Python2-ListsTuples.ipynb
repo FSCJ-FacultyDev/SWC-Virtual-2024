{
  "nbformat": 4,
  "nbformat_minor": 0,
  "metadata": {
    "colab": {
      "provenance": []
    },
    "kernelspec": {
      "name": "python3",
      "display_name": "Python 3"
    },
    "language_info": {
      "name": "python"
    }
  },
  "cells": [
    {
      "cell_type": "markdown",
      "source": [
        "#Lists and Tuples"
      ],
      "metadata": {
        "id": "Ye9NUR50fEW4"
      }
    },
    {
      "cell_type": "markdown",
      "source": [
        "Lists and tuples are  data structures used to store collections of items\n",
        "- A list is a <b>mutable</b>, or changeable, ordered sequence of elements.\n",
        "- Each element inside a list can be of any data type (i.e., they are <b>heterogeneous</b>, unlike arrays in some other languages)\n",
        "- Lists are defined by having values between square brackets []\n",
        "- Lists are particularly useful because they are dynamic, meaning they can be altered after their creation by adding, removing, or changing elements\n",
        "\n",
        "A tuple is an <b>immutable</b> ordered sequence of elements, meaning that once it is created, it cannot be modified\n",
        "- Tuples are defined by having values between parentheses () and can also store heterogeneous collections\n",
        "- Tuples are faster than lists due to their immutability and are commonly used for data that should not change, such as days of the week or dates on a calendar\n",
        "\n",
        "Both lists and tuples can be nested, support indexing, and can be iterated over in a loop.\n"
      ],
      "metadata": {
        "id": "1EuDAoPQAr3G"
      }
    },
    {
      "cell_type": "markdown",
      "source": [
        "Elements in lists and tuples are comma-separated\n",
        "- Items are stored in the order in which they are added"
      ],
      "metadata": {
        "id": "wei3f9KdC5K3"
      }
    },
    {
      "cell_type": "code",
      "source": [
        "# a list of 5 elements\n",
        "temp_list = [48.0, 35.0, 20.2, 100.0, 42.0]\n",
        "\n",
        "# a tuple of 5 elements\n",
        "temp_tuple = (48.0, 35.0, 20.2, 100.0, 42.0)\n",
        "\n",
        "print(temp_list)\n",
        "print(temp_tuple)"
      ],
      "metadata": {
        "id": "FCNgT9gUAujH"
      },
      "execution_count": null,
      "outputs": []
    },
    {
      "cell_type": "code",
      "source": [
        "# a list of 4 string elements\n",
        "inventory = ['hat', 'shirt', 'pants', 'shoes' ]\n",
        "print(inventory)\n",
        "# a list of 3 different elements: string, int, float\n",
        "movie = ['The Holy Grail', 1975, 9.99]\n",
        "print(movie)\n",
        "# an empty list\n",
        "test_scores = []\n",
        "print(test_scores)"
      ],
      "metadata": {
        "id": "PLWJXpHHQkil"
      },
      "execution_count": null,
      "outputs": []
    },
    {
      "cell_type": "markdown",
      "source": [
        "Individual elements of a list can be accessed by inserting a **0-based** numeric index in square brackets following the name of the list"
      ],
      "metadata": {
        "id": "eOm52v1gQTed"
      }
    },
    {
      "cell_type": "code",
      "source": [
        "temps = [48.0, 35.0, 20.2, 100.0, 42.0]\n",
        "print(temps[0])\n",
        "print(temps[4])\n",
        "\n",
        "print(movie[0].upper())"
      ],
      "metadata": {
        "id": "x1MB67mDRIsI"
      },
      "execution_count": null,
      "outputs": []
    },
    {
      "cell_type": "markdown",
      "source": [
        "A list index cannot be larger than the size of the list (number of elements) minus 1"
      ],
      "metadata": {
        "id": "LJmX5x0sRXMb"
      }
    },
    {
      "cell_type": "code",
      "source": [
        "temps = [48.0, 30.5, 20.2, 100.0, 42.0]\n",
        "print(temps[5])"
      ],
      "metadata": {
        "id": "vuNSzqE7RZsC"
      },
      "execution_count": null,
      "outputs": []
    },
    {
      "cell_type": "markdown",
      "source": [
        "In Python an index can also be negative\n",
        "- Use -1 as an index to the last element in a list\n",
        "- Python will still return an error if the list is empty\n"
      ],
      "metadata": {
        "id": "I5aY1WhlRfgq"
      }
    },
    {
      "cell_type": "code",
      "source": [
        "# -1 is always the last element\n",
        "print(temps[-1])\n",
        "\n",
        "# the first element\n",
        "print(temps[-5])\n",
        "\n",
        "# a non-existent element\n",
        "print(temps[-6])\n",
        "\n",
        "# empty list\n",
        "print(test_scores[-1])"
      ],
      "metadata": {
        "id": "9QIoOQyyRmYK"
      },
      "execution_count": null,
      "outputs": []
    },
    {
      "cell_type": "markdown",
      "source": [
        "##Modifying List Elements\n",
        "Modifying elements is similar to accessing them\n",
        "- A 0-based index is used for assignment"
      ],
      "metadata": {
        "id": "K4pEjv6KSH3h"
      }
    },
    {
      "cell_type": "code",
      "source": [
        "print(temps)\n",
        "# set fourth element\n",
        "temps[3] = 98.0\n",
        "print(temps)\n",
        "\n",
        "print(inventory)\n",
        "# set second element\n",
        "inventory[1] = 'socks'\n",
        "print(inventory)"
      ],
      "metadata": {
        "id": "Aj5wr4LRSOwj"
      },
      "execution_count": null,
      "outputs": []
    },
    {
      "cell_type": "markdown",
      "source": [
        "The asterisk (*) acts as a repetition operator when creating (and initializing) lists"
      ],
      "metadata": {
        "id": "gyct_AQKScGW"
      }
    },
    {
      "cell_type": "code",
      "source": [
        "scores = [0] * 5   # same as scores = [0, 0, 0, 0, 0]\n",
        "print(scores)"
      ],
      "metadata": {
        "id": "UxF0GTRqShMG"
      },
      "execution_count": null,
      "outputs": []
    },
    {
      "cell_type": "markdown",
      "source": [
        "##Adding Elements to a List\n",
        "The append method adds items to the end of a list\n",
        "increases length by 1"
      ],
      "metadata": {
        "id": "lw6zCfSQacoN"
      }
    },
    {
      "cell_type": "code",
      "source": [
        "stats = [48.0, 30.5, 20.2, 100.0]\n",
        "print(stats)\n",
        "print('length of stats=',len(stats))\n",
        "stats.append(99.5)\n",
        "print(stats)\n",
        "print('length of stats=',len(stats))"
      ],
      "metadata": {
        "id": "T5ZZiVf5anxJ"
      },
      "execution_count": null,
      "outputs": []
    },
    {
      "cell_type": "markdown",
      "source": [
        "##Inserting Elements in a List\n",
        "The insert method inserts an item anywhere in a list\n",
        "\n",
        "- shifts all items right, increases length by 1"
      ],
      "metadata": {
        "id": "bu1E8ISja6Yh"
      }
    },
    {
      "cell_type": "code",
      "source": [
        "stats = [48.0, 30.5, 20.2, 100.0]\n",
        "\n",
        "print(stats)\n",
        "print('length of stats=',len(stats))\n",
        "\n",
        "# insert(index, data)\n",
        "stats.insert(1, 37.5)\n",
        "\n",
        "print(stats)\n",
        "print('length of stats=',len(stats))"
      ],
      "metadata": {
        "id": "xpLdP1xxbBI1"
      },
      "execution_count": null,
      "outputs": []
    },
    {
      "cell_type": "markdown",
      "source": [
        "##Removing Elements From a List\n",
        "The remove method removes an element from a list **by value**\n",
        "- shifts all items left, decreases length by 1\n",
        "- removes the first occurrence if there are duplicates\n",
        "- (a loop is required to remove all duplicated elements)\n",
        "- if the item isn’t found, a ValueError is raised"
      ],
      "metadata": {
        "id": "OtI39ecEbbqD"
      }
    },
    {
      "cell_type": "code",
      "source": [
        "stats = [48.0, 30.5, 20.2, 100.0]\n",
        "print(stats)\n",
        "print(len(stats))\n",
        "stats.remove(20.2)\n",
        "print(stats)\n",
        "print(len(stats))\n",
        "\n",
        "# try removing it again\n",
        "stats.remove(20.2)"
      ],
      "metadata": {
        "id": "SInLyV_Kb0vJ"
      },
      "execution_count": null,
      "outputs": []
    },
    {
      "cell_type": "markdown",
      "source": [
        "##Removing Elements using **del**\n",
        "- del is not a function, a method, or even an operator.\n",
        "- It is a keyword used to delete objects.\n",
        "- Unlike operators that perform operations on values and variables, del removes references to objects **by index** from the namespace, effectively deleting them."
      ],
      "metadata": {
        "id": "rgsqGrEecJxk"
      }
    },
    {
      "cell_type": "code",
      "source": [
        "stats = [48.0, 30.5, 20.2, 100.0]\n",
        "print(stats)\n",
        "print(len(stats))\n",
        "\n",
        "del stats[1]  # removes the second element (index 1)\n",
        "print(stats)\n",
        "print(len(stats))"
      ],
      "metadata": {
        "id": "FA-sigOjf44F"
      },
      "execution_count": null,
      "outputs": []
    },
    {
      "cell_type": "markdown",
      "source": [
        "##Accessing an Element using **index()**\n",
        "Use the index method to find the index of a specified element\n",
        "- If the item isn’t found, a ValueError is raised"
      ],
      "metadata": {
        "id": "NAqi1_s3gRcT"
      }
    },
    {
      "cell_type": "code",
      "source": [
        "stats = [48.0, 30.5, 20.2, 100.0]\n",
        "print(stats)\n",
        "i = stats.index(100.0)\n",
        "#  the index of 100.0\n",
        "print(i)"
      ],
      "metadata": {
        "id": "WJvna1eZg-Qx"
      },
      "execution_count": null,
      "outputs": []
    },
    {
      "cell_type": "markdown",
      "source": [
        "##Popping an Element\n",
        "The **pop()** method removes an element from a list\n",
        "- pop refers to the pop operation used in a stack (a data structure)\n",
        "- stacks also use a push operation not provided in Python\n",
        "-If an index is not provided, removes the last element, otherwise the element at the specified index is removed\n",
        "- Decreases length of list by 1\n",
        "- If an item at a specified index is not found, an IndexError is raised (“pop index out of range”)\n",
        "- If the list is empty, pop with no index argument raises an IndexError (“IndexError: pop from empty list”)"
      ],
      "metadata": {
        "id": "v898aJJChOLq"
      }
    },
    {
      "cell_type": "code",
      "source": [
        "stats = [48.0, 30.5, 20.2, 100.0]\n",
        "print(stats)\n",
        "# remove 100.0 from end of list\n",
        "stats.pop()\n",
        "print(stats)\n",
        "# remove 30.5 based on specified index\n",
        "stats.pop(1)\n",
        "print(stats)"
      ],
      "metadata": {
        "id": "rwkOiKMphhMP"
      },
      "execution_count": null,
      "outputs": []
    },
    {
      "cell_type": "markdown",
      "source": [
        "##Saving the Popped Element\n",
        "pop() returns the popped element, allowing the removed element to be saved in a variable or printed"
      ],
      "metadata": {
        "id": "5oSvin4GjBA5"
      }
    },
    {
      "cell_type": "code",
      "source": [
        "stats = [48.0, 30.5, 20.2, 100.0]\n",
        "print(stats)\n",
        "\n",
        "# get the last element\n",
        "last_element = stats.pop()\n",
        "\n",
        "# get the first element\n",
        "first_element = stats.pop(0)\n",
        "\n",
        "# add them together\n",
        "print(last_element + first_element)"
      ],
      "metadata": {
        "id": "R5o8vqL7jGKr"
      },
      "execution_count": null,
      "outputs": []
    },
    {
      "cell_type": "markdown",
      "source": [
        "##Sorting a List\n",
        "The <b>sort() method</b> sorts a list <b>in place</b> (\"permanently\")"
      ],
      "metadata": {
        "id": "1KPlomo7NhEE"
      }
    },
    {
      "cell_type": "code",
      "source": [
        "stats = [48.0, 30.5, 20.2, 100.0]\n",
        "stats.sort()\n",
        "print(stats)"
      ],
      "metadata": {
        "id": "it1INWnvNoid"
      },
      "execution_count": null,
      "outputs": []
    },
    {
      "cell_type": "markdown",
      "source": [
        "The <b>sorted() function</b> returns a sorted <b>copy</b> of the list\n",
        "- Does not modify the original list\n",
        "- The copy can be assigned to a variable\n"
      ],
      "metadata": {
        "id": "oukBkmJ6Nw2q"
      }
    },
    {
      "cell_type": "code",
      "source": [
        "stats = [48.0, 30.5, 20.2, 100.0]\n",
        "sorted_stats = sorted(stats)\n",
        "print(stats)\n",
        "print(sorted_stats)"
      ],
      "metadata": {
        "id": "8rv-OvJoOA6K"
      },
      "execution_count": null,
      "outputs": []
    },
    {
      "cell_type": "markdown",
      "source": [
        "##Reversing a List\n",
        "Use the reverse() method to reverse a list's order\n",
        "- Modifies the original list\n",
        "- Does not sort\n",
        "- To restore to original, just call reverse() again"
      ],
      "metadata": {
        "id": "J658o8AkOd_8"
      }
    },
    {
      "cell_type": "code",
      "source": [
        "stats = [48.0, 30.5, 20.2, 100.0]\n",
        "# reverse the list\n",
        "stats.reverse()\n",
        "print(stats)\n",
        "# restore original order\n",
        "stats.reverse()\n",
        "print(stats)"
      ],
      "metadata": {
        "id": "9SnTYaezOg68"
      },
      "execution_count": null,
      "outputs": []
    },
    {
      "cell_type": "markdown",
      "source": [
        "##Lists of Lists\n",
        "A two-dimensional list is a \"list of lists“"
      ],
      "metadata": {
        "id": "ruH2eroMOxAQ"
      }
    },
    {
      "cell_type": "code",
      "source": [
        "# create a 3-row, 4-column list of student scores\n",
        "students = [[\"Joel\", 85, 95, 70],\n",
        "            [\"Anne\", 95, 100, 100],\n",
        "            [\"Mike\", 77, 70, 80]]\n",
        "print(students)"
      ],
      "metadata": {
        "id": "4B64QuBfO2gh"
      },
      "execution_count": null,
      "outputs": []
    },
    {
      "cell_type": "markdown",
      "source": [
        "Use 0-based indexing to access at various levels"
      ],
      "metadata": {
        "id": "feL8Z1tIPClE"
      }
    },
    {
      "cell_type": "code",
      "source": [
        "print(students)\n",
        "# first list element\n",
        "print(students[0])\n",
        "# first score of the first list\n",
        "print(students[0][1])\n",
        "# Change one score\n",
        "students[0][1]=95\n",
        "print(students[0])"
      ],
      "metadata": {
        "id": "IEZ2E5poPHC-"
      },
      "execution_count": null,
      "outputs": []
    },
    {
      "cell_type": "markdown",
      "source": [
        "##Appending an Element to a Two-Dimensional List"
      ],
      "metadata": {
        "id": "i-BBJnR8Pcz_"
      }
    },
    {
      "cell_type": "code",
      "source": [
        "print(students)\n",
        "\n",
        "# create an new student list\n",
        "student = []\n",
        "student.append(\"Mary\")\n",
        "student.append(100)\n",
        "student.append(85)\n",
        "student.append(87)\n",
        "\n",
        "students.append(student)\n",
        "print(students)"
      ],
      "metadata": {
        "id": "a4t3_pFMPgUd"
      },
      "execution_count": null,
      "outputs": []
    },
    {
      "cell_type": "markdown",
      "source": [
        "##Inserting an Element Into a Two-Dimensional List"
      ],
      "metadata": {
        "id": "MFvqOBwnPtrJ"
      }
    },
    {
      "cell_type": "code",
      "source": [
        "student2 = []\n",
        "student2.append(\"Jamaal\")\n",
        "student2.append(90)\n",
        "student2.append(92)\n",
        "student2.append(88)\n",
        "students.insert(1,student2)\n",
        "print(students)"
      ],
      "metadata": {
        "id": "wdRnyd3UPyiq"
      },
      "execution_count": null,
      "outputs": []
    },
    {
      "cell_type": "markdown",
      "source": [
        "##Removing Elements From a Two-Dimensional List"
      ],
      "metadata": {
        "id": "0SdIbqWIP8b6"
      }
    },
    {
      "cell_type": "code",
      "source": [
        "print(students)\n",
        "# pop the third list element\n",
        "students.pop(2)\n",
        "print(students)\n",
        "\n",
        "# pop the fourth element from the third list elemet\n",
        "students[2].pop(3)\n",
        "print(students)"
      ],
      "metadata": {
        "id": "bo-vd3BbQA6K"
      },
      "execution_count": null,
      "outputs": []
    },
    {
      "cell_type": "markdown",
      "source": [
        "#Lists and Loops"
      ],
      "metadata": {
        "id": "wXniy3h3Q1e7"
      }
    },
    {
      "cell_type": "markdown",
      "source": [
        "##Lists and the For Loop\n",
        "A for loop runs once for each value in a collection (e.g., a list)\n",
        "- Recall that the range() function produces a collection of integers\n",
        " for number in range(5):\n",
        "     print(number, end=\" \")\n",
        " print(\"\\nThe loop has ended.\")"
      ],
      "metadata": {
        "id": "ML4-W2DAQ36C"
      }
    },
    {
      "cell_type": "code",
      "source": [
        "for number in range(5):\n",
        "    print(number, end=\" \")\n",
        "print(\"\\nThe loop has ended.\")"
      ],
      "metadata": {
        "id": "NttWMSHXRHIl"
      },
      "execution_count": null,
      "outputs": []
    },
    {
      "cell_type": "markdown",
      "source": [
        "The for loop in Python is knowns as a \"count-controlled\" loop\n",
        "- It is also known as a \"collection-controlled\" loop when operating with lists\n",
        "- Here is the sum loop that was presented in the day 1 content, this time using a list of values to sum:"
      ],
      "metadata": {
        "id": "nV26zd-pRT9u"
      }
    },
    {
      "cell_type": "code",
      "source": [
        "sum_nums = 0      # accumulator\n",
        "num_list = [1, 2, 3, 4, 5]\n",
        "for number in num_list:\n",
        "   sum_nums = sum_nums + number\n",
        "print(\"The sum of 1 to 5 is \" + str(sum_nums))"
      ],
      "metadata": {
        "id": "3zGt-IutRqT1"
      },
      "execution_count": null,
      "outputs": []
    },
    {
      "cell_type": "markdown",
      "source": [
        "Note: <b>never</b> name the accumulator \"sum\"\n",
        "- sum is a function name and using the name for a variable will \"shadow\" the function (make it unavailable)"
      ],
      "metadata": {
        "id": "4yBcRdAiR7FT"
      }
    },
    {
      "cell_type": "code",
      "source": [
        "sum = 0      # accumulator\n",
        "num_list = [1, 2, 3, 4, 5]\n",
        "for number in num_list:\n",
        "   sum = sum + number\n",
        "print(\"The sum of 1 to 5 is \" + str(sum))\n",
        "\n",
        "# here is another way - the loop isn't actually needed\n",
        "# uncomment to demonstrate shadowing\n",
        "# print(sum([1,2,3,4,5]))  # TypeError: 'int' object is not callable\n",
        "\n",
        "del sum  # this will undo the error caused by shadowing\n",
        "print('The sum of 1 to 5 is',sum([1,2,3,4,5]))\n"
      ],
      "metadata": {
        "id": "X-yO04pzSTPJ"
      },
      "execution_count": null,
      "outputs": []
    },
    {
      "cell_type": "markdown",
      "source": [
        "##More List/Loop Examples"
      ],
      "metadata": {
        "id": "AbIEU6ZITBJK"
      }
    },
    {
      "cell_type": "code",
      "source": [
        "# list the magicians by name\n",
        "magicians = ['alice', 'david', 'carolina']\n",
        "for magician in magicians:\n",
        "   print(magician)\n",
        "\n",
        "for magician in magicians:\n",
        "   print(f\"{magician.title()}, that was a great trick!\")"
      ],
      "metadata": {
        "id": "7kGdtsDgTD7L"
      },
      "execution_count": null,
      "outputs": []
    },
    {
      "cell_type": "code",
      "source": [
        "# calculate squares from 1 to 10, insert into list\n",
        "# start with an empty list\n",
        "squares = []\n",
        "for value in range(1,11):\n",
        "   squares.append(value ** 2)     # append square to list\n",
        "\n",
        "print(squares)"
      ],
      "metadata": {
        "id": "rIVQYIjjTRcr"
      },
      "execution_count": null,
      "outputs": []
    },
    {
      "cell_type": "markdown",
      "source": [
        "##Common for Loop Errors\n",
        "- Forgetting to indent all statements in the loop body\n",
        "- Indenting a statement that should not be in the loop body\n",
        "- Forgetting the colon\n"
      ],
      "metadata": {
        "id": "Bri2UcUpTcQW"
      }
    },
    {
      "cell_type": "markdown",
      "source": [
        "##List Comprehensions\n",
        "A <b>list comprehension</b> allows more efficient coding by combining the for loop and creation of list elements into a single line"
      ],
      "metadata": {
        "id": "9fMWkoFTTpG7"
      }
    },
    {
      "cell_type": "code",
      "source": [
        "squares = [value**2 for value in range(1, 11)] # no colon after for!\n",
        "print(squares)\n",
        "\n",
        "# print first initial of each name in list\n",
        "list_of_names = [\"Tom\", \"David\", \"Sally\", \"Pamela\", \"Robert\"]\n",
        "\n",
        "# take first letter of each name\n",
        "initials = [name[0] for name in list_of_names]\n",
        "print(initials)"
      ],
      "metadata": {
        "id": "SSookbJaTwtZ"
      },
      "execution_count": null,
      "outputs": []
    },
    {
      "cell_type": "markdown",
      "source": [
        "##Slicing a List\n",
        "A list <b>slice</b> is a specific group of items in a list\n",
        "- To create a slice, specify the first and last index\n",
        "- As with range(), Python stops one item before the last index"
      ],
      "metadata": {
        "id": "WM4P_vFzT5T9"
      }
    },
    {
      "cell_type": "code",
      "source": [
        "players = ['charles','martina','michael','florence','eli']\n",
        "\n",
        "# create a slice that contains elements 0, 1, 2\n",
        "print(players[0:3])\n",
        "\n",
        "# create a slice that contains elements 1, 2, 3\n",
        "print(players[1:4])"
      ],
      "metadata": {
        "id": "TF4bMJhcT-rG"
      },
      "execution_count": null,
      "outputs": []
    },
    {
      "cell_type": "markdown",
      "source": [
        "##More Slice Examples"
      ],
      "metadata": {
        "id": "d84UKWnEUZW4"
      }
    },
    {
      "cell_type": "code",
      "source": [
        "players = ['charles','martina','michael','florence', 'eli']\n",
        "\n",
        "print(players[:4]) # omitting first index starts at beginning of list\n",
        "print(players[2:]) # omitting last index continues to end of list\n",
        "print(players[-3:]) # use a negative value to display last n elements of a list\n",
        "print(players[0:5:2]) # a 3rd value can be included to skip between items"
      ],
      "metadata": {
        "id": "hScPEIv5UbvT"
      },
      "execution_count": null,
      "outputs": []
    },
    {
      "cell_type": "markdown",
      "source": [
        "A slice can be used in a for loop:"
      ],
      "metadata": {
        "id": "nikBZdDwUpTJ"
      }
    },
    {
      "cell_type": "code",
      "source": [
        "players = ['charles', 'martina', 'michael', 'florence', 'eli']\n",
        "\n",
        "print(\"Here are the first three players on my team:\")\n",
        "for player in players[:3]:     # be careful with the colons\n",
        "    print(player.title())\n"
      ],
      "metadata": {
        "id": "czk-CjRgUsCt"
      },
      "execution_count": null,
      "outputs": []
    },
    {
      "cell_type": "markdown",
      "source": [
        "Slices can be used to make new lists"
      ],
      "metadata": {
        "id": "PqaYzP-3U6-o"
      }
    },
    {
      "cell_type": "code",
      "source": [
        "my_foods = ['pizza', 'falafel', 'carrot cake']\n",
        "\n",
        "friend_foods = my_foods[:]\n",
        "print(\"My favorite foods are:\")\n",
        "print(my_foods)\n",
        "\n",
        "print(\"\\nMy friend's favorite foods are:\")\n",
        "print(friend_foods)\n"
      ],
      "metadata": {
        "id": "vqXTjsu3VAPl"
      },
      "execution_count": null,
      "outputs": []
    },
    {
      "cell_type": "markdown",
      "source": [
        "Individualize each list to show they are indeed copies"
      ],
      "metadata": {
        "id": "_P2oMmUdVL05"
      }
    },
    {
      "cell_type": "code",
      "source": [
        "my_foods = ['pizza', 'falafel', 'carrot cake']\n",
        "friend_foods = my_foods[:]\n",
        "\n",
        "my_foods.append('cannoli')\n",
        "friend_foods.append('ice cream')\n",
        "print(\"My favorite foods are:\")\n",
        "print(my_foods)\n",
        "\n",
        "print(\"\\nMy friend's favorite foods are:\")\n",
        "print(friend_foods)"
      ],
      "metadata": {
        "id": "Km9kjxNGVQO3"
      },
      "execution_count": null,
      "outputs": []
    },
    {
      "cell_type": "markdown",
      "source": [
        "Simple assignment <b>cannot</b> be used to copy lists, slice notation [:] must be used"
      ],
      "metadata": {
        "id": "gAkSAP6TVl-F"
      }
    },
    {
      "cell_type": "code",
      "source": [
        "my_foods = ['pizza','falafel','carrot cake']\n",
        "friend_foods = my_foods  # same list, not a copy\n",
        "print(my_foods,friend_foods)\n",
        "\n",
        "# This assignment creates a second reference to the first list,\n",
        "# it doesn't create a copy\n",
        "\n",
        "my_foods.append('cannoli')\n",
        "print(my_foods,friend_foods) # same list so both get cannoli\n"
      ],
      "metadata": {
        "id": "fuy2zYexVpRk"
      },
      "execution_count": null,
      "outputs": []
    },
    {
      "cell_type": "markdown",
      "source": [
        "#Tuples\n",
        "A Python tuple is similar to a list, but a tuple is <b>immutable</b> (cannot be changed), whereas a list is <b>mutable</b> (can be changed)\n",
        "- Cannot append to tuples\n",
        "- Cannot replace tuple elements\n",
        "- Cannot delete tuple elements\n",
        "\n",
        "###Advantages:\n",
        "- faster\n",
        "- less \"side effects\" (errors) when coding\n"
      ],
      "metadata": {
        "id": "K_Ch0AdwWfgG"
      }
    },
    {
      "cell_type": "markdown",
      "source": [
        "##Creating a tuple:\n",
        "- Use parentheses instead of brackets"
      ],
      "metadata": {
        "id": "h0UCQ33aXNOH"
      }
    },
    {
      "cell_type": "code",
      "source": [
        "stats = (48.0, 30.5, 20.2, 100.0, 48.0)"
      ],
      "metadata": {
        "id": "5lWgDjxKXT0R"
      },
      "execution_count": null,
      "outputs": []
    },
    {
      "cell_type": "markdown",
      "source": [
        "##Accessing elements:"
      ],
      "metadata": {
        "id": "lvcSH3hFXaGc"
      }
    },
    {
      "cell_type": "code",
      "source": [
        "scores = (\"Jim\", 75, 89, 93)\n",
        "score = scores[0]    # \"Jim\""
      ],
      "metadata": {
        "id": "Kp6IF34xXcva"
      },
      "execution_count": null,
      "outputs": []
    },
    {
      "cell_type": "markdown",
      "source": [
        "Remember that tuple elements cannot be changed:\n"
      ],
      "metadata": {
        "id": "TO7uqCKZXisG"
      }
    },
    {
      "cell_type": "code",
      "source": [
        "scores[1] = 97  # TypeError: 'tuple' object does not support item assignment"
      ],
      "metadata": {
        "id": "JD-PNNg1Xlgx"
      },
      "execution_count": null,
      "outputs": []
    },
    {
      "cell_type": "markdown",
      "source": [
        "##Unpacking Tuples\n",
        "- Given this tuple:\n",
        "  <pre>scores = (\"Jim\", 75, 89, 93)</pre>\n",
        "- The tuple can be \"unpacked\" using a multiple assignment statement:\n",
        "- This assigns each tuple element to a separate variable"
      ],
      "metadata": {
        "id": "a9HBApaBXzNH"
      }
    },
    {
      "cell_type": "code",
      "source": [
        "scores = (\"Jim\", 75, 89, 93)\n",
        "name, score1, score2, score3 = scores\n",
        "print(name)\n",
        "print(score1)\n",
        "print(score2)\n",
        "print(score3)"
      ],
      "metadata": {
        "id": "GjedqX-JXlrk"
      },
      "execution_count": null,
      "outputs": []
    },
    {
      "cell_type": "markdown",
      "source": [
        "As with lists, for loops can be used with tuples"
      ],
      "metadata": {
        "id": "37EZZWHrYXUs"
      }
    },
    {
      "cell_type": "code",
      "source": [
        "dimensions = (200, 50)\n",
        "for dimension in dimensions:\n",
        "    print(dimension)"
      ],
      "metadata": {
        "id": "OUWP3VbIYZcS"
      },
      "execution_count": null,
      "outputs": []
    },
    {
      "cell_type": "markdown",
      "source": [
        "\n",
        "Although tuples cannot be modified, they can be reassigned"
      ],
      "metadata": {
        "id": "3kQigulBYkEF"
      }
    },
    {
      "cell_type": "code",
      "source": [
        "dimensions = (200, 50)\n",
        "# reassign after initial assignment\n",
        "dimensions = (400, 100)\n",
        "for dimension in dimensions:\n",
        "    print(dimension)   # new tuple, new values"
      ],
      "metadata": {
        "id": "LWksajUkYm6D"
      },
      "execution_count": null,
      "outputs": []
    }
  ]
}