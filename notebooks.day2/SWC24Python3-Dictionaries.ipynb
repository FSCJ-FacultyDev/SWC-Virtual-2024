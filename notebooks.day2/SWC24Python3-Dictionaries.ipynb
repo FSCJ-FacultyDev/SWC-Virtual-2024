{
  "nbformat": 4,
  "nbformat_minor": 0,
  "metadata": {
    "colab": {
      "provenance": []
    },
    "kernelspec": {
      "name": "python3",
      "display_name": "Python 3"
    },
    "language_info": {
      "name": "python"
    }
  },
  "cells": [
    {
      "cell_type": "markdown",
      "source": [
        "#Dictionaries"
      ],
      "metadata": {
        "id": "Ye9NUR50fEW4"
      }
    },
    {
      "cell_type": "markdown",
      "source": [
        "A dictionary is a <b>mutable, unordered collection</b> of data values used to store data values like a map (also known as an associative array)\n",
        "- Unlike other data types that store a single value as an element, dictionaries store <b>key-value pairs</b>.\n",
        "\n",
        "  <img src=\"https://github.com/FSCJ-WorkingConnections/WinterWorkingConnections2023/blob/main/notebooks.day2/images/KeyValuePairs.png?raw=true\" width=300 height=150/>\n",
        "\n",
        "- Dictionaries are defined by enclosing a comma-separated sequence of key-value pairs within curly braces {}\n",
        "- Keys in a dictionary <b>must be unique</b> and can be of any <b>immutable type</b>, such as strings, numbers, or tuples, while the values can be of <b>any</b> data type and can be repeated.\n",
        "- Dictionaries are optimized for retrieving data (values) when the key is known.\n",
        "- They are particularly useful for efficient data lookup, data manipulation, and for managing data that is more naturally stored as a 'named collection' (like the attributes of an entity or object).\n",
        "- Each key-value pair in a dictionary is separated by a colon : and each key is separated from its value by a comma.\n",
        "- As of Python 3.7, items in a Python dictionary are indeed stored in the order in which they are added.\n"
      ],
      "metadata": {
        "id": "1EuDAoPQAr3G"
      }
    },
    {
      "cell_type": "code",
      "source": [
        "# 'color' is a key and 'green' is the associated value in the following\n",
        "# 'points' is a key and 5 is the associated value\n",
        "alien_1 = { 'color' : 'green', 'points' : 5 }\n",
        "\n",
        "# A value can be looked up using the key\n",
        "print('the alien is', alien_1['color'])\n",
        "print('and is worth', alien_1['points'], 'points')\n"
      ],
      "metadata": {
        "id": "FCNgT9gUAujH"
      },
      "execution_count": null,
      "outputs": []
    },
    {
      "cell_type": "code",
      "source": [
        "# strings as keys and values\n",
        "countries = {\"CA\": \"Canada\", \"US\": \"United States\", \"MX\":\"Mexico\"}\n",
        "print(countries)\n",
        "\n",
        "# numbers as keys, strings as values\n",
        "numbers = {1: \"One\", 2: \"Two\", 3: \"Three\", 4: \"Four\", 5: \"Five\"}\n",
        "print(numbers)\n",
        "\n",
        "# strings as keys, values of mixed types\n",
        "movie = { \"name\": \"The Holy Grail\", \"year\": 1975, \"price\": 9.99}\n",
        "print(movie)\n",
        "\n",
        "# an empty dictionary\n",
        "book_catalog = {}\n",
        "print(book_catalog)"
      ],
      "metadata": {
        "id": "G-ooT0l6U8MM"
      },
      "execution_count": null,
      "outputs": []
    },
    {
      "cell_type": "markdown",
      "source": [
        "##Accessing Dictionary Values Using Keys\n",
        "dictionary_name[key] is used to access a value associated with \"key\"\n",
        "- if a key does not exist, an error occurs\n"
      ],
      "metadata": {
        "id": "h6Up_8bgVR0k"
      }
    },
    {
      "cell_type": "code",
      "source": [
        "countries = {\"CA\": \"Canada\",\n",
        "             \"US\": \"United States\",\n",
        "             \"GB\": \"Great Britain\",\n",
        "             \"MX\": \"Mexico\"}\n",
        "\n",
        "print(countries[\"MX\"])\n",
        "print(countries[\"IE\"])"
      ],
      "metadata": {
        "id": "N3rpMMvYVcRj"
      },
      "execution_count": null,
      "outputs": []
    },
    {
      "cell_type": "markdown",
      "source": [
        "If a key is already present, we can modify the existing value:"
      ],
      "metadata": {
        "id": "OuOzCuwUVn8H"
      }
    },
    {
      "cell_type": "code",
      "source": [
        "countries[\"GB\"] = \"United Kingdom\"\n",
        "print(countries)"
      ],
      "metadata": {
        "id": "2qB6fzd1Vq3v"
      },
      "execution_count": null,
      "outputs": []
    },
    {
      "cell_type": "markdown",
      "source": [
        "If a key is not present, we can add a key/value pair:"
      ],
      "metadata": {
        "id": "QhVUjzxsVvXQ"
      }
    },
    {
      "cell_type": "code",
      "source": [
        "countries[\"FR\"] = \"France\"\n",
        "print(countries)"
      ],
      "metadata": {
        "id": "1TXGAEebVxvH"
      },
      "execution_count": null,
      "outputs": []
    },
    {
      "cell_type": "markdown",
      "source": [
        "##Checking if a Key Exists Using If"
      ],
      "metadata": {
        "id": "5JVXQklIpVa9"
      }
    },
    {
      "cell_type": "code",
      "source": [
        "countries = {\"CA\": \"Canada\",\n",
        "             \"US\": \"United States\",\n",
        "             \"GB\": \"Great Britain\",\n",
        "             \"MX\": \"Mexico\"}\n",
        "\n",
        "code = \"IE\"\n",
        "if code in countries:\n",
        "    country = countries[code]\n",
        "    print(country)\n",
        "else:\n",
        "    print(\"There is no country for this code: \" + code)"
      ],
      "metadata": {
        "id": "diwKjQ6EpeuH"
      },
      "execution_count": null,
      "outputs": []
    },
    {
      "cell_type": "markdown",
      "source": [
        "##Using the get() Method to Access Dictionary Values\n",
        "**get()** returns the value of the item with the specified key\n",
        "  <pre>\n",
        "  dictionary_name.get( key [, default_value] )\n",
        "  </pre>"
      ],
      "metadata": {
        "id": "_ewlums0p8KO"
      }
    },
    {
      "cell_type": "code",
      "source": [
        "countries = {\"CA\": \"Canada\",\n",
        "             \"US\": \"United States\",\n",
        "             \"GB\": \"Great Britain\",\n",
        "             \"MX\": \"Mexico\"}\n",
        "\n",
        "print(countries.get(\"MX\"))\n",
        "print(countries.get(\"IE\"))\n",
        "print(countries.get(\"IE\", \"Unknown\"))"
      ],
      "metadata": {
        "id": "Rad1QE-eqOOG"
      },
      "execution_count": null,
      "outputs": []
    },
    {
      "cell_type": "markdown",
      "source": [
        "##Difference Between get() and Brackets [ ]\n",
        "The difference while using get() vs. square brackets []:\n",
        "- get() returns None instead of raising a KeyError if the key is not found"
      ],
      "metadata": {
        "id": "sPWxGTUZqiA7"
      }
    },
    {
      "cell_type": "code",
      "source": [
        "countries = {\"CA\": \"Canada\",\n",
        "             \"US\": \"United States\",\n",
        "             \"GB\": \"Great Britain\",\n",
        "             \"MX\": \"Mexico\"}\n",
        "\n",
        "country = countries.get(\"IE\")\n",
        "print(country)\n",
        "\n",
        "country = countries[\"IE\"]\n",
        "print(country)\n"
      ],
      "metadata": {
        "id": "T11Yx0EhqqB9"
      },
      "execution_count": null,
      "outputs": []
    },
    {
      "cell_type": "markdown",
      "source": [
        "##Deleting an Item from a Dictionary\n",
        "To delete using a key:"
      ],
      "metadata": {
        "id": "4vRRVK0h9iBz"
      }
    },
    {
      "cell_type": "code",
      "source": [
        "countries = {\"CA\": \"Canada\",\n",
        "             \"US\": \"United States\",\n",
        "             \"GB\": \"Great Britain\",\n",
        "             \"MX\": \"Mexico\"}\n",
        "del countries[\"MX\"]\n",
        "print(countries)\n",
        "del countries[\"IE\"]"
      ],
      "metadata": {
        "id": "H8r5IVKJ9tUA"
      },
      "execution_count": null,
      "outputs": []
    },
    {
      "cell_type": "markdown",
      "source": [
        "You can check For a key before deleting:"
      ],
      "metadata": {
        "id": "Oo6pTG9F-C5I"
      }
    },
    {
      "cell_type": "code",
      "source": [
        "countries = {\"CA\": \"Canada\",\n",
        "             \"US\": \"United States\",\n",
        "             \"GB\": \"Great Britain\",\n",
        "             \"MX\": \"Mexico\"}\n",
        "code = \"IE\"\n",
        "if code in countries:\n",
        "    country = countries[code]\n",
        "    del countries[code]\n",
        "    print(country + \" was deleted.\")\n",
        "else:\n",
        "    print(\"There is no country for this code: \" + code)"
      ],
      "metadata": {
        "id": "tzKyhAUu-IkN"
      },
      "execution_count": null,
      "outputs": []
    },
    {
      "cell_type": "markdown",
      "source": [
        "##Other Methods for Deleting\n",
        "- pop() returns the value of the deleted item, instead of just deleting it"
      ],
      "metadata": {
        "id": "WhQ4IG0L-UT1"
      }
    },
    {
      "cell_type": "code",
      "source": [
        "countries = {\"CA\": \"Canada\",\n",
        "             \"US\": \"United States\",\n",
        "             \"GB\": \"Great Britain\",\n",
        "             \"MX\": \"Mexico\"}\n",
        "country = countries.pop(\"US\")\n",
        "print(country)\n",
        "\n",
        "# non-existent keys can crash us\n",
        "#print(countries.pop(\"IE\"))\n",
        "# instead, provide an optional argument to handle it\n",
        "print(countries.pop(\"IE\", \"Does Not Exist\"))"
      ],
      "metadata": {
        "id": "NfspwIJh-YX2"
      },
      "execution_count": null,
      "outputs": []
    },
    {
      "cell_type": "markdown",
      "source": [
        "The clear() method removes all items from a list\n"
      ],
      "metadata": {
        "id": "WF6y6Vv5_DdT"
      }
    },
    {
      "cell_type": "code",
      "source": [
        "countries = {\"CA\": \"Canada\",\n",
        "             \"US\": \"United States\",\n",
        "             \"GB\": \"Great Britain\",\n",
        "             \"MX\": \"Mexico\"}\n",
        "print(countries)\n",
        "countries.clear()\n",
        "print(countries)"
      ],
      "metadata": {
        "id": "VPp5lZ-5_F-Y"
      },
      "execution_count": null,
      "outputs": []
    },
    {
      "cell_type": "markdown",
      "source": [
        "##For Loops and Dictionaries\n",
        "A for loop can be used to iterate through a dictionary"
      ],
      "metadata": {
        "id": "IeWACmKb_ff7"
      }
    },
    {
      "cell_type": "code",
      "source": [
        "countries = {\"CA\": \"Canada\",\n",
        "             \"US\": \"United States\",\n",
        "             \"GB\": \"Great Britain\",\n",
        "             \"MX\": \"Mexico\"}\n",
        "for code in countries.keys():\n",
        "    print(code, countries[code], sep='\\t')"
      ],
      "metadata": {
        "id": "51p_kO3X_iCy"
      },
      "execution_count": null,
      "outputs": []
    },
    {
      "cell_type": "markdown",
      "source": [
        "countries.keys() does not need to be specified, Python provides an implicit key <b>iterator</b> when using a for loop"
      ],
      "metadata": {
        "id": "YXcr218z_4vD"
      }
    },
    {
      "cell_type": "code",
      "source": [
        "for code in countries:\n",
        "    print(code, countries[code], sep='\\t')"
      ],
      "metadata": {
        "id": "vFUbK7NT_8oc"
      },
      "execution_count": null,
      "outputs": []
    },
    {
      "cell_type": "markdown",
      "source": [
        "The items() method returns tuples of (key, value)"
      ],
      "metadata": {
        "id": "lgbRRF-sAMmD"
      }
    },
    {
      "cell_type": "code",
      "source": [
        "# unpack each tuple pair into the code and name variables\n",
        "for code, name in countries.items():\n",
        "    print(code + \"     \" + name)"
      ],
      "metadata": {
        "id": "vlPFmaG8APlI"
      },
      "execution_count": null,
      "outputs": []
    },
    {
      "cell_type": "markdown",
      "source": [
        "values() returns only the values"
      ],
      "metadata": {
        "id": "rFsV5dssAfLG"
      }
    },
    {
      "cell_type": "code",
      "source": [
        "for name in countries.values():\n",
        "    print(name)"
      ],
      "metadata": {
        "id": "Vx6Tk5VlAhhi"
      },
      "execution_count": null,
      "outputs": []
    },
    {
      "cell_type": "markdown",
      "source": [
        "##Sorting a Dictionary's Keys"
      ],
      "metadata": {
        "id": "g1_sN7mbAq_t"
      }
    },
    {
      "cell_type": "code",
      "source": [
        "favorite_languages= {\t'jen' : 'Python', 'sarah' : 'C++',   'edward' : 'ruby',\n",
        "                     'phil' : 'Python', 'robert' : 'Java' }\n",
        "\n",
        "for name in favorite_languages:\n",
        "   print(name, favorite_languages[name], sep=', ')\n",
        "print('\\nSORTED:')\n",
        "for name in sorted(favorite_languages):\n",
        "   print(name, favorite_languages[name], sep=', ')"
      ],
      "metadata": {
        "id": "5hp1LqCXAuAd"
      },
      "execution_count": null,
      "outputs": []
    },
    {
      "cell_type": "markdown",
      "source": [
        "##Creating a List From a Dictionary\n",
        "<b>list(dictionary)</b> can be used to create a list of keys from a dictionary"
      ],
      "metadata": {
        "id": "T3-XdTLVBCEu"
      }
    },
    {
      "cell_type": "code",
      "source": [
        "countries = {\"CA\": \"Canada\", \"US\": \"United States\", \"MX\": \"Mexico\"}\n",
        "codes = list(countries.keys())\n",
        "print(codes)\n",
        "codes.sort()\n",
        "for code in codes:\n",
        "   print(code, countries[code], sep='\\t')"
      ],
      "metadata": {
        "id": "j8V9G7MHBSOG"
      },
      "execution_count": null,
      "outputs": []
    },
    {
      "cell_type": "markdown",
      "source": [
        "##Dictionary Views\n",
        "A <b>view</b> is a \"window\" which represents components of a dictionary\n",
        "- Views are not copies!\n",
        "- Modifying the original dictionary also modifies the view"
      ],
      "metadata": {
        "id": "a-IjWebdBsaK"
      }
    },
    {
      "cell_type": "code",
      "source": [
        "dishes = {'eggs': 2, 'sausage': 1, 'bacon': 1, 'spam': 500}\n",
        "keys = dishes.keys()  # keys is a view\n",
        "values = dishes.values()  # values is a view\n",
        "\n",
        "print(keys)\n",
        "print(values)\n"
      ],
      "metadata": {
        "id": "gxDLxkPCCO3F"
      },
      "execution_count": null,
      "outputs": []
    },
    {
      "cell_type": "markdown",
      "source": [
        "<img src=\"https://github.com/FSCJ-WorkingConnections/WinterWorkingConnections2023/blob/main/notebooks.day2/images/spam.png?raw=true\" width=300 height=150/>\n",
        "\n",
        "View objects are dynamic and reflect dictionary changes"
      ],
      "metadata": {
        "id": "71iRYUt6Evuh"
      }
    },
    {
      "cell_type": "code",
      "source": [
        "print('adding spam!')\n",
        "dishes['more spam'] = 200\n",
        "print()\n",
        "print(keys)\n",
        "print(values)\n",
        "\n",
        "print('\\ndeleting eggs!')\n",
        "del dishes['eggs']  # delete from full dictionary\n",
        "print(keys)\n",
        "print(values)"
      ],
      "metadata": {
        "id": "L_h5jSbsE3JF"
      },
      "execution_count": null,
      "outputs": []
    },
    {
      "cell_type": "markdown",
      "source": [
        "##Nesting Dictionaries and Lists\n",
        "\n",
        "- Dictionaries can be nested in a list\n",
        "- A list can be nested in a dictionary (as a value, not as a key)\n",
        "- A dictionary can be nested in another dictionary (as a value)\n",
        "\n",
        "  <img src=\"https://github.com/FSCJ-WorkingConnections/WinterWorkingConnections2023/blob/main/notebooks.day2/images/NestingDictionaries.png?raw=true\" width=300 height=150/>\n"
      ],
      "metadata": {
        "id": "sLVS12X8FyIU"
      }
    },
    {
      "cell_type": "code",
      "source": [
        "# A list of dictionaries\n",
        "alien_0 = { 'color' : 'green', 'points' : 5 }\n",
        "alien_1 = { 'color' : 'yellow', 'points' : 10 }\n",
        "alien_2 = { 'color' : 'red', 'points' : 15 }\n",
        "\n",
        "aliens = [ alien_0, alien_1, alien_2 ]\n",
        "\n",
        "for alien in aliens:\n",
        "    print('alien:', alien)"
      ],
      "metadata": {
        "id": "4wfJSF-fGb1r"
      },
      "execution_count": null,
      "outputs": []
    },
    {
      "cell_type": "code",
      "source": [
        "# A dictionary of lists\n",
        "pizza = { 'crust' : ['thick', 'stuffed'],\n",
        "          'toppings' : ['mushrooms', 'extra cheese'],\n",
        "          'sauce' : ['tomato', 'fennel', 'basil'] }\n",
        "for p in pizza:\n",
        "    print(p, pizza.get(p))\n"
      ],
      "metadata": {
        "id": "qRELLDA7GkGP"
      },
      "execution_count": null,
      "outputs": []
    },
    {
      "cell_type": "code",
      "source": [
        "# A dictionary of dictionaries\n",
        "users = { 'aeinstein' : { 'first' : 'albert', 'last' : 'einstein',\n",
        "                          'location' : 'princeton' },\n",
        "          'mcurie'    : { 'first' : 'marie', 'last' : 'curie',\n",
        "                          'location' : 'paris' },\n",
        "          'nbohr'     : { 'first' : 'niels', 'last' : 'bohr',\n",
        "                          'location' : 'copenhagen' }\n",
        "        }\n",
        "\n",
        "for user in users:\n",
        "    print(user, end=':\\n')\n",
        "    user_info = users.get(user)\n",
        "    for info in user_info:\n",
        "        print('\\t', info, ':', user_info.get(info))"
      ],
      "metadata": {
        "id": "TMclyKIjGz_Y"
      },
      "execution_count": null,
      "outputs": []
    }
  ]
}