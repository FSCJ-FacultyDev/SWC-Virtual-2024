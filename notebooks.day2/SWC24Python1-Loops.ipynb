{
  "nbformat": 4,
  "nbformat_minor": 0,
  "metadata": {
    "colab": {
      "provenance": []
    },
    "kernelspec": {
      "name": "python3",
      "display_name": "Python 3"
    },
    "language_info": {
      "name": "python"
    }
  },
  "cells": [
    {
      "cell_type": "markdown",
      "source": [
        "#Loops"
      ],
      "metadata": {
        "id": "Ye9NUR50fEW4"
      }
    },
    {
      "cell_type": "markdown",
      "source": [
        "Loops are powerful tools that allow execution of a block of code repeatedly, making them essential for processing items in a list, performing calculations until a condition is met, or automating other repetitive tasks.\n",
        "\n",
        "The two primary types of loops in Python are the <b>for</b> loop and the <b>while</b> loop.\n"
      ],
      "metadata": {
        "id": "1EuDAoPQAr3G"
      }
    },
    {
      "cell_type": "markdown",
      "source": [
        "## While Loops\n",
        "\n",
        "The while loop is a <b>conditional</b> loop which continues executing as long as a specified condition remains true"
      ],
      "metadata": {
        "id": "YQkN67PS_NU5"
      }
    },
    {
      "cell_type": "code",
      "source": [
        "# Initialize a counter variable\n",
        "counter = 0\n",
        "\n",
        "# Loop as long as counter is less than 5 (this is the condition)\n",
        "while counter < 5:\n",
        "    print(\"Counter is:\", counter)\n",
        "    # Increment the counter\n",
        "    counter += 1\n",
        "\n",
        "print(\"Loop finished.\")"
      ],
      "metadata": {
        "id": "XE-3VH9s6-3A"
      },
      "execution_count": null,
      "outputs": []
    },
    {
      "cell_type": "markdown",
      "source": [
        "The while loop is a *pre-test* loop, which means the condition is evaluated before the loop statements are executed.\n",
        "- A post-test loop,  e.g. a \"do-while\" loop evaluates the condition after the loop statements are executed, but Python doesn't support do-while\n",
        "- A sentinel value is used in a loop to indicate a termination condition\n",
        "\n",
        "Sentinel values should be assigned so they are not interpreted as valid data\n",
        "\n",
        "Identify the sentinel values in the following examples:\n",
        "\n",
        "\n",
        "```\n",
        "print(\"Please enter a positive integer or 0 to exit: \")\n",
        "print(\"Please enter a name or \"x\" to exit: \")\n",
        "print(\"Continue? (y or n): \")\n",
        "```\n",
        "\n"
      ],
      "metadata": {
        "id": "8zN838AI7Vkk"
      }
    },
    {
      "cell_type": "code",
      "source": [
        "# Sentinel value\n",
        "SENTINEL = -1\n",
        "\n",
        "# Prompt the user for input\n",
        "print(\"Enter a number (or -1 to stop): \")\n",
        "\n",
        "# Start the loop\n",
        "number = int(input())\n",
        "while number != SENTINEL:\n",
        "    print(\"You entered:\", number)\n",
        "    # Ask for the next number\n",
        "    print(\"Enter another number (or -1 to stop): \")\n",
        "    number = int(input())\n",
        "\n",
        "print(\"Loop finished. Sentinel value reached.\")"
      ],
      "metadata": {
        "id": "Cp3Xp74P7UXZ"
      },
      "execution_count": null,
      "outputs": []
    },
    {
      "cell_type": "markdown",
      "source": [
        "## Try It!\n",
        "\n",
        "Write a Python program that repeatedly asks the user to guess a secret word until they guess it correctly. Use a while loop and string comparison to check the user's input.\n",
        "\n",
        "- Define a secret word.\n",
        "- Use a while loop to repeatedly ask the user to guess the secret word.\n",
        "- Use string comparison to check if the user's guess matches the secret word.\n",
        "- Print a congratulatory message when the user guesses the word correctly.\n",
        "\n",
        "**Sample Output**\n",
        "\n",
        "```\n",
        "Guess the secret word: java\n",
        "Incorrect. Try again!\n",
        "Guess the secret word: ruby\n",
        "Incorrect. Try again!\n",
        "Guess the secret word: python\n",
        "Congratulations! You guessed the secret word.\n",
        "Game over. You guessed it right!\n",
        "```"
      ],
      "metadata": {
        "id": "U7RnTTbtQqem"
      }
    },
    {
      "cell_type": "code",
      "source": [],
      "metadata": {
        "id": "ih0v0esMqlKX"
      },
      "execution_count": null,
      "outputs": []
    },
    {
      "cell_type": "markdown",
      "source": [
        "## Infinite Loops\n",
        "If a loop condition is never met, a loop can run “forever”\n",
        "\n",
        "- This is known as an <b>infinite</b> loop\n",
        "- Infinite loops are frequently the result of programming errors\n",
        "\n",
        "```\n",
        "while True:\n",
        "        # any statements here will run forever\n",
        "```\n",
        "\n",
        "\n",
        "\n"
      ],
      "metadata": {
        "id": "JXnMOQt08ym7"
      }
    },
    {
      "cell_type": "markdown",
      "source": [
        "## Nested Loops\n",
        "\n",
        "- While loops can be nested inside other while loops\n",
        "- (and for loops inside of while loops, and while loops inside of for loops, and for loops inside of for loops)\n",
        "- correct indentation is important for readability and required in Python"
      ],
      "metadata": {
        "id": "Mf74-d-q9Y7k"
      }
    },
    {
      "cell_type": "code",
      "source": [
        "# Nested Loop Demo\n",
        "\n",
        "# Outer loop counter\n",
        "outer_counter = 0\n",
        "\n",
        "# Outer loop runs 3 times\n",
        "while outer_counter < 3:\n",
        "    print(\"Outer Loop Iteration:\", outer_counter)\n",
        "\n",
        "    # Inner loop counter\n",
        "    inner_counter = 0\n",
        "\n",
        "    # Inner loop runs 2 times\n",
        "    while inner_counter < 2:\n",
        "        print(\"    Inner Loop Iteration:\", inner_counter)\n",
        "\n",
        "        # Increment the inner loop counter\n",
        "        inner_counter += 1\n",
        "\n",
        "    # Increment the outer loop counter\n",
        "    outer_counter += 1\n",
        "\n",
        "print(\"Nested loop completed.\")"
      ],
      "metadata": {
        "id": "bmqmliFs9bLt"
      },
      "execution_count": null,
      "outputs": []
    },
    {
      "cell_type": "markdown",
      "source": [
        "## Accumulators\n",
        "An <b>accumulator</b> is a variable which \"collects\", or  accumulates, values in a loop\n",
        "- Accumulators can be numeric (e.g. add or multiply values to a numeric accumulator) or string-based (concatenate to an accumulator string variable)\n",
        "- Always initialize the accumulator!\n",
        "- Never initialize an accumulator inside a loop where it is modified\n",
        "- When using an accumulator inside a nested loop, initialize the accumulator outside of the nested loop\n",
        "- When using a sentinel value, don't include the sentinel value when modifying the accumulator\n",
        "- While loops need a priming operation\n"
      ],
      "metadata": {
        "id": "sZpFiAVa-fLI"
      }
    },
    {
      "cell_type": "code",
      "source": [
        "# Accumulator Demo\n",
        "\n",
        "# Initialize the accumulator variable\n",
        "total = 0\n",
        "\n",
        "# Number of values to sum\n",
        "num_values = 5\n",
        "\n",
        "# Counter for the loop\n",
        "counter = 0\n",
        "\n",
        "print(f\"Enter {num_values} numbers to sum:\")\n",
        "\n",
        "# Loop until the counter reaches num_values\n",
        "while counter < num_values:\n",
        "    # Read a number from the user\n",
        "    number = float(input(f\"Enter number {counter + 1}: \"))\n",
        "\n",
        "    # Add the number to the accumulator\n",
        "    total += number\n",
        "\n",
        "    # Increment the counter\n",
        "    counter += 1\n",
        "\n",
        "# After the loop, print the total\n",
        "print(\"The total sum of the numbers is:\", total)"
      ],
      "metadata": {
        "id": "ZsDOserO-HB9"
      },
      "execution_count": null,
      "outputs": []
    },
    {
      "cell_type": "markdown",
      "source": [
        "\n",
        "#Priming the (Loop) Pump\n",
        "\n",
        "A priming operation is an initial step that sets up or \"primes\" the loop by ensuring that the loop's condition will be tested appropriately on its first execution.\n",
        "- This is important in loops that rely on user input or data from an external source, where the loop's continuation condition depends on a value that needs to be established before entering the loop."
      ],
      "metadata": {
        "id": "XkUQ_ljQ_C_7"
      }
    },
    {
      "cell_type": "code",
      "source": [
        "# Priming Demo\n",
        "\n",
        "# Priming operation: Get the initial input from the user\n",
        "number = int(input(\"Enter a number (0 to stop): \"))\n",
        "\n",
        "# While loop: Continue as long as the number is not 0\n",
        "while number != 0:\n",
        "    print(\"You entered:\", number)\n",
        "\n",
        "    # Get the next input (end of loop iteration)\n",
        "    number = int(input(\"Enter another number (0 to stop): \"))\n",
        "\n",
        "print(\"Loop finished. You entered 0.\")\n"
      ],
      "metadata": {
        "id": "fTO4Cgt-Agx5"
      },
      "execution_count": null,
      "outputs": []
    },
    {
      "cell_type": "markdown",
      "source": [
        "#Input Validation\n",
        "\n",
        "Input validation in a while loop involves repeatedly asking the user for input until they provide a valid response\n",
        "- This is a common way to ensure that the program receives the expected type or range of data from the user."
      ],
      "metadata": {
        "id": "9Ulz2bYgCoRs"
      }
    },
    {
      "cell_type": "code",
      "source": [
        "# Initialize a flag for input validation\n",
        "# (this is a priming operation)\n",
        "is_input_valid = False\n",
        "\n",
        "# Loop until valid input is received\n",
        "while not is_input_valid:\n",
        "    # Ask the user for a number\n",
        "    user_input = input(\"Enter a positive number: \")\n",
        "\n",
        "    # Check if input is numeric and positive\n",
        "    if user_input.replace('.', '', 1).isdigit() and float(user_input) > 0:\n",
        "        # Convert to float and print valid input\n",
        "        number = float(user_input)\n",
        "        print(\"You entered a valid number:\", number)\n",
        "        is_input_valid = True\n",
        "    else:\n",
        "        print(\"Invalid input. Please enter a positive number.\")\n",
        "\n",
        "# Continue with the rest of the program...\n",
        "print(\"Continuing with the rest of the program.\")"
      ],
      "metadata": {
        "id": "wqiU66avCzO9"
      },
      "execution_count": null,
      "outputs": []
    },
    {
      "cell_type": "markdown",
      "source": [
        "#Break and Continue\n",
        "\n",
        "The <b>break</b> statement breaks out of a loop by causing execution to jump to the statement following the loop"
      ],
      "metadata": {
        "id": "5Iy-WIveNs1b"
      }
    },
    {
      "cell_type": "code",
      "source": [
        "# Demonstrate a break statement\n",
        "while True:\n",
        "    data = input(\"Enter a number to square, 'exit' when done: \")\n",
        "    if data == \"exit\":\n",
        "        break # break out of our loop\n",
        "    i = int(data)\n",
        "    print(i, \"squared is\", i * i)\n",
        "\n",
        "print(\"Exiting\")"
      ],
      "metadata": {
        "id": "YYG_tFi9N16b"
      },
      "execution_count": null,
      "outputs": []
    },
    {
      "cell_type": "markdown",
      "source": [
        "The <b>continue</b> statement causes execution to jump to the top of the loop (causing the condition to be  reevaluated)"
      ],
      "metadata": {
        "id": "EiRQbwd37L2W"
      }
    },
    {
      "cell_type": "code",
      "source": [
        "# Demonstrate a continue statement\n",
        "while True:\n",
        "    data = input(\"Enter a number to square, 'exit' when done: \")\n",
        "    if data.lower() == \"exit\":\n",
        "        break  # break out of our loop\n",
        "    if not data.isdigit():\n",
        "        print(\"Invalid input. Please enter a valid number.\")\n",
        "        continue  # skip the rest of the loop and prompt the user again\n",
        "    i = int(data)\n",
        "    print(i, \"squared is\", i * i)\n",
        "\n",
        "print(\"Exiting\")"
      ],
      "metadata": {
        "id": "90Tm_T3vzwAg"
      },
      "execution_count": null,
      "outputs": []
    },
    {
      "cell_type": "markdown",
      "source": [
        "## Try It!\n",
        "\n",
        "Write a Python program that repeatedly prompts the user to enter the miles driven and gallons of gas used, calculates the miles per gallon (MPG), and validates the input using the continue statement to handle invalid entries.\n",
        "\n",
        "- Use a while loop to repeatedly prompt the user for input.\n",
        "- Validate the input to ensure both entries are greater than zero.\n",
        "- Use the continue statement to skip the current iteration if the input is invalid.\n",
        "- Calculate and display the MPG for valid inputs.\n",
        "- Ask the user if they want to continue or stop\n",
        "\n",
        "**Pseudocode**\n",
        "```\n",
        "Display welcome message\n",
        "While user wants to continue (check for sentinel)\n",
        "    Input miles driven and gallons of gas used\n",
        "    Validate input:\n",
        "    If miles driven <= 0 or gallons of gas used <= 0\n",
        "        Print error message\n",
        "        Continue to next iteration of the loop\n",
        "    Calculate miles per gallon (MPG)\n",
        "    Round MPG to 2 decimal places\n",
        "    Display MPG result\n",
        "    Ask if user wants to continue\n",
        "```\n",
        "\n",
        "**Sample Output**\n",
        "\n",
        "```\n",
        "Welcome to the MPG Calculator!\n",
        "\n",
        "Enter miles driven: 120\n",
        "Enter gallons of gas used: 10\n",
        "Miles Per Gallon: 12.0\n",
        "Continue? (y/n): y\n",
        "\n",
        "Enter miles driven: 100\n",
        "Enter gallons of gas used: 0\n",
        "Both entries must be greater than zero. Try again.\n",
        "\n",
        "Enter miles driven: -50\n",
        "Enter gallons of gas used: 5\n",
        "Both entries must be greater than zero. Try again.\n",
        "\n",
        "Enter miles driven: 150\n",
        "Enter gallons of gas used: 12\n",
        "Miles Per Gallon: 12.5\n",
        "Continue? (y/n): y\n",
        "\n",
        "Enter miles driven: 200\n",
        "Enter gallons of gas used: 15\n",
        "Miles Per Gallon: 13.33\n",
        "Continue? (y/n): n\n",
        "\n",
        "Okay, bye!\n",
        "```"
      ],
      "metadata": {
        "id": "l7P1tfZTmOqp"
      }
    },
    {
      "cell_type": "code",
      "source": [],
      "metadata": {
        "id": "0_cAAPMuz7R_"
      },
      "execution_count": null,
      "outputs": []
    },
    {
      "cell_type": "markdown",
      "source": [
        "#Use Break and Continue Statements Judiciously\n",
        "- Loops can usually be written without them\n",
        "- This can contribute to more readable/maintainable code"
      ],
      "metadata": {
        "id": "9foifw8wOsf5"
      }
    },
    {
      "cell_type": "code",
      "source": [
        "# Same loop as above with no break\n",
        "# Use a flag to control the loop\n",
        "running = True\n",
        "while running:   # shorthand for while running == True\n",
        "    data = input(\"Enter a number to square, 'exit' when done: \")\n",
        "    # Check if the user wants to exit\n",
        "    if data == \"exit\":\n",
        "        running = False  # Set the flag to False to exit the loop\n",
        "    else:\n",
        "        # Continue with processing if the input is not 'exit'\n",
        "        i = int(data)\n",
        "        print(i, \"squared is\", i * i)\n",
        "\n",
        "print(\"Exiting\")"
      ],
      "metadata": {
        "id": "fryuowDiOs8o"
      },
      "execution_count": null,
      "outputs": []
    },
    {
      "cell_type": "code",
      "source": [
        "# Same loop as above with no continue\n",
        "# Handle invalid input with a flag variable\n",
        "while True:\n",
        "    data = input(\"Enter a number to square, 'exit' when done: \")\n",
        "\n",
        "    if data.lower() == \"exit\":\n",
        "        break  # break out of our loop\n",
        "\n",
        "    valid_input = True\n",
        "\n",
        "    if not data.isdigit():\n",
        "        print(\"Invalid input. Please enter a valid number.\")\n",
        "        valid_input = False\n",
        "\n",
        "    if valid_input:\n",
        "        i = int(data)\n",
        "        print(i, \"squared is\", i * i)\n",
        "\n",
        "print(\"Exiting\")"
      ],
      "metadata": {
        "id": "5e9Q_NS_8HUV"
      },
      "execution_count": null,
      "outputs": []
    },
    {
      "cell_type": "markdown",
      "source": [
        "## Try It! (Putting it all together)\n",
        "\n",
        "Write a program that prompts the user for a monthly investment amount, a yearly interest rate, and a number of years. The program should calculate the future value of the investments using a monthly interest calculation. It should validate that all input values are greater than zero. If any input is zero or less, the program should display an error message and prompt the user to enter the values again. The program should continue to loop, prompting the user for new input, until they choose to exit. This should be implemented using an outer loop that controls the continuation of the program based on the user's choice.\n",
        "\n",
        "**Pseudocode**\n",
        "```\n",
        "Display welcome message\n",
        "While user wants to continue (check for sentinel)\n",
        "    Input monthly investment, yearly interest rate, and years\n",
        "    Validate input values (all must be greater than zero)\n",
        "        If any value is less than or equal to zero\n",
        "            Display error message\n",
        "            Continue to prompt the user again (skip the rest of the loop)\n",
        "    Convert yearly interest rate to monthly interest rate\n",
        "    Convert years to months\n",
        "    Set future value = 0\n",
        "    Set month = 0\n",
        "    While month < number of months\n",
        "        Add monthly investment amount to future value (accumulator)\n",
        "        Calculate interest for the month\n",
        "        Add interest to future value\n",
        "        Increment month by 1\n",
        "    Display future value\n",
        "    Ask if user wants to continue\n",
        "```\n",
        "\n",
        "**Sample Output**\n",
        "\n",
        "```\n",
        "Welcome to the Future Value Calculator!\n",
        "Enter monthly investment amount: 100\n",
        "Enter yearly interest rate (as a percentage): 5\n",
        "Enter number of years: 2\n",
        "Future value: $2494.15\n",
        "Do you want to continue? (yes/no): yes\n",
        "\n",
        "Enter monthly investment amount: 0\n",
        "Enter yearly interest rate (as a percentage): 5\n",
        "Enter number of years: 2\n",
        "All entries must be greater than zero. Try again.\n",
        "\n",
        "Enter monthly investment amount: 100\n",
        "Enter yearly interest rate (as a percentage): -5\n",
        "Enter number of years: 2\n",
        "All entries must be greater than zero. Try again.\n",
        "\n",
        "Enter monthly investment amount: 100\n",
        "Enter yearly interest rate (as a percentage): 5\n",
        "Enter number of years: 0\n",
        "All entries must be greater than zero. Try again.\n",
        "\n",
        "Enter monthly investment amount: 150\n",
        "Enter yearly interest rate (as a percentage): 4\n",
        "Enter number of years: 3\n",
        "Future value: $5720.47\n",
        "Do you want to continue? (yes/no): no\n",
        "\n",
        "Thank you for using the Future Value Calculator!\n",
        "```"
      ],
      "metadata": {
        "id": "SShP7EOmG9ek"
      }
    },
    {
      "cell_type": "markdown",
      "source": [
        "Python supports an <b>else</b> statement that can be associated with a while loop\n",
        "- The else statement is executed when the while condition becomes false\n",
        "- If the loop is prematurely terminated with a break the else does not execute\n",
        "- A continue statement does not impact execution of the else"
      ],
      "metadata": {
        "id": "OP9Z8SpiMvhm"
      }
    },
    {
      "cell_type": "code",
      "source": [
        "# Demonstrate a while loop with a break and an else\n",
        "counter = 1\n",
        "while counter <= 5:\n",
        "    print(\"counter is\", counter)\n",
        "    counter = counter + 1\n",
        "\n",
        "    # This condition will never be true, but if it\n",
        "    # was, the else would not execute (try it)\n",
        "    if (counter == 7):\n",
        "        break\n",
        "else:\n",
        "    print(\"counter reached maximum value\")"
      ],
      "metadata": {
        "id": "zqv-7JDTNDIY"
      },
      "execution_count": null,
      "outputs": []
    },
    {
      "cell_type": "markdown",
      "source": [
        "## For Loops\n",
        "\n",
        "The <b>for</b> loop is used for *iterating* (looping) over a sequence like a list, tuple, dictionary, set, or string, performing an action for each element\n",
        "\n",
        "- The for loop is a collection-controlled (or count-controlled)  loop\n",
        "- A colon : is required\n",
        "- Indentation of the loop body is required\n",
        "- Give the temporary variable a meaningful name (e.g. \"number\")\n",
        "- A sequence of values can be created using the range() function, which produces a collection of integers\n",
        "- The range starts with 0 and ends with <b>one less</b> than the argument passed to the function\n",
        "\n",
        "(NOTE: we will cover using loops for lists, tuples, and other data structures in an upcoming module)"
      ],
      "metadata": {
        "id": "f6Y6iBcG_1Mg"
      }
    },
    {
      "cell_type": "code",
      "source": [
        "for number in range(5):\n",
        "    print(number, end=\" \")\n",
        "\n",
        "print(\"\\nThe loop has ended.\")"
      ],
      "metadata": {
        "id": "8IGTYTuZADSv"
      },
      "execution_count": null,
      "outputs": []
    },
    {
      "cell_type": "markdown",
      "source": [
        "If an optional second arguments is passed, the first argument acts as the start value and the last is the stop value (which still ends at one less than the specified number)"
      ],
      "metadata": {
        "id": "BJmmhFjGA-Qb"
      }
    },
    {
      "cell_type": "code",
      "source": [
        "for number in range(1, 12):\n",
        "    print(number, end=\" \")\n",
        "\n",
        "print(\"\\nThe loop has ended.\")"
      ],
      "metadata": {
        "id": "l9c4-NcJBLds"
      },
      "execution_count": null,
      "outputs": []
    },
    {
      "cell_type": "markdown",
      "source": [
        "## Try It!\n",
        "\n",
        "Write a program which uses a for loop to calculate the sum of the values 1 through 5 and prints the final sum"
      ],
      "metadata": {
        "id": "gSszz6vaDcRB"
      }
    },
    {
      "cell_type": "code",
      "source": [],
      "metadata": {
        "id": "8pYHw5yBDi8n"
      },
      "execution_count": null,
      "outputs": []
    },
    {
      "cell_type": "markdown",
      "source": [
        "An optional step value can also be included in the range function (but this requires the start and stop arguments first)"
      ],
      "metadata": {
        "id": "VOoUG53kDBe5"
      }
    },
    {
      "cell_type": "code",
      "source": [
        "for number in range(2, 12, 3):\n",
        "     print(number, end=\" \")\n",
        "\n",
        "print(\"\\nThe loop has ended.\")"
      ],
      "metadata": {
        "id": "V140p-GgDJiV"
      },
      "execution_count": null,
      "outputs": []
    },
    {
      "cell_type": "markdown",
      "source": [
        "As with the while loop, an else statement can be associated with a for loop.\n",
        "- The else runs when no break occurs, only if all items in the range are exhausted"
      ],
      "metadata": {
        "id": "6ZtvVtvWEbfU"
      }
    },
    {
      "cell_type": "code",
      "source": [
        "# Value to search for\n",
        "search_value = 3\n",
        "\n",
        "# For loop to search for the value within a range\n",
        "for num in range(1, 6):\n",
        "    if num == search_value:\n",
        "        print(f\"Found {search_value} in the range.\")\n",
        "        break\n",
        "else:\n",
        "    print(f\"{search_value} is not in the range.\")\n"
      ],
      "metadata": {
        "id": "bjl6hX1N6ns-"
      },
      "execution_count": null,
      "outputs": []
    },
    {
      "cell_type": "markdown",
      "source": [
        "## Try It!\n",
        "\n",
        "Write a Python program that iterates through numbers in a specified range, identifies prime numbers, and prints the factors of non-prime numbers. The program uses nested loops with a break statement to exit the inner loop when a factor is found, and an else clause to identify prime numbers.\n",
        "\n",
        "- Iterate through numbers between 2 and 9 (inclusive).\n",
        "- For each number, check if it is divisible by any smaller number (excluding 1).\n",
        "- If a number is divisible by any smaller number, print its factors.\n",
        "- If a number is not divisible by any smaller number, print that it is a prime number.\n",
        "- Use a break statement to exit the inner loop when a factor is found.\n",
        "- Use an else clause to identify prime numbers if no factors are found within the inner loop.\n",
        "\n",
        "**Pseudocode**\n",
        "```\n",
        "For each number n in the range from 2 to 9 (inclusive):\n",
        "    For each number x in the range from 2 to n-1:\n",
        "        If n is divisible by x:\n",
        "            Print n equals x times n divided by x\n",
        "            Break out of the inner loop\n",
        "        Else:\n",
        "            (Executed if no break occurred in the inner loop)\n",
        "            Print n is a prime number\n",
        "```\n",
        "\n",
        "**Sample Output**\n",
        "```\n",
        "2 is a prime number\n",
        "3 is a prime number\n",
        "4 equals 2 * 2\n",
        "5 is a prime number\n",
        "6 equals 2 * 3\n",
        "7 is a prime number\n",
        "8 equals 2 * 4\n",
        "9 equals 3 * 3\n",
        "```"
      ],
      "metadata": {
        "id": "2zz2ShyZ5fUe"
      }
    },
    {
      "cell_type": "markdown",
      "source": [
        "## Using an Underscore _ as the Loop Variable\n",
        "\n",
        "- The underscore (_) is sometimes used as the loop variable.\n",
        "- This convention indicates that the variable is not going to be used within the loop body (it will be intentionally ignored)."
      ],
      "metadata": {
        "id": "U6TH5eNheor4"
      }
    },
    {
      "cell_type": "code",
      "source": [
        "# Print \"Hello, World!\" 5 times using a for loop with _ as the loop variable\n",
        "for _ in range(5):\n",
        "    print(\"Hello, World!\")"
      ],
      "metadata": {
        "id": "2DBtIXnLfluV"
      },
      "execution_count": null,
      "outputs": []
    }
  ]
}