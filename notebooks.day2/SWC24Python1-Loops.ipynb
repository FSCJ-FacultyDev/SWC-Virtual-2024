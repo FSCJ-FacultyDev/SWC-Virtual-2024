{
  "nbformat": 4,
  "nbformat_minor": 0,
  "metadata": {
    "colab": {
      "provenance": []
    },
    "kernelspec": {
      "name": "python3",
      "display_name": "Python 3"
    },
    "language_info": {
      "name": "python"
    }
  },
  "cells": [
    {
      "cell_type": "markdown",
      "source": [
        "#Loops"
      ],
      "metadata": {
        "id": "Ye9NUR50fEW4"
      }
    },
    {
      "cell_type": "markdown",
      "source": [
        "Loops are powerful tools that allow execution of a block of code repeatedly, making them essential for processing items in a list, performing calculations until a condition is met, or automating other repetitive tasks.\n",
        "\n",
        "The two primary types of loops in Python are the <b>for</b> loop and the <b>while</b> loop.\n"
      ],
      "metadata": {
        "id": "1EuDAoPQAr3G"
      }
    },
    {
      "cell_type": "markdown",
      "source": [
        "##While Loops\n",
        "\n",
        "The while loop is a <b>conditional</b> loop which continues executing as long as a specified condition remains true"
      ],
      "metadata": {
        "id": "YQkN67PS_NU5"
      }
    },
    {
      "cell_type": "code",
      "source": [
        "# Initialize a counter variable\n",
        "counter = 0\n",
        "\n",
        "# Loop as long as counter is less than 5 (this is the condition)\n",
        "while counter < 5:\n",
        "    print(\"Counter is:\", counter)\n",
        "    # Increment the counter\n",
        "    counter += 1\n",
        "\n",
        "print(\"Loop finished.\")"
      ],
      "metadata": {
        "id": "XE-3VH9s6-3A"
      },
      "execution_count": null,
      "outputs": []
    },
    {
      "cell_type": "markdown",
      "source": [
        "The while loop is a *pre-test* loop, which means the condition is evaluated before the loop statements are executed.\n",
        "- A post-test loop,  e.g. a \"do-while\" loop evaluates the condition after the loop statements are executed, but Python doesn't support do-while\n",
        "- A sentinel value is used in a loop to indicate a termination condition\n",
        "\n",
        "Sentinel values should be assigned so they are not interpreted as valid data\n",
        "\n",
        "Identify the sentinel values in the following examples:\n",
        "\n",
        "\n",
        "```\n",
        "print(\"Please enter a positive integer or 0 to exit: \")\n",
        "print(\"Please enter a name or \"x\" to exit: \")\n",
        "print(\"Continue? (y or n): \")\n",
        "```\n",
        "\n"
      ],
      "metadata": {
        "id": "8zN838AI7Vkk"
      }
    },
    {
      "cell_type": "code",
      "source": [
        "# Sentinel value\n",
        "SENTINEL = -1\n",
        "\n",
        "# Prompt the user for input\n",
        "print(\"Enter a number (or -1 to stop): \")\n",
        "\n",
        "# Start the loop\n",
        "number = int(input())\n",
        "while number != SENTINEL:\n",
        "    print(\"You entered:\", number)\n",
        "    # Ask for the next number\n",
        "    print(\"Enter another number (or -1 to stop): \")\n",
        "    number = int(input())\n",
        "\n",
        "print(\"Loop finished. Sentinel value reached.\")"
      ],
      "metadata": {
        "id": "Cp3Xp74P7UXZ"
      },
      "execution_count": null,
      "outputs": []
    },
    {
      "cell_type": "markdown",
      "source": [
        "## Infinite Loops\n",
        "If a loop condition is never met, a loop can run “forever”\n",
        "\n",
        "- This is known as an <b>infinite</b> loop\n",
        "- Infinite loops are frequently the result of programming errors\n",
        "\n",
        "```\n",
        "while True:\n",
        "        # any statements here will run forever\n",
        "```\n",
        "\n",
        "\n",
        "\n"
      ],
      "metadata": {
        "id": "JXnMOQt08ym7"
      }
    },
    {
      "cell_type": "markdown",
      "source": [
        "##Nested Loops\n",
        "\n",
        "- While loops can be nested inside other while loops\n",
        "- (and for loops inside of while loops, and while loops inside of for loops, and for loops inside of for loops)\n",
        "- correct indentation is important for readability and required in Python"
      ],
      "metadata": {
        "id": "Mf74-d-q9Y7k"
      }
    },
    {
      "cell_type": "code",
      "source": [
        "# Nested Loop Demo\n",
        "\n",
        "# Outer loop counter\n",
        "outer_counter = 0\n",
        "\n",
        "# Outer loop runs 3 times\n",
        "while outer_counter < 3:\n",
        "    print(\"Outer Loop Iteration:\", outer_counter)\n",
        "\n",
        "    # Inner loop counter\n",
        "    inner_counter = 0\n",
        "\n",
        "    # Inner loop runs 2 times\n",
        "    while inner_counter < 2:\n",
        "        print(\"    Inner Loop Iteration:\", inner_counter)\n",
        "\n",
        "        # Increment the inner loop counter\n",
        "        inner_counter += 1\n",
        "\n",
        "    # Increment the outer loop counter\n",
        "    outer_counter += 1\n",
        "\n",
        "print(\"Nested loop completed.\")"
      ],
      "metadata": {
        "id": "bmqmliFs9bLt"
      },
      "execution_count": null,
      "outputs": []
    },
    {
      "cell_type": "markdown",
      "source": [
        "## Accumulators\n",
        "An <b>accumulator</b> is a variable which \"collects\", or  accumulates, values in a loop\n",
        "- Accumulators can be numeric (e.g. add or multiply values to a numeric accumulator) or string-based (concatenate to an accumulator string variable)\n",
        "- Always initialize the accumulator!\n",
        "- Never initialize an accumulator inside a loop where it is modified\n",
        "- When using an accumulator inside a nested loop, initialize the accumulator outside of the nested loop\n",
        "- When using a sentinel value, don't include the sentinel value when modifying the accumulator\n",
        "- While loops need a priming operation\n"
      ],
      "metadata": {
        "id": "sZpFiAVa-fLI"
      }
    },
    {
      "cell_type": "code",
      "source": [
        "# Accumulator Demo\n",
        "\n",
        "# Initialize the accumulator variable\n",
        "total = 0\n",
        "\n",
        "# Number of values to sum\n",
        "num_values = 5\n",
        "\n",
        "# Counter for the loop\n",
        "counter = 0\n",
        "\n",
        "print(f\"Enter {num_values} numbers to sum:\")\n",
        "\n",
        "# Loop until the counter reaches num_values\n",
        "while counter < num_values:\n",
        "    # Read a number from the user\n",
        "    number = float(input(f\"Enter number {counter + 1}: \"))\n",
        "\n",
        "    # Add the number to the accumulator\n",
        "    total += number\n",
        "\n",
        "    # Increment the counter\n",
        "    counter += 1\n",
        "\n",
        "# After the loop, print the total\n",
        "print(\"The total sum of the numbers is:\", total)"
      ],
      "metadata": {
        "id": "ZsDOserO-HB9"
      },
      "execution_count": null,
      "outputs": []
    },
    {
      "cell_type": "markdown",
      "source": [
        "\n",
        "#Priming the (Loop) Pump\n",
        "\n",
        "A priming operation is an initial step that sets up or \"primes\" the loop by ensuring that the loop's condition will be tested appropriately on its first execution.\n",
        "- This is important in loops that rely on user input or data from an external source, where the loop's continuation condition depends on a value that needs to be established before entering the loop."
      ],
      "metadata": {
        "id": "XkUQ_ljQ_C_7"
      }
    },
    {
      "cell_type": "code",
      "source": [
        "# Priming Demo\n",
        "\n",
        "# Priming operation: Get the initial input from the user\n",
        "number = int(input(\"Enter a number (0 to stop): \"))\n",
        "\n",
        "# While loop: Continue as long as the number is not 0\n",
        "while number != 0:\n",
        "    print(\"You entered:\", number)\n",
        "\n",
        "    # Get the next input (end of loop iteration)\n",
        "    number = int(input(\"Enter another number (0 to stop): \"))\n",
        "\n",
        "print(\"Loop finished. You entered 0.\")\n"
      ],
      "metadata": {
        "id": "fTO4Cgt-Agx5"
      },
      "execution_count": null,
      "outputs": []
    },
    {
      "cell_type": "markdown",
      "source": [
        "#Input Validation\n",
        "\n",
        "Input validation in a while loop involves repeatedly asking the user for input until they provide a valid response\n",
        "- This is a common way to ensure that the program receives the expected type or range of data from the user."
      ],
      "metadata": {
        "id": "9Ulz2bYgCoRs"
      }
    },
    {
      "cell_type": "code",
      "source": [
        "# Initialize a flag for input validation\n",
        "# (this is a priming operation)\n",
        "is_input_valid = False\n",
        "\n",
        "# Loop until valid input is received\n",
        "while not is_input_valid:\n",
        "    # Ask the user for a number\n",
        "    user_input = input(\"Enter a positive number: \")\n",
        "\n",
        "    # Check if input is numeric and positive\n",
        "    if user_input.replace('.', '', 1).isdigit() and float(user_input) > 0:\n",
        "        # Convert to float and print valid input\n",
        "        number = float(user_input)\n",
        "        print(\"You entered a valid number:\", number)\n",
        "        is_input_valid = True\n",
        "    else:\n",
        "        print(\"Invalid input. Please enter a positive number.\")\n",
        "\n",
        "# Continue with the rest of the program...\n",
        "print(\"Continuing with the rest of the program.\")\n",
        "\n",
        "\n"
      ],
      "metadata": {
        "id": "wqiU66avCzO9"
      },
      "execution_count": null,
      "outputs": []
    },
    {
      "cell_type": "markdown",
      "source": [
        "# Putting It All Together\n",
        "\n",
        "Write a program which prompts the user for a monthly investment amount, a yearly interest rate, and a number of years; then calculate the future value of the investments using a monthly interest calculation\n",
        "- The program should loop with a prompt to the user for new input until they choose to exit (this should be an outer loop)\n",
        "\n",
        "Pseudocode:\n",
        "```\n",
        "Display welcome message\n",
        "While user wants to continue\n",
        "    Input monthly investment, yearly interest rate, and years\n",
        "\t  Convert yearly interest rate to monthly interest rate\n",
        "\t  Convert years to months\n",
        "\t  Set future value = 0\n",
        "\t  For each month\n",
        "\t\t    Add monthly investment amount to future value\n",
        "\t\t    Calculate interest for month\n",
        "\t\t    Add interest to future value\n",
        "    Display future value\n",
        "\t  Ask if user wants to continue\n",
        "```\n",
        "\n"
      ],
      "metadata": {
        "id": "SShP7EOmG9ek"
      }
    },
    {
      "cell_type": "code",
      "source": [
        "# Display welcome message\n",
        "print(\"Welcome to the Future Value Calculator\")\n",
        "\n",
        "# Main loop\n",
        "continue_program = True\n",
        "while continue_program:\n",
        "    # Input monthly investment, yearly interest rate, and years\n",
        "    monthly_investment = float(input(\"Enter the monthly investment amount: \"))\n",
        "    yearly_interest_rate = float(\n",
        "          input(\"Enter the yearly interest rate (as a percent): \"))\n",
        "    years = int(input(\"Enter the number of years: \"))\n",
        "\n",
        "    # Convert yearly interest rate to monthly interest rate (as a fraction)\n",
        "    monthly_interest_rate = yearly_interest_rate / 100 / 12\n",
        "\n",
        "    # Convert years to months\n",
        "    months = years * 12\n",
        "\n",
        "    # Set future value = 0\n",
        "    future_value = 0\n",
        "\n",
        "    # Monthly calculation loop\n",
        "    month = 1\n",
        "    while month <= months:\n",
        "        # Add monthly investment amount to future value\n",
        "        future_value += monthly_investment\n",
        "        # Calculate interest for month\n",
        "        monthly_interest = future_value * monthly_interest_rate\n",
        "        # Add interest to future value\n",
        "        future_value += monthly_interest\n",
        "        # Move to the next month\n",
        "        month += 1\n",
        "\n",
        "    # Display future value\n",
        "    # print(f\"The future value of the investment is: ${future_value:.2f}\")\n",
        "    print(\"The future value of the investment is \", future_value)\n",
        "\n",
        "    # Ask if user wants to continue\n",
        "    user_input = input(\"Would you like to continue? (yes/no): \").lower()\n",
        "    continue_program = user_input == \"yes\"\n",
        "\n",
        "print(\"Thank you for using the Future Value Calculator.\")\n"
      ],
      "metadata": {
        "id": "TyFicaTsIxsb"
      },
      "execution_count": null,
      "outputs": []
    },
    {
      "cell_type": "markdown",
      "source": [
        "#Break and Continue\n",
        "\n",
        "The <b>break</b> statement breaks out of a loop by causing execution to jump to the statement following the loop"
      ],
      "metadata": {
        "id": "5Iy-WIveNs1b"
      }
    },
    {
      "cell_type": "code",
      "source": [
        "# Demonstrate a break statement\n",
        "while True:\n",
        "    data = input(\"Enter a number to square, 'exit' when done: \")\n",
        "    if data == \"exit\":\n",
        "        break # break out of our loop\n",
        "    i = int(data)\n",
        "    print(i, \"squared is\", i * i)\n",
        "\n",
        "print(\"Exiting\")\n"
      ],
      "metadata": {
        "id": "YYG_tFi9N16b"
      },
      "execution_count": null,
      "outputs": []
    },
    {
      "cell_type": "markdown",
      "source": [
        "The <b>continue</b> statement causes execution to jump to the top of the loop (causing the condition to be  reevaluated)"
      ],
      "metadata": {
        "id": "EiRQbwd37L2W"
      }
    },
    {
      "cell_type": "code",
      "source": [
        "# Demonstrate a continue statement\n",
        "more = \"y\"\n",
        "while more.lower() == \"y\":\n",
        "    miles_driven = float(input(\"Enter miles driven: \"))\n",
        "    gallons_used = float(input(\"Enter gallons of gas used: \"))\n",
        "\n",
        "    # validate input\n",
        "    if miles_driven <= 0 or gallons_used <= 0:\n",
        "          print(\"Both entries must be greater than zero. Try again.\")\n",
        "          continue   #  while more.lower() == \"y\":\n",
        "\n",
        "    mpg = round(miles_driven / gallons_used, 2)\n",
        "    print(\"Miles Per Gallon:\", mpg)\n",
        "\n",
        "    more = input(\"Continue? (y/n): \")\n",
        "    print()\n",
        "\n",
        "print(\"Okay, bye!\")"
      ],
      "metadata": {
        "id": "ZkPZcBw87RyC"
      },
      "execution_count": null,
      "outputs": []
    },
    {
      "cell_type": "markdown",
      "source": [
        "#Use Break and Continue Statements Judiciously\n",
        "- Loops can usually be written without them\n",
        "- This can contribute to more readable/maintainable code"
      ],
      "metadata": {
        "id": "9foifw8wOsf5"
      }
    },
    {
      "cell_type": "code",
      "source": [
        "# Same loop as above with no break\n",
        "# Initialize a flag to control the loop\n",
        "running = True\n",
        "while running:   # shorthand for while running == True\n",
        "    data = input(\"Enter a number to square, 'exit' when done: \")\n",
        "\n",
        "    # Check if the user wants to exit\n",
        "    if data == \"exit\":\n",
        "        running = False  # Set the flag to False to exit the loop\n",
        "    else:\n",
        "        # Continue with processing if the input is not 'exit'\n",
        "        i = int(data)\n",
        "        print(i, \"squared is\", i * i)\n",
        "\n",
        "print(\"Exiting\")\n"
      ],
      "metadata": {
        "id": "fryuowDiOs8o"
      },
      "execution_count": null,
      "outputs": []
    },
    {
      "cell_type": "code",
      "source": [
        "# Same loop as above with no continue\n",
        "more = \"y\"\n",
        "while more.lower() == \"y\":\n",
        "    miles_driven = float(input(\"Enter miles driven: \"))\n",
        "    gallons_used = float(input(\"Enter gallons of gas used: \"))\n",
        "\n",
        "    # validate input\n",
        "    if miles_driven <= 0 or gallons_used <= 0:\n",
        "        print(\"Both entries must be greater than zero. Try again.\")\n",
        "    else:\n",
        "        # Calculate and print Miles Per Gallon if input is valid\n",
        "        mpg = round(miles_driven / gallons_used, 2)\n",
        "        print(\"Miles Per Gallon:\", mpg)\n",
        "\n",
        "        # Ask if the user wants to continue\n",
        "        more = input(\"Continue? (y/n): \")\n",
        "        print()\n",
        "\n",
        "print(\"Okay, bye!\")\n"
      ],
      "metadata": {
        "id": "5e9Q_NS_8HUV"
      },
      "execution_count": null,
      "outputs": []
    },
    {
      "cell_type": "markdown",
      "source": [
        "Python supports an <b>else</b> statement that can be associated with a while loop\n",
        "- The else statement is executed when the while condition becomes false\n",
        "- If the loop is prematurely terminated with a break the else does not execute\n",
        "- A continue statement does not impact execution of the else"
      ],
      "metadata": {
        "id": "OP9Z8SpiMvhm"
      }
    },
    {
      "cell_type": "code",
      "source": [
        "# Demonstrate a while loop with a break and an else\n",
        "counter = 1\n",
        "while counter <= 5:\n",
        "    print(\"counter is\", counter)\n",
        "    counter = counter + 1\n",
        "\n",
        "    # This condition will never be true, but if it\n",
        "    # was, the else would not execute (try it)\n",
        "    if (counter == 7):\n",
        "        break\n",
        "else:\n",
        "    print(\"counter reached maximum value\")"
      ],
      "metadata": {
        "id": "zqv-7JDTNDIY"
      },
      "execution_count": null,
      "outputs": []
    },
    {
      "cell_type": "markdown",
      "source": [
        "##For Loops\n",
        "\n",
        "The <b>for</b> loop is used for *iterating* (looping) over a sequence like a list, tuple, dictionary, set, or string, performing an action for each element\n",
        "\n",
        "- The for loop is a collection-controlled (or count-controlled)  loop\n",
        "- A colon : is required\n",
        "- Indentation of the loop body is required\n",
        "- Give the temporary variable a meaningful name (e.g. \"number\")\n",
        "- A sequence of values can be created using the range() function, which produces a collection of integers\n",
        "- The range starts with 0 and ends with <b>one less</b> than the argument passed to the function\n",
        "\n",
        "(NOTE: we will cover using loops for lists, tuples, and other data structures in an upcoming module)"
      ],
      "metadata": {
        "id": "f6Y6iBcG_1Mg"
      }
    },
    {
      "cell_type": "code",
      "source": [
        "for number in range(5):\n",
        "    print(number, end=\" \")\n",
        "\n",
        "print(\"\\nThe loop has ended.\")"
      ],
      "metadata": {
        "id": "8IGTYTuZADSv"
      },
      "execution_count": null,
      "outputs": []
    },
    {
      "cell_type": "markdown",
      "source": [
        "If an optional second arguments is passed, the first argument acts as the start value and the last is the stop value (which still ends at one less than the specified number)"
      ],
      "metadata": {
        "id": "BJmmhFjGA-Qb"
      }
    },
    {
      "cell_type": "code",
      "source": [
        "for number in range(1, 12):\n",
        "    print(number, end=\" \")\n",
        "\n",
        "print(\"\\nThe loop has ended.\")"
      ],
      "metadata": {
        "id": "l9c4-NcJBLds"
      },
      "execution_count": null,
      "outputs": []
    },
    {
      "cell_type": "markdown",
      "source": [
        "An optional step value can also be included in the range function (but this requires the start and stop arguments first)"
      ],
      "metadata": {
        "id": "VOoUG53kDBe5"
      }
    },
    {
      "cell_type": "code",
      "source": [
        "for number in range(2, 12, 3):\n",
        "     print(number, end=\" \")\n",
        "\n",
        "print(\"\\nThe loop has ended.\")"
      ],
      "metadata": {
        "id": "V140p-GgDJiV"
      },
      "execution_count": null,
      "outputs": []
    },
    {
      "cell_type": "markdown",
      "source": [
        "# Write a program which uses a for loop to calculate the sum of the values 1 through 5 and prints the final sum"
      ],
      "metadata": {
        "id": "gSszz6vaDcRB"
      }
    },
    {
      "cell_type": "code",
      "source": [
        "sum_nums = 0 # accumulator\n",
        "for number in range(1, 6): # range requires 6 to include 5\n",
        "    sum_nums = sum_nums + number\n",
        "\n",
        "# this print is not indented so it is not in the loop body\n",
        "print(\"The sum of 1 to 5 is \" + str(sum_nums))\n",
        "\n"
      ],
      "metadata": {
        "id": "8pYHw5yBDi8n"
      },
      "execution_count": null,
      "outputs": []
    },
    {
      "cell_type": "markdown",
      "source": [
        "As with the while loop, an else statement can be associated with a for loop.\n",
        "- The else runs when no break occurs, only if all items in the range are exhausted\n",
        "\n",
        "- note in the example below that the break and else statements are associated with the inner loop, not the outer loop\n"
      ],
      "metadata": {
        "id": "6ZtvVtvWEbfU"
      }
    },
    {
      "cell_type": "code",
      "source": [
        "# show primes, or factos of non-primes\n",
        "for n in range(2, 10):\n",
        "    for x in range(2, n):\n",
        "        if n % x == 0:\n",
        "            print(n, 'equals', x, '*', n//x)\n",
        "            break # inner loop break\n",
        "        else: # inner loop else\n",
        "            # loop ended without finding a factor\n",
        "            print(n, 'is a prime number')\n"
      ],
      "metadata": {
        "id": "b45DQnhGE2_f"
      },
      "execution_count": null,
      "outputs": []
    }
  ]
}