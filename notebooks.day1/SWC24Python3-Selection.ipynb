{
  "cells": [
    {
      "cell_type": "markdown",
      "metadata": {
        "id": "ccPhBjOP-ZR_"
      },
      "source": [
        "# Selection Statements\n"
      ]
    },
    {
      "cell_type": "markdown",
      "metadata": {
        "id": "1EuDAoPQAr3G"
      },
      "source": [
        "<b>Selection</b> statements allow a program to choose different paths of execution based on the evaluation of a condition.\n",
        "\n",
        "Selection statements in Python include the following:\n",
        "\n",
        "- <b>if statements</b>: the most basic form of selection statement in Python. It tests a condition and executes a block of code if the condition is True.\n",
        "- <b>else statements</b>: usually used in conjunction with the if statement, else provides an alternative block of code that is executed if the if condition is False.\n",
        "- <b>elif statements</b>: used for checking multiple conditions. It must follow an if statement and precedes the else statement.\n",
        "- <b>ternary operator</b>: not a statement in the traditional sense, but a way to write concise conditional expressions. It is a one-line if-else statement."
      ]
    },
    {
      "cell_type": "markdown",
      "metadata": {
        "id": "YeM3sIIRwvFC"
      },
      "source": [
        "## Boolean Expressions\n",
        "\n",
        "Selection statements are based on </b>boolean expressions</b> which evaluate to <b>True</b> or <b>False</b>\n",
        "\n",
        "<pre>\n",
        "IF (there is plenty of money) THEN go out to eat\n",
        "WHILE (there is not enough money) stay home and cook\n",
        "</pre>\n",
        "\n",
        "(there is plenty of money) and (there is not enough money) are boolean expressions which evaluate to True or False"
      ]
    },
    {
      "cell_type": "markdown",
      "metadata": {
        "id": "k2rAn8f5x2wI"
      },
      "source": [
        "Relational Operators\n",
        "\n",
        "<b>Relational operators</b> are used in Python to construct Boolean expressions\n",
        "\n",
        "<img src=\"https://github.com/FSCJ-FacultyDev/SWC-Virtual-2024/blob/main/notebooks.day1/images/RelationalOperators.png?raw=true\" alt=\"Relational Operators\" width=\"500\" height=\"225\"/>"
      ]
    },
    {
      "cell_type": "code",
      "execution_count": null,
      "metadata": {
        "id": "nE2t3bA5yY3y"
      },
      "outputs": [],
      "source": [
        "# Equal to (==)\n",
        "eq = 5 == 5  # True\n",
        "# Not Equal to (!=)\n",
        "neq = 5 != 3  # True\n",
        "# Greater Than (>)\n",
        "gt = 5 > 3  # True\n",
        "# Less Than (<)\n",
        "lt = 3 < 5  # True\n",
        "# Greater Than or Equal to (>=)\n",
        "gte = 5 >= 5  # True\n",
        "# Less Than or Equal to (<=)\n",
        "lte = 5 <= 5  # True\n",
        "\n",
        "# Output results\n",
        "print(\"Equal to:\", eq)\n",
        "print(\"Not Equal to:\", neq)\n",
        "print(\"Greater Than:\", gt)\n",
        "print(\"Less Than:\", lt)\n",
        "print(\"Greater Than or Equal to:\", gte)\n",
        "print(\"Less Than or Equal to:\", lte)\n"
      ]
    },
    {
      "cell_type": "markdown",
      "metadata": {
        "id": "_ii073cO0HwX"
      },
      "source": [
        "## More Examples of Boolean Operators\n",
        "- Operands should be based on similar types\n",
        "- All of the following examples evaluate to True or False\n",
        "<pre>\n",
        "age == 5\n",
        "first_name == “John”\n",
        "quantity != 0\n",
        "distance > 5.6\n",
        "fuel_req < fuel_cap\n",
        "distance >= limit\n",
        "stock <= reorder_point\n",
        "rate / 100 >= 0.1\n",
        "</pre>\n",
        "\n",
        "Don't use <b>=</pre> to test for equality, this is for assignment!\n"
      ]
    },
    {
      "cell_type": "markdown",
      "metadata": {
        "id": "V1R-Ka_y_kgK"
      },
      "source": [
        "## Assigning Values to Boolean Variables\n",
        "\n",
        "A <b>Boolean variable</b> is either True or False\n",
        "The literal values <b>True</b> and <b>False</b> can be assigned\n",
        "\n",
        "<pre>\n",
        "boolean isActive = False\n",
        "boolean rentIsTooHigh = True\n",
        "</pre>"
      ]
    },
    {
      "cell_type": "markdown",
      "source": [
        "## Try It!\n",
        "\n",
        "Write a Python program that compares two numerical variables using various relational operators and prints different messages based on the comparisons.\n",
        "\n",
        "- Define two variables with numerical values.\n",
        "- Use relational operators (==, !=, >, <, >=, <=) to compare these variables.\n",
        "- Print different messages based on the results of the comparisons\n",
        "\n",
        "Sample Output:\n",
        "```\n",
        "25 is equal to 30: False\n",
        "25 is not equal to 30: True\n",
        "25 is greater than 30: False\n",
        "25 is less than 30: True\n",
        "25 is greater than or equal to 30: False\n",
        "25 is less than or equal to 30: True\n",
        "```"
      ],
      "metadata": {
        "id": "5ISx3J4rHd8o"
      }
    },
    {
      "cell_type": "code",
      "source": [],
      "metadata": {
        "id": "w9sIEGdvIKOb"
      },
      "execution_count": null,
      "outputs": []
    },
    {
      "cell_type": "markdown",
      "metadata": {
        "id": "stY6WceY_sRe"
      },
      "source": [
        "## Logical Operators\n",
        "\n",
        "<b>Logical operators</b> are used to combine Boolean expressions\n",
        "  - The combined expressions also evaluate to True or False\n",
        "\n",
        "<img src=\"https://github.com/FSCJ-FacultyDev/SWC-Virtual-2024/blob/main/notebooks.day1/images/LogicalOperators.png?raw=true\" alt=\"Logical Operators\" width=\"400\" height=\"125\"/>  "
      ]
    },
    {
      "cell_type": "code",
      "execution_count": null,
      "metadata": {
        "id": "HrMPIbs6AS-u"
      },
      "outputs": [],
      "source": [
        "# Variables\n",
        "a = True\n",
        "b = False\n",
        "\n",
        "# Logical AND\n",
        "result_and = a and b  # False\n",
        "\n",
        "# Logical OR\n",
        "result_or = a or b  # True\n",
        "\n",
        "# Logical NOT\n",
        "result_not_a = not a  # False\n",
        "result_not_b = not b  # True\n",
        "\n",
        "# Output results\n",
        "print(\"Logical AND:\", result_and)\n",
        "print(\"Logical OR:\", result_or)\n",
        "print(\"Logical NOT (a):\", result_not_a)\n",
        "print(\"Logical NOT (b):\", result_not_b)\n",
        "\n"
      ]
    },
    {
      "cell_type": "markdown",
      "metadata": {
        "id": "c5vvxeYxAfVm"
      },
      "source": [
        "## Logical Operator Order of Precedence\n",
        "\n",
        "1. NOT\n",
        "2. AND\n",
        "3. OR"
      ]
    },
    {
      "cell_type": "code",
      "execution_count": null,
      "metadata": {
        "id": "WxPfPKAZAej4"
      },
      "outputs": [],
      "source": [
        "x = False\n",
        "y = True\n",
        "z = True\n",
        "\n",
        "# Expression: not x or y and z\n",
        "# Evaluation Order: (not x) -> (y and z) -> or\n",
        "result = not x or y and z\n",
        "# Here, not x is evaluated first, then y and z, and finally the or operation.\n",
        "\n",
        "print(\"Result:\", result)  # Output will be True\n"
      ]
    },
    {
      "cell_type": "markdown",
      "metadata": {
        "id": "3zH39xPDGS23"
      },
      "source": [
        "## Relational Operator Order of Precedence\n",
        "\n",
        "- Relational operators (<, <=, >, >=, ==, !=) all share the same level of precedence.\n",
        "\n",
        "  - In an expression involving multiple relational operators, the evaluation is done from left to right.\n",
        "\n",
        "  - Relational operators have a higher precedence than the logical operators"
      ]
    },
    {
      "cell_type": "code",
      "execution_count": null,
      "metadata": {
        "id": "v9nbmuDxG4mH"
      },
      "outputs": [],
      "source": [
        "# demonstrate relational order of precedence\n",
        "\n",
        "a = 5\n",
        "b = 10\n",
        "c = 15\n",
        "\n",
        "# Expression: a < b < c\n",
        "# Evaluation: a < b and b < c\n",
        "result = a < b < c\n",
        "# In this expression, Python effectively evaluates it as (a < b) and (b < c).\n",
        "\n",
        "print(\"Result:\", result)  # Output will be True\n"
      ]
    },
    {
      "cell_type": "code",
      "execution_count": null,
      "metadata": {
        "id": "OZW1i0gQHfrW"
      },
      "outputs": [],
      "source": [
        "# demonstrate mixed order of precedence\n",
        "\n",
        "a = 5\n",
        "b = 10\n",
        "c = 20\n",
        "\n",
        "# Expression: a < b and b < c or a > c\n",
        "# Precedence Order:\n",
        "# 1. Relational Operators (<, >)\n",
        "# 2. Logical AND (and)\n",
        "# 3. Logical OR (or)\n",
        "\n",
        "result = a < b and b < c or a > c\n",
        "# Breakdown:\n",
        "# 1. a < b is evaluated (True)\n",
        "# 2. b < c is evaluated (True)\n",
        "# 3. a > c is evaluated (False)\n",
        "# 4. 'a < b and b < c' is evaluated (True AND True = True)\n",
        "# 5. The entire expression 'True or False' is evaluated (True OR False = True)\n",
        "\n",
        "print(\"Result:\", result)  # Output will be True\n"
      ]
    },
    {
      "cell_type": "markdown",
      "metadata": {
        "id": "f84_XWubH31N"
      },
      "source": [
        "## More Logical Operator Examples\n",
        "\n",
        "```\n",
        "# The AND operator\n",
        "age >= 65 AND city == \"Chicago\"\n",
        "\n",
        "# The OR operator\n",
        "city == \"Greenville\" OR age >= 65\n",
        "\n",
        "# The NOT operator\n",
        "NOT age >= 65\n",
        "\n",
        "# Two AND operators\n",
        "age >= 65 AND city == \"Greenville\" AND state == \"SC\"\n",
        "\n",
        "# Two OR operators\n",
        "age >= 65 OR age <= 18 OR status == \"retired\"\n",
        "\n",
        "# AND and OR operators with parens to clarify sequence of  operations\n",
        "(age >= 65 AND status == \"retired\") OR age < 18\n",
        "\n",
        "# AND and OR operators with parens to change sequence of operations\n",
        "age >= 65 AND (status == \"retired\" OR state == \"SC\")\n",
        "\n",
        "```\n"
      ]
    },
    {
      "cell_type": "markdown",
      "metadata": {
        "id": "Pmgl6A-I31JP"
      },
      "source": [
        "- Short-circuit evaluation uses the behavior of logical operators to avoid unnecessary expression evaluation\n",
        " - Can improve performance\n",
        "\n",
        "- AND operations evaluate to True only if all expressions are True\n",
        "```\n",
        "age >= 65 AND city == \"Greenville\" AND state == \"SC\"\n",
        "```\n",
        "\n",
        " - If age >= 65 is False, evaluation stops there and result is False\n",
        " - If city == “Greenville” is False, evaluation stops there and result is False\n",
        "\n",
        "- OR operations evaluate to True if any expression is True\n",
        "```\n",
        "age >= 65 OR age <= 18 OR status == \"retired“\n",
        "```\n",
        " - If age >= 65, evaluation stops there and result is True\n",
        " - If age <= 18, evaluation stops there and result is True\n",
        "\n",
        "- Evaluate more complex expressions last\n",
        " - with AND: if flag is False, time_consuming operation won't need to execute\n",
        "```\n",
        "if flag == True AND time_consuming_operation() == SUCCESS:\n",
        "```\n",
        " - with OR: if flag is True, time_consuming_operation won't need to execute\n",
        "```\n",
        "if flag == TRUE OR time_consuming_operation() == SUCCESS:\n",
        "```\n",
        "\n"
      ]
    },
    {
      "cell_type": "markdown",
      "source": [
        "## Try It!\n",
        "\n",
        "Write a Python program that uses logical operators (and, or, not) to evaluate multiple conditions and perform different actions based on the results.\n",
        "\n",
        "- Define three variables with numerical values.\n",
        "- Use if statements combined with logical operators to evaluate multiple conditions.\n",
        "- Print different messages based on the results of these evaluations.\n",
        "\n",
        "Sample Output:\n",
        "```\n",
        "25 is the smallest number.\n",
        "30 is greater than at least one of the other numbers.\n",
        "20 is not greater than 25.\n",
        "25 is less than 30 and 30 is not less than 20.\n",
        "```"
      ],
      "metadata": {
        "id": "RELWVYVaIwyD"
      }
    },
    {
      "cell_type": "code",
      "source": [],
      "metadata": {
        "id": "9dCw5vvqJS5O"
      },
      "execution_count": null,
      "outputs": []
    },
    {
      "cell_type": "markdown",
      "metadata": {
        "id": "xCYa_uXy5Nc1"
      },
      "source": [
        "## Comparing Strings\n",
        "- Numbers are compared based on their numeric values\n",
        "- Strings are compared on a character-by-character basis\n",
        " - Character comparisons are based on a numeric encoding called Unicode\n",
        " - Each character has an associated numeric value, or code point\n",
        " - Python uses an 8-bit Unicode representation known as UTF-8\n",
        " - \"A character in UTF8 can be from 1 to 4 bytes long. UTF-8 can represent any character in the Unicode standard. UTF-8 is backwards compatible with ASCII.\"\n",
        "https://www.w3schools.com/charsets/ref_html_utf8.asp\n",
        "\n",
        "### UTF-8 Code Point Examples\n",
        "https://unicode.org/charts/PDF/U0000.pdf\n",
        "\n",
        "<img src=\"https://github.com/FSCJ-FacultyDev/SWC-Virtual-2024/blob/main/notebooks.day1/images/UTF_8Values.png?raw=true\" alt=\"UTF_8Values\" width=\"600\" height=\"275\"/>  \n",
        "\n",
        "- These are equivalent to ASCII symbol values\n",
        "https://www.asciitable.com\n",
        "\n",
        "## String Comparison Examples\n",
        "- Characters are evaluated from left to right\n",
        " - The first characters of both strings are compared, then the second characters of both strings, and so on\n",
        "\n",
        "<img src=\"https://github.com/FSCJ-FacultyDev/SWC-Virtual-2024/blob/main/notebooks.day1/images/StringComparisons.png?raw=true\" alt=\"StringComparisons\" width=\"600\" height=\"275\"/>  \n",
        "\n",
        "## Converting Strings\n",
        "- lower() and upper() are methods which convert characters in a string to lower (or upper) case\n",
        "- A method is associated with an object (e.g. a string).\n",
        "- Methods are called using the dot operator\n"
      ]
    },
    {
      "cell_type": "code",
      "execution_count": null,
      "metadata": {
        "id": "k4TGGYDd9XHf"
      },
      "outputs": [],
      "source": [
        "string1 = \"Mary\"\n",
        "string2 = \"mary\"\n",
        "string1 == string2"
      ]
    },
    {
      "cell_type": "code",
      "execution_count": null,
      "metadata": {
        "id": "FbLhsSLv9hgC"
      },
      "outputs": [],
      "source": [
        "string1.lower() == string2"
      ]
    },
    {
      "cell_type": "code",
      "execution_count": null,
      "metadata": {
        "id": "Spk2X9Ez9nBV"
      },
      "outputs": [],
      "source": [
        "string1.upper() == string2.upper()"
      ]
    },
    {
      "cell_type": "markdown",
      "source": [
        "## Try It!\n",
        "\n",
        "Write a Python program that performs various string comparisons and prints the results.\n",
        "\n",
        "- Define two string variables.\n",
        "- Use relational operators (==, !=, >, <, >=, <=) to compare these strings.\n",
        "- Print different messages based on the results of the comparisons.\n",
        "\n",
        "Sample Output:\n",
        "```\n",
        "'apple' is equal to 'banana': False\n",
        "'apple' is not equal to 'banana': True\n",
        "'apple' is greater than 'banana': False\n",
        "'apple' is less than 'banana': True\n",
        "'apple' is greater than or equal to 'banana': False\n",
        "'apple' is less than or equal to 'banana': True\n",
        "```"
      ],
      "metadata": {
        "id": "0FATRUNjK9Kl"
      }
    },
    {
      "cell_type": "code",
      "source": [],
      "metadata": {
        "id": "q7xcug9GLK2a"
      },
      "execution_count": null,
      "outputs": []
    },
    {
      "cell_type": "markdown",
      "metadata": {
        "id": "3jtK_i469s4x"
      },
      "source": [
        "## Simplifying User Input Validation\n"
      ]
    },
    {
      "cell_type": "code",
      "execution_count": null,
      "metadata": {
        "id": "XB4MvqR29z_T"
      },
      "outputs": [],
      "source": [
        "entry = input(\"Enter x to exit: \")\n"
      ]
    },
    {
      "cell_type": "code",
      "execution_count": null,
      "metadata": {
        "id": "Ey3wISWI-CN8"
      },
      "outputs": [],
      "source": [
        "entry == \"x\" or entry == \"X\""
      ]
    },
    {
      "cell_type": "code",
      "execution_count": null,
      "metadata": {
        "id": "ewWdQV81-H0y"
      },
      "outputs": [],
      "source": [
        "entry.lower() == 'x'"
      ]
    },
    {
      "cell_type": "markdown",
      "metadata": {
        "id": "iaYP7wUt_GG8"
      },
      "source": [
        "# Selection Statements: The **if** Statement"
      ]
    },
    {
      "cell_type": "markdown",
      "metadata": {
        "id": "zbjFnGzP_PoH"
      },
      "source": [
        "- Boolean expressions by themselves aren’t very useful or interesting; we need to associate them with some behavior in our code\n",
        "- The if statement controls the execution path based on the results of a boolean expression:\n",
        "```\n",
        "if boolean_expression:\n",
        "        statements…           # this is a block of statements\n",
        "```\n",
        "\n",
        "- The boolean expression in the if statement must be terminated with a colon  ‘:’\n",
        "- The statements in the if *block* must be indented.\n",
        " - Python officially refers to a block as a \"suite\"\n",
        "\n"
      ]
    },
    {
      "cell_type": "code",
      "execution_count": null,
      "metadata": {
        "id": "bqXDNcm__tyd"
      },
      "outputs": [],
      "source": [
        "age = 21\n",
        "if age >= 18:\n",
        "  print(\"You may vote\")\n"
      ]
    },
    {
      "cell_type": "code",
      "execution_count": null,
      "metadata": {
        "id": "QRLi8s08_0PL"
      },
      "outputs": [],
      "source": [
        "age = 17\n",
        "if age < 17:\n",
        "  print(\"You may NOT vote\")"
      ]
    },
    {
      "cell_type": "markdown",
      "metadata": {
        "id": "s_Pu3pUrABkz"
      },
      "source": [
        "### Alternative Paths Using the else Statement\n",
        "- What if we want to take an alternative action when the if statement fails?\n",
        "- Use the **else** statement:\n",
        "```\n",
        "if boolean_expression:\n",
        "        statements…\n",
        "else:\n",
        "        statements…\n",
        "```\n",
        "\n",
        "- **else** uses the same rules as if:\n",
        " - terminate with colon\n",
        " - use indentation for block\n"
      ]
    },
    {
      "cell_type": "code",
      "execution_count": null,
      "metadata": {
        "id": "sLdQ8IHyAjEU"
      },
      "outputs": [],
      "source": [
        "name = \"Smith\"\n",
        "if name.lower() == \"smith\":\n",
        "    print(\"You have a very common name\")\n",
        "else:\n",
        "    print(\"Your name may not be as common as Smith\")\n"
      ]
    },
    {
      "cell_type": "code",
      "execution_count": null,
      "metadata": {
        "id": "Fj4zMKjBA3PH"
      },
      "outputs": [],
      "source": [
        "name = \"Jones\"\n",
        "if name.lower() == \"smith\":\n",
        "    print(\"You have a very common name\")\n",
        "else:\n",
        "    print(\"Your name may not be as common as Smith\")"
      ]
    },
    {
      "cell_type": "markdown",
      "metadata": {
        "id": "sixLEJ1pA-MX"
      },
      "source": [
        "### Multiple Paths Using an elif Chain\n",
        "- If we have multiple expressions to evaluate, use **elif**:\n",
        "```\n",
        "if boolean_expression:\n",
        "        statements…\n",
        "elif boolean_expression2:\n",
        "        statements…\n",
        "elif boolean_expression3:\n",
        "        statements…\n",
        "else:       # not required, but use if necessary\n",
        "        statements…\n",
        "```"
      ]
    },
    {
      "cell_type": "code",
      "execution_count": null,
      "metadata": {
        "id": "I14l6BDpBadt"
      },
      "outputs": [],
      "source": [
        "name = \"Jones\"\n",
        "if name.lower() == \"smith\":\n",
        "    print(\"You have a very common name\")\n",
        "elif name.lower() == \"jones\":\n",
        "    print(\"Your name is slightly less common than Smith\")\n",
        "else:\n",
        "    print(\"Maybe you should change your name?\")"
      ]
    },
    {
      "cell_type": "code",
      "execution_count": null,
      "metadata": {
        "id": "o0Q8MjTxF225"
      },
      "outputs": [],
      "source": [
        "invoice_total = 375.69\n",
        "if invoice_total >= 500.00:\n",
        "    discount = 0.2\n",
        "elif invoice_total >= 250.00:\n",
        "    discount = 0.1\n",
        "elif invoice_total >= 100.00:\n",
        "    discount = 0.05\n",
        "else:\n",
        "    discount = 0.0\n",
        "\n",
        "print(\"discount = \" + str(discount))"
      ]
    },
    {
      "cell_type": "markdown",
      "metadata": {
        "id": "g3UiYDvNGX-X"
      },
      "source": [
        "## Try It!\n",
        "\n",
        "\n",
        "Write a Python program which uses an **if** statement that prompts the user for a number of sides (up to 5) and identifies the shape associated with that number. Use **elif** and **else** as necessary. Use constants for the shape sides, e.g.,\n",
        "```\n",
        "SIDES_LINE=1\n",
        "SIDES_POLYLINE=2\n",
        "SIDES_TRIANGLE=3\n",
        "SIDES_RECTANGLE=4\n",
        "SIDES_PENTAGON=5\n",
        "```\n",
        "\n",
        "<img src=\"https://github.com/FSCJ-FacultyDev/SWC-Virtual-2024/blob/main/notebooks.day1/images/IdentifyTheShape.png?raw=true\" alt=\"IdentifyTheShape\" width=\"400\" height=\"225\"/>  \n",
        "\n",
        "**Sample Output:**\n",
        "```\n",
        "Please enter a number of sides from 1 to 5: 3\n",
        "3 sides is a triangle\n",
        "```"
      ]
    },
    {
      "cell_type": "code",
      "execution_count": null,
      "metadata": {
        "id": "vMfT09ATHXAI"
      },
      "outputs": [],
      "source": []
    },
    {
      "cell_type": "markdown",
      "metadata": {
        "id": "mlaMGrO-Hq67"
      },
      "source": [
        "## Nested IF Statements\n",
        "- We sometimes need to make a secondary decision within a primary one. We can use a nested if for this:\n",
        "```\n",
        "if a customer chose an apple\n",
        "        if they chose a Red Delicious\n",
        "                show Red Delicious price\n",
        "        else if they chose a Granny Smith\n",
        "                show Granny Smith price\n",
        "        else if they chose a McIntosh\n",
        "                show McIntosh price\n",
        "else if a customer chose an orange\n",
        "        if they chose a Valencia\n",
        "                show Valencia price\n",
        "        else if they chose a Maltese\n",
        "                show Maltese price\n",
        "```\n"
      ]
    },
    {
      "cell_type": "code",
      "execution_count": null,
      "metadata": {
        "id": "DkR-NSohMaKe"
      },
      "outputs": [],
      "source": [
        "#!/usr/bin/env python3\n",
        "# nested-if.py\n",
        "#\n",
        "fruit = \"apple\"\n",
        "appleType = \"McIntosh\"\n",
        "orangeType = \"Unknown\"\n",
        "#\n",
        "if fruit == \"apple\":\n",
        "    if appleType == \"Red Delicious\":\n",
        "        print(\"price is $1.49\")\n",
        "    elif appleType == \"Granny Smith\":\n",
        "        print(\"price is $1.79\")\n",
        "    elif appleType == \"McIntosh\":\n",
        "        print(\"price is $2.11\")\n",
        "    else:\n",
        "        print(\"unknown apple type\")\n",
        "elif fruit == \"orange\":\n",
        "    if orangeType == \"Valencia\":\n",
        "        print(\"price is $1.19\")\n",
        "    elif orangeType == \"Maltese\":\n",
        "        print(\"price is $1.29\")\n",
        "    else:\n",
        "        print(\"unknown orange type\")\n",
        "else:\n",
        "    print(\"unknown fruit type\")"
      ]
    },
    {
      "cell_type": "markdown",
      "metadata": {
        "id": "3U-9yIbWMm2B"
      },
      "source": [
        "## Try It!\n",
        "\n",
        "Write a Python program which applies customer discounts based on a customer type code and the total sales (invoice) amount. Use nested if statements.\n",
        "\n",
        "<img src=\"https://github.com/FSCJ-FacultyDev/SWC-Virtual-2024/blob/main/notebooks.day1/images/CustomerDiscountCode.png?raw=true\" alt=\"CustomerDiscountCode\" width=\"400\" height=\"225\"/>  \n"
      ]
    },
    {
      "cell_type": "code",
      "execution_count": null,
      "metadata": {
        "id": "2JyEmNDANELX"
      },
      "outputs": [],
      "source": []
    },
    {
      "cell_type": "markdown",
      "metadata": {
        "id": "kuy75ZrENK0V"
      },
      "source": [
        "## To Nest Your Ifs … or Not …\n",
        "- This code gives the same results, without using nested If statements.\n",
        " - Which approach is preferable?\n"
      ]
    },
    {
      "cell_type": "code",
      "execution_count": null,
      "metadata": {
        "id": "Q28G0BhbNbZc"
      },
      "outputs": [],
      "source": [
        "# the discounts for Retail customers\n",
        "if customer_type.lower() == \"r\" and invoice_total < 100:\n",
        "    discount_percent = 0\n",
        "elif customer_type.lower() == \"r\" and (\n",
        "    invoice_total >= 100 and invoice_total < 250):\n",
        "    discount_percent = .1\n",
        "elif customer_type.lower() == \"r\" and invoice_total >= 250:\n",
        "    discount_percent = .2\n",
        "# the discounts for Wholesale customers\n",
        "elif customer_type.lower() == \"w\" and invoice_total < 500:\n",
        "    discount_percent = .4\n",
        "elif customer_type.lower() == \"w\" and invoice_total >= 500:\n",
        "    discount_percent = .5\n",
        "# all other customers\n",
        "else:\n",
        "    discount_percent = 0"
      ]
    },
    {
      "cell_type": "markdown",
      "metadata": {
        "id": "iESgmtaxNilP"
      },
      "source": [
        "- Note the duplicated check for customer type. This code is harder to maintain; if we needed to change to something other than “r”, what if we miss one of the “r” literals in the elif statements?\n"
      ]
    },
    {
      "cell_type": "markdown",
      "metadata": {
        "id": "fuhemcxJOKOL"
      },
      "source": [
        "## Coding Style for Selection Statements\n",
        "- PEP-8 recommends a single space around comparison operators\n",
        "```\n",
        "if age < 4:\n",
        "```\n",
        "is preferable to\n",
        "```\n",
        "if age<4:\n",
        "```\n",
        "```\n",
        "if x == y and y <= 10:\n",
        "```\n",
        "is preferable to\n",
        "```\n",
        "if x==y and y<=10:\n",
        "```\n"
      ]
    },
    {
      "cell_type": "markdown",
      "source": [
        "# Other Selection Statements\n",
        "\n",
        "In Python, if statements are the primary way to make selections or decisions based on conditions. However, there are other constructs and techniques that can be used to achieve similar outcomes:\n",
        "\n",
        "## Ternary Conditional Operator\n",
        "\n",
        "This is a compact way to write simple conditional expressions.\n",
        "\n",
        "expression_if_true **if** condition **else** expression_if_false\n",
        "\n",
        "- **expression_if_true**: This is the value that will be assigned if the condition evaluates to True.\n",
        "- **if**: This keyword introduces the condition that will be evaluated.\n",
        "- **condition**: This is the boolean expression that is evaluated. If the condition is True, the result of the ternary operation will be expression_if_true. If the condition is False, the result will be expression_if_false.\n",
        "- **else**: This keyword introduces the alternative value that will be assigned if the condition evaluates to False.\n",
        "- **expression_if_false**: This is the value that will be assigned if the condition evaluates to False.\n",
        "\n",
        "### Example:\n",
        "\n",
        "```\n",
        "x = 10\n",
        "y = \"Even\" if x % 2 == 0 else \"Odd\"\n",
        "print(y)\n",
        "```\n",
        "This is equivalent to\n",
        "```\n",
        "x = 10\n",
        "if x % 2 == 0:\n",
        "    y = \"Even\"\n",
        "else:\n",
        "    y = \"Odd\"\n",
        "print(y)\n",
        "```"
      ],
      "metadata": {
        "id": "QmYyv0gWbbWj"
      }
    },
    {
      "cell_type": "markdown",
      "source": [
        "## Try It!\n",
        "\n",
        "Write a Python program that uses a ternary operator to check if a number is positive, negative, or zero, and prints the appropriate message.\n",
        "\n",
        "- Prompt the user for a number\n",
        "- Use a ternary operator to evaluate whether the number is positive, negative, or zero.\n",
        "- Print the result using the ternary operator.\n",
        "\n",
        "**Sample Output**\n",
        "\n",
        "```\n",
        "Enter a number: 5\n",
        "The number is Positive.\n",
        "```"
      ],
      "metadata": {
        "id": "U6Zz9KM3buV9"
      }
    },
    {
      "cell_type": "code",
      "source": [],
      "metadata": {
        "id": "ofhjnztecjOF"
      },
      "execution_count": null,
      "outputs": []
    },
    {
      "cell_type": "markdown",
      "source": [
        "## The match Statement\n",
        "\n",
        "Introduced in Python 3.10, the match statement provides pattern matching capabilities, which can be used for more complex selections based on patterns.\n",
        "This is similar to a \"switch\" statement in other languages.\n",
        "\n",
        "This construct was emphatically rejected by Guido Van Rossum in early versions of the language, based on concerns about code readability and complexity. He believed if-elif-else chains provided sufficient functionality and that introducing a new construct could complicate the language unnecessarily. He also pointed out that a switch statement could lead to less readable code if not used carefully. Despite the initial resistance, the concept of pattern matching gained traction within the Python community, and PEP 622 introduced  match as a way to provide a more powerful and expressive way to handle complex conditional logic.\n",
        "\n",
        "### Example\n",
        "\n",
        "```\n",
        "value = 42\n",
        "match value:\n",
        "    case 0:\n",
        "        print(\"Zero\")\n",
        "    case 1:\n",
        "        print(\"One\")\n",
        "    case 42:\n",
        "        print(\"The Answer\")\n",
        "    case _:\n",
        "        print(\"Something else\")\n",
        "```\n"
      ],
      "metadata": {
        "id": "SgAVliDnSuas"
      }
    },
    {
      "cell_type": "markdown",
      "source": [
        "## Try It!\n",
        "\n",
        "Write a Python program that uses the match statement to handle different types of input commands and prints corresponding messages.\n",
        "\n",
        "- Prompt the user for a command\n",
        "- Use the match statement to pattern match the inputs.\n",
        "- Print different messages based on the matched command.\n",
        "- Print a message if the command is not recognized\n",
        "\n",
        "**Sample Output (accept starting, stopping, pausing, resuming)**\n",
        "\n",
        "```\n",
        "Enter a command (start, stop, pause, resume): start\n",
        "Starting the process...\n",
        "```\n",
        "\n",
        "```\n",
        "Enter a command (start, stop, pause, resume): stop\n",
        "Stopping the process...\n",
        "```\n",
        "```\n",
        "Enter a command (start, stop, pause, resume): pause\n",
        "Pausing the process...\n",
        "```\n",
        "\n",
        "```\n",
        "Enter a command (start, stop, pause, resume): resume\n",
        "Resuming the process...\n",
        "```\n",
        "\n",
        "```\n",
        "Enter a command (start, stop, pause, resume): hello\n",
        "Unknown command\n",
        "```\n"
      ],
      "metadata": {
        "id": "CaNtIq_TV87j"
      }
    },
    {
      "cell_type": "code",
      "source": [],
      "metadata": {
        "id": "E101X0NUWJSR"
      },
      "execution_count": null,
      "outputs": []
    }
  ],
  "metadata": {
    "colab": {
      "provenance": []
    },
    "kernelspec": {
      "display_name": "Python 3 (ipykernel)",
      "language": "python",
      "name": "python3"
    },
    "language_info": {
      "codemirror_mode": {
        "name": "ipython",
        "version": 3
      },
      "file_extension": ".py",
      "mimetype": "text/x-python",
      "name": "python",
      "nbconvert_exporter": "python",
      "pygments_lexer": "ipython3",
      "version": "3.12.0"
    }
  },
  "nbformat": 4,
  "nbformat_minor": 0
}