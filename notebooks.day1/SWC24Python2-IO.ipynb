{
 "cells": [
  {
   "cell_type": "markdown",
   "metadata": {
    "id": "Ye9NUR50fEW4"
   },
   "source": [
    "# I/O (Input and Output)"
   ]
  },
  {
   "cell_type": "markdown",
   "metadata": {
    "id": "1EuDAoPQAr3G"
   },
   "source": [
    "I/O refers to dynamic and real-time interaction between the user and a Python program, usually through the console or terminal\n",
    "- input() function is used to accept user input\n",
    "- print() to display output back to the user"
   ]
  },
  {
   "cell_type": "markdown",
   "metadata": {
    "id": "qo0ahJykGDa1"
   },
   "source": [
    "## Getting User Input"
   ]
  },
  {
   "cell_type": "markdown",
   "metadata": {
    "id": "bNYATrb6Hxfm"
   },
   "source": [
    "Input can refer to data that is obtained from the keyboard interactively, from a web form, from the network, from a file database, and from other sources.\n",
    "\n",
    "The input() function in Python is used to read a string from the \"standard input\", typically the keyboard.\n",
    "- When the function is called, the program execution blocks (pauses) and waits for the user to type something.\n",
    "- After the user enters the desired input and presses Enter, the input function returns the data as a string.\n",
    "\n",
    "A common usage of input() is to prompt the user for some information.\n",
    "- You can pass a string to input(), which will be displayed as a prompt to the user before they enter their input."
   ]
  },
  {
   "cell_type": "code",
   "execution_count": null,
   "metadata": {
    "id": "yGfdnoLIH0O7"
   },
   "outputs": [],
   "source": [
    "name = input(\"Enter your name: \")"
   ]
  },
  {
   "cell_type": "markdown",
   "metadata": {
    "id": "9CLx8SveH2yt"
   },
   "source": [
    "In this case, \"Enter your name: \" is displayed on the screen, and the program waits for the user to type their name and press Enter. The entered name is then stored as a string in the variable name.\n",
    "\n",
    "Python's interactivity allows for an exploratory and iterative approach to coding, where commands can be entered and executed one line at a time, and the output is immediately visible.\n",
    "\n",
    "This is useful for creating simple user interfaces in the console, for debugging, or for scripting\n",
    "\n",
    "It is important to note that input() always returns a string. If you need a different data type (like an integer or a float), you must explicitly convert the return value using functions like int() or float()."
   ]
  },
  {
   "cell_type": "code",
   "execution_count": null,
   "metadata": {
    "id": "M2D6KgSOH5aR"
   },
   "outputs": [],
   "source": [
    "age = input(\"Enter your age: \")\n",
    "age = int(age)\n",
    "print('your age is', age)"
   ]
  },
  {
   "cell_type": "markdown",
   "metadata": {
    "id": "48uRGDFNH7dF"
   },
   "source": [
    "The built-in <b>int()</b> function returns an integer constructed from a number or string\n",
    "\n",
    "<pre>usage: int(x, base=10)</pre>"
   ]
  },
  {
   "cell_type": "code",
   "execution_count": null,
   "metadata": {
    "id": "qfinktzwH_dX"
   },
   "outputs": [],
   "source": [
    "print(int(\"100\"))\n",
    "\n",
    "print(int(100.05))\n",
    "\n",
    "print(int(\"1001\", base=2))"
   ]
  },
  {
   "cell_type": "markdown",
   "metadata": {
    "id": "IufkI2lfICXD"
   },
   "source": [
    "## Conversion Functions\n",
    "\n",
    "Python provides several built-in type functions which can be used to convert one type to another:\n",
    "\n",
    "- int(): Converts a value to an integer. It can handle strings that - represent numbers (e.g., \"10\") and floating-point numbers by truncating the decimal part (strings must be converted to float first)\n",
    "- float(): Converts a value to a floating-point number. It can handle numeric literals and strings representing a number (e.g., \"3.14\").\n",
    "- str(): Converts a value to a string. This function can handle virtually any data type, turning it into its string representation. str() is not needed when the value is obtained from the input function since it will already be a string.\n",
    "- bool(): Converts a value to a boolean (True or False).\n",
    "complex(): Converts a value to a complex number. It can take numeric literals or strings representing complex numbers (e.g., \"1+2j\").\n",
    "- list(): Converts a value to a list. It is typically used for converting tuples, sets, and other iterable objects into lists.\n",
    "tuple(): Converts a value to a tuple. It's commonly used for converting lists, sets, and other iterables into tuples.\n",
    "- set(): Converts a value to a set. It's useful for removing duplicates from a sequence and converting other iterable types to a set.\n",
    "- dict(): Converts a value to a dictionary. It's often used with a list of pairs or a similar structure that can represent key-value pairs."
   ]
  },
  {
   "cell_type": "code",
   "execution_count": null,
   "metadata": {
    "id": "iATX8TUHIFc0"
   },
   "outputs": [],
   "source": [
    "x = input(\"Please enter an integer, e.g. 20: \")\n",
    "\n",
    "# the type() function will display the type of an object\n",
    "type(x)\n",
    "# print(x > 20) # this doesn't work - x is a string, not a number\n",
    "print('x as an int =', int(x))\n",
    "print('x as a float =', float(x))\n",
    "print('x as a complex =', complex(x))\n",
    "\n",
    "x = input(\"Please enter a floating point number, e.g. 3.14: \")\n",
    "# first convert to float, then int\n",
    "x = float(x)\n",
    "x = int(x)\n",
    "print('x as an int =', x)\n",
    "\n",
    "# these functions can be nested:\n",
    "print('x as an int =', int(float(x)))"
   ]
  },
  {
   "cell_type": "markdown",
   "metadata": {
    "id": "hIAeQSRZsbh3"
   },
   "source": [
    "## Displaying Output\n",
    "\n",
    "The print() function is used for displaying data to the console\n",
    "\n",
    "- It can take multiple arguments of different data types, including strings, integers, and floats.\n",
    "- Concatenation can be used to combine arguments into a single string before displaying the output.\n",
    "- print() allows for custom separators between items and custom end-of-line characters.\n",
    "- By default, items are separated by a space character and lines are terminated with a newline"
   ]
  },
  {
   "cell_type": "code",
   "execution_count": null,
   "metadata": {
    "id": "SIxcfof3GbDb"
   },
   "outputs": [],
   "source": [
    "print(19.99)\n",
    "print(\"Price:\", 19.99)\n",
    "print(1, 2, 3, 4)"
   ]
  },
  {
   "cell_type": "markdown",
   "metadata": {
    "id": "-vnh1Rx7GpqT"
   },
   "source": [
    "There are different ways to get the same result\n",
    "\n",
    "Here is a print() function that receives four arguments:\n",
    "\n",
    "  <pre>\n",
    "  print(\"Total Score:\", score_total,\n",
    "        \"\\nAverage Score:\", average_score)\n",
    "  </pre>\n",
    "Here is a print() function that receives one string as the argument using concatenation:\n",
    "  <pre>\n",
    "  print(\"Total Score: \" + str(score_total) +\n",
    "      \"\\nAverage Score: \" + str(average_score))\n",
    "  </pre>"
   ]
  },
  {
   "cell_type": "code",
   "execution_count": null,
   "metadata": {
    "id": "3LnWNuJRHGGQ"
   },
   "outputs": [],
   "source": [
    "score_total = 280\n",
    "average_score = 70\n",
    "\n",
    "print(\"Total Score:\", score_total,\n",
    "      \"\\nAverage Score:\", average_score)\n",
    "\n",
    "print(\"Total Score: \" + str(score_total) +\n",
    "      \"\\nAverage Score: \" + str(average_score))"
   ]
  },
  {
   "cell_type": "markdown",
   "metadata": {
    "id": "2gR8gJh9YeAz"
   },
   "source": [
    "##The sep and end optional arguments\n",
    "print allows \"sep\" and \"end\" arguments\n",
    "- sep defaults to a space character"
   ]
  },
  {
   "cell_type": "code",
   "execution_count": null,
   "metadata": {
    "id": "rRokPZ77YtHe"
   },
   "outputs": [],
   "source": [
    "print(1, 2, 3, 4, sep=' | ')\n",
    "print('foo', 'bar', sep=' -> ')\n",
    "print('eggs', 'ham', sep='\\t')"
   ]
  },
  {
   "cell_type": "markdown",
   "metadata": {
    "id": "BS9gpeC_ZNFP"
   },
   "source": [
    "- end defaults to a newline"
   ]
  },
  {
   "cell_type": "code",
   "execution_count": null,
   "metadata": {
    "id": "s-ejlaUhY-DC"
   },
   "outputs": [],
   "source": [
    "print(1, 2, 3, 4, end='!!!')\n",
    "print('ham', 'eggs', 'toast', sep=' & ', end=': Yum!')"
   ]
  },
  {
   "cell_type": "markdown",
   "metadata": {
    "id": "-qPNp9GbabhI"
   },
   "source": [
    "##Rounding Numeric Values\n",
    "<b>round()</b> takes a numeric argument and rounds it to the  specified number of significant digits"
   ]
  },
  {
   "cell_type": "code",
   "execution_count": null,
   "metadata": {
    "id": "ChOxi9XAal7k"
   },
   "outputs": [],
   "source": [
    "num1 = 3.14159\n",
    "num2 = round(num1, 2)\n",
    "print(num1, num2, sep=',')"
   ]
  },
  {
   "cell_type": "markdown",
   "metadata": {
    "id": "tx0nn0BFaz4k"
   },
   "source": [
    "If the number of digits (the second argument) is omitted, it defaults to 0"
   ]
  },
  {
   "cell_type": "code",
   "execution_count": null,
   "metadata": {
    "id": "RUcPWsYxa2Nh"
   },
   "outputs": [],
   "source": [
    "print(round(7.59))"
   ]
  },
  {
   "cell_type": "markdown",
   "metadata": {
    "id": "tBzztcgbbBpG"
   },
   "source": [
    "Rounding behavior as of Python 3.x:\n",
    "\n",
    "- The return value is an integer if called with one argument, otherwise it is the same type as x."
   ]
  },
  {
   "cell_type": "code",
   "execution_count": null,
   "metadata": {
    "id": "iYTNkcJUbM3g"
   },
   "outputs": [],
   "source": [
    "x = round(3.14)    # returns an int\n",
    "print(x)\n",
    "x = round(3.0, 0)  # returns a float\n",
    "print(x)"
   ]
  },
  {
   "cell_type": "markdown",
   "metadata": {
    "id": "3cSgyEq8bdw1"
   },
   "source": [
    "If two multiples are equally close, rounding is done toward the even choice\n",
    "\n",
    "- e.g., both round(0.5) and round(-0.5) are 0, and round(1.5) is 2\n",
    "\n",
    "https://docs.python.org/release/3.1.5/library/functions.html#round"
   ]
  },
  {
   "cell_type": "code",
   "execution_count": null,
   "metadata": {
    "id": "3gZkq85kbsbB"
   },
   "outputs": [],
   "source": [
    "print(round(0.5))\n",
    "print(round(1.5))\n",
    "print(round(2.5))\n",
    "print(round(3.5))"
   ]
  },
  {
   "cell_type": "markdown",
   "metadata": {
    "id": "f1xmkwERcK8J"
   },
   "source": [
    "Remember that floating point values are not always precise\n",
    "due to IEEE754 representation\n",
    "\n",
    "\n"
   ]
  },
  {
   "cell_type": "code",
   "execution_count": null,
   "metadata": {
    "id": "BNXhoPkjcPw9"
   },
   "outputs": [],
   "source": [
    "# internally 2.675 is represented as 2.67499999999999\n",
    "print(round(2.675, 2))"
   ]
  },
  {
   "cell_type": "markdown",
   "metadata": {
    "id": "30P_kBDocuTG"
   },
   "source": [
    "## Write a program that calculates miles per gallon, given mile driven and  gallons used\n",
    "\n",
    "- miles per gallon = miles driven / gallons used\n",
    "- round the result to 2 places"
   ]
  },
  {
   "cell_type": "code",
   "execution_count": null,
   "metadata": {
    "id": "6c6kZp3Tcxzw"
   },
   "outputs": [],
   "source": [
    "#!/usr/bin/env python3\n",
    "\n",
    "# calculate miles per gallon\n",
    "\n",
    "print(\"The Miles Per Gallon program\")\n",
    "print()\n",
    "\n",
    "# get input from the user\n",
    "miles_driven= float(input(\"Enter miles driven:\\t\\t\"))\n",
    "gallons_used = float(input(\"Enter gallons of gas used:\\t\"))\n",
    "\n",
    "# calculate and round miles per gallon\n",
    "mpg = miles_driven / gallons_used\n",
    "mpg = round(mpg, 2)\n",
    "\n",
    "# display the result\n",
    "print()\n",
    "print(\"Miles Per Gallon:\\t\\t\" + str(mpg))"
   ]
  }
 ],
 "metadata": {
  "colab": {
   "provenance": []
  },
  "kernelspec": {
   "display_name": "Python 3 (ipykernel)",
   "language": "python",
   "name": "python3"
  },
  "language_info": {
   "codemirror_mode": {
    "name": "ipython",
    "version": 3
   },
   "file_extension": ".py",
   "mimetype": "text/x-python",
   "name": "python",
   "nbconvert_exporter": "python",
   "pygments_lexer": "ipython3",
   "version": "3.12.0"
  }
 },
 "nbformat": 4,
 "nbformat_minor": 4
}
