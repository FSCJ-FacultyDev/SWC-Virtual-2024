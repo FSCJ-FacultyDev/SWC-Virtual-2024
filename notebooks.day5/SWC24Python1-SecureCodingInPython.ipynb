{
  "nbformat": 4,
  "nbformat_minor": 0,
  "metadata": {
    "colab": {
      "provenance": []
    },
    "kernelspec": {
      "name": "python3",
      "display_name": "Python 3"
    },
    "language_info": {
      "name": "python"
    }
  },
  "cells": [
    {
      "cell_type": "markdown",
      "source": [
        "# Secure Coding in Python\n",
        "\n",
        "<img src=\"https://github.com/FSCJ-FacultyDev/SWC-Virtual-2024/blob/main/notebooks.day5/images/SecurePython.png?raw=true\" width=200 height=200/>\n",
        "\n",
        "Secure coding practices are essential to protect applications and systems from a wide array of cyber threats and vulnerabilities. As software increasingly handles sensitive data and performs critical functions, the potential consequences of security breaches grow more severe, ranging from data theft and financial loss to reputation damage and legal liabilities. Implementing secure coding practices helps to ensure  applications are resilient against common  attacks that can exploit weaknesses in code. By adopting secure coding practices, developers can build software that meets functional requirements and also maintains the integrity, confidentiality, and availability of data.\n",
        "\n",
        "Several organizations provide guidelines and frameworks for secure coding:\n",
        "\n",
        "[OWASP Secure Coding Practices Quick Reference Guide](https://owasp.org/www-project-secure-coding-practices-quick-reference-guide/)\n",
        "OWASP (Open Web Application Security Project) provides a comprehensive guide to secure coding practices, focusing on the most critical security risks to web applications.\n",
        "\n",
        "[NIST SP 800-53: Security and Privacy Controls for Information Systems and Organizations](https://csrc.nist.gov/publications/detail/sp/800-53/rev-5/final)\n",
        "NIST (National Institute of Standards and Technology) publishes various standards and guidelines for cybersecurity, including secure coding practices.\n",
        "\n",
        "[CERT Secure Coding Standards](https://wiki.sei.cmu.edu/confluence/display/seccode/SEI+CERT+Coding+Standards)\n",
        "CERT (Computer Emergency Response Team) publishes secure coding standards for different programming languages to improve software security.\n",
        "\n",
        "[ISO/IEC 27001 Information Security Management](https://www.iso.org/isoiec-27001-information-security.html)\n",
        "ISO (International Organization for Standardization) and IEC (International Electrotechnical Commission) 27001 is an international standard for managing information security which includes guidelines for secure software development.\n",
        "\n",
        "[PCI DSS Secure Software Standard](https://www.pcisecuritystandards.org/document_library?category=software_security)\n",
        "PCI DSS (Payment Card Industry Data Security Standard) provides guidelines for secure coding practices specifically for applications handling payment card data.\n",
        "\n",
        "Secure coding topics include\n",
        "\n",
        "- Input Validation\n",
        "- Error Handling\n",
        "- Use of Secure Libraries\n",
        "- Access Control and Authorization\n",
        "- Logging and Monitoring\n",
        "- Common Vulnerabilities\n",
        "  - SQL Injection\n",
        "  - Cross-Site Scripting (XSS)\n",
        "  - Insecure Deserialization\n",
        "  - Sensitive Data Exposure\n",
        "  - Improper Error Handling\n",
        "- Software Supply Chain Security"
      ],
      "metadata": {
        "id": "SKyx7p7DsmN2"
      }
    },
    {
      "cell_type": "markdown",
      "source": [
        "## SQL Injection\n",
        "\n",
        "SQL injection is a code injection technique that exploits vulnerabilities in an application's software by inserting malicious SQL statements into an entry field for execution. It can lead to unauthorized access to or manipulation of the database, exposure of sensitive data, and potentially damaging changes to the database structure.\n",
        "\n",
        "An unsafe query can directly incorporate user input into a query. \"Alice' OR '1'='1\" becomes \"SELECT * FROM users WHERE name = 'Alice' OR '1'='1'\", which returns all rows because '1'='1' is always true.\n",
        "\n",
        "Parameterized queries are not vulnerable to SQL injection. By using a placeholder (?) and passing user input as a parameter which replaces the placeholder when the query executes, the query data is treated as a single string instead of separate commands. \"'Alice' OR '1'='1'\" is unlikely to match a name entry in the USERS database."
      ],
      "metadata": {
        "id": "BEknYGX8WKLZ"
      }
    },
    {
      "cell_type": "code",
      "execution_count": null,
      "metadata": {
        "id": "-l6BvkY7slQ1"
      },
      "outputs": [],
      "source": [
        "# use an in-memory DB to demonstrate parameterized queries\n",
        "import sqlite3\n",
        "\n",
        "# Unsafe input (vulnerable to SQL Injection)\n",
        "def unsafe_query(user_input):\n",
        "    conn = sqlite3.connect(':memory:')\n",
        "    cursor = conn.cursor()\n",
        "    cursor.execute(\"CREATE TABLE users (id INTEGER, name TEXT)\")\n",
        "    cursor.execute(\"INSERT INTO users (id, name) VALUES (1, 'Alice')\")\n",
        "    cursor.execute(f\"SELECT * FROM users WHERE name = '{user_input}'\")\n",
        "    result = cursor.fetchall()\n",
        "    conn.close()\n",
        "    return result\n",
        "\n",
        "print(\"Unsafe query result:\", unsafe_query(\"Alice' OR '1'='1\"))\n",
        "\n",
        "# Safe input using parameterized query\n",
        "def safe_query(user_input):\n",
        "    conn = sqlite3.connect(':memory:')\n",
        "    cursor = conn.cursor()\n",
        "    cursor.execute(\"CREATE TABLE users (id INTEGER, name TEXT)\")\n",
        "    cursor.execute(\"INSERT INTO users (id, name) VALUES (1, 'Alice')\")\n",
        "    cursor.execute(\"SELECT * FROM users WHERE name = ?\", (user_input,))\n",
        "    result = cursor.fetchall()\n",
        "    conn.close()\n",
        "    return result\n",
        "\n",
        "print(\"Safe query result:\", safe_query(\"Alice' OR '1'='1\"))"
      ]
    },
    {
      "cell_type": "markdown",
      "source": [
        "## Cross-Site Scripting (XSS)\n",
        "\n",
        "Cross-Site Scripting is a security vulnerability that allows attackers to inject malicious scripts into web pages viewed by other users. These scripts can be used to steal sensitive data, hijack user sessions, redirect users to malicious sites, and perform other harmful actions.\n",
        "\n",
        "The code below demonstrates how XSS vulnerabilities can occur and how to mitigate them.\n",
        "\n",
        "- **user_input** contains a script tag with JavaScript code that shows an alert box\n",
        "- **display(HTML(user_input))** directly renders this HTML content, including the script tag.\n",
        "- this rendering method is vulnerable to XSS attack; if an attacker can control the content of user_input, they can inject malicious scripts that will execute in the user's browser\n",
        "- in this example, an alert box with the message 'XSS' appears, demonstrating the injection of a script\n",
        "- The html.escape function sanitizies the user input; the browser will not execute the content because it does not recognize the text sequences as actual HTML tags but as literal text representations."
      ],
      "metadata": {
        "id": "4qfybcEpdbEq"
      }
    },
    {
      "cell_type": "code",
      "source": [
        "from IPython.display import display, HTML\n",
        "import html\n",
        "\n",
        "def sanitize_input(user_input):\n",
        "    return html.escape(user_input)\n",
        "\n",
        "user_input = \"<script>alert('XSS');</script>\"\n",
        "safe_input = \"Hello, user!\"\n",
        "\n",
        "# Unsafe rendering (vulnerable to XSS)\n",
        "display(HTML(user_input))\n",
        "\n",
        "# Safe rendering with sanitized input\n",
        "print(\"user_input:\", user_input)\n",
        "sanitized_input = sanitize_input(user_input)\n",
        "print(\"Sanitized input:\", sanitized_input)\n",
        "display(HTML(sanitized_input))\n",
        "\n",
        "# Safe rendering with predefined safe input\n",
        "display(HTML(safe_input))"
      ],
      "metadata": {
        "id": "CB3uiqLYdUaQ"
      },
      "execution_count": null,
      "outputs": []
    },
    {
      "cell_type": "markdown",
      "source": [
        "## Insecure Deserialization\n",
        "\n",
        "This vulnerability allows an attacker to execute arbitrary code on the system, which can lead to severe consequences, such as data theft, data corruption, or taking control of the system.\n",
        "\n",
        "When untrusted data is deserialized, it can lead to arbitrary code execution. This example illustrates how malicious code can be executed through Python's pickle module by serializing and then deserializing an unsafe object.\n",
        "\n",
        "When pickle.loads(malicious_data) is executed, the os.system(\"echo 'Exploited!'\") command runs, printing \"Exploited!\" to the console.\n",
        "\n",
        "### Preventing Insecure Deserialization\n",
        "- Do not use pickle to serialize and deserialize data from untrusted sources.\n",
        "  - Instead, use a safer alternative such as JSON, which does not support arbitrary code execution.\n",
        "- Use libraries designed to handle serialization safely, such as json or simplejson\n",
        "- Ensure that any data being deserialized is from a trusted and validated source."
      ],
      "metadata": {
        "id": "OPAJhpVLoGFZ"
      }
    },
    {
      "cell_type": "code",
      "source": [
        "import pickle\n",
        "import subprocess\n",
        "\n",
        "class Exploit:\n",
        "    def __reduce__(self):\n",
        "        import os\n",
        "        # use this for true console execution\n",
        "        #return (os.system, (\"echo 'Exploited!'\",))\n",
        "        # use this as a workaround for Google Colab\n",
        "        return (subprocess.check_output, ((\"echo\", \"Exploited!\"),))\n",
        "\n",
        "# Unsafe deserialization\n",
        "malicious_data = pickle.dumps(Exploit())\n",
        "pickle.loads(malicious_data)  # This will execute the malicious code"
      ],
      "metadata": {
        "id": "1lwb2b5qnHRb"
      },
      "execution_count": null,
      "outputs": []
    },
    {
      "cell_type": "markdown",
      "source": [
        "## Sensitive Data Exposure\n",
        "\n",
        "Sensitive data exposure is a security vulnerability where sensitive information such as passwords, credit card numbers, personal data, API keys, and other confidential information is unintentionally exposed to unauthorized users. This can occur through various means, such as insecure storage, transmission over unsecured channels, inadequate access controls, or improper handling of data within applications. When sensitive data is exposed, it can lead to severe consequences including identity theft, financial loss, and unauthorized access to systems. Proper data protection practices, such as encryption, secure storage, and access controls, are essential to mitigate the risks associated with sensitive data exposure.\n",
        "\n",
        "In this example\n",
        "- the API key is stored directly in the code as insecure_api_key\n",
        "- the Exploit class uses this key to demonstrate how an attacker could potentially access it through unsafe deserialization\n",
        "- the Exploit class uses subprocess.check_output to echo the insecurely stored API key\n",
        "- the unsafe deserialization of the Exploit object shows how the key can be exposed and accessed by an attacker.\n",
        "\n",
        "To defend against data exposure, the API key can be stored in an environment variable using os.environ['API_KEY']. The key is then accessed securely using os.getenv('API_KEY'), which retrieves the value of the environment variable.\n",
        "\n",
        "**NOTE**:  There are rare scenarios where this could still be insecure, e.g.,\n",
        "- Environment variables set in a shared environment without proper access control.\n",
        "- Accidentally exposing environment variables in client-side code."
      ],
      "metadata": {
        "id": "KjmxAU_NsZjE"
      }
    },
    {
      "cell_type": "code",
      "source": [
        "import pickle\n",
        "import subprocess\n",
        "import os\n",
        "\n",
        "# Class to demonstrate the exploit\n",
        "class Exploit:\n",
        "    def __reduce__(self):\n",
        "        return (subprocess.check_output,\n",
        "            ((\"echo\", f\"API key: {insecure_api_key}\"),))\n",
        "\n",
        "# Insecure storage of API key\n",
        "insecure_api_key = 'my_insecure_api_key'\n",
        "\n",
        "# Unsafe deserialization demonstrating insecure storage vulnerability\n",
        "malicious_data = pickle.dumps(Exploit())\n",
        "output = pickle.loads(malicious_data)\n",
        "print(\"Output from insecure storage exploit:\")\n",
        "print(output.decode('utf-8'))\n",
        "\n",
        "# Secure storage of API key\n",
        "os.environ['API_KEY'] = 'my_secure_api_key'\n",
        "\n",
        "# Access the API key securely\n",
        "secure_api_key = os.getenv('API_KEY')\n",
        "print(\"\\nSecure API key:\", secure_api_key)"
      ],
      "metadata": {
        "id": "KFvz4KDNtPBR"
      },
      "execution_count": null,
      "outputs": []
    },
    {
      "cell_type": "markdown",
      "source": [
        "## Improper Error Handling\n",
        "\n",
        "Improper error handling occurs when errors are not managed in a way that maintains the security and stability of an application. It can lead to information leakage, where sensitive information is exposed to unauthorized users, or it can fail to provide meaningful feedback to the user or system administrators, making it harder to diagnose and fix issues. It can also result in an application that is less robust and more prone to crashes or other unintended behaviors.\n",
        "\n",
        "When the login function is called with incorrect credentials, the output will be\n",
        "```\n",
        "Error: Invalid credentials\n",
        "```\n",
        "This happens because the credentials do not match the hardcoded ones, causing the ValueError to be raised and caught by the first except block. The error message \"Invalid credentials\" might give away too much information to a potential attacker. A more secure approach would be to provide a generic error message that does not confirm the validity of either the username or password.\n",
        "\n",
        "While this example does not log sensitive information, improper error handling might lead to scenarios where sensitive data (such as passwords) could be logged.\n",
        "\n",
        "The **except Exception as e** block catches all exceptions, which might mask underlying issues that need specific handling. It’s generally better to handle known exceptions explicitly and let unexpected ones propagate or be logged appropriately.\n",
        "\n",
        "The current error in this example handling only prints error messages to the console. In a real application, it would be better to handle errors in a way that informs the user appropriately, possibly through a user interface, and logs the error for further investigation by developers or administrators."
      ],
      "metadata": {
        "id": "McbdVPISv2Xx"
      }
    },
    {
      "cell_type": "code",
      "source": [
        "def login(user, password):\n",
        "    try:\n",
        "        # Simulate a login process\n",
        "        if user == \"admin\" and password == \"password\":\n",
        "            return \"Login successful\"\n",
        "        else:\n",
        "            raise ValueError(\"Invalid credentials\")\n",
        "    except ValueError as e:\n",
        "        print(f\"Error: {e}\")\n",
        "    except Exception as e:\n",
        "        print(f\"An unexpected error occurred: {e}\")\n",
        "\n",
        "# Call the login function with incorrect credentials\n",
        "login(\"admin\", \"wrongpassword\")"
      ],
      "metadata": {
        "id": "CVNNTHrjv6kB"
      },
      "execution_count": null,
      "outputs": []
    },
    {
      "cell_type": "markdown",
      "source": [
        "## Software Supply Chain Security\n",
        "\n",
        "- Vulnerabilities can occur in any programming language\n",
        "  - Python is a great example because it is  so widely used, especially in data science\n",
        "- People of all skill levels are using it, so risks are more pronounced\n",
        "- Examples of recently reported vulnerabilities in open source Python tools:\n",
        "  - https://thehackernews.com/2024/02/new-malicious-pypi-packages-caught.html\n",
        "  - New Malicious PyPI Packages Caught Using Covert Side-Loading Tactics\n",
        "  - https://www.sonatype.com/blog/top-8-malicious-attacks-recently-found-on-pypi\n",
        "    - RAT (Remote Access Trojan) Mutants\n",
        "    - PyTorch Namespace Confusion Attack\n",
        "    - GTA 5 Multihack Site\n",
        "\n",
        "### The Software Bill of Materials (SBOM)\n",
        "- <a href=\"https://www.whitehouse.gov/briefing-room/presidential-actions/2021/05/12/executive-order-on-improving-the-nations-cybersecurity/\" target=\"_blank\">\n",
        "  <strong>U.S. Executive Order on Improving the Nation’s Cybersecurity (14028)</strong>\n",
        "  </a>\n",
        "  <blockquote>\"Understanding the supply chain of software, obtaining an SBOM, and using it to analyze known vulnerabilities are crucial in managing risk.\"</blockquote>\n",
        "- A **Software Bill of Materials (SBOM**) is a detailed inventory of all components, libraries, and dependencies used by a software application\n",
        "- It provides a comprehensive record which lists open-source, proprietary, and third-party components\n",
        "- It contains component metadata, including version numbers, licenses, and source information\n",
        "- SBOMs promote visibility into the software supply chain\n",
        "- It is used in conjunction with scanning tools to identify components with known security issues\n",
        "\n",
        "### Generating an SBOM\n",
        "\n",
        "- Popular SBOM generators include CycloneDX, SPDX, OWASP Dependency-Track, Syft, Anchore, and FOSSA\n",
        "- Output formats vary, but JSON (JavaScript Object Notation, pronounced \"Jason\") is one of the most popular\n",
        "- JSON is a lightweight, text-based, human-readable format used to represent data as key-value pairs and arrays\n",
        "  - https://www.json.org/json-en.html\n",
        "  - A simple JSON example:\n",
        "```\n",
        "      {\"name\": \"John Doe\",  \"age\": 30,  \"city\": \"New York\"}\n",
        "```\n",
        "\n"
      ],
      "metadata": {
        "id": "1NIebx9G1vS2"
      }
    },
    {
      "cell_type": "markdown",
      "source": [
        "### More JSON Examples\n",
        "\n",
        "<img src=\"https://github.com/FSCJ-FacultyDev/SWC-Virtual-2024/blob/main/notebooks.day5/images/JSON-Jasons.png?raw=true\" width=400 height=250/>"
      ],
      "metadata": {
        "id": "pI6qv2mL74CS"
      }
    },
    {
      "cell_type": "markdown",
      "source": [
        "### Open Source Scanning Tools\n",
        "- Scanning tools examine software codebases to identify open-source components and their licenses\n",
        "- These tools find known vulnerabilities in open-source libraries and dependencies\n",
        "- They also ensure compliance with open-source licenses and legal requirements\n",
        "- The tools assess and manage potential risks associated with using open-source software\n",
        "- Popular scanning tools include Sonatype Nexus IQ, Snyk, Black Duck, OWASP Dependency-Check, WhiteSource, Trivy, and Clair\n",
        "- **U.S. Executive Order 14028** (again) mandates the verification of open source software components using these types of tools\n"
      ],
      "metadata": {
        "id": "8hpGUPfL95uM"
      }
    },
    {
      "cell_type": "markdown",
      "source": [
        "### Scanning Plus SBOMS For Security and Compliance\n",
        "\n",
        "Steps:\n",
        "- Create the project SBOM (includes components, dependencies, and  metadata)\n",
        "- Configure the scanner to use the generated SBOM\n",
        "  - The scanner cross-references SBOM data with vulnerability databases to identify known issues\n",
        "  - e.g., CVE (Common Vulnerabilities and Exposures), National Vulnerability Database (NVD), Aqua Vulnerability Database, OSS Index, GitHub Advisory Database, Snyk Vulnerability Database\n",
        "- A report is generated highlighting vulnerabilities and providing actionable insights for remediation and updates\n"
      ],
      "metadata": {
        "id": "R_PF6F_kABUk"
      }
    },
    {
      "cell_type": "markdown",
      "source": [
        "### Walkthrough\n",
        "\n",
        "- The following example demonstrates how to perform a scan for a Python program which uses TensorFlow, a widely-used open source machine learning library.\n",
        "- The scenario is that we are developing a Python application which uses several popular data science libraries (numpy, pandas, etc.)\n",
        "- A JSON-based SBOM is created using the cyclonedx generator library\n",
        "The trivy scanner is executed against the generated SBOM to identify known vulnerabilities in the installed modules\n"
      ],
      "metadata": {
        "id": "kjxuRtWbXkou"
      }
    },
    {
      "cell_type": "code",
      "source": [
        "# Download the script\n",
        "!wget https://raw.githubusercontent.com/FSCJ-FacultyDev/SWC-Virtual-2024/main/notebooks.day5/scripts/gensbom.py -O /content/gensbom.py"
      ],
      "metadata": {
        "id": "rO4PcqfWXj9X"
      },
      "execution_count": null,
      "outputs": []
    },
    {
      "cell_type": "code",
      "source": [
        "!pip install cyclonedx-python-lib"
      ],
      "metadata": {
        "id": "8AeFx4hHeEg2"
      },
      "execution_count": null,
      "outputs": []
    },
    {
      "cell_type": "code",
      "source": [
        "# Execute the script\n",
        "!python /content/gensbom.py"
      ],
      "metadata": {
        "id": "lmGLmht4eSPx"
      },
      "execution_count": null,
      "outputs": []
    },
    {
      "cell_type": "code",
      "source": [
        "# inst all trivy\n",
        "!apt-get update\n",
        "!apt-get install -y wget apt-transport-https gnupg lsb-release\n",
        "!wget -qO - https://aquasecurity.github.io/trivy-repo/deb/public.key | apt-key add -\n",
        "!echo deb https://aquasecurity.github.io/trivy-repo/deb $(lsb_release -sc) main | tee -a /etc/apt/sources.list.d/trivy.list\n",
        "!apt-get update\n",
        "!apt-get install -y trivy"
      ],
      "metadata": {
        "id": "986XMga_eabi"
      },
      "execution_count": null,
      "outputs": []
    },
    {
      "cell_type": "code",
      "source": [
        "!trivy sbom /content/sbom.json"
      ],
      "metadata": {
        "id": "SOavCp_MeoH8"
      },
      "execution_count": null,
      "outputs": []
    }
  ]
}