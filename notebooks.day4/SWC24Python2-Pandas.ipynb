{
  "cells": [
    {
      "cell_type": "markdown",
      "id": "a3b64bde",
      "metadata": {
        "id": "a3b64bde"
      },
      "source": [
        "# Manipulating Data With Pandas\n",
        "<img src=\"https://github.com/FSCJ-FacultyDev/SWC-Virtual-2024/blob/main/notebooks.day4/images/SWC22-Pandas.PythonPandasLogo.jpg?raw=true\" width=250 height=150/>\n",
        "\n",
        "Pandas is a data analysis library built on top of NumPy.\n",
        "- The name is derived from the term \"panel data,\" which refers to multi-dimensional structured data sets typically used in statistics and econometrics.\n",
        "- It also plays on the word \"Python Data Analysis Library,\" which reflects the library's primary purpose of providing data manipulation and analysis tools.\n",
        "- Pandas provides data structures and operations for manipulating data using DataFrames\n",
        "- DataFrames are multidimensional arrays with attached row and column labels.\n",
        "- DataFrames can include heterogeneous types and/or missing data.\n",
        "- Pandas also provides functions for handling data in a similar fashion to database frameworks and spreadsheet programs.\n",
        "- It relies heavily on NumPy for its core data structures and operations; while you do not need to explicitly import NumPy to use it, NumPy must be installed in your environment for pandas to function correctly."
      ]
    },
    {
      "cell_type": "code",
      "execution_count": null,
      "id": "fb5799a3",
      "metadata": {
        "id": "fb5799a3"
      },
      "outputs": [],
      "source": [
        "# use NumPy and Pandas\n",
        "# import numpy as np # not explicitly required\n",
        "import pandas as pd\n",
        "print(\"Pandas version is\", pd.__version__)"
      ]
    },
    {
      "cell_type": "markdown",
      "id": "0a934cef",
      "metadata": {
        "id": "0a934cef"
      },
      "source": [
        "# The Series Object\n",
        "- A Pandas **Series** is a one-dimensional array of indexed data. It can be created from a list or array.\n",
        "    - A Series wraps both a sequence of values and a sequence of indices, which can be used to access with the values and index attributes.\n",
        "    - The values are simply a familiar NumPy array\n"
      ]
    },
    {
      "cell_type": "code",
      "execution_count": null,
      "id": "baad3262",
      "metadata": {
        "id": "baad3262"
      },
      "outputs": [],
      "source": [
        "atad = pd.Series([0.52, 0.8, 0.63, 4.0], index = ['a', 'b', 'c', 'd'])\n",
        "print(atad)\n",
        "print()\n",
        "print(atad.values)"
      ]
    },
    {
      "cell_type": "markdown",
      "id": "e7501248",
      "metadata": {
        "id": "e7501248"
      },
      "source": [
        "# The Series Index\n",
        "- The Series index is an array-like object of type pd.Index\n",
        "    - Like with a NumPy array, data can be accessed by the associated index using square-bracket notation\n",
        "    - The Pandas Series is much more general and flexible than the one-dimensional NumPy array that it emulates.\n"
      ]
    },
    {
      "cell_type": "code",
      "execution_count": null,
      "id": "75b5e4fe",
      "metadata": {
        "scrolled": true,
        "id": "75b5e4fe"
      },
      "outputs": [],
      "source": [
        "data = pd.Series([0.25, 0.5, 0.79, 1.0])\n",
        "print(data)\n",
        "\n",
        "#index of the data series\n",
        "print(data.index)\n",
        "\n",
        "#the element at index 1\n",
        "print(data[1])\n",
        "\n",
        "#a slice of a series (start:stop)\n",
        "data[1:3]"
      ]
    },
    {
      "cell_type": "markdown",
      "id": "94b2f81e",
      "metadata": {
        "id": "94b2f81e"
      },
      "source": [
        "# Python Dictionaries and Pandas Series\n",
        "\n",
        "- Series are used for handling and manipulating one-dimensional labeled data in data analysis and manipulation tasks.\n",
        "  - they are is similar to a specialized Python dictionary\n",
        "  - a dictionary maps arbitrary keys to a set of arbitrary values; a Series maps typed keys to a set of typed values.\n",
        "  - the type information of a Pandas Series is much more efficient than Python dictionaries for certain operations.\n",
        "  - they can be constructed a Series object directly from a Python dictionary:"
      ]
    },
    {
      "cell_type": "code",
      "execution_count": null,
      "id": "e87d537d",
      "metadata": {
        "id": "e87d537d"
      },
      "outputs": [],
      "source": [
        "#create a dictionary\n",
        "population_dict = {'California': 38332521,\n",
        "                   'Texas': 26448193,\n",
        "                   'New York': 19651127,\n",
        "                   'Florida': 19552860,\n",
        "                   'Illinois': 12882135}\n",
        "print(population_dict)\n",
        "print()\n",
        "#create a Pandas series from the dictionary\n",
        "population = pd.Series(population_dict)\n",
        "print(population)"
      ]
    },
    {
      "cell_type": "markdown",
      "id": "34bcc539",
      "metadata": {
        "id": "34bcc539"
      },
      "source": [
        "### Dictionary-style item access can be used with a Series:\n",
        "\n"
      ]
    },
    {
      "cell_type": "code",
      "execution_count": null,
      "id": "bb5c2da4",
      "metadata": {
        "id": "bb5c2da4"
      },
      "outputs": [],
      "source": [
        "print(population['California'])"
      ]
    },
    {
      "cell_type": "markdown",
      "id": "39650e2f",
      "metadata": {
        "id": "39650e2f"
      },
      "source": [
        "- Unlike a dictionary, the Series also supports Numpy array-style operations such as slicing:"
      ]
    },
    {
      "cell_type": "code",
      "execution_count": null,
      "id": "de1c2bf9",
      "metadata": {
        "id": "de1c2bf9"
      },
      "outputs": [],
      "source": [
        "print(population['California':'New York'])"
      ]
    },
    {
      "cell_type": "markdown",
      "id": "a74ae7b6",
      "metadata": {
        "id": "a74ae7b6"
      },
      "source": [
        "# Creating a Series\n",
        "- A Series can be created by instantiating the object:\n",
        "            pd.Series(data, index)\n",
        "- **data** can be one of many types of - entities (e.g., list, dictionary, Numpy array).\n",
        "- **index** specifies the labels for the Series.\n",
        "  - if not provided, pandas will default to a RangeIndex starting from 0.\n",
        "  - it can be any array-like structure of the same length as data (e.g., list, array, or pandas Index object)."
      ]
    },
    {
      "cell_type": "code",
      "execution_count": null,
      "id": "e789129e",
      "metadata": {
        "id": "e789129e"
      },
      "outputs": [],
      "source": [
        "# simple scalar series\n",
        "print(pd.Series([2, 4, 6]))\n",
        "\n",
        "print(\"\\nfilled series\")\n",
        "# scalar series, fill with 5's and specify index\n",
        "pd.Series(5, index=[100, 200, 300])\n",
        "\n",
        "print(\"\\nsimple dictionary-based series\")\n",
        "# simple dictionary-based series\n",
        "pd.Series({2:'a', 1:'b', 3:'c'})\n",
        "\n",
        "print(\"\\npopulated using only specified keys\")\n",
        "# populate using only specified keys\n",
        "print(pd.Series({2:'a', 1:'b', 3:'c'}, index=[3, 2]))"
      ]
    },
    {
      "cell_type": "markdown",
      "source": [
        "## Try It!\n",
        "\n",
        "Create a pandas Series that represents the scores of three students in a test.\n",
        "\n",
        "**Sample Output**\n",
        "\n",
        "```\n",
        "Alice      85\n",
        "Bob        90\n",
        "Charlie    78\n",
        "dtype: int64\n",
        "```\n"
      ],
      "metadata": {
        "id": "8ZnOrobhBYQZ"
      },
      "id": "8ZnOrobhBYQZ"
    },
    {
      "cell_type": "code",
      "source": [],
      "metadata": {
        "id": "TtTe_u3GByYL"
      },
      "id": "TtTe_u3GByYL",
      "execution_count": null,
      "outputs": []
    },
    {
      "cell_type": "markdown",
      "id": "40633105",
      "metadata": {
        "id": "40633105"
      },
      "source": [
        "# DataFrames\n",
        "- The DataFrame can also be thought of either as a generalization of a NumPy array, or as a specialization of a Python dictionary.\n",
        "- A DataFrame is comparable to a two-dimensional array with both flexible row indices and flexible column names.\n",
        "- Just as you might think of a two-dimensional array as an ordered sequence of aligned one-dimensional columns, you can think of a DataFrame as a sequence of aligned Series objects.\n",
        "\n"
      ]
    },
    {
      "cell_type": "markdown",
      "id": "cafe530b",
      "metadata": {
        "id": "cafe530b"
      },
      "source": [
        "### Construct a new area Series which parallels the population Series created earlier, then create a two-dimensional DataFrame using those objects"
      ]
    },
    {
      "cell_type": "code",
      "execution_count": null,
      "id": "1671cc4e",
      "metadata": {
        "id": "1671cc4e"
      },
      "outputs": [],
      "source": [
        "#recall the population_dict from above\n",
        "print(\"Population Dictionary:\")\n",
        "population_dict = {'California': 38332521,\n",
        "                   'Texas': 26448193,\n",
        "                   'New York': 19651127,\n",
        "                   'Florida': 19552860,\n",
        "                   'Illinois': 12882135}\n",
        "print(population_dict)\n",
        "\n",
        "\n",
        "#the Pandas Series from that dictionary\n",
        "print(\"\\nPopulation Series:\")\n",
        "population = pd.Series(population_dict)\n",
        "print(population)\n",
        "\n",
        "#create a new area dictionary for the same states (in sq km)\n",
        "print(\"\\nArea Dictionary:\")\n",
        "area_dict = {'California': 423967,\n",
        "             'Texas': 695662,\n",
        "             'New York': 141297,\n",
        "             'Florida': 170312,\n",
        "             'Illinois': 149995}\n",
        "print(area_dict)\n",
        "\n",
        "\n",
        "#create a Pandas Series from the area dictionary\n",
        "print(\"\\nArea Series:\")\n",
        "area = pd.Series(area_dict)\n",
        "print(area)\n",
        "\n",
        "print(\"\\nDataFrame:\")\n",
        "#create a DataFrame from the two Series\n",
        "states = pd.DataFrame({'population': population,\n",
        "                       'area': area})\n",
        "print(states)"
      ]
    },
    {
      "cell_type": "code",
      "execution_count": null,
      "id": "d8193cdc",
      "metadata": {
        "id": "d8193cdc"
      },
      "outputs": [],
      "source": [
        "#create a DataFrame from a list of dictionaries\n",
        "data = [{'a': i, 'b': 2 * i} for i in range(3)]   # remember list comprehensions?\n",
        "print(\"\\nList of Dictionaries:\")\n",
        "print(data)\n",
        "df = pd.DataFrame(data)\n",
        "print(\"\\nDataFrame:\")\n",
        "print(df)"
      ]
    },
    {
      "cell_type": "code",
      "source": [
        "#create a DataFrame from a 2D array\n",
        "import numpy as np # now we need numpy!\n",
        "\n",
        "df = pd.DataFrame(np.random.rand(3, 2),\n",
        "      columns=['foo', 'bar'],\n",
        "      index=['a', 'b', 'c'])\n",
        "print(df)\n",
        "\n",
        "#if the names are omitted, an integer index will be used for each\n",
        "print(\"\\ndata frame with omitted index names\")\n",
        "df = pd.DataFrame(np.random.rand(3, 2))\n",
        "print(df)"
      ],
      "metadata": {
        "id": "lFk9_K-1IWV6"
      },
      "id": "lFk9_K-1IWV6",
      "execution_count": null,
      "outputs": []
    },
    {
      "cell_type": "markdown",
      "source": [
        "## Try It!\n",
        "\n",
        "Create a pandas DataFrame from the following dictionary that represents students' scores in different subjects:\n",
        "\n",
        "```\n",
        "data = {\n",
        "    'Name': ['Alice', 'Bob', 'Charlie'],\n",
        "    'Math': [85, 90, 78],\n",
        "    'Science': [92, 88, 95],\n",
        "    'English': [87, 85, 90]\n",
        "}\n",
        "```\n",
        "\n",
        "Sample Output\n",
        "\n",
        "```\n",
        "      Name  Math  Science  English\n",
        "0    Alice    85       92       87\n",
        "1      Bob    90       88       85\n",
        "2  Charlie    78       95       90\n",
        "```"
      ],
      "metadata": {
        "id": "amqYXhMhL7Kp"
      },
      "id": "amqYXhMhL7Kp"
    },
    {
      "cell_type": "code",
      "source": [],
      "metadata": {
        "id": "2-XF9o_uMX2f"
      },
      "id": "2-XF9o_uMX2f",
      "execution_count": null,
      "outputs": []
    },
    {
      "cell_type": "markdown",
      "id": "ac360de2",
      "metadata": {
        "id": "ac360de2"
      },
      "source": [
        "### DataFrame attributes\n",
        "\n",
        "- DataFrames have an index and a column attribute"
      ]
    },
    {
      "cell_type": "code",
      "execution_count": null,
      "id": "a0c9ed07",
      "metadata": {
        "id": "a0c9ed07"
      },
      "outputs": [],
      "source": [
        "print(\"States DataFrame:\")\n",
        "print(states)\n",
        "\n",
        "#index refers to the row headings\n",
        "print(\"\\nIndex:\")\n",
        "print(states.index)\n",
        "\n",
        "print(\"\\nColumns:\")\n",
        "print(states.columns)\n",
        "\n",
        "#DataFrames use column values as indices to a series\n",
        "print(\"\\nColumn Values as Indices\")\n",
        "states['area']"
      ]
    },
    {
      "cell_type": "markdown",
      "id": "0dab929f",
      "metadata": {
        "id": "0dab929f"
      },
      "source": [
        "## Missing Values\n",
        "- Missing values are filled with NaN (\"not-a-number\")\n",
        "- This behavior is important; in data science missing values can impact analytical results and should be dealt with consistently\n",
        "- https://towardsdatascience.com/navigating-the-hell-of-nans-in-python-71b12558895b\n"
      ]
    },
    {
      "cell_type": "code",
      "execution_count": null,
      "id": "a5fac448",
      "metadata": {
        "id": "a5fac448"
      },
      "outputs": [],
      "source": [
        "print(\"List of Dictionaries:\")\n",
        "data=[{'a': 1, 'b': 2},\n",
        "      {'b': 3, 'c': 4}]\n",
        "print(data)\n",
        "\n",
        "print(\"\\nDataFrame with NaNs\")\n",
        "# pandas aligns the keys to form columns: a, b, and c.\n",
        "# The first dictionary has keys a and b, so it has NaN for column c.\n",
        "# The second dictionary has keys b and c, so it has NaN for column a.\n",
        "print(pd.DataFrame(data))"
      ]
    },
    {
      "cell_type": "markdown",
      "id": "58222543",
      "metadata": {
        "id": "58222543"
      },
      "source": [
        "# Series as a Dictionary\n",
        "- Like a dictionary, the series object provides a mapping from a collection of keys to a collection of values"
      ]
    },
    {
      "cell_type": "code",
      "execution_count": null,
      "id": "41860602",
      "metadata": {
        "id": "41860602"
      },
      "outputs": [],
      "source": [
        "data = pd.Series([0.25, 0.5, 0.75, 1.0],\n",
        "                index=['a', 'b', 'c', 'd'])\n",
        "print(data)\n",
        "print(data['b'])"
      ]
    },
    {
      "cell_type": "markdown",
      "id": "76a8a074",
      "metadata": {
        "id": "76a8a074"
      },
      "source": [
        "### We can use dictionary-like expressions and methods to examine keys/indices and values"
      ]
    },
    {
      "cell_type": "code",
      "execution_count": null,
      "id": "4ad40508",
      "metadata": {
        "id": "4ad40508"
      },
      "outputs": [],
      "source": [
        "'a' in data\n",
        "print(data.keys())\n",
        "print(list(data.items()))"
      ]
    },
    {
      "cell_type": "markdown",
      "id": "7e884c1b",
      "metadata": {
        "id": "7e884c1b"
      },
      "source": [
        "### Series objects can even be modified with a dictionary-like syntax\n",
        "- As a dictionary can be extended by assigning to a new key, extend a series by assigning a value to a new index"
      ]
    },
    {
      "cell_type": "code",
      "execution_count": null,
      "id": "b8e8b666",
      "metadata": {
        "id": "b8e8b666"
      },
      "outputs": [],
      "source": [
        "print(data)\n",
        "data['e'] = 1.25\n",
        "print(data)"
      ]
    },
    {
      "cell_type": "markdown",
      "id": "506371f1",
      "metadata": {
        "id": "506371f1"
      },
      "source": [
        "# Series as a One-dimensional Array\n",
        "- A series provides array-style item selection using the same basic mechanisms as NumPy array, including slices and masks"
      ]
    },
    {
      "cell_type": "code",
      "execution_count": null,
      "id": "34a8d676",
      "metadata": {
        "id": "34a8d676"
      },
      "outputs": [],
      "source": [
        "#slicing by explicit index\n",
        "#NOTE: includes last index!!\n",
        "\n",
        "print(data['a':'c'])\n",
        "\n",
        "#slicing by implicit integer index\n",
        "#NOTE: does NOT include the last index!\n",
        "\n",
        "print(data[0:2])\n",
        "\n",
        "#masking\n",
        "print(data[(data > 0.3) & (data < 0.8)])"
      ]
    },
    {
      "cell_type": "markdown",
      "id": "5652bf38",
      "metadata": {
        "id": "5652bf38"
      },
      "source": [
        "# DataFrame as Dictionary\n",
        "- The individual series that make up the columns of the DataFrame can be accessed via dictionary-style indexing of the column name"
      ]
    },
    {
      "cell_type": "code",
      "execution_count": null,
      "id": "e3d0d9d0",
      "metadata": {
        "id": "e3d0d9d0"
      },
      "outputs": [],
      "source": [
        "area = pd.Series({'California': 423967, 'Texas': 695662,\n",
        "                  'New York': 141297, 'Florida': 170312,\n",
        "                  'Illinois': 149995})\n",
        "population = pd.Series({'California': 38332521, 'Texas': 26448193,\n",
        "                 'New York': 19651127, 'Florida': 19552860,\n",
        "                 'Illinois': 12882135})\n",
        "data = pd.DataFrame({'area':area, 'pop':population})\n",
        "print(data)\n",
        "print(data['area'])"
      ]
    },
    {
      "cell_type": "code",
      "execution_count": null,
      "id": "e29ac332",
      "metadata": {
        "id": "e29ac332"
      },
      "outputs": [],
      "source": [
        "#we can use attribute-style access with column names that are strings\n",
        "\n",
        "print(data.area)\n",
        "\n",
        "#use the **is** operator to compare identities of each object\n",
        "\n",
        "print(data.area is data['area'])\n",
        "\n",
        "#the pop method of a data frame\n",
        "print(data.pop('area'))\n",
        "\n",
        "print(data.columns)"
      ]
    },
    {
      "cell_type": "markdown",
      "id": "0109ae27",
      "metadata": {
        "id": "0109ae27"
      },
      "source": [
        "### Dictionary-style syntax can also be used to modify the DataFrame"
      ]
    },
    {
      "cell_type": "code",
      "execution_count": null,
      "id": "1ba9539d",
      "metadata": {
        "id": "1ba9539d"
      },
      "outputs": [],
      "source": [
        "#first, add back the column that was popped previously\n",
        "\n",
        "data['area'] = pd.Series({'California': 423967, 'Texas': 695662,\n",
        "                  'New York': 141297, 'Florida': 170312,\n",
        "                  'Illinois': 149995})\n",
        "print(data)\n",
        "\n",
        "#compute density and add the density column to the DataFrame\n",
        "\n",
        "data['density'] = data['pop'] / data['area']\n",
        "\n",
        "print(data)"
      ]
    },
    {
      "cell_type": "markdown",
      "id": "d026e9c6",
      "metadata": {
        "id": "d026e9c6"
      },
      "source": [
        "# DataFrame as a Two-dimensional (2D) array\n",
        "- The DataFrame can be viewed as an enhanced two-dimensional array\n",
        " - View the underlying data array using the ndarray **values** attribute"
      ]
    },
    {
      "cell_type": "code",
      "execution_count": null,
      "id": "1ce3c358",
      "metadata": {
        "id": "1ce3c358"
      },
      "outputs": [],
      "source": [
        "data.values"
      ]
    },
    {
      "cell_type": "markdown",
      "id": "4f9312a6",
      "metadata": {
        "id": "4f9312a6"
      },
      "source": [
        "- The **T** attribute in a pandas DataFrame is used to transpose the DataFrame, swapping its rows and columns.\n"
      ]
    },
    {
      "cell_type": "code",
      "execution_count": null,
      "id": "ff046a86",
      "metadata": {
        "id": "ff046a86"
      },
      "outputs": [],
      "source": [
        "data.T"
      ]
    },
    {
      "cell_type": "markdown",
      "id": "648045ce",
      "metadata": {
        "id": "648045ce"
      },
      "source": [
        "# Handling Missing Values\n",
        "- Real-world data is rarely clean and homogeneous\n",
        " - Many datasets will have missing data\n",
        "- Different data sources may indicate missing data in different ways\n",
        " - Using a mask\n",
        "  - as a separate Boolean array\n",
        "  - as a single bit in the data representation\n",
        " - Using a sentinel value\n",
        "  - a data-specific convention, e.g. for missing integers use –9999 or some rare bit pattern\n",
        "  - NaN (Not a Number) for missing floating point values\n",
        "   - NaN is part of the IEEE floating-point specification\n",
        "- No universally common choice exists, different languages and systems use different conventions.\n",
        "- Pandas uses sentinels for missing data, using two already-existing Python null values: the special floating-point NaN value, and the Python None object\n",
        " - This results in some side effects, but in practice is a good compromise.\n",
        "- None is a \"singleton\" object – there can exist only one.\n",
        " - -- \"The None keyword is used to define a null value, or no value at all. None is not the same as 0, False, or an empty string. None is a datatype of its own (NoneType) and only None can be None\"\n",
        "https://www.w3schools.com/python/ref_keyword_none.asp\n"
      ]
    },
    {
      "cell_type": "markdown",
      "id": "08b2c81c",
      "metadata": {
        "id": "08b2c81c"
      },
      "source": [
        "# Using None in NumPy\n",
        "- Because None is a Python object, it cannot be used in any arbitrary NumPy/Pandas array, but only in arrays with data type 'object' (i.e., arrays of Python objects).\n"
      ]
    },
    {
      "cell_type": "code",
      "execution_count": null,
      "id": "9776211c",
      "metadata": {
        "id": "9776211c"
      },
      "outputs": [],
      "source": [
        "vals1 = np.array([1, None, 3, 4])\n",
        "print(vals1)\n",
        "print(vals1.dtype)"
      ]
    },
    {
      "cell_type": "markdown",
      "id": "321a747f",
      "metadata": {
        "id": "321a747f"
      },
      "source": [
        "- dtype=object means that the best common type representation NumPy could infer for the contents of the array is that they are Python objects.\n",
        "- Object arrays can be useful, but operations on the data will be done at the Python level, with much more overhead than the typically fast operations seen for arrays with native types\n",
        " - If you perform aggregations like sum() or min() across an array with a None value, you will generally get an error since operations between numbers and None are undefined\n"
      ]
    },
    {
      "cell_type": "markdown",
      "id": "533e2012",
      "metadata": {
        "id": "533e2012"
      },
      "source": [
        "# Using NaN in NumPy\n",
        "- The other missing data representation, NaN (acronym for Not a Number), is different; it is a special floating-point value recognized by all systems that use the standard IEEE floating-point representation.\n",
        " - NaN is specifically a floating-point value; there is no equivalent NaN value for integers, strings, or other types.\n",
        "- NumPy uses a native floating-point type for arrays containing NaN.\n",
        " - Unlike the object array from before, this array supports fast operations pushed into compiled code.\n"
      ]
    },
    {
      "cell_type": "code",
      "execution_count": null,
      "id": "cbf07340",
      "metadata": {
        "id": "cbf07340"
      },
      "outputs": [],
      "source": [
        "vals2 = np.array([1, np.nan, 3, 4])\n",
        "print(vals2)\n",
        "print(vals2.dtype)"
      ]
    },
    {
      "cell_type": "markdown",
      "id": "80e770c0",
      "metadata": {
        "id": "80e770c0"
      },
      "source": [
        "- \"NaN is a bit like a data virus—it infects any other object it touches.\"\n",
        " - [VanderPlas, Python Data Science Handbook]\n",
        "- NaN values will propagate through numeric operations\n",
        " - The result of arithmetic with a NaN will be another NaN\n"
      ]
    },
    {
      "cell_type": "code",
      "execution_count": null,
      "id": "963dca7c",
      "metadata": {
        "id": "963dca7c"
      },
      "outputs": [],
      "source": [
        "print(1 + np.nan)\n",
        "print(0 *  np.nan)"
      ]
    },
    {
      "cell_type": "markdown",
      "id": "8464b895",
      "metadata": {
        "id": "8464b895"
      },
      "source": [
        "- Using aggregate functions with NaN values does not result in errors, but the results aren't very useful\n"
      ]
    },
    {
      "cell_type": "code",
      "execution_count": null,
      "id": "e9056e1e",
      "metadata": {
        "id": "e9056e1e"
      },
      "outputs": [],
      "source": [
        "print(vals2)\n",
        "print(vals2.sum())\n",
        "print(vals2.min())\n",
        "print(vals2.max())"
      ]
    },
    {
      "cell_type": "markdown",
      "id": "4c6b73eb",
      "metadata": {
        "id": "4c6b73eb"
      },
      "source": [
        "- NumPy provides special aggregations that will ignore these missing values:\n"
      ]
    },
    {
      "cell_type": "code",
      "execution_count": null,
      "id": "1244e533",
      "metadata": {
        "id": "1244e533"
      },
      "outputs": [],
      "source": [
        "print(vals2)\n",
        "print(np.nansum(vals2))\n",
        "print(np.nanmin(vals2))\n",
        "print(np.nanmax(vals2))"
      ]
    },
    {
      "cell_type": "markdown",
      "id": "1c1c2f6d",
      "metadata": {
        "id": "1c1c2f6d"
      },
      "source": [
        "# NaN and None in Pandas\n",
        "- Pandas is built to handle NaN and None nearly interchangeably, converting between them where appropriate\n",
        "\n"
      ]
    },
    {
      "cell_type": "code",
      "execution_count": null,
      "id": "2b93ba98",
      "metadata": {
        "id": "2b93ba98"
      },
      "outputs": [],
      "source": [
        "print(pd.Series([1, np.nan, 2, None]))"
      ]
    },
    {
      "cell_type": "markdown",
      "id": "3b78537e",
      "metadata": {
        "id": "3b78537e"
      },
      "source": [
        "- When integer values are set to NaN or None, the data type is automatically up-cast to floating point\n",
        " - None is automatically converted to a NaN value\n"
      ]
    },
    {
      "cell_type": "code",
      "execution_count": null,
      "id": "dacbfd2e",
      "metadata": {
        "id": "dacbfd2e"
      },
      "outputs": [],
      "source": [
        "x = pd.Series(range(2), dtype=int)\n",
        "print(x)\n",
        "x[0] = None\n",
        "print(x)"
      ]
    },
    {
      "cell_type": "markdown",
      "id": "6f87c32b",
      "metadata": {
        "id": "6f87c32b"
      },
      "source": [
        "# Operating on Null Values\n",
        "- There are several methods for detecting, removing, and replacing null values in Pandas data structures.\n",
        " - isnull()\n",
        " -- Generate a Boolean mask indicating missing values\n",
        " - notnull()\n",
        " -- Opposite of isnull()\n",
        " - dropna()\n",
        " -- Return a filtered version of the data\n",
        " - fillna()\n",
        " -- Return a copy of the data with missing values filled or imputed\n"
      ]
    },
    {
      "cell_type": "markdown",
      "id": "4e1f423b",
      "metadata": {
        "id": "4e1f423b"
      },
      "source": [
        "# Detecting Null Values\n",
        "- Using isnull()"
      ]
    },
    {
      "cell_type": "code",
      "execution_count": null,
      "id": "d8a83452",
      "metadata": {
        "id": "d8a83452"
      },
      "outputs": [],
      "source": [
        "data = pd.Series([1, np.nan, 'hello', None])\n",
        "print(data)\n",
        "print(data.isnull())"
      ]
    },
    {
      "cell_type": "markdown",
      "id": "4023d399",
      "metadata": {
        "id": "4023d399"
      },
      "source": [
        "- Boolean masks can be used to index Series or DataFrames"
      ]
    },
    {
      "cell_type": "code",
      "execution_count": null,
      "id": "f8449c28",
      "metadata": {
        "id": "f8449c28"
      },
      "outputs": [],
      "source": [
        "print(data.notnull())\n",
        "print(data[data.notnull()])"
      ]
    },
    {
      "cell_type": "markdown",
      "id": "eedf2e8f",
      "metadata": {
        "id": "eedf2e8f"
      },
      "source": [
        "# Dropping Null Values in Series\n",
        "- The dropna() method returns a new Series without the nulls"
      ]
    },
    {
      "cell_type": "code",
      "execution_count": null,
      "id": "2e700945",
      "metadata": {
        "id": "2e700945"
      },
      "outputs": [],
      "source": [
        "data\n",
        "print(data.dropna())"
      ]
    },
    {
      "cell_type": "markdown",
      "id": "b2a42b4b",
      "metadata": {
        "id": "b2a42b4b"
      },
      "source": [
        "- By default, dropna() will drop full rows with any nulls\n"
      ]
    },
    {
      "cell_type": "code",
      "execution_count": null,
      "id": "bf460b8e",
      "metadata": {
        "id": "bf460b8e"
      },
      "outputs": [],
      "source": [
        "df = pd.DataFrame([ [1,      np.nan, 2],\n",
        "                    [2,      3,      5],\n",
        "                    [np.nan, 4,      6]])\n",
        "print(df)\n",
        "print(df.dropna())"
      ]
    },
    {
      "cell_type": "markdown",
      "id": "d5288f0a",
      "metadata": {
        "id": "d5288f0a"
      },
      "source": [
        "- axis='columns' drops all columns containing a null value\n"
      ]
    },
    {
      "cell_type": "code",
      "execution_count": null,
      "id": "7559d86a",
      "metadata": {
        "id": "7559d86a"
      },
      "outputs": [],
      "source": [
        "print(df)\n",
        "df.dropna(axis='columns')"
      ]
    },
    {
      "cell_type": "markdown",
      "id": "64ae3cd6",
      "metadata": {
        "id": "64ae3cd6"
      },
      "source": [
        "- the thresh argument specifies a minimum drop threshold"
      ]
    },
    {
      "cell_type": "code",
      "execution_count": null,
      "id": "4e9c613b",
      "metadata": {
        "id": "4e9c613b"
      },
      "outputs": [],
      "source": [
        "df = pd.DataFrame([[1,      np.nan, 2],\n",
        "                   [8,      np.nan, np.nan],\n",
        "                   [np.nan, np.nan, np.nan]])\n",
        "print(df)\n",
        "print(df.dropna(thresh=2))"
      ]
    },
    {
      "cell_type": "markdown",
      "id": "2a3e1d80",
      "metadata": {
        "id": "2a3e1d80"
      },
      "source": [
        "# Filling Null Values in Series\n",
        "- Pandas provides the fillna() method to replace the null values in a Series\n",
        " - fillna() returns a copy of the array with the null values replaced\n"
      ]
    },
    {
      "cell_type": "code",
      "execution_count": null,
      "id": "09dffab1",
      "metadata": {
        "id": "09dffab1"
      },
      "outputs": [],
      "source": [
        "data = pd.Series([1, np.nan, 2, None, 3],\n",
        "                 index=list('abcde'))\n",
        "print(data)\n",
        "print(\"\\nFillNA:\")\n",
        "print(data.fillna(0))"
      ]
    },
    {
      "cell_type": "markdown",
      "id": "6bd63bc1",
      "metadata": {
        "id": "6bd63bc1"
      },
      "source": [
        "- Pandas provides a method argument with fillna() to specify how to fill the values\n",
        " - Choices are  ‘bfill’ (back fill), ‘ffill’ (forward fill), and None (defaults to None)\n",
        " - ffill (\"fill forward\") propagates the last valid observation forward to the next valid\n",
        "  - bfill (\"backward fill\") propagates the next valid observation backward to the previous valid"
      ]
    },
    {
      "cell_type": "code",
      "execution_count": null,
      "id": "0c64f485",
      "metadata": {
        "id": "0c64f485"
      },
      "outputs": [],
      "source": [
        "print(data)\n",
        "print(\"\\nForward Fill\")\n",
        "print(data.fillna(method='ffill'))\n",
        "print(\"\\nBack Fill\")\n",
        "print(data.fillna(method='bfill'))"
      ]
    },
    {
      "cell_type": "markdown",
      "id": "acc9e712",
      "metadata": {
        "id": "acc9e712"
      },
      "source": [
        "- Fillna() options for DataFrames are similar to Series\n",
        "- An axis for fills can be specified\n",
        " - Choices are axis = 0 for index (row) (this is the default) and 1 for column\n",
        " - If first value is NaN, subsequent fill does not occur\n"
      ]
    },
    {
      "cell_type": "code",
      "execution_count": null,
      "id": "eabaf422",
      "metadata": {
        "id": "eabaf422"
      },
      "outputs": [],
      "source": [
        "df = pd.DataFrame([[1,      np.nan, 2],\n",
        "                   [2,      3,      5],\n",
        "                   [8,      np.nan, np.nan],\n",
        "                   [np.nan, 4,      6]])\n",
        "print(\"\\nDataFrame:\")\n",
        "print(df)\n",
        "\n",
        "print(\"\\nIndex/Row fill\")\n",
        "# in column 0, the NaN at index 3 is filled with 8.0\n",
        "# (the last valid observation before it).\n",
        "print(df.fillna(method='ffill', axis=0))   # index fill\n",
        "\n",
        "print(\"\\nColumn fill\")\n",
        "# in the first row, the NaN in column 1 is filled with 1.0\n",
        "# (the last valid observation before it in the same row\n",
        "print(df.fillna(method='ffill', axis=1))  # column fill"
      ]
    }
  ],
  "metadata": {
    "kernelspec": {
      "display_name": "Python 3",
      "language": "python",
      "name": "python3"
    },
    "language_info": {
      "codemirror_mode": {
        "name": "ipython",
        "version": 3
      },
      "file_extension": ".py",
      "mimetype": "text/x-python",
      "name": "python",
      "nbconvert_exporter": "python",
      "pygments_lexer": "ipython3",
      "version": "3.9.1"
    },
    "colab": {
      "provenance": []
    }
  },
  "nbformat": 4,
  "nbformat_minor": 5
}