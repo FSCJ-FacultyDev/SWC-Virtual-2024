{
  "cells": [
    {
      "cell_type": "markdown",
      "id": "aaa4c74e",
      "metadata": {
        "id": "aaa4c74e"
      },
      "source": [
        "# Introduction to Matplotlib\n",
        "- Matplotlib is a platform-independent visualization library based on NumPy.\n",
        "    - **pyplot** is an interface to matplotlib used for interactive plots and simple cases of programmatic plot generation\n",
        "    - matplotlib allows the specification of a style sheets, we will use **classic** in these examples"
      ]
    },
    {
      "cell_type": "code",
      "execution_count": null,
      "id": "bd7358f0",
      "metadata": {
        "id": "bd7358f0"
      },
      "outputs": [],
      "source": [
        "# use matplotlib\n",
        "import matplotlib as mpl\n",
        "import matplotlib.pyplot as plt\n",
        "\n",
        "plt.style.use('classic')\n",
        "\n",
        "print(\"matplotlib version =\", mpl.__version__)"
      ]
    },
    {
      "cell_type": "markdown",
      "id": "7ece5e8c",
      "metadata": {
        "id": "7ece5e8c"
      },
      "source": [
        "# Plotting from a Script\n",
        "- Displaying a matplotlib plot depends on the environment.\n",
        "- To display a plot from a Python script/program file, use Pyplot's show() method\n",
        "    - The show() method interacts with a system’s graphical backend (matplotlib does its best to hide all these details from you).\n",
        "    - show() should be used only once per Python session\n",
        "    - It is most often seen at the very end of the script.\n",
        "    - Multiple show() commands can lead to unpredictable backend-dependent behavior, and should be avoided.\n",
        "- In the following example, the NumPy linspace() function returns evenly spaced numbers over a specified interval"
      ]
    },
    {
      "cell_type": "code",
      "execution_count": null,
      "id": "2f41b415",
      "metadata": {
        "id": "2f41b415"
      },
      "outputs": [],
      "source": [
        "import numpy as np\n",
        "x = np.linspace(0, 10, 100)\n",
        "\n",
        "plt.plot(x, np.sin(x))\n",
        "plt.plot(x, np.cos(x))\n",
        "\n",
        "plt.show()"
      ]
    },
    {
      "cell_type": "markdown",
      "id": "752ee836",
      "metadata": {
        "id": "752ee836"
      },
      "source": [
        "# Saving a Plot as a Figure\n",
        "- Plots can be saved as figures using specified graphics formats using matplotlib figures and the savefig function\n",
        "- The graphics format is determined by the file extension\n",
        "- The figure() method must be called *before* the plot commands"
      ]
    },
    {
      "cell_type": "code",
      "execution_count": null,
      "id": "c3c2875d",
      "metadata": {
        "id": "c3c2875d"
      },
      "outputs": [],
      "source": [
        "x = np.linspace(0, 10, 100)\n",
        "fig = plt.figure()\n",
        "plt.plot(x, np.sin(x))\n",
        "plt.plot(x, np.cos(x))\n",
        "plt.show()\n",
        "fig.savefig(\"waves.png\")\n",
        "print(\"plot saved to home folder\")"
      ]
    },
    {
      "cell_type": "markdown",
      "id": "44780028",
      "metadata": {
        "id": "44780028"
      },
      "source": [
        "# Matplotlib Interfaces\n",
        "- Matplotlib provides two interfaces\n",
        "    - a simple state-based interface using pyplot (aliased as plt), a MATLAB-like plotting framework\n",
        "        - (MATLAB is a commercially available numerical computing package)\n",
        "    - an object-oriented interface which provides more control\n",
        "        - plotting functions are methods of explicit Figure and Axes objects\n",
        "- The choice is a matter of preference, but the object-oriented approach can become a necessity as plots become more complicated."
      ]
    },
    {
      "cell_type": "markdown",
      "id": "8ec7866f",
      "metadata": {
        "id": "8ec7866f"
      },
      "source": [
        "# Matplotlib Interfaces – pyplot vs Object-Oriented"
      ]
    },
    {
      "cell_type": "code",
      "execution_count": null,
      "id": "4284063c",
      "metadata": {
        "id": "4284063c"
      },
      "outputs": [],
      "source": [
        "# pyplot-based plot\n",
        "x = np.linspace(0, 10, 100)\n",
        "# create the first of two panels and set current axis\n",
        "plt.subplot(2, 1, 1) # (rows, columns, panel number)\n",
        "plt.plot(x, np.sin(x))\n",
        "# create the second panel and set current axis\n",
        "plt.subplot(2, 1, 2)\n",
        "plt.plot(x, np.cos(x));\n",
        "plt.show()"
      ]
    },
    {
      "cell_type": "code",
      "execution_count": null,
      "id": "519376b9",
      "metadata": {
        "id": "519376b9"
      },
      "outputs": [],
      "source": [
        "# Object-Oriented-based plot\n",
        "x = np.linspace(0, 10, 100)\n",
        "# create a grid of plots\n",
        "# ax will be an array of two Axes objects\n",
        "fig, ax = plt.subplots(2)\n",
        "# call plot() method on the appropriate object\n",
        "ax[0].plot(x, np.sin(x))\n",
        "ax[1].plot(x, np.cos(x))\n",
        "# still need plt.show()\n",
        "plt.show()"
      ]
    },
    {
      "cell_type": "markdown",
      "id": "39589c95",
      "metadata": {
        "id": "39589c95"
      },
      "source": [
        "# Simple Line Plots\n",
        "- One of the simplest plots types is the line plot\n",
        "- For all Matplotlib OO-based plots, start by creating an axes object.\n",
        "    - The axes (an instance of the class plt.Axes) is a bounding box with ticks and labels, which will contain the plot elements that make up a visualization.\n",
        "- Some functions also require a figure, which is a container that holds all the objects representing axes, graphics, text, and labels.  "
      ]
    },
    {
      "cell_type": "code",
      "execution_count": null,
      "id": "c05358e9",
      "metadata": {
        "id": "c05358e9"
      },
      "outputs": [],
      "source": [
        "# show the bounding box\n",
        "ax = plt.axes()\n",
        "plt.show()"
      ]
    },
    {
      "cell_type": "markdown",
      "id": "f5b40329",
      "metadata": {
        "id": "f5b40329"
      },
      "source": [
        "# Simple Line Plots\n",
        "- After creating the figure and axes, plot some data\n",
        "- Try a simple function, e.g. y = 2x\n",
        "- Use either the object-oriented ax interface or the pyplot interface"
      ]
    },
    {
      "cell_type": "code",
      "execution_count": null,
      "id": "661aa572",
      "metadata": {
        "id": "661aa572"
      },
      "outputs": [],
      "source": [
        "ax = plt.axes()\n",
        "x = np.linspace(0, 10, 100)\n",
        "ax.plot(x, 2*x)\n",
        "# plt.plot(x, 2*x);\n",
        "plt.show()"
      ]
    },
    {
      "cell_type": "markdown",
      "id": "45dde8a6",
      "metadata": {
        "id": "45dde8a6"
      },
      "source": [
        "# Colors and Linestyles\n",
        "- Use the optional color and linestyle arguments to change the line attributes (applies to points as well)"
      ]
    },
    {
      "cell_type": "code",
      "execution_count": null,
      "id": "615c4a87",
      "metadata": {
        "id": "615c4a87"
      },
      "outputs": [],
      "source": [
        "# draw a blue, dashed line\n",
        "ax = plt.axes()\n",
        "x = np.linspace(0, 10, 100)\n",
        "ax.plot(x, 2*x, color='blue', linestyle='dashed')\n",
        "plt.show()"
      ]
    },
    {
      "cell_type": "markdown",
      "id": "f5f5bf8b",
      "metadata": {
        "id": "f5f5bf8b"
      },
      "source": [
        "# Basic Line Styles and Colors\n",
        "- Simple linestyles can be defined using the strings \"solid\", \"dotted\", \"dashed\" or \"dashdot\"\n",
        "- More refined control can be achieved by providing a dash tuple (offset, (on_off_seq))\n",
        "    - For example, (0, (3, 10, 1, 15)) means (3pt line, 10pt space, 1pt line, 15pt space) with no offset.\n",
        "- There are multiple way to specify colors, two of the most common are single-letter base codes or HTML/CSS names\n"
      ]
    },
    {
      "cell_type": "markdown",
      "id": "60609b71",
      "metadata": {
        "id": "60609b71"
      },
      "source": [
        "<img src=\"https://github.com/FSCJ-FacultyDev/SWC-Virtual-2024/blob/main/notebooks.day4/images/SWC22-Matplotlib.basecolors.png?raw=true\" width=200 height=100 />"
      ]
    },
    {
      "cell_type": "markdown",
      "id": "9380c1bb",
      "metadata": {
        "id": "9380c1bb"
      },
      "source": [
        "<img src=\"https://github.com/FSCJ-FacultyDev/SWC-Virtual-2024/blob/main/notebooks.day4/images/SWC22-Matplotlib.csscolors.png?raw=true\" width=500 height=200 />"
      ]
    },
    {
      "cell_type": "markdown",
      "id": "cd76cf74",
      "metadata": {
        "id": "cd76cf74"
      },
      "source": [
        "# Plot Scaling\n",
        "- ax.set() is used to set many plot attributes\n",
        "- y = 2 * x is actually a fairly steep line, the default scaling does not show this\n",
        "- Use ax.set() to change the scale of the x-axis to match the y-axis"
      ]
    },
    {
      "cell_type": "code",
      "execution_count": null,
      "id": "7ecb2ff4",
      "metadata": {
        "id": "7ecb2ff4"
      },
      "outputs": [],
      "source": [
        "ax = plt.axes()\n",
        "x = np.linspace(0, 10, 100)\n",
        "ax.plot(x, 2*x, color='blue',\n",
        "        linestyle='dashed')\n",
        "ax.set(xlim=(0,20))\n",
        "plt.show()"
      ]
    },
    {
      "cell_type": "markdown",
      "id": "7cd4f1a2",
      "metadata": {
        "id": "7cd4f1a2"
      },
      "source": [
        "# More Attributes\n",
        "- Add a plot title and x/y label axes"
      ]
    },
    {
      "cell_type": "code",
      "execution_count": null,
      "id": "9d8a0ba5",
      "metadata": {
        "id": "9d8a0ba5"
      },
      "outputs": [],
      "source": [
        "x = np.linspace(0, 10, 100)\n",
        "ax = plt.axes()\n",
        "ax.plot(x, 2*x, color='blue', linestyle='dashed')\n",
        "ax.set(xlim=(0,20),\n",
        "       ylabel='y = 2*x',\n",
        "       xlabel='x',\n",
        "       title='Plot of y = 2*x')\n",
        "plt.show()"
      ]
    },
    {
      "cell_type": "code",
      "source": [
        "# full script for  line plot\n",
        "\n",
        "import matplotlib as mpl\n",
        "import matplotlib.pyplot as plt\n",
        "\n",
        "plt.style.use('classic')\n",
        "\n",
        "print(\"matplotlib version =\", mpl.__version__)\n",
        "\n",
        "# Define the data\n",
        "x = range(21)\n",
        "\n",
        "# Create a figure and axes\n",
        "fig, ax = plt.subplots()\n",
        "\n",
        "# Plot the data\n",
        "ax.plot(x, [2 * xi for xi in x], color='blue', linestyle='dashed')\n",
        "\n",
        "# Set limits and labels\n",
        "ax.set(xlim=(0, 20),\n",
        "       ylabel='y = 2*x',\n",
        "       xlabel='x',\n",
        "       title='Plot of y = 2*x')\n",
        "\n",
        "# Show the plot\n",
        "plt.show()\n"
      ],
      "metadata": {
        "id": "PKTGaIfsScfD"
      },
      "id": "PKTGaIfsScfD",
      "execution_count": null,
      "outputs": []
    },
    {
      "cell_type": "markdown",
      "source": [
        "## Try It!\n",
        "\n",
        "Modify the above script to create a line plot with the following attributes:\n",
        "\n",
        "- change the function to y = x^2   (x-squared)\n",
        "- change the color of the line to red\n",
        "- use a dotted line style\n",
        "- change the y-axis label to 'Output'\n",
        "- change the x-axis label to 'Input'\n",
        "- change the plot title to 'Modified Plot of y = x^2'\n",
        "\n",
        "<img src=\"https://github.com/FSCJ-FacultyDev/SWC-Virtual-2024/blob/main/notebooks.day4/images/MatplotlibLinePlotTryIt.png?raw=true\" width=400 height=300 />"
      ],
      "metadata": {
        "id": "u16Ud7WBUyUg"
      },
      "id": "u16Ud7WBUyUg"
    },
    {
      "cell_type": "code",
      "source": [],
      "metadata": {
        "id": "IwAYHcHYVGRS"
      },
      "id": "IwAYHcHYVGRS",
      "execution_count": null,
      "outputs": []
    },
    {
      "cell_type": "markdown",
      "id": "1774b11e",
      "metadata": {
        "id": "1774b11e"
      },
      "source": [
        "# Scatter Plots\n",
        "- Scatter plots are used to plot individual points\n",
        "- Try switching over to use the pyplot interface to create a scatter plot of our function y = 2*x\n",
        "- Use explicit pyplot functions to set attributes"
      ]
    },
    {
      "cell_type": "code",
      "execution_count": null,
      "id": "335eada9",
      "metadata": {
        "id": "335eada9"
      },
      "outputs": [],
      "source": [
        "x = np.linspace(0, 10, 10)\n",
        "plt.ylabel('y = 2*x')\n",
        "plt.xlabel('x')\n",
        "plt.title('Plot of y = 2*x')\n",
        "plt.plot(x, 2*x, 'o', color='black')\n",
        "plt.show()"
      ]
    },
    {
      "cell_type": "markdown",
      "id": "510c49bb",
      "metadata": {
        "id": "510c49bb"
      },
      "source": [
        "# Marker Types\n",
        "- Markers determine the shape of the object used to plot the points\n",
        "        plt.plot(x, 2*x, 'o', color='black')\n",
        "- There are many different marker types, here are a few from the Matplotlib API documents (https://matplotlib.org/3.1.1/api/markers_api.html)\n",
        "\n",
        "<img src=\"https://github.com/FSCJ-FacultyDev/SWC-Virtual-2024/blob/main/notebooks.day4/images/SWC22-Matplotlib.markers.png?raw=true\" width=500 height=300 />"
      ]
    },
    {
      "cell_type": "markdown",
      "id": "944264cb",
      "metadata": {
        "id": "944264cb"
      },
      "source": [
        "# Marker Colors\n",
        "- If no color is specified, Matplotlib uses a \"color cycle\" which, by default, cycles through 7 basic colors (blue, green, red, cyan, magenta, yellow, and black)\n",
        "- The legend() function displays a marker legend, \"numpoints\" specifies the number of markers to display for each entry"
      ]
    },
    {
      "cell_type": "code",
      "execution_count": null,
      "id": "3966e79e",
      "metadata": {
        "id": "3966e79e"
      },
      "outputs": [],
      "source": [
        "rng = np.random.RandomState(0)\n",
        "for marker in ['o', '.', ',', 'x', '+', 'v', '^', '<', '>', 's', 'd']:\n",
        "    plt.plot(rng.rand(5), rng.rand(5), marker,\n",
        "             label=\"marker='{0}'\".format(marker))\n",
        "plt.legend(numpoints=1)\n",
        "plt.xlim(0, 1.8);\n",
        "plt.show()"
      ]
    },
    {
      "cell_type": "markdown",
      "id": "a6e2867b",
      "metadata": {
        "id": "a6e2867b"
      },
      "source": [
        "- As with lines, the color keyword specifies the marker color\n",
        "- Various codes can be used"
      ]
    },
    {
      "cell_type": "code",
      "execution_count": null,
      "id": "f91ed3ed",
      "metadata": {
        "id": "f91ed3ed"
      },
      "outputs": [],
      "source": [
        "color='blue'         # specify color by name\n",
        "color='g'            # short color code (rgbcmyk)\n",
        "color='0.75'         # Grayscale between 0 and 1\n",
        "color='#FFDD44'      # Hex code (RRGGBB from 00 to FF)\n",
        "color=(1.0,0.2,0.3) # RGB tuple, values 0 and 1\n",
        "color='chartreuse'   # HTML/CSS color names supported\n",
        "\n",
        "rng = np.random.RandomState(0)\n",
        "for marker in ['o', '.', ',', 'x', '+', 'v', '^', '<', '>', 's', 'd']:\n",
        "    plt.plot(rng.rand(5), rng.rand(5), marker, color='forestgreen',\n",
        "             label=\"marker='{0}'\".format(marker))\n",
        "plt.legend(numpoints=1)\n",
        "plt.xlim(0, 1.8);\n",
        "plt.show()"
      ]
    },
    {
      "cell_type": "markdown",
      "id": "11a050a7",
      "metadata": {
        "id": "11a050a7"
      },
      "source": [
        "# plt.scatter( ):  A Scatter Plot Alternative\n",
        "- plt.scatter is a convenience function that allows the properties of each individual point to be individually controlled (i.e. no for loop required)\n",
        "    - the viridis color map provides colors that are easier to read by those with colorblindness, and prints well in grey scale\n",
        "    - plt.colorbar() displays the current colormap and indicates the mapping of data values\n",
        "    - alpha indicates the level of transparency\n",
        "    - for large plots (e.g. thousands of points), plt.plot() has better performance"
      ]
    },
    {
      "cell_type": "code",
      "execution_count": null,
      "id": "5dc2d207",
      "metadata": {
        "id": "5dc2d207"
      },
      "outputs": [],
      "source": [
        "rng = np.random.RandomState(0)\n",
        "x = rng.randn(100)\n",
        "y = rng.randn(100)\n",
        "colors = rng.rand(100)\n",
        "sizes = 1000 * rng.rand(100)\n",
        "plt.scatter(x, y, c=colors, s=sizes,\n",
        "    alpha=0.3, cmap='viridis')\n",
        "plt.colorbar();  # show color scale\n",
        "plt.show()"
      ]
    },
    {
      "cell_type": "markdown",
      "id": "81aca28b",
      "metadata": {
        "id": "81aca28b"
      },
      "source": [
        "# Plotting a Pandas DataFrame\n",
        "- Matplotlib works intuitively and seamlessly with Pandas DataFrames"
      ]
    },
    {
      "cell_type": "code",
      "execution_count": null,
      "id": "5fc3f39b",
      "metadata": {
        "id": "5fc3f39b"
      },
      "outputs": [],
      "source": [
        "import pandas as pd\n",
        "\n",
        "population_dict = {'California': 38332521,\n",
        "                   'Texas': 26448193,\n",
        "                   'New York': 19651127,\n",
        "                   'Florida': 19552860,\n",
        "                   'Illinois': 12882135 }\n",
        "population = pd.Series(population_dict)\n",
        "print(population)\n",
        "plt.margins(0.1) # add some margin space\n",
        "plt.plot(population, 'v')\n",
        "plt.show()"
      ]
    },
    {
      "cell_type": "markdown",
      "id": "e98ca389",
      "metadata": {
        "id": "e98ca389"
      },
      "source": [
        "# Reading CSV Data and Plotting a DataFrame\n",
        "- Pandas and Matplotlib make it easy to read CSV data and plot it\n",
        "- The CSV data is read directly into a DataFrame"
      ]
    },
    {
      "cell_type": "code",
      "execution_count": null,
      "id": "4a4647fb",
      "metadata": {
        "id": "4a4647fb"
      },
      "outputs": [],
      "source": [
        "# Read the CSV file into a DataFrame\n",
        "data = pd.read_csv('https://raw.githubusercontent.com/FSCJ-FacultyDev/SWC-Virtual-2024/main/notebooks.day4/data/hw-data.csv')\n",
        "print(data)\n",
        "\n",
        "data.plot.scatter(x=1, y=2, color='blue')\n",
        "plt.show()"
      ]
    },
    {
      "cell_type": "markdown",
      "id": "f74d4675",
      "metadata": {
        "id": "f74d4675"
      },
      "source": [
        "# Error Bars\n",
        "- An error bar is a line through a point, parallel to an axis, representing the uncertainty of the point's coordinate\n",
        "- Error bars can be used to provide a general indication of the accuracy of a data set\n",
        "    - Shorter bars -> more accurate, longer -> less accurate\n",
        "- In statistical analysis error bars provide a \"hint\" of  statistically significant differences between data sets\n",
        "    - More overlap -> less difference, less overlap -> more difference (results depend on sample size, always perform a statistical test to confirm)\n",
        "\n",
        "        https://www.biologyforlife.com/interpreting-error-bars.html\n",
        "        \n",
        "<img src=\"https://github.com/FSCJ-FacultyDev/SWC-Virtual-2024/blob/main/notebooks.day4/images/SWC22-Matplotlib.errorbars.png?raw=true\" width=300 height=150 />"
      ]
    },
    {
      "cell_type": "markdown",
      "id": "5e293494",
      "metadata": {
        "id": "5e293494"
      },
      "source": [
        "# Error Bar Example\n",
        "- **Problem Statement:**\n",
        "- The coefficient of thermal expansion measures the fractional change in size of an object, per degree, as the temperature changes\n",
        "\n",
        "  https://en.wikipedia.org/wiki/Thermal_expansion.html\n",
        "\n",
        "\n",
        "- Generate a bar chart w/error bars for thermal expansion sample data of three different metals\n",
        "\n",
        "  https://problemsolvingwithpython.com/06-Plotting-with-Matplotlib/06.07-Error-Bars/"
      ]
    },
    {
      "cell_type": "code",
      "execution_count": null,
      "id": "ac08bbb8",
      "metadata": {
        "id": "ac08bbb8"
      },
      "outputs": [],
      "source": [
        "# data - coefficients for three metals\n",
        "aluminum = np.array([0.000064, 0.000030, 0.000024, 0.000030, 0.000070,\n",
        "                     0.000045, 0.000038, 0.000042, 0.000026, 0.000036])\n",
        "copper = np.array([0.000045, 0.000020, 0.000016, 0.000020, 0.000040,\n",
        "                   0.000024, 0.000019, 0.000024, 0.000018, 0.000033])\n",
        "steel = np.array([0.000033, 0.000012, 0.000009, 0.000012, 0.000013,\n",
        "                  0.000016, 0.000014, 0.000016, 0.000013, 0.000021])\n",
        "\n",
        "# if we print the data, use decimal notation instead of scientific np.set_printoptions(formatter={'float_kind':'{:f}'.format})\n",
        "\n",
        "# Calculate the means, these will be the data bar heights\n",
        "aluminum_mean = np.mean(aluminum)\n",
        "copper_mean = np.mean(copper)\n",
        "steel_mean = np.mean(steel)\n",
        "\n",
        "# Calculate the standard deviations, these will be the error bar heights aluminum_std = np.std(aluminum)\n",
        "copper_std = np.std(copper)\n",
        "steel_std = np.std(steel)\n",
        "aluminum_std = np.std(aluminum)\n",
        "\n",
        "# Define labels, positions, bar heights and error bar heights\n",
        "labels = ['Aluminum', 'Copper', 'Steel']  # category (x-axis) labels\n",
        "x_pos = np.arange(len(labels))            # category label positions\n",
        "CTEs = [aluminum_mean, copper_mean, steel_mean]   # data bars\n",
        "error = [aluminum_std, copper_std, steel_std]     # error bars\n",
        "\n",
        "# Build and show the plot\n",
        "fig,ax = plt.subplots()   # use fig to save the plot if desired\n",
        "ax.bar(x_pos, CTEs,\n",
        "       yerr=error,\n",
        "       align='center',\n",
        "       alpha=0.5,\n",
        "       ecolor='black',    # error bar color\n",
        "       capsize=10)\n",
        "ax.set_ylabel('Coefficient of Thermal Expansion')\n",
        "ax.set_xticks(x_pos)\n",
        "ax.set_xticklabels(labels)\n",
        "ax.set_title(\n",
        "    'Coefficent of Thermal Expansion (CTE) of Three Metals')\n",
        "ax.yaxis.grid(True)\n",
        "plt.show()"
      ]
    },
    {
      "cell_type": "markdown",
      "id": "97194ceb",
      "metadata": {
        "id": "97194ceb"
      },
      "source": [
        "   - Error bar length indicates the standard deviation of the aluminum data is greater than that of the copper or steel data."
      ]
    },
    {
      "cell_type": "markdown",
      "id": "dd9efc3e",
      "metadata": {
        "id": "dd9efc3e"
      },
      "source": [
        "# Bar Charts and Histograms\n",
        "- Bar charts plot categorical data, histograms chart continuous data\n",
        "  - Bar charts have one bar per categorical variable"
      ]
    },
    {
      "cell_type": "code",
      "execution_count": null,
      "id": "7bc833ee",
      "metadata": {
        "id": "7bc833ee"
      },
      "outputs": [],
      "source": [
        "# plot mean CTE values\n",
        "plt.bar(labels,CTEs)\n",
        "plt.show()"
      ]
    },
    {
      "cell_type": "markdown",
      "id": "1f5461fe",
      "metadata": {
        "id": "1f5461fe"
      },
      "source": [
        "- Setting Data Bar Colors"
      ]
    },
    {
      "cell_type": "code",
      "execution_count": null,
      "id": "42e9517b",
      "metadata": {
        "id": "42e9517b"
      },
      "outputs": [],
      "source": [
        "plt.bar(labels, CTEs,\n",
        "        color=['black', 'blue', 'green'])\n",
        "plt.show()"
      ]
    },
    {
      "cell_type": "markdown",
      "id": "ee26d225",
      "metadata": {
        "id": "ee26d225"
      },
      "source": [
        "# Histograms\n",
        "- Histograms contain bins containing counts of the frequency of observations within a range equal to the bin width"
      ]
    },
    {
      "cell_type": "code",
      "execution_count": null,
      "id": "55fa4693",
      "metadata": {
        "id": "55fa4693"
      },
      "outputs": [],
      "source": [
        "steel = np.array([0.000033,\n",
        "    0.000012, 0.000009,\n",
        "    0.000012, 0.000013,\n",
        "    0.000016, 0.000014,\n",
        "    0.000016, 0.000013,\n",
        "    0.000021])\n",
        "plt.hist(steel)\n",
        "plt.show()"
      ]
    },
    {
      "cell_type": "markdown",
      "id": "a30f449d",
      "metadata": {
        "id": "a30f449d"
      },
      "source": [
        "- <ins>plt.hist()</ins> returns a tuple which includes item counts and bin start/end points"
      ]
    },
    {
      "cell_type": "code",
      "execution_count": null,
      "id": "e86d8863",
      "metadata": {
        "id": "e86d8863"
      },
      "outputs": [],
      "source": [
        "histdata = plt.hist(steel)\n",
        "print('counts=',histdata[0])\n",
        "print('bins=',histdata[1])\n",
        "plt.show()"
      ]
    },
    {
      "cell_type": "markdown",
      "id": "4f410ddb",
      "metadata": {
        "id": "4f410ddb"
      },
      "source": [
        "- The **bins** argument modifies the number of bins used in the plot"
      ]
    },
    {
      "cell_type": "code",
      "execution_count": null,
      "id": "c1b29396",
      "metadata": {
        "id": "c1b29396"
      },
      "outputs": [],
      "source": [
        "histdata = plt.hist(steel, bins=3)\n",
        "print('counts=',histdata[0])\n",
        "print('bins=',histdata[1])\n",
        "plt.show()"
      ]
    }
  ],
  "metadata": {
    "kernelspec": {
      "display_name": "Python 3",
      "language": "python",
      "name": "python3"
    },
    "language_info": {
      "codemirror_mode": {
        "name": "ipython",
        "version": 3
      },
      "file_extension": ".py",
      "mimetype": "text/x-python",
      "name": "python",
      "nbconvert_exporter": "python",
      "pygments_lexer": "ipython3",
      "version": "3.9.1"
    },
    "colab": {
      "provenance": []
    }
  },
  "nbformat": 4,
  "nbformat_minor": 5
}