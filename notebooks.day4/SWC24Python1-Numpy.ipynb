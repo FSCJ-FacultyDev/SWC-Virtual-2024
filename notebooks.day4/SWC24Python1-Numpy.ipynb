{
  "cells": [
    {
      "cell_type": "markdown",
      "id": "be1e5c98-4936-4430-b78b-7375d2475560",
      "metadata": {
        "id": "be1e5c98-4936-4430-b78b-7375d2475560"
      },
      "source": [
        "# Introduction to NumPy\n",
        "-  __NumPy__ (Numerical Python) is pronounced NUM-py or sometimes NUM-pee\n",
        "-  NumPy provides __arrays__ similar to Python __lists__, but with more efficient storage and better performance,\n",
        "particularly as the data grows larger.\n",
        "-  NumPy arrays are the core of data science tools in Python"
      ]
    },
    {
      "cell_type": "code",
      "execution_count": null,
      "id": "4c45e794-abd8-4fd2-9050-cecd214f3a62",
      "metadata": {
        "id": "4c45e794-abd8-4fd2-9050-cecd214f3a62"
      },
      "outputs": [],
      "source": [
        "# Importing numpy in a program\n",
        "import numpy as np      # alias to np\n",
        "print(\"NumPy version is\", np.__version__)   # version check"
      ]
    },
    {
      "cell_type": "markdown",
      "id": "dee3aae9",
      "metadata": {
        "id": "dee3aae9"
      },
      "source": [
        "## Understanding Data Types in Python\n",
        "- \"Primitive\" data types in Python (integers, floating point values, Booleans) are objects\n",
        "    - Each object consists of an internal C-language structure which includes a reference count, a type encoding, a size attribute, and the actual value\n",
        "    - These attributes make Python a dynamically typed (flexible) language, but also reduce performance\n",
        "- In a Python list, each element is a self-contained object\n",
        "    - When lists contain elements of the same data type, some internal information is redundant\n",
        "    - List elements are randomly distributed throughout memory"
      ]
    },
    {
      "cell_type": "markdown",
      "id": "dc357258",
      "metadata": {
        "id": "dc357258"
      },
      "source": [
        "## NumPy N-Dimensional Arrays\n",
        "- A NumPy n-dimensional array (ndarray)  is a fixed-size, multidimensional container of items of the same type and size.\n",
        "    - The number of dimensions and items in an ndarray is defined by its shape, which is a tuple of N non-negative integers that specify the sizes of each dimension.\n",
        "- NumPy arrays store data as a contiguous block for efficiency (\"dense\" arrays).\n",
        "    - The Python array module (Python 3.3 and later) provides a similar structure, but the NumPy ndarray provides additional operations."
      ]
    },
    {
      "cell_type": "markdown",
      "id": "97a2e75a",
      "metadata": {
        "id": "97a2e75a"
      },
      "source": [
        "## NumPy Arrays vs. Python Lists"
      ]
    },
    {
      "cell_type": "markdown",
      "id": "953552b8",
      "metadata": {
        "id": "953552b8"
      },
      "source": [
        "<img src=\"https://github.com/FSCJ-FacultyDev/SWC-Virtual-2024/blob/main/notebooks.day4/images/SWC22-NumPy.python-list.numpy-array.png?raw=true\" width=300 height=300 />"
      ]
    },
    {
      "cell_type": "markdown",
      "id": "544e397a",
      "metadata": {
        "id": "544e397a"
      },
      "source": [
        "<img src=\"https://github.com/FSCJ-FacultyDev/SWC-Virtual-2024/blob/main/notebooks.day4/images/SWC22-NumPy.python-list.png?raw=true\" width=400 height=400 />"
      ]
    },
    {
      "cell_type": "markdown",
      "id": "7c56a07c",
      "metadata": {
        "id": "7c56a07c"
      },
      "source": [
        "# Creating NumPy Arrays from Lists\n",
        "- ndarrays can be created from Python lists"
      ]
    },
    {
      "cell_type": "code",
      "execution_count": null,
      "id": "9d00bd02",
      "metadata": {
        "id": "9d00bd02"
      },
      "outputs": [],
      "source": [
        "# integer array:\n",
        "npa = np.array([1, 4, 2, 5, 3])\n",
        "print(\"A\\n\", npa)\n",
        "\n",
        "# upcast integers to float\n",
        "npa = np.array([3.14, 4, 2, 3])\n",
        "print(\"\\nB\\n\", npa)\n",
        "\n",
        "# specify array element type\n",
        "npa = np.array([1, 2, 3, 4], dtype='float32')\n",
        "print(\"\\nC\\n\", npa)\n",
        "\n",
        "# multidimensional array using list of lists\n",
        "npa = np.array([range(i, i + 3) for i in [2, 4, 6]])\n",
        "print(\"\\nD\\n\", npa)"
      ]
    },
    {
      "cell_type": "markdown",
      "id": "69f59c5e",
      "metadata": {
        "id": "69f59c5e"
      },
      "source": [
        "# Creating NumPy Arrays from Scratch\n",
        "- NumPy provides optimized functions to create ndarrays"
      ]
    },
    {
      "cell_type": "code",
      "execution_count": null,
      "id": "9365e0d6",
      "metadata": {
        "id": "9365e0d6"
      },
      "outputs": [],
      "source": [
        "# create a 10-integer array filled with zeros\n",
        "npa = np.zeros(10, dtype=int)\n",
        "print(\"A\", npa)\n",
        "\n",
        "# create a 3x5 floating point array filled with ones\n",
        "npa = np.ones((3,5), dtype=float)\n",
        "print(\"\\nB\\n\", npa)\n",
        "\n",
        "# create a 3x5 array filled with 3.14\n",
        "npa = np.full((3,5), 3.14)\n",
        "print(\"\\nC\\n\", npa)\n",
        "\n",
        "# create an array filled with a linear sequence\n",
        "# starting at 0, ending at 20, stepping by 2\n",
        "# (similar to built-in range() function)\n",
        "npa = np.arange(0, 20, 2)\n",
        "print(\"\\nD\", npa)"
      ]
    },
    {
      "cell_type": "code",
      "execution_count": null,
      "id": "e2451cb7",
      "metadata": {
        "id": "e2451cb7"
      },
      "outputs": [],
      "source": [
        "# create a 3x3 array of uniformly distributed\n",
        "# random values between 0 and 1\n",
        "npa = np.random.random((3,3))\n",
        "print(\"E\\n\", npa)\n",
        "\n",
        "# create a 3x3 array of normally distributed random\n",
        "# values with mean 0 and standard deviation 1\n",
        "npa = np.random.normal(0,1,(3,3))\n",
        "print(\"\\nF\\n\", npa)"
      ]
    },
    {
      "cell_type": "markdown",
      "source": [
        "## Try It!\n",
        "\n",
        "Create a Python script that demonstrates how to create a NumPy array from scratch and from a list. Use different methods provided by the NumPy library to achieve this.\n",
        "\n",
        "- Import the NumPy library.\n",
        "- Create a NumPy array from scratch using methods like np.zeros, np.ones, or np.arange.\n",
        "- Create a NumPy array from a given list.\n",
        "- Print the created arrays to verify their contents.\n",
        "\n",
        "**Sample Output**\n",
        "\n",
        "```\n",
        "Array of zeros (3x3):\n",
        "[[0. 0. 0.]\n",
        " [0. 0. 0.]\n",
        " [0. 0. 0.]]\n",
        "\n",
        "Array of ones (2x4):\n",
        "[[1. 1. 1. 1.]\n",
        " [1. 1. 1. 1.]]\n",
        "\n",
        "Array with a range of values (0 to 9):\n",
        "[0 1 2 3 4 5 6 7 8 9]\n",
        "\n",
        "Array created from a list:\n",
        "[1 2 3 4 5]\n",
        "```"
      ],
      "metadata": {
        "id": "eqMrMcsXTubt"
      },
      "id": "eqMrMcsXTubt"
    },
    {
      "cell_type": "code",
      "source": [],
      "metadata": {
        "id": "RYmj8PY_Yq48"
      },
      "id": "RYmj8PY_Yq48",
      "execution_count": null,
      "outputs": []
    },
    {
      "cell_type": "markdown",
      "id": "cb7f228b",
      "metadata": {
        "id": "cb7f228b"
      },
      "source": [
        "# NumPy Standard Data Types\n",
        "<img src=\"https://github.com/FSCJ-FacultyDev/SWC-Virtual-2024/blob/main/notebooks.day4/images/SWC22-NumPy.standard-data-types.png?raw=true\" width=400 height=400 />"
      ]
    },
    {
      "cell_type": "markdown",
      "id": "15eaa279",
      "metadata": {
        "id": "15eaa279"
      },
      "source": [
        "# NumPy Array Operations\n",
        "- NumPy array operations are critical to many Data Science packages\n",
        "- Array operations include\n",
        "    - accessing attributes: determining size, shape, memory usage, and data types\n",
        "    - indexing: getting/setting individual array element values\n",
        "    - slicing: getting/setting subarrays\n",
        "    - reshaping: changing an array's shape\n",
        "    - joining/splitting: combining multiple arrays into one, split one array into multiple"
      ]
    },
    {
      "cell_type": "markdown",
      "id": "6f3a26e3",
      "metadata": {
        "id": "6f3a26e3"
      },
      "source": [
        "# NumPy Array Attributes\n",
        "\n",
        "- Useful attributes of NumPy arrays:\n",
        "    - ndim: number of dimensions\n",
        "    - shape: size of each dimension\n",
        "    - size: total size of the array (number of elements)\n",
        "    - dtype: data type\n",
        "    - itemsize: size in bytes of one array element\n",
        "    - nbytes: total size of array in bytes (itemsize * size)\n"
      ]
    },
    {
      "cell_type": "markdown",
      "id": "66b084d8",
      "metadata": {
        "id": "66b084d8"
      },
      "source": [
        "# Displaying NumPy Array Attributes\n",
        "- Let's use a simple NumPy function to demonstrate how to display an array's attributes:\n",
        "    - The **random.randint** function creates a NumPy array of random integers as part of a uniform distribution (probability of all values is the same)"
      ]
    },
    {
      "cell_type": "code",
      "execution_count": null,
      "id": "8f067463",
      "metadata": {
        "id": "8f067463"
      },
      "outputs": [],
      "source": [
        "dist = np.random.randint(low=1, high=10, size=5, dtype='l')\n",
        "print(dist)\n",
        "print(dist.ndim)\n",
        "print(dist.shape)\n",
        "print(dist.size)\n",
        "print(dist.dtype)\n",
        "print(dist.itemsize)\n",
        "print(dist.nbytes)"
      ]
    },
    {
      "cell_type": "markdown",
      "id": "60647f68",
      "metadata": {
        "id": "60647f68"
      },
      "source": [
        "# 2D NumPy Array Attributes\n",
        "- The following examples demonstrate the array attributes of various types of NumPy arrays"
      ]
    },
    {
      "cell_type": "code",
      "execution_count": null,
      "id": "9f353f8f",
      "metadata": {
        "id": "9f353f8f"
      },
      "outputs": [],
      "source": [
        "np.random.seed(0) # seed random generator\n",
        "x1 = np.random.randint(10, size=6)\n",
        "x2 = np.random.randint(10, size=(3,4))\n",
        "x3 = np.random.randint(10, size=(3,4,5))\n",
        "\n",
        "print(\"x1: \")\n",
        "print(x1)\n",
        "\n",
        "print(\"x1 ndim: \", x1.ndim)\n",
        "print(\"x1 shape: \", x1.shape)\n",
        "print(\"x1 size: \", x1.size)\n",
        "\n",
        "print(\"x2: \")\n",
        "print(x2)\n",
        "\n",
        "print(\"x2 ndim: \", x2.ndim)\n",
        "print(\"x2 shape: \", x2.shape)\n",
        "print(\"x2 size: \", x2.size)\n",
        "\n",
        "print(\"x3: \")\n",
        "print(x3)\n",
        "\n",
        "print(\"x3 ndim: \", x3.ndim)\n",
        "print(\"x3 shape: \", x3.shape)\n",
        "print(\"x3 size: \", x3.size)"
      ]
    },
    {
      "cell_type": "markdown",
      "source": [
        "## Try It!\n",
        "\n",
        "Create a Python script that demonstrates the creation of a NumPy array of random floating point values using the np.random.rand function. Display various attributes of the created array, such as its number of dimensions, shape, size, data type, item size, and total bytes consumed.\n",
        "\n",
        "- Import the NumPy library.\n",
        "- Use np.random.rand to create a 4x4 NumPy array of random floating-point numbers.\n",
        "- Print the array and its attributes: number of dimensions, shape, size, data type, item size, and total size in bytes.\n",
        "\n",
        "**Sample Output**\n",
        "\n",
        "```\n",
        "Array:\n",
        " [[0.80080354 0.62027642 0.14443824 0.11212174]\n",
        " [0.67681886 0.50058221 0.66218508 0.12738906]\n",
        " [0.45404636 0.39964858 0.64327836 0.00413337]\n",
        " [0.89345052 0.39355462 0.59888026 0.19925229]]\n",
        "\n",
        "Array attributes:\n",
        "Number of dimensions: 2\n",
        "Shape: (4, 4)\n",
        "Size: 16\n",
        "Data type: float64\n",
        "Item size (bytes): 8\n",
        "Total size (bytes): 128\n",
        "```"
      ],
      "metadata": {
        "id": "yCVT_lqeZTp1"
      },
      "id": "yCVT_lqeZTp1"
    },
    {
      "cell_type": "code",
      "source": [],
      "metadata": {
        "id": "mMcKny0BaWy9"
      },
      "id": "mMcKny0BaWy9",
      "execution_count": null,
      "outputs": []
    },
    {
      "cell_type": "markdown",
      "id": "9ac3a670",
      "metadata": {
        "id": "9ac3a670"
      },
      "source": [
        "# Array Indexing: Single Element, Single Dimension\n",
        "- NumPy array indexing is similar to Python list indexing, both for accessing and setting single elements"
      ]
    },
    {
      "cell_type": "code",
      "execution_count": null,
      "id": "d9772995",
      "metadata": {
        "id": "d9772995"
      },
      "outputs": [],
      "source": [
        "x1 = np.random.randint(10, size=6)\n",
        "print(\"x1 = \", x1)\n",
        "print(\"x1[0] = \", x1[0])\n",
        "print(\"x1[4] = \", x1[4])\n",
        "print(\"x1[-1] = \", x1[-1])\n",
        "print(\"x1[-2] = \", x1[-2])\n",
        "x1[1] = 3.14159 # will truncate\n",
        "print(\"x1[1] = \", x1[1])\n",
        "print(\"x1 = \", x1)"
      ]
    },
    {
      "cell_type": "markdown",
      "id": "f8e5a432",
      "metadata": {
        "id": "f8e5a432"
      },
      "source": [
        "# Array Indexing: Single Element, Multi-Dimension"
      ]
    },
    {
      "cell_type": "code",
      "execution_count": null,
      "id": "1c993947",
      "metadata": {
        "id": "1c993947"
      },
      "outputs": [],
      "source": [
        "x2 = np.random.randint(10, size=(3,4))\n",
        "print(\"x2 = \\n\", x2)\n",
        "print()\n",
        "print(\"x2[0,0] = \", x2[0,0])\n",
        "print(\"x2[2,0] = \", x2[2,0])\n",
        "print(\"x2[2,-1] = \", x2[2,-1])\n",
        "print(\"x2[2] = \", x2[2]) # access the entire 3rd row\n",
        "# print(\"x2[,2] = \", x2[,2]) # cannot access a column using simple indexing"
      ]
    },
    {
      "cell_type": "markdown",
      "source": [
        "## Try It!\n",
        "\n",
        "Create a Python script that demonstrates indexing operations on a NumPy array.\n",
        "\n",
        "- import the NumPy Library\n",
        "- create a 3x3 NumPy array of random integers between 1 and 10 (np.random.randint(1, 11, size=(3, 3)))\n",
        "- display the array\n",
        "- print the element at row 1, column 2 of the array (indexing is zero-based)\n",
        "- print the entire second row of the array\n",
        "\n",
        "Sample Output\n",
        "\n",
        "```\n",
        "Original array:\n",
        "[[4 7 1]\n",
        " [6 9 3]\n",
        " [5 2 8]]\n",
        "\n",
        "Element at row 1, column 2:\n",
        "3\n",
        "\n",
        "Entire second row:\n",
        "[5 2 8]\n",
        "```"
      ],
      "metadata": {
        "id": "iSP26pzlgzvx"
      },
      "id": "iSP26pzlgzvx"
    },
    {
      "cell_type": "code",
      "source": [],
      "metadata": {
        "id": "820BvJ13iXGC"
      },
      "id": "820BvJ13iXGC",
      "execution_count": null,
      "outputs": []
    },
    {
      "cell_type": "markdown",
      "id": "903abbf5",
      "metadata": {
        "id": "903abbf5"
      },
      "source": [
        "# Array Slicing: One Dimension\n",
        "- NumPy slicing syntax follows that of the standard Python list\n",
        "- To access a slice of an array x, use x[start:stop:step]\n",
        "    - If any of these are unspecified, they default to the values\n",
        "          start=0, stop=(size of dimension), step=1"
      ]
    },
    {
      "cell_type": "code",
      "execution_count": null,
      "id": "fc9f4b23",
      "metadata": {
        "id": "fc9f4b23"
      },
      "outputs": [],
      "source": [
        "# slicing\n",
        "print(\"x1 = \", x1)\n",
        "print(\"x1[:3] = \", x1[:3])    # up to index 3 (excl)\n",
        "print(\"x1[3:] = \", x1[3:])    # start at index 3\n",
        "print(\"x1[2:5] = \", x1[2:5])  # element index 2 - 4\n",
        "print(\"x1[::2] = \", x1[::2])  # every other element\n",
        "print(\"x1[::-1] = \", x1[::-1]) # reverse all"
      ]
    },
    {
      "cell_type": "markdown",
      "id": "7891caa0",
      "metadata": {
        "id": "7891caa0"
      },
      "source": [
        "# Array Slicing: Multi-Dimension\n",
        "- Multiple-dimension slices are separated by commas"
      ]
    },
    {
      "cell_type": "code",
      "execution_count": null,
      "id": "48b25340",
      "metadata": {
        "id": "48b25340"
      },
      "outputs": [],
      "source": [
        "# multi-slicing\n",
        "print(\"x2 = \\n\", x2)\n",
        "print(\"x2[:2,:3] = \\n\", x2[:2, :3]) # 2 rows, 3 columns\n",
        "print(\"x2[:3,::2] = \\n\", x2[:3, ::2]) # all rows, every other column\n",
        "print(\"x2[::-1,::-1] = \\n\", x2[::-1, ::-1]) # reverse rows and columns"
      ]
    },
    {
      "cell_type": "markdown",
      "id": "7a50f9c7",
      "metadata": {
        "id": "7a50f9c7"
      },
      "source": [
        "# Accessing Array Rows and Columns\n",
        "- Combine indexing and slicing to access an entire row or column"
      ]
    },
    {
      "cell_type": "code",
      "execution_count": null,
      "id": "a0c0d06a",
      "metadata": {
        "id": "a0c0d06a"
      },
      "outputs": [],
      "source": [
        "print(\"x2 =\\n\", x2)\n",
        "print(\"x2[:,0]\", x2[:, 0])  # first column\n",
        "print(\"x2[0,:]\", x2[0, :])  # first row\n",
        "print(\"x2[0]\", x2[0])     # first row (can omit : for row)"
      ]
    },
    {
      "cell_type": "markdown",
      "id": "4509b7dd",
      "metadata": {
        "id": "4509b7dd"
      },
      "source": [
        "# NumPy Arrays as Views\n",
        "- In contrast to lists, which slice as *copies*, numpy arrays slice as *views*\n",
        "    - Modifications to a numpy array slice modifies original data in place vs.  modifying a copy of the data, improving performance\n",
        "    - Use array.copy() as necessary, e.g. to back up original data"
      ]
    },
    {
      "cell_type": "code",
      "execution_count": null,
      "id": "d1c211a9",
      "metadata": {
        "id": "d1c211a9"
      },
      "outputs": [],
      "source": [
        "print('x2 = ')\n",
        "print(x2)\n",
        "x2bak = x2.copy()    # back up x2\n",
        "x2_sub = x2[:2, :2]  # slice x2 into x2_sub\n",
        "print('x2_sub (sliced as x2[:2, :2]) = ')\n",
        "print(x2_sub)\n",
        "x2_sub[0, 0]= 99     # modify x2_sub\n",
        "print('x2_sub modified first element:')\n",
        "print(x2_sub)\n",
        "print('x2 was also modified:')\n",
        "print(x2)\n",
        "x2 = x2bak.copy()    # restore original x2"
      ]
    },
    {
      "cell_type": "markdown",
      "id": "c37c3e7d",
      "metadata": {
        "id": "c37c3e7d"
      },
      "source": [
        "# Reshaping Arrays\n",
        "- The reshape() function gives a new shape to an array without changing its data.\n",
        "    - The size of the initial array must match the size of the reshaped array"
      ]
    },
    {
      "cell_type": "code",
      "execution_count": null,
      "id": "0ffe476a",
      "metadata": {
        "id": "0ffe476a"
      },
      "outputs": [],
      "source": [
        "# reshape 1D to 2D (3x3)\n",
        "r = np.arange(1, 10)\n",
        "print(\"r = \", r)\n",
        "grid = r.reshape((3, 3))\n",
        "print(\"grid = \")\n",
        "print(grid)\n",
        "print('ndim:', grid.ndim, ', shape:', grid.shape)"
      ]
    },
    {
      "cell_type": "code",
      "execution_count": null,
      "id": "65ad75c2",
      "metadata": {
        "id": "65ad75c2"
      },
      "outputs": [],
      "source": [
        "# convert 1D array to 2D (3x1)\n",
        "print('reshape a 1x3 array as 3x1:')\n",
        "x = np.array([1, 2, 3])\n",
        "print('x ndim:', x.ndim, ', shape:', x.shape)\n",
        "\n",
        "y = x.reshape(3, 1)\n",
        "print('y ndim:', y.ndim, ', shape:', y.shape)\n",
        "print(y)"
      ]
    },
    {
      "cell_type": "markdown",
      "id": "49fad9bc",
      "metadata": {
        "id": "49fad9bc"
      },
      "source": [
        "# NumPy Arrays vs. Matrices\n",
        "- You will see references to <ins>matrices</ins> in NumPy operations\n",
        "    - Note the distinction between an <ins>array</ins> and a <ins>matrix</ins>:\n",
        "        - **array**\n",
        "          An array is a general n-dimensional container that can hold numbers. It can have any number of dimensions (1D, 2D, 3D, etc.). Arrays are flexible and can be used for a wide range of numerical operations.\n",
        "        - **matrix**\n",
        "          A matrix is specifically a 2-dimensional array. Unlike general arrays, matrices are designed to always behave as 2D objects, even when performing operations. They have special rules for operations like multiplication (`*`), which in matrices means matrix multiplication, and powers (`**`), which means matrix powers."
      ]
    },
    {
      "cell_type": "markdown",
      "id": "4635bb50",
      "metadata": {
        "id": "4635bb50"
      },
      "source": [
        "# Array Concatenation\n",
        "Three functions are available for concatenating arrays:\n",
        "- np.concatenate  \n",
        "- np.vstack  \n",
        "- np.hstack\n",
        "\n",
        "<ins>np.concatenate</ins> takes a tuple or list of arrays as its first argument"
      ]
    },
    {
      "cell_type": "code",
      "execution_count": null,
      "id": "35e794fd",
      "metadata": {
        "id": "35e794fd"
      },
      "outputs": [],
      "source": [
        "x = np.array([1, 2, 3])\n",
        "print('x:')\n",
        "print(x)\n",
        "\n",
        "y = np.array([3, 2, 1])\n",
        "print('y:')\n",
        "print(y)\n",
        "\n",
        "print('concatenated:')\n",
        "print(np.concatenate([x, y]))"
      ]
    },
    {
      "cell_type": "markdown",
      "id": "4ae5b7e4",
      "metadata": {
        "id": "4ae5b7e4"
      },
      "source": [
        "# Array Concatenation with np.vstack\n",
        "- <ins>np.vstack</ins> will concatenate vertically\n",
        "- useful for arrays with different dimensions"
      ]
    },
    {
      "cell_type": "code",
      "execution_count": null,
      "id": "c8bb5fca",
      "metadata": {
        "id": "c8bb5fca"
      },
      "outputs": [],
      "source": [
        "x = np.array([1, 2, 3])\n",
        "grid = np.array([[9, 8, 7],\n",
        "                 [6, 5, 4]])\n",
        "\n",
        "# vertically stack the arrays\n",
        "print(np.vstack([x, grid]))"
      ]
    },
    {
      "cell_type": "markdown",
      "id": "260d3750",
      "metadata": {
        "id": "260d3750"
      },
      "source": [
        "# Array Concatenation with np.hstack\n",
        "- <ins>np.hstack</ins> will concatenate horizonally"
      ]
    },
    {
      "cell_type": "code",
      "execution_count": null,
      "id": "2f4e00cc",
      "metadata": {
        "id": "2f4e00cc"
      },
      "outputs": [],
      "source": [
        "grid = np.array([[9, 8, 7],\n",
        "                 [6, 5, 4]])\n",
        "y = np.array([[99],\n",
        "              [99]])\n",
        "# horizontally stack the arrays\n",
        "print(np.hstack([grid, y]))"
      ]
    },
    {
      "cell_type": "markdown",
      "id": "651686dd",
      "metadata": {
        "id": "651686dd"
      },
      "source": [
        "# Array Splitting\n",
        "- The opposite of concatenation is splitting, implemented by <ins>np.split</ins>, <ins>np.hsplit</ins>, and <ins>np.vsplit</ins>.\n",
        "- Each of these accepts a list of indices giving the split points.\n",
        "- N split points lead to N + 1 subarrays"
      ]
    },
    {
      "cell_type": "code",
      "execution_count": null,
      "id": "9c55a8ab",
      "metadata": {
        "id": "9c55a8ab"
      },
      "outputs": [],
      "source": [
        "x = [1, 2, 3, 99, 99, 3, 2, 1]\n",
        "x1, x2, x3 = np.split(x, [3, 5])\n",
        "print(x1, x2, x3)"
      ]
    },
    {
      "cell_type": "markdown",
      "id": "19f1c024",
      "metadata": {
        "id": "19f1c024"
      },
      "source": [
        "# Universal Functions\n",
        "- Standard algorithmic approaches to array manipulation can be very slow when data sets get large.\n",
        "    - Python's dynamic typing can cause bottlenecks in calculations.\n",
        "    - Compiled code predetermines types and results are computed much more efficiently.\n",
        "- NumPy provides an interface into statically typed, compiled routines known as <ins>vectorized</ins> operations, implemented through <ins>universal functions</ins> (\"ufuncs\").\n",
        "    - ufuncs make repeated calculations on array elements much more efficient"
      ]
    },
    {
      "cell_type": "markdown",
      "id": "835f9487",
      "metadata": {
        "id": "835f9487"
      },
      "source": [
        "# Universal Functions: Example\n",
        "- define a function to calculate reciprocals (1 / number) and calculate the time difference between a standard algorithm vs. ufunc"
      ]
    },
    {
      "cell_type": "code",
      "execution_count": null,
      "id": "b07bd7c6",
      "metadata": {
        "id": "b07bd7c6"
      },
      "outputs": [],
      "source": [
        "def compute_reciprocals(values):\n",
        "    output = np.empty(len(values))\n",
        "    for i in range(len(values)):\n",
        "        output[i] = 1.0 / values[i]\n",
        "    return output\n",
        "\n",
        "values = np.random.randint(1, 10, size=5)\n",
        "print('values:', values)\n",
        "print('reciprocals:', compute_reciprocals(values))"
      ]
    },
    {
      "cell_type": "markdown",
      "id": "e0f7dbb6",
      "metadata": {
        "id": "e0f7dbb6"
      },
      "source": [
        "- Now use the Python timing library to time the reciprocal function on a large data set"
      ]
    },
    {
      "cell_type": "code",
      "execution_count": null,
      "id": "3185ea84",
      "metadata": {
        "id": "3185ea84"
      },
      "outputs": [],
      "source": [
        "import timeit\n",
        "big_array = np.random.randint(1, 100, size=1000000)\n",
        "stmt_arg = 'compute_reciprocals(big_array)'\n",
        "setup_arg = 'from __main__ import compute_reciprocals, big_array'\n",
        "t = timeit.Timer(stmt=stmt_arg,setup=setup_arg)\n",
        "\n",
        "print('time to run 5 reciprocal calculations on 1000000 items:')\n",
        "print(t.timeit(number=5))"
      ]
    },
    {
      "cell_type": "markdown",
      "id": "eb4285a8",
      "metadata": {
        "id": "eb4285a8"
      },
      "source": [
        "- Finally , modify the compute_reciprocals function to use a vectorized calculation"
      ]
    },
    {
      "cell_type": "code",
      "execution_count": null,
      "id": "3d204c33",
      "metadata": {
        "id": "3d204c33"
      },
      "outputs": [],
      "source": [
        "def compute_reciprocals(values):\n",
        "    output = np.empty(len(values))\n",
        "    #for i in range(len(values)):\n",
        "    #    output[i] = 1.0 / values[i]\n",
        "    output = 1.0 / values\n",
        "    return output\n",
        "\n",
        "# run the timed operation again\n",
        "print('time to run 5 reciprocal calculations on 1000000 items:')\n",
        "print(t.timeit(number=5))"
      ]
    },
    {
      "cell_type": "markdown",
      "id": "d0045dd3",
      "metadata": {
        "id": "d0045dd3"
      },
      "source": [
        "# uFuncs and Array Arithmetic\n",
        "- ufuncs make use of Python’s native arithmetic operators.\n",
        "    - Standard addition, subtraction, multiplication, and division can all be used"
      ]
    },
    {
      "cell_type": "code",
      "execution_count": null,
      "id": "3fddf8b9",
      "metadata": {
        "id": "3fddf8b9"
      },
      "outputs": [],
      "source": [
        "x = np.arange(4) # NumPy range of integers from 0 to 3 (inclusive)\n",
        "print(x)\n",
        "print(\"x     =\", x)\n",
        "print(\"x + 5 =\", x + 5)\n",
        "print(\"x - 5 =\", x - 5)\n",
        "print(\"x * 2 =\", x * 2)\n",
        "print(\"x / 2 =\", x / 2)\n",
        "print(\"x // 2 =\", x // 2)"
      ]
    },
    {
      "cell_type": "markdown",
      "id": "2c011546",
      "metadata": {
        "id": "2c011546"
      },
      "source": [
        "# uFunc Arithmetic Operators\n",
        "- Arithmetic operations in NumPy are actually wrappers around specific functions built into NumPy\n",
        "- For example, the + operator is a wrapper for the add function"
      ]
    },
    {
      "cell_type": "code",
      "execution_count": null,
      "id": "5e6b6b96",
      "metadata": {
        "id": "5e6b6b96"
      },
      "outputs": [],
      "source": [
        "print(np.add(x, 2))"
      ]
    },
    {
      "cell_type": "markdown",
      "id": "59036c5c",
      "metadata": {
        "id": "59036c5c"
      },
      "source": [
        "# uFuncs And Arrays\n",
        "- ufuncs can be used for operations on multiple arrays"
      ]
    },
    {
      "cell_type": "code",
      "execution_count": null,
      "id": "4ef7c44e",
      "metadata": {
        "id": "4ef7c44e"
      },
      "outputs": [],
      "source": [
        "print(np.arange(5))\n",
        "print(np.arange(1, 6))\n",
        "print(np.arange(5) / np.arange(1, 6))\n",
        "print(np.arange(1, 6).dtype)\n",
        "print((np.arange(5) / np.arange(1, 6)).dtype)"
      ]
    },
    {
      "cell_type": "markdown",
      "id": "063f7f5e",
      "metadata": {
        "id": "063f7f5e"
      },
      "source": [
        "# uFuncs And Multi-Dimensional Arrays\n",
        "- ufuncs can be used for operations on multi-dimensional arrays\n"
      ]
    },
    {
      "cell_type": "code",
      "execution_count": null,
      "id": "18f18c65",
      "metadata": {
        "id": "18f18c65"
      },
      "outputs": [],
      "source": [
        "x = np.arange(9).reshape((3, 3)) # transform 1D array to 2D\n",
        "print('x:\\n', x)\n",
        "print('2 ** x:\\n', 2 ** x)"
      ]
    },
    {
      "cell_type": "markdown",
      "source": [
        "## Try It!\n",
        "\n",
        "Create a Python script that demonstrates the use of universal functions (ufuncs) with two multi-dimensional NumPy arrays.\n",
        "\n",
        "- import the NumPy library\n",
        "- create and display two 3x3 NumPy integer arrays (e.g., np.array([[1, 2, 3], [4, 5, 6], [7, 8, 9]])\n",
        "- perform and display the results of element-wise addition and multiplication using ufuncs\n",
        "\n",
        "Sample Output\n",
        "\n",
        "```\n",
        "Array 1:\n",
        "[[1 2 3]\n",
        " [4 5 6]\n",
        " [7 8 9]]\n",
        "\n",
        "Array 2:\n",
        "[[9 8 7]\n",
        " [6 5 4]\n",
        " [3 2 1]]\n",
        "\n",
        "Addition (Array 1 + Array 2):\n",
        "[[10 10 10]\n",
        " [10 10 10]\n",
        " [10 10 10]]\n",
        "\n",
        "Multiplication (Array 1 * Array 2):\n",
        "[[ 9 16 21]\n",
        " [24 25 24]\n",
        " [21 16  9]]\n",
        "```"
      ],
      "metadata": {
        "id": "VTQQ2SKolHBP"
      },
      "id": "VTQQ2SKolHBP"
    },
    {
      "cell_type": "code",
      "source": [],
      "metadata": {
        "id": "GmPxJM3CmqNC"
      },
      "id": "GmPxJM3CmqNC",
      "execution_count": null,
      "outputs": []
    },
    {
      "cell_type": "markdown",
      "id": "7a479b5b",
      "metadata": {
        "id": "7a479b5b"
      },
      "source": [
        "# Specifying Output\n",
        "- For large calculations, rather than creating a temporary array, you can improve performance by writing computation results directly to a predefined memory location.\n",
        "    - For all ufuncs, you can do this using the out argument of the function"
      ]
    },
    {
      "cell_type": "code",
      "execution_count": null,
      "id": "4d64d505",
      "metadata": {
        "id": "4d64d505"
      },
      "outputs": [],
      "source": [
        "x = np.arange(5)\n",
        "y = np.empty(5)\n",
        "print(x)\n",
        "np.multiply(x, 10, out=y)\n",
        "print(y)"
      ]
    },
    {
      "cell_type": "markdown",
      "id": "e22d1d1b",
      "metadata": {
        "id": "e22d1d1b"
      },
      "source": [
        "# Specifying Output: Views\n",
        "- The **out** argument can also be used with array views.\n",
        "    - For example, to write the results of a computation to every other element of a specified array:"
      ]
    },
    {
      "cell_type": "code",
      "execution_count": null,
      "id": "2006f979",
      "metadata": {
        "id": "2006f979"
      },
      "outputs": [],
      "source": [
        "y = np.zeros(10)\n",
        "print(x)\n",
        "np.power(2, x, out=y[::2])\n",
        "print(y)"
      ]
    },
    {
      "cell_type": "markdown",
      "id": "e9dc39dc",
      "metadata": {
        "id": "e9dc39dc"
      },
      "source": [
        "- Using the more generic expression y[::2] = 2 ** x would have created a temporary array to hold the results of 2 ** x, followed by a second operation copying those values into the y array.\n",
        "    - This is fine for a small computation but for very large arrays the memory and performance savings from using the out argument can be significant."
      ]
    },
    {
      "cell_type": "markdown",
      "id": "0379a2ad",
      "metadata": {
        "id": "0379a2ad"
      },
      "source": [
        "# Aggregates\n",
        "- Aggregates (e.g. combinations or summaries) can be computed directly from the NumPy objects.\n",
        "- Reducing an array means repeatedly applying a given operation to the elements until only a single result remains.\n",
        "    - For example, chaining reduce to the add and multiply ufuncs returns the sum/product of all elements in the array:"
      ]
    },
    {
      "cell_type": "code",
      "execution_count": null,
      "id": "9b898d6d",
      "metadata": {
        "id": "9b898d6d"
      },
      "outputs": [],
      "source": [
        "x = np.arange(1, 6)\n",
        "print(x)\n",
        "print(np.add.reduce(x))\n",
        "print(np.multiply.reduce(x))"
      ]
    },
    {
      "cell_type": "markdown",
      "id": "12a74bb6",
      "metadata": {
        "id": "12a74bb6"
      },
      "source": [
        "# Accumulating Aggregation Operations\n",
        "We can store intermediate results of the computations using the <ins>accumulate</ins> function:"
      ]
    },
    {
      "cell_type": "code",
      "execution_count": null,
      "id": "64878665",
      "metadata": {
        "id": "64878665"
      },
      "outputs": [],
      "source": [
        "print(x)\n",
        "print(np.add.accumulate(x))\n",
        "print(np.multiply.accumulate(x))"
      ]
    },
    {
      "cell_type": "markdown",
      "id": "d39ded0a",
      "metadata": {
        "id": "d39ded0a"
      },
      "source": [
        "# Aggregates as Summary Statistics\n",
        "- A first step in analyzing large data sets  is the computation of summary statistics.\n",
        "    - Some common summary statistics include the mean, standard deviation, sum, product, median, minimum and maximum, quantiles, etc.\n",
        "- NumPy has fast built-in aggregation functions for calculating summary statistics\n",
        "    - Python has many of these functions as well, but they do not use compiled code and are much slower"
      ]
    },
    {
      "cell_type": "code",
      "execution_count": null,
      "id": "8b7c66cc",
      "metadata": {
        "id": "8b7c66cc"
      },
      "outputs": [],
      "source": [
        "x = np.random.random(1000000)\n",
        "print(np.sum(x))  # sum\n",
        "print(np.mean(x)) # average\n",
        "print(np.std(x))  # standard deviation"
      ]
    },
    {
      "cell_type": "markdown",
      "id": "529bf85c",
      "metadata": {
        "id": "529bf85c"
      },
      "source": [
        "# Aggregates: Object Method Alternatives\n",
        "The NumPy summary functions are also provided through the object itself:"
      ]
    },
    {
      "cell_type": "code",
      "execution_count": null,
      "id": "6f92d8c3",
      "metadata": {
        "id": "6f92d8c3"
      },
      "outputs": [],
      "source": [
        "print(x.sum())\n",
        "print(x.mean())\n",
        "print(x.std())\n",
        "print(x.min())\n",
        "print(x.max())"
      ]
    },
    {
      "cell_type": "markdown",
      "id": "e92eabf2",
      "metadata": {
        "id": "e92eabf2"
      },
      "source": [
        "# Multi-Dimensional Aggregates\n",
        "By default, each NumPy aggregation function will return the aggregate over the entire array, including multiple dimensional arrays:"
      ]
    },
    {
      "cell_type": "code",
      "execution_count": null,
      "id": "8b1b880f",
      "metadata": {
        "id": "8b1b880f"
      },
      "outputs": [],
      "source": [
        "m = np.random.random((3, 4))\n",
        "print(m)\n",
        "print(m.sum())"
      ]
    },
    {
      "cell_type": "markdown",
      "source": [
        "## Try It!\n",
        "\n",
        "Create a 5x6 array of random floating point values and calculate the aggregated (overall) mean of the values.\n",
        "\n",
        "- Print the generated array.\n",
        "- Calculate and display the mean.\n",
        "\n",
        "Sample Output\n",
        "\n",
        "```\n",
        "Generated Array:\n",
        "[[0.5488135  0.71518937 0.60276338 0.54488318 0.4236548  0.64589411]\n",
        " [0.43758721 0.891773   0.96366276 0.38344152 0.79172504 0.52889492]\n",
        " [0.56804456 0.92559664 0.07103606 0.0871293  0.0202184  0.83261985]\n",
        " [0.77815675 0.87001215 0.97861834 0.79915856 0.46147936 0.78052918]\n",
        " [0.11827443 0.63992102 0.14335329 0.94466892 0.52184832 0.41466194]]\n",
        "\n",
        "Aggregated Mean:\n",
        "0.58140455\n",
        "```"
      ],
      "metadata": {
        "id": "q7VsJW6CVSSV"
      },
      "id": "q7VsJW6CVSSV"
    },
    {
      "cell_type": "code",
      "source": [],
      "metadata": {
        "id": "KQg714c7ZlpX"
      },
      "id": "KQg714c7ZlpX",
      "execution_count": null,
      "outputs": []
    },
    {
      "cell_type": "markdown",
      "id": "7a07bd50",
      "metadata": {
        "id": "7a07bd50"
      },
      "source": [
        "# Comparisons, Masks, and Boolean Logic\n",
        "- Boolean <ins>masks</ins> can be used to examine and manipulate values within NumPy arrays.\n",
        "    - Masking is useful to extract, modify, count, or otherwise manipulate values in an array based on some criterion"
      ]
    },
    {
      "cell_type": "code",
      "execution_count": null,
      "id": "2801b6d1",
      "metadata": {
        "id": "2801b6d1"
      },
      "outputs": [],
      "source": [
        "x = np.array([1, 2, 3, 4, 5])\n",
        "print(\"\\t\\t\\t\", x)\n",
        "print(\"less than 3?\\t\\t\", x < 3)\n",
        "print(\"greater than 3?\\t\\t\", x > 3)\n",
        "print(\"not equal to 3?\\t\\t\", x != 3)\n",
        "print(\"equal to 3?\\t\\t\", x == 3)\n",
        "print(\"2x = square?\\t\\t\", (2 * x) == (x ** 2))"
      ]
    },
    {
      "cell_type": "markdown",
      "id": "9c2a2b24",
      "metadata": {
        "id": "9c2a2b24"
      },
      "source": [
        "# Working with Masks\n",
        "- Counting entries\n",
        "- How many values are less than 6?"
      ]
    },
    {
      "cell_type": "code",
      "execution_count": null,
      "id": "285afaf9",
      "metadata": {
        "id": "285afaf9"
      },
      "outputs": [],
      "source": [
        "rng = np.random.RandomState(0) # new random number generator with a seed of 0\n",
        "x = rng.randint(10, size=(3, 4))\n",
        "print(x, \"\\n\")\n",
        "print(np.count_nonzero(x < 6))"
      ]
    },
    {
      "cell_type": "markdown",
      "id": "95bb6406",
      "metadata": {
        "id": "95bb6406"
      },
      "source": [
        "- \"nonzero\" as used here in the method **count_nonzero()** does not refer to numerical values in the original array, but instead refers to the numeric values of 1 (True) and 0 (False) in the logical Boolean array resulting from applying the condition x < 6"
      ]
    },
    {
      "cell_type": "markdown",
      "source": [
        "## Try It!\n",
        "\n",
        "Generate a 20x20 array of random integers with values between 0 and 30 and use a mask to count the values that are greater than 5, less than 15, and even (hint: use the modulus operator)\n",
        "\n",
        "**Sample Output**\n",
        "\n",
        "```\n",
        "Generated Array:\n",
        "[[ 6 19 28 14 10  7 28 20  6 25 18 22 10 10 23 20  3  7 23  2]\n",
        " [21 20  1 23 11 29  5  1 27 20  0 11 25 21 28 11 24 16 26 26]\n",
        " [30  9 27 27 15 14 29 29 14 29 18 11 22 19 24  2  4 18  6 20]\n",
        " [ 8  6 17  3 24 27 13 17 25  8 25 20  1 19 27 14 27  6 11 28]\n",
        " [ 7 14  2 13 16  3 17  7  3  1 29  5 21  9  3 21 28 30 17 25]\n",
        " [11  1  9 29  3 13 30 15 14  7 13 22 27 24 29  7 20 15 12 17]\n",
        " [14 20 23 25 24 27 27 27 12  8 28 14 12  0 24  6  8 23  0 11]\n",
        " [ 7 23 30 10 18 16  7  2  2  0 26  4  9  6 25  8 27  6  8  7]\n",
        " [11  1  0 15 22 22 29 23  4  2 11  7 21 26  2  0  2  4 14 13]\n",
        " [ 2  0  4 25 22 30 13  6 26  8 14 14 25  9 27 12 18 30  6 16]\n",
        " [19 28  3 29  4 22  6 12 14 10 28  3 12  6 26 18 21 27  1  9]\n",
        " [12 29 24 20  5 27 27 11 11 19 29 29 10 25 22 27 24  6 29  0]\n",
        " [ 0 24 26 29 24 19 12  8  2  6  5  7 26  8 29  4  0 18  9 11]\n",
        " [23 14 26 21 23  8 19 16 29 16 25 19 11 29  6  1  2 16  4 16]\n",
        " [23 16 26 16  1  1 27 21 22  4  0  0 18 29  1 20 11 25  5 22]\n",
        " [ 3 22 10 23 26 16 30  5 23  4 19  1  5 21 10 30 15 15  0  8]\n",
        " [27 26  5 15 28  2 19 27 26  3 18 25  2 30 18 19  6 19  8  0]\n",
        " [ 7  6 17  7  0 10 27 24 24 17 22 30 29  9  2  6 27 15 25 15]\n",
        " [24 19 27 16  1  0 15 29 11  4  4 26 22  8  8  2 18 15 15  2]\n",
        " [19 23 21 23  0 23 19 10 16  7  3  5  7 19 29  2 15 29 24  2]]\n",
        "\n",
        "Number of target values:\n",
        "63\n",
        "```\n"
      ],
      "metadata": {
        "id": "X3oMjq9qXyVI"
      },
      "id": "X3oMjq9qXyVI"
    },
    {
      "cell_type": "code",
      "source": [],
      "metadata": {
        "id": "lPN4wHs4Y_c5"
      },
      "id": "lPN4wHs4Y_c5",
      "execution_count": null,
      "outputs": []
    }
  ],
  "metadata": {
    "kernelspec": {
      "display_name": "Python 3",
      "language": "python",
      "name": "python3"
    },
    "language_info": {
      "codemirror_mode": {
        "name": "ipython",
        "version": 3
      },
      "file_extension": ".py",
      "mimetype": "text/x-python",
      "name": "python",
      "nbconvert_exporter": "python",
      "pygments_lexer": "ipython3",
      "version": "3.9.1"
    },
    "colab": {
      "provenance": []
    }
  },
  "nbformat": 4,
  "nbformat_minor": 5
}