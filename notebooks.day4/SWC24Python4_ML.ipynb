{
  "nbformat": 4,
  "nbformat_minor": 0,
  "metadata": {
    "colab": {
      "provenance": []
    },
    "kernelspec": {
      "name": "python3",
      "display_name": "Python 3"
    },
    "language_info": {
      "name": "python"
    }
  },
  "cells": [
    {
      "cell_type": "code",
      "source": [
        "# used for creating the DataFrames and handling data.\n",
        "import pandas as pd\n",
        "\n",
        "# not explicitly used, but Pandas depends on it\n",
        "#import numpy as np\n",
        "\n",
        "# used for plotting the scatter plot of the dataset.\n",
        "import matplotlib.pyplot as plt\n",
        "\n",
        "# used to enhance the color and style of the scatter plot\n",
        "import seaborn as sns\n",
        "\n",
        "# used to create, train, and use the K-Nearest Neighbors model\n",
        "from sklearn.neighbors import KNeighborsClassifier\n",
        "\n",
        "# used to split the dataset into training and testing sets\n",
        "from sklearn.model_selection import train_test_split\n",
        "\n",
        "# used for evaluating the KNN model by generating a confusion matrix\n",
        "# and classification report.\n",
        "from sklearn.metrics import confusion_matrix, classification_report\n",
        "\n",
        "# Set up the data\n",
        "df = pd.DataFrame({\n",
        "    'Feature1': [2, 4, 4, 5, 3, 1, 4, 5, 2, 3],\n",
        "    'Feature2': [3, 4, 2, 2, 5, 3, 5, 1, 4, 2],\n",
        "    'Label': ['A', 'B', 'B', 'A', 'B', 'A', 'B', 'A', 'A', 'B']\n",
        "})\n",
        "\n",
        "# Plot the data\n",
        "plt.figure(figsize=(6, 4))\n",
        "sns.scatterplot(x='Feature1', y='Feature2', hue='Label', data=df, s=100,\n",
        "                palette=['orange', 'green'], style='Label', markers=['o', 'o'])\n",
        "plt.title('Dataset')\n",
        "plt.xlabel('Feature1')\n",
        "plt.ylabel('Feature2')\n",
        "plt.legend(title='Label')\n",
        "plt.grid(True)\n",
        "plt.show()\n",
        "\n",
        "# Convert string labels to numerical values\n",
        "label_mapping = {'A': 0, 'B': 1}\n",
        "df['Label'] = df['Label'].map(label_mapping)\n",
        "\n",
        "# Split dataset into train and test sets\n",
        "X = df[['Feature1', 'Feature2']]\n",
        "y = df['Label']\n",
        "X_train, X_test, y_train, y_test = train_test_split(X, y, test_size=0.3, random_state=42)\n",
        "\n",
        "# Creating and training the K-Nearest Neighbors model\n",
        "knn = KNeighborsClassifier(n_neighbors=3)\n",
        "knn.fit(X_train, y_train)"
      ],
      "metadata": {
        "id": "6R1f_xNIx4_2"
      },
      "execution_count": null,
      "outputs": []
    },
    {
      "cell_type": "code",
      "source": [
        "# Making predictions and evaluating the model\n",
        "y_pred = knn.predict(X_test)\n",
        "conf_matrix = confusion_matrix(y_test, y_pred)\n",
        "class_report = classification_report(y_test, y_pred, zero_division=0)\n",
        "\n",
        "# Output the confusion matrix and classification report\n",
        "print(\"Confusion Matrix:\\n\", conf_matrix)\n",
        "print(\"\\nClassification Report:\\n\", class_report)"
      ],
      "metadata": {
        "id": "X83m2zZuXvbf"
      },
      "execution_count": null,
      "outputs": []
    },
    {
      "cell_type": "code",
      "source": [
        "# double and balance the data\n",
        "\n",
        "df = pd.DataFrame({\n",
        "    'Feature1': [2, 5, 4, 5, 3, 1, 2, 5, 2, 3,\n",
        "                 6, 3, 2, 1, 5, 2, 3, 5, 2, 1],\n",
        "    'Feature2': [3, 3, 2, 2, 5, 3, 5, 1, 4, 2,\n",
        "                 3, 2, 1, 5, 2, 3, 2, 4, 4, 1],\n",
        "    'Label': ['A', 'B', 'B', 'A', 'A', 'A', 'A', 'B', 'A', 'B',\n",
        "              'B', 'B', 'B', 'A', 'B', 'A', 'B', 'B', 'A', 'B']\n",
        "})\n",
        "\n",
        "# Plot the data\n",
        "plt.figure(figsize=(6, 4))\n",
        "sns.scatterplot(x='Feature1', y='Feature2', hue='Label', data=df, s=100,\n",
        "                palette=['orange', 'green'], style='Label', markers=['o', 'o'])\n",
        "plt.title('Dataset')\n",
        "plt.xlabel('Feature1')\n",
        "plt.ylabel('Feature2')\n",
        "plt.legend(title='Label')\n",
        "plt.grid(True)\n",
        "plt.show()\n",
        "\n",
        "# Convert string labels to numerical values\n",
        "label_mapping = {'A': 0, 'B': 1}\n",
        "df['Label'] = df['Label'].map(label_mapping)\n",
        "\n",
        "# Split dataset into train and test sets\n",
        "X = df[['Feature1', 'Feature2']]\n",
        "y = df['Label']\n",
        "X_train, X_test, y_train, y_test = train_test_split(X, y, test_size=0.3, random_state=42)\n",
        "\n",
        "# Creating and training the K-Nearest Neighbors model\n",
        "knn = KNeighborsClassifier(n_neighbors=3)\n",
        "knn.fit(X_train, y_train)"
      ],
      "metadata": {
        "id": "gyiEZNkfaxFu"
      },
      "execution_count": null,
      "outputs": []
    },
    {
      "cell_type": "code",
      "source": [
        "# Making predictions and evaluating the model\n",
        "y_pred = knn.predict(X_test)\n",
        "conf_matrix = confusion_matrix(y_test, y_pred)\n",
        "class_report = classification_report(y_test, y_pred, zero_division=0)\n",
        "\n",
        "# Output the confusion matrix and classification report\n",
        "print(\"Confusion Matrix:\\n\", conf_matrix)\n",
        "print(\"\\nClassification Report:\\n\", class_report)"
      ],
      "metadata": {
        "id": "MGnO8UL5dNZw"
      },
      "execution_count": null,
      "outputs": []
    }
  ]
}